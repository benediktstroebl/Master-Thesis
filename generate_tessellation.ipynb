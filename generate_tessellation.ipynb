{
 "cells": [
  {
   "cell_type": "code",
   "execution_count": 1,
   "metadata": {},
   "outputs": [
    {
     "name": "stderr",
     "output_type": "stream",
     "text": [
      "c:\\Users\\Bened\\Documents\\Git\\Master-Thesis\\env\\lib\\site-packages\\skmob\\tessellation\\tilers.py:117: ShapelyDeprecationWarning: The 'cascaded_union()' function is deprecated. Use 'unary_union()' instead.\n",
      "  base_shape = gpd.GeoSeries(cascaded_union(polygons), crs=base_shape.crs)\n"
     ]
    }
   ],
   "source": [
    "# code to create a tessellation within a certain boundary (using the scikit-mobility package)\n",
    "\n",
    "import geopandas as gp\n",
    "from shapely.geometry import Polygon\n",
    "from skmob.tessellation import tilers\n",
    "\n",
    "# Load data with points\n",
    "raw_points_gdf = gp.read_file(\"W:/Master-Thesis-Repository/data/freemove_dlr_data/od_points.geojson\")\n",
    "\n",
    "MIN_LNG, MIN_LAT, MAX_LNG, MAX_LAT = raw_points_gdf.geometry.total_bounds\n",
    "# INPUT PARAMETERS ################################################\n",
    "# set boundaries of tessellation in latitude and longitude\n",
    "# (this example is Beijing center)\n",
    "#MIN_LNG = 116.08\n",
    "#MAX_LNG = 116.69\n",
    "#MIN_LAT = 39.66\n",
    "#MAX_LAT = 40.27\n",
    "TILE_DIAMETER_IN_METERS = (\n",
    "    500  # approximately. For h3 the most appropriate resolution is found\n",
    ")\n",
    "TILE_TYPE = \"squared\"  # other option: \"squared\", \"h3_tessellation\"\n",
    "OUTPUT_PATH = \"W:/Master-Thesis-Repository/data/freemove_dlr_data/tessellation.geojson\"\n",
    "####################################################################\n",
    "\n",
    "base_shape = gp.GeoDataFrame(\n",
    "    index=[0],\n",
    "    crs=4326,\n",
    "    geometry=[\n",
    "        Polygon(\n",
    "            zip(\n",
    "                [MIN_LNG, MAX_LNG, MAX_LNG, MIN_LNG],\n",
    "                [MIN_LAT, MIN_LAT, MAX_LAT, MAX_LAT],\n",
    "            )\n",
    "        )\n",
    "    ],\n",
    ")\n",
    "\n",
    "tessellation = tilers.tiler.get(\n",
    "    TILE_TYPE,\n",
    "    base_shape=base_shape,\n",
    "    meters=TILE_DIAMETER_IN_METERS,\n",
    ")\n",
    "tessellation.rename(columns={\"tile_ID\": \"tile_id\"}, inplace=True)\n",
    "tessellation.to_file(OUTPUT_PATH)"
   ]
  }
 ],
 "metadata": {
  "kernelspec": {
   "display_name": "env",
   "language": "python",
   "name": "python3"
  },
  "language_info": {
   "codemirror_mode": {
    "name": "ipython",
    "version": 3
   },
   "file_extension": ".py",
   "mimetype": "text/x-python",
   "name": "python",
   "nbconvert_exporter": "python",
   "pygments_lexer": "ipython3",
   "version": "3.10.6"
  },
  "orig_nbformat": 4,
  "vscode": {
   "interpreter": {
    "hash": "543daf12f525df94f20bbdd448da69881f98a71c963c44c9c7818e0113666227"
   }
  }
 },
 "nbformat": 4,
 "nbformat_minor": 2
}
