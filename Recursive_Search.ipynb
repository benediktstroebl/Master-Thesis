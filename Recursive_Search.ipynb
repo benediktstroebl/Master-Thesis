{
 "cells": [
  {
   "cell_type": "code",
   "execution_count": 1,
   "id": "4ac95068",
   "metadata": {},
   "outputs": [],
   "source": [
    "import sys\n",
    "sys.path.append('..')\n",
    "\n",
    "import attack\n",
    "import data_loader as dl"
   ]
  },
  {
   "cell_type": "code",
   "execution_count": 2,
   "id": "1ff41bac",
   "metadata": {},
   "outputs": [],
   "source": [
    "import geopandas as gp\n",
    "import pandas as pd\n",
    "from tqdm import tqdm\n",
    "import numpy as np\n",
    "import libpysal\n",
    "import itertools\n",
    "from joblib import Parallel, delayed\n",
    "import random\n",
    "import matplotlib.pyplot as plt\n",
    "from shapely import Point\n",
    "import math\n",
    "from sklearn import metrics\n",
    "from tqdm import tqdm\n",
    "import os\n",
    "import datetime\n",
    "tqdm.pandas()\n",
    "\n",
    "import sys\n",
    "# sys.stdout = open('logfile', 'w')"
   ]
  },
  {
   "cell_type": "code",
   "execution_count": 3,
   "id": "e6af6820",
   "metadata": {},
   "outputs": [],
   "source": [
    "# Load data\n",
    "gdf = gp.read_file('data/freemove/freemove_clustering_HL.geojson').to_crs(4326)\n",
    "\n",
    "# format clusering_HL columns as object\n",
    "gdf['clustering_HL'] = gdf['clustering_HL'].astype('object')\n",
    "gdf['START_POINT'] = gdf.geometry.apply(lambda x: Point(x.coords[0]))\n",
    "gdf['END_POINT'] = gdf.geometry.apply(lambda x: Point(x.coords[-1]))\n",
    "\n",
    "gdf = gdf.reset_index(drop=True)"
   ]
  },
  {
   "cell_type": "code",
   "execution_count": 4,
   "id": "be91c235",
   "metadata": {},
   "outputs": [
    {
     "name": "stderr",
     "output_type": "stream",
     "text": [
      "/usr/local/lib/python3.8/dist-packages/skmob/tessellation/tilers.py:117: ShapelyDeprecationWarning: The 'cascaded_union()' function is deprecated. Use 'unary_union()' instead.\n",
      "  base_shape = gpd.GeoSeries(cascaded_union(polygons), crs=base_shape.crs)\n"
     ]
    }
   ],
   "source": [
    "from skmob.tessellation import tilers\n",
    "import skmob\n",
    "from shapely.geometry import Polygon\n",
    "\n",
    "\n",
    "MIN_LNG, MIN_LAT, MAX_LNG, MAX_LAT = 12.562133, 52.099718, 14.129426, 52.803108  # raw_points_gdf.geometry.total_bounds\n",
    "\n",
    "TILE_DIAMETER_IN_METERS = (\n",
    "    300  # approximately. For h3 the most appropriate resolution is found\n",
    ")\n",
    "TILE_TYPE = \"squared\"  # other option: \"squared\", \"h3_tessellation\"\n",
    "####################################################################\n",
    "\n",
    "base_shape = gp.GeoDataFrame(\n",
    "    index=[0],\n",
    "    crs=4326,\n",
    "    geometry=[\n",
    "        Polygon(\n",
    "            zip(\n",
    "                [MIN_LNG, MAX_LNG, MAX_LNG, MIN_LNG],\n",
    "                [MIN_LAT, MIN_LAT, MAX_LAT, MAX_LAT],\n",
    "            )\n",
    "        )\n",
    "    ],\n",
    ")\n",
    "\n",
    "tessellation = tilers.tiler.get(\n",
    "    TILE_TYPE,\n",
    "    base_shape=base_shape,\n",
    "    meters=TILE_DIAMETER_IN_METERS,\n",
    ")#.drop('H3_INDEX', axis=1)"
   ]
  },
  {
   "cell_type": "code",
   "execution_count": 5,
   "id": "8259521f",
   "metadata": {},
   "outputs": [],
   "source": [
    "def get_points(gdf, tessellation):\n",
    "    sp = gdf[['PERSON_ID', 'TRIP_ID', 'TRIP_START', 'START_POINT', 'clustering_HL']].copy()\n",
    "    ep = gdf[['PERSON_ID', 'TRIP_ID', 'TRIP_END', 'END_POINT', 'clustering_HL']].copy()\n",
    "\n",
    "\n",
    "    sp['lat'] = sp.START_POINT.apply(lambda x: x.y)\n",
    "    sp['lng'] = sp.START_POINT.apply(lambda x: x.x)\n",
    "    ep['lat'] = ep.END_POINT.apply(lambda x: x.y)\n",
    "    ep['lng'] = ep.END_POINT.apply(lambda x: x.x)\n",
    "\n",
    "    sp = sp.rename(columns={'TRIP_START': 'datetime'})\n",
    "    ep = ep.rename(columns={'TRIP_END': 'datetime'})\n",
    "\n",
    "    sp.drop('START_POINT', axis=1, inplace=True)\n",
    "    ep.drop('END_POINT', axis=1, inplace=True)\n",
    "\n",
    "    points = pd.concat([sp, ep])\n",
    "    points = gp.GeoDataFrame(points, geometry=gp.points_from_xy(points.lng, points.lat, crs='epsg:4326'))\n",
    "    \n",
    "    points = gp.sjoin(points, tessellation, predicate='within', how='left').drop('index_right', axis=1)\n",
    "    \n",
    "    return points"
   ]
  },
  {
   "cell_type": "markdown",
   "id": "02dad92d",
   "metadata": {},
   "source": [
    "print(len(tessellation))\n",
    "print('nr unique', tessellation.tile_ID.nunique())\n",
    "\n",
    "tessellation.explore()"
   ]
  },
  {
   "cell_type": "code",
   "execution_count": 6,
   "id": "23a4dd5b",
   "metadata": {},
   "outputs": [],
   "source": [
    "def get_location_entropy(tile_id, mapped_points_gdf):\n",
    "    assert isinstance(tile_id, str)\n",
    "    t_trips = mapped_points_gdf.query(\"tile_ID == @tile_id\")\n",
    "    le = 0\n",
    "    c_l = len(t_trips)\n",
    "    for p in t_trips.clustering_HL:\n",
    "        c_l_u = len(t_trips.query('clustering_HL == @p'))\n",
    "        p_u_l =  c_l_u/ c_l\n",
    "        le += p_u_l * math.log(p_u_l)\n",
    "    return -le"
   ]
  },
  {
   "cell_type": "code",
   "execution_count": 7,
   "id": "2befdb64",
   "metadata": {},
   "outputs": [],
   "source": [
    "def get_inverse_loc_frequency(row, loc_frequencies, points):\n",
    "    \n",
    "    tl_ID = str(row.tile_ID)\n",
    "    cl_ID = row.clustering_HL\n",
    "    \n",
    "    cl_loc_freqs = loc_frequencies.query('clustering_HL == @cl_ID')\n",
    "        \n",
    "    tf = row.freq/cl_loc_freqs.freq.sum()\n",
    "    \n",
    "    idf = math.log(points.clustering_HL.nunique()/(points.query('tile_ID == @tl_ID').clustering_HL.nunique() + 1))\n",
    "    \n",
    "    tf_idf = tf * idf\n",
    "    \n",
    "    return tf_idf"
   ]
  },
  {
   "cell_type": "code",
   "execution_count": 8,
   "id": "b6283a89",
   "metadata": {},
   "outputs": [],
   "source": [
    "def get_location_similarity(cl_i, cl_j, loc_frequencies, points):\n",
    "    overlap_tile_ids = set(loc_frequencies.query(\"clustering_HL == @cl_i\").tile_ID).intersection(set(loc_frequencies.query(\"clustering_HL == @cl_j\").tile_ID))\n",
    "    nr_overlapping_tiles = len(overlap_tile_ids)\n",
    "    loc_sim = 0\n",
    "    \n",
    "    if nr_overlapping_tiles == 0:\n",
    "        return loc_sim\n",
    "    for t in overlap_tile_ids:\n",
    "        cl_i_freq = loc_frequencies[(loc_frequencies['clustering_HL'] == cl_i) & (loc_frequencies['tile_ID'] == t)].tf_idf.iloc[0]\n",
    "        cl_j_freq = loc_frequencies[(loc_frequencies['clustering_HL'] == cl_j) & (loc_frequencies['tile_ID'] == t)].tf_idf.iloc[0]\n",
    "        \n",
    "        # Alternative 1: Entropy times avg lficf\n",
    "#         loc_sim += points.query(\"tile_ID == @t\").location_entropy.iloc[0] * (cl_i_freq + cl_j_freq)/2\n",
    "\n",
    "        # Alternative 2: Interaction between lficfs\n",
    "        loc_sim += cl_i_freq + cl_j_freq\n",
    "    return loc_sim/nr_overlapping_tiles"
   ]
  },
  {
   "cell_type": "code",
   "execution_count": 9,
   "id": "8f5561fa",
   "metadata": {},
   "outputs": [],
   "source": [
    "def get_max_n(M, n=10):\n",
    "    # (score, i, j)\n",
    "    max_n = [(0,0,0)] * n\n",
    "    \n",
    "    for i in range(M.shape[0]):\n",
    "        for j in range(M.shape[1]):\n",
    "            if not all(x[0] > M[i,j] for x in max_n):\n",
    "                index_smallest_val = max_n.index(sorted(max_n, reverse=False)[0])\n",
    "                max_n[index_smallest_val] = (M[i,j], i, j) # score must be first for sorting later\n",
    "    \n",
    "    print('Nr of links that are equal to one of max values: ', sum([sum(M == max_val[0]).sum() for max_val in max_n]))\n",
    "    return max_n"
   ]
  },
  {
   "cell_type": "code",
   "execution_count": 10,
   "id": "6d0af3a1",
   "metadata": {},
   "outputs": [],
   "source": [
    "def find_nr_overlaps(cl_i, cl_j, gdf):\n",
    "    nr_overlaps = 0\n",
    "    \n",
    "    gdf['TRIP_START'] = pd.to_datetime(gdf['TRIP_START'], format='%Y-%m-%d %H:%M:%S')\n",
    "    gdf['TRIP_END'] = pd.to_datetime(gdf['TRIP_END'], format='%Y-%m-%d %H:%M:%S')\n",
    "    \n",
    "    cl_i_trips = gdf.query(\"clustering_HL == @cl_i\").copy()\n",
    "    cl_j_trips = gdf.query(\"clustering_HL == @cl_j\").copy()\n",
    "    \n",
    "    for i, t_i in cl_i_trips.iterrows():\n",
    "        t_i_s_x = t_i\n",
    "        t_i_e_x = pd.to_datetime(t_i['TRIP_END'], format='%Y-%m-%d %H:%M:%S')\n",
    "        \n",
    "        for i, t_j in cl_j_trips.iterrows():\n",
    "            if ((t_i.TRIP_START <= t_j.TRIP_START and t_i.TRIP_END >= t_j.TRIP_START) or (t_j.TRIP_START <= t_i.TRIP_START and t_j.TRIP_END >= t_i.TRIP_START) or (t_i.TRIP_START <= t_j.TRIP_START and t_i.TRIP_END >= t_j.TRIP_END) or (t_j.TRIP_START <= t_i.TRIP_START and t_j.TRIP_START >= t_i.TRIP_START)) and (t_i.TRIP_ID != t_j.TRIP_ID):\n",
    "                print('Overlapping trips in two clusters:', cl_i, cl_j, 'Trips: ', t_i.TRIP_ID, t_j.TRIP_ID)\n",
    "                nr_overlaps += 1\n",
    "                \n",
    "    return nr_overlaps"
   ]
  },
  {
   "cell_type": "code",
   "execution_count": 11,
   "id": "b1621646",
   "metadata": {},
   "outputs": [
    {
     "name": "stdout",
     "output_type": "stream",
     "text": [
      "Overlapping trips in two clusters: 145 145 Trips:  171 187\n",
      "Overlapping trips in two clusters: 145 145 Trips:  187 171\n",
      "145\n",
      "error\n"
     ]
    }
   ],
   "source": [
    "for cl_id in gdf.clustering_HL.unique():\n",
    "    if find_nr_overlaps(cl_id,cl_id, gdf) > 0:\n",
    "        print(cl_id)\n",
    "        print(\"error\")\n",
    "    "
   ]
  },
  {
   "cell_type": "code",
   "execution_count": 11,
   "id": "8f0adacd",
   "metadata": {},
   "outputs": [],
   "source": [
    "def store_results_recursive_search(clustering, gdf):\n",
    "    ground_truth = attack.getGroundTruth(gdf)\n",
    "    \n",
    "    # Write all clustering metrics of evaluate() to csv and add columns for parameters\n",
    "    result_dicts = []\n",
    "    result_dict = {}\n",
    "    result_dict['Homogeneity'] = metrics.homogeneity_score(ground_truth, clustering)\n",
    "    result_dict['Completeness'] = metrics.completeness_score(ground_truth, clustering)\n",
    "    result_dict['V-measure'] = metrics.v_measure_score(ground_truth, clustering)\n",
    "    result_dict['Rand index'] = metrics.rand_score(ground_truth, clustering)\n",
    "    result_dict['ARI'] = metrics.adjusted_rand_score(ground_truth, clustering)\n",
    "    result_dict['MI'] = metrics.mutual_info_score(ground_truth, clustering)\n",
    "    result_dict['NMI'] = metrics.normalized_mutual_info_score(ground_truth, clustering)\n",
    "    result_dict['AMI'] = metrics.adjusted_mutual_info_score(ground_truth, clustering)\n",
    "    result_dict['Cluster accuracy'] = attack.cluster_acc(ground_truth, clustering)\n",
    "    result_dicts.append(result_dict)\n",
    "\n",
    "    df = pd.DataFrame(result_dicts)\n",
    "\n",
    "    # Add column with date and time\n",
    "    df['Date'] = datetime.datetime.now().strftime(\"%Y-%m-%d\")\n",
    "    df['Time'] = datetime.datetime.now().strftime(\"%H:%M:%S\")\n",
    "\n",
    "    # Check if file exists\n",
    "    file_exists = os.path.isfile('results_recursive_search.csv')\n",
    "\n",
    "    # Write to csv (append)\n",
    "    if not file_exists:\n",
    "        df.to_csv('results_recursive_search.csv', mode='a', header=True, index=False)\n",
    "    else:\n",
    "        df.to_csv('results_recursive_search.csv', mode='a', header=False, index=False)"
   ]
  },
  {
   "cell_type": "code",
   "execution_count": 12,
   "id": "45a8fe7c",
   "metadata": {
    "scrolled": true
   },
   "outputs": [
    {
     "name": "stdout",
     "output_type": "stream",
     "text": [
      "0.8579157461355754\n",
      "\n",
      "Next Iteration:  1\n"
     ]
    },
    {
     "data": {
      "image/png": "[encoded data removed]",
      "text/plain": [
       "<Figure size 640x480 with 1 Axes>"
      ]
     },
     "metadata": {},
     "output_type": "display_data"
    },
    {
     "name": "stderr",
     "output_type": "stream",
     "text": [
      "  1%|▉                                                                                  | 4/344 [00:02<03:00,  1.89it/s]\n"
     ]
    },
    {
     "ename": "KeyboardInterrupt",
     "evalue": "",
     "output_type": "error",
     "traceback": [
      "\u001b[0;31m---------------------------------------------------------------------------\u001b[0m",
      "\u001b[0;31mKeyboardInterrupt\u001b[0m                         Traceback (most recent call last)",
      "Cell \u001b[0;32mIn[12], line 36\u001b[0m\n\u001b[1;32m     34\u001b[0m         \u001b[38;5;28;01mif\u001b[39;00m i \u001b[38;5;241m==\u001b[39m j:\n\u001b[1;32m     35\u001b[0m             \u001b[38;5;28;01mcontinue\u001b[39;00m\n\u001b[0;32m---> 36\u001b[0m         M[i, j] \u001b[38;5;241m=\u001b[39m \u001b[43mget_location_similarity\u001b[49m\u001b[43m(\u001b[49m\u001b[43mcl_i\u001b[49m\u001b[43m,\u001b[49m\u001b[43m \u001b[49m\u001b[43mcl_j\u001b[49m\u001b[43m,\u001b[49m\u001b[43m \u001b[49m\u001b[43mloc_frequencies\u001b[49m\u001b[43m,\u001b[49m\u001b[43m \u001b[49m\u001b[43mpoints\u001b[49m\u001b[43m)\u001b[49m\n\u001b[1;32m     37\u001b[0m np\u001b[38;5;241m.\u001b[39mfill_diagonal(M, \u001b[38;5;241m0\u001b[39m)\n\u001b[1;32m     39\u001b[0m \u001b[38;5;66;03m# Select n best links and assign new clustering IDs\u001b[39;00m\n",
      "Cell \u001b[0;32mIn[8], line 2\u001b[0m, in \u001b[0;36mget_location_similarity\u001b[0;34m(cl_i, cl_j, loc_frequencies, points)\u001b[0m\n\u001b[1;32m      1\u001b[0m \u001b[38;5;28;01mdef\u001b[39;00m \u001b[38;5;21mget_location_similarity\u001b[39m(cl_i, cl_j, loc_frequencies, points):\n\u001b[0;32m----> 2\u001b[0m     overlap_tile_ids \u001b[38;5;241m=\u001b[39m \u001b[38;5;28mset\u001b[39m(\u001b[43mloc_frequencies\u001b[49m\u001b[38;5;241;43m.\u001b[39;49m\u001b[43mquery\u001b[49m\u001b[43m(\u001b[49m\u001b[38;5;124;43m\"\u001b[39;49m\u001b[38;5;124;43mclustering_HL == @cl_i\u001b[39;49m\u001b[38;5;124;43m\"\u001b[39;49m\u001b[43m)\u001b[49m\u001b[38;5;241m.\u001b[39mtile_ID)\u001b[38;5;241m.\u001b[39mintersection(\u001b[38;5;28mset\u001b[39m(loc_frequencies\u001b[38;5;241m.\u001b[39mquery(\u001b[38;5;124m\"\u001b[39m\u001b[38;5;124mclustering_HL == @cl_j\u001b[39m\u001b[38;5;124m\"\u001b[39m)\u001b[38;5;241m.\u001b[39mtile_ID))\n\u001b[1;32m      3\u001b[0m     nr_overlapping_tiles \u001b[38;5;241m=\u001b[39m \u001b[38;5;28mlen\u001b[39m(overlap_tile_ids)\n\u001b[1;32m      4\u001b[0m     loc_sim \u001b[38;5;241m=\u001b[39m \u001b[38;5;241m0\u001b[39m\n",
      "File \u001b[0;32m/usr/local/lib/python3.8/dist-packages/pandas/util/_decorators.py:331\u001b[0m, in \u001b[0;36mdeprecate_nonkeyword_arguments.<locals>.decorate.<locals>.wrapper\u001b[0;34m(*args, **kwargs)\u001b[0m\n\u001b[1;32m    325\u001b[0m \u001b[38;5;28;01mif\u001b[39;00m \u001b[38;5;28mlen\u001b[39m(args) \u001b[38;5;241m>\u001b[39m num_allow_args:\n\u001b[1;32m    326\u001b[0m     warnings\u001b[38;5;241m.\u001b[39mwarn(\n\u001b[1;32m    327\u001b[0m         msg\u001b[38;5;241m.\u001b[39mformat(arguments\u001b[38;5;241m=\u001b[39m_format_argument_list(allow_args)),\n\u001b[1;32m    328\u001b[0m         \u001b[38;5;167;01mFutureWarning\u001b[39;00m,\n\u001b[1;32m    329\u001b[0m         stacklevel\u001b[38;5;241m=\u001b[39mfind_stack_level(),\n\u001b[1;32m    330\u001b[0m     )\n\u001b[0;32m--> 331\u001b[0m \u001b[38;5;28;01mreturn\u001b[39;00m \u001b[43mfunc\u001b[49m\u001b[43m(\u001b[49m\u001b[38;5;241;43m*\u001b[39;49m\u001b[43margs\u001b[49m\u001b[43m,\u001b[49m\u001b[43m \u001b[49m\u001b[38;5;241;43m*\u001b[39;49m\u001b[38;5;241;43m*\u001b[39;49m\u001b[43mkwargs\u001b[49m\u001b[43m)\u001b[49m\n",
      "File \u001b[0;32m/usr/local/lib/python3.8/dist-packages/pandas/core/frame.py:4474\u001b[0m, in \u001b[0;36mDataFrame.query\u001b[0;34m(self, expr, inplace, **kwargs)\u001b[0m\n\u001b[1;32m   4472\u001b[0m kwargs[\u001b[38;5;124m\"\u001b[39m\u001b[38;5;124mlevel\u001b[39m\u001b[38;5;124m\"\u001b[39m] \u001b[38;5;241m=\u001b[39m kwargs\u001b[38;5;241m.\u001b[39mpop(\u001b[38;5;124m\"\u001b[39m\u001b[38;5;124mlevel\u001b[39m\u001b[38;5;124m\"\u001b[39m, \u001b[38;5;241m0\u001b[39m) \u001b[38;5;241m+\u001b[39m \u001b[38;5;241m2\u001b[39m\n\u001b[1;32m   4473\u001b[0m kwargs[\u001b[38;5;124m\"\u001b[39m\u001b[38;5;124mtarget\u001b[39m\u001b[38;5;124m\"\u001b[39m] \u001b[38;5;241m=\u001b[39m \u001b[38;5;28;01mNone\u001b[39;00m\n\u001b[0;32m-> 4474\u001b[0m res \u001b[38;5;241m=\u001b[39m \u001b[38;5;28;43mself\u001b[39;49m\u001b[38;5;241;43m.\u001b[39;49m\u001b[43meval\u001b[49m\u001b[43m(\u001b[49m\u001b[43mexpr\u001b[49m\u001b[43m,\u001b[49m\u001b[43m \u001b[49m\u001b[38;5;241;43m*\u001b[39;49m\u001b[38;5;241;43m*\u001b[39;49m\u001b[43mkwargs\u001b[49m\u001b[43m)\u001b[49m\n\u001b[1;32m   4476\u001b[0m \u001b[38;5;28;01mtry\u001b[39;00m:\n\u001b[1;32m   4477\u001b[0m     result \u001b[38;5;241m=\u001b[39m \u001b[38;5;28mself\u001b[39m\u001b[38;5;241m.\u001b[39mloc[res]\n",
      "File \u001b[0;32m/usr/local/lib/python3.8/dist-packages/pandas/util/_decorators.py:331\u001b[0m, in \u001b[0;36mdeprecate_nonkeyword_arguments.<locals>.decorate.<locals>.wrapper\u001b[0;34m(*args, **kwargs)\u001b[0m\n\u001b[1;32m    325\u001b[0m \u001b[38;5;28;01mif\u001b[39;00m \u001b[38;5;28mlen\u001b[39m(args) \u001b[38;5;241m>\u001b[39m num_allow_args:\n\u001b[1;32m    326\u001b[0m     warnings\u001b[38;5;241m.\u001b[39mwarn(\n\u001b[1;32m    327\u001b[0m         msg\u001b[38;5;241m.\u001b[39mformat(arguments\u001b[38;5;241m=\u001b[39m_format_argument_list(allow_args)),\n\u001b[1;32m    328\u001b[0m         \u001b[38;5;167;01mFutureWarning\u001b[39;00m,\n\u001b[1;32m    329\u001b[0m         stacklevel\u001b[38;5;241m=\u001b[39mfind_stack_level(),\n\u001b[1;32m    330\u001b[0m     )\n\u001b[0;32m--> 331\u001b[0m \u001b[38;5;28;01mreturn\u001b[39;00m \u001b[43mfunc\u001b[49m\u001b[43m(\u001b[49m\u001b[38;5;241;43m*\u001b[39;49m\u001b[43margs\u001b[49m\u001b[43m,\u001b[49m\u001b[43m \u001b[49m\u001b[38;5;241;43m*\u001b[39;49m\u001b[38;5;241;43m*\u001b[39;49m\u001b[43mkwargs\u001b[49m\u001b[43m)\u001b[49m\n",
      "File \u001b[0;32m/usr/local/lib/python3.8/dist-packages/pandas/core/frame.py:4605\u001b[0m, in \u001b[0;36mDataFrame.eval\u001b[0;34m(self, expr, inplace, **kwargs)\u001b[0m\n\u001b[1;32m   4603\u001b[0m inplace \u001b[38;5;241m=\u001b[39m validate_bool_kwarg(inplace, \u001b[38;5;124m\"\u001b[39m\u001b[38;5;124minplace\u001b[39m\u001b[38;5;124m\"\u001b[39m)\n\u001b[1;32m   4604\u001b[0m kwargs[\u001b[38;5;124m\"\u001b[39m\u001b[38;5;124mlevel\u001b[39m\u001b[38;5;124m\"\u001b[39m] \u001b[38;5;241m=\u001b[39m kwargs\u001b[38;5;241m.\u001b[39mpop(\u001b[38;5;124m\"\u001b[39m\u001b[38;5;124mlevel\u001b[39m\u001b[38;5;124m\"\u001b[39m, \u001b[38;5;241m0\u001b[39m) \u001b[38;5;241m+\u001b[39m \u001b[38;5;241m2\u001b[39m\n\u001b[0;32m-> 4605\u001b[0m index_resolvers \u001b[38;5;241m=\u001b[39m \u001b[38;5;28;43mself\u001b[39;49m\u001b[38;5;241;43m.\u001b[39;49m\u001b[43m_get_index_resolvers\u001b[49m\u001b[43m(\u001b[49m\u001b[43m)\u001b[49m\n\u001b[1;32m   4606\u001b[0m column_resolvers \u001b[38;5;241m=\u001b[39m \u001b[38;5;28mself\u001b[39m\u001b[38;5;241m.\u001b[39m_get_cleaned_column_resolvers()\n\u001b[1;32m   4607\u001b[0m resolvers \u001b[38;5;241m=\u001b[39m column_resolvers, index_resolvers\n",
      "File \u001b[0;32m/usr/local/lib/python3.8/dist-packages/pandas/core/generic.py:618\u001b[0m, in \u001b[0;36mNDFrame._get_index_resolvers\u001b[0;34m(self)\u001b[0m\n\u001b[1;32m    616\u001b[0m d: \u001b[38;5;28mdict\u001b[39m[\u001b[38;5;28mstr\u001b[39m, Series \u001b[38;5;241m|\u001b[39m MultiIndex] \u001b[38;5;241m=\u001b[39m {}\n\u001b[1;32m    617\u001b[0m \u001b[38;5;28;01mfor\u001b[39;00m axis_name \u001b[38;5;129;01min\u001b[39;00m \u001b[38;5;28mself\u001b[39m\u001b[38;5;241m.\u001b[39m_AXIS_ORDERS:\n\u001b[0;32m--> 618\u001b[0m     d\u001b[38;5;241m.\u001b[39mupdate(\u001b[38;5;28;43mself\u001b[39;49m\u001b[38;5;241;43m.\u001b[39;49m\u001b[43m_get_axis_resolvers\u001b[49m\u001b[43m(\u001b[49m\u001b[43maxis_name\u001b[49m\u001b[43m)\u001b[49m)\n\u001b[1;32m    620\u001b[0m \u001b[38;5;28;01mreturn\u001b[39;00m {clean_column_name(k): v \u001b[38;5;28;01mfor\u001b[39;00m k, v \u001b[38;5;129;01min\u001b[39;00m d\u001b[38;5;241m.\u001b[39mitems() \u001b[38;5;28;01mif\u001b[39;00m \u001b[38;5;129;01mnot\u001b[39;00m \u001b[38;5;28misinstance\u001b[39m(k, \u001b[38;5;28mint\u001b[39m)}\n",
      "File \u001b[0;32m/usr/local/lib/python3.8/dist-packages/pandas/core/generic.py:599\u001b[0m, in \u001b[0;36mNDFrame._get_axis_resolvers\u001b[0;34m(self, axis)\u001b[0m\n\u001b[1;32m    596\u001b[0m     level \u001b[38;5;241m=\u001b[39m i\n\u001b[1;32m    598\u001b[0m level_values \u001b[38;5;241m=\u001b[39m axis_index\u001b[38;5;241m.\u001b[39mget_level_values(level)\n\u001b[0;32m--> 599\u001b[0m s \u001b[38;5;241m=\u001b[39m \u001b[43mlevel_values\u001b[49m\u001b[38;5;241;43m.\u001b[39;49m\u001b[43mto_series\u001b[49m\u001b[43m(\u001b[49m\u001b[43m)\u001b[49m\n\u001b[1;32m    600\u001b[0m s\u001b[38;5;241m.\u001b[39mindex \u001b[38;5;241m=\u001b[39m axis_index\n\u001b[1;32m    601\u001b[0m d[key] \u001b[38;5;241m=\u001b[39m s\n",
      "File \u001b[0;32m/usr/local/lib/python3.8/dist-packages/pandas/core/indexes/base.py:1657\u001b[0m, in \u001b[0;36mIndex.to_series\u001b[0;34m(self, index, name)\u001b[0m\n\u001b[1;32m   1654\u001b[0m \u001b[38;5;28;01mif\u001b[39;00m name \u001b[38;5;129;01mis\u001b[39;00m \u001b[38;5;28;01mNone\u001b[39;00m:\n\u001b[1;32m   1655\u001b[0m     name \u001b[38;5;241m=\u001b[39m \u001b[38;5;28mself\u001b[39m\u001b[38;5;241m.\u001b[39mname\n\u001b[0;32m-> 1657\u001b[0m \u001b[38;5;28;01mreturn\u001b[39;00m \u001b[43mSeries\u001b[49m\u001b[43m(\u001b[49m\u001b[38;5;28;43mself\u001b[39;49m\u001b[38;5;241;43m.\u001b[39;49m\u001b[43m_values\u001b[49m\u001b[38;5;241;43m.\u001b[39;49m\u001b[43mcopy\u001b[49m\u001b[43m(\u001b[49m\u001b[43m)\u001b[49m\u001b[43m,\u001b[49m\u001b[43m \u001b[49m\u001b[43mindex\u001b[49m\u001b[38;5;241;43m=\u001b[39;49m\u001b[43mindex\u001b[49m\u001b[43m,\u001b[49m\u001b[43m \u001b[49m\u001b[43mname\u001b[49m\u001b[38;5;241;43m=\u001b[39;49m\u001b[43mname\u001b[49m\u001b[43m)\u001b[49m\n",
      "File \u001b[0;32m/usr/local/lib/python3.8/dist-packages/pandas/core/series.py:483\u001b[0m, in \u001b[0;36mSeries.__init__\u001b[0;34m(self, data, index, dtype, name, copy, fastpath)\u001b[0m\n\u001b[1;32m    481\u001b[0m     \u001b[38;5;28mobject\u001b[39m\u001b[38;5;241m.\u001b[39m\u001b[38;5;21m__setattr__\u001b[39m(\u001b[38;5;28mself\u001b[39m, \u001b[38;5;124m\"\u001b[39m\u001b[38;5;124m_name\u001b[39m\u001b[38;5;124m\"\u001b[39m, name)\n\u001b[1;32m    482\u001b[0m \u001b[38;5;28;01melse\u001b[39;00m:\n\u001b[0;32m--> 483\u001b[0m     \u001b[38;5;28;43mself\u001b[39;49m\u001b[38;5;241;43m.\u001b[39;49m\u001b[43mname\u001b[49m \u001b[38;5;241m=\u001b[39m name\n\u001b[1;32m    484\u001b[0m     \u001b[38;5;28mself\u001b[39m\u001b[38;5;241m.\u001b[39m_set_axis(\u001b[38;5;241m0\u001b[39m, index)\n",
      "File \u001b[0;32m/usr/local/lib/python3.8/dist-packages/pandas/core/generic.py:5924\u001b[0m, in \u001b[0;36mNDFrame.__setattr__\u001b[0;34m(self, name, value)\u001b[0m\n\u001b[1;32m   5922\u001b[0m     \u001b[38;5;28mobject\u001b[39m\u001b[38;5;241m.\u001b[39m\u001b[38;5;21m__setattr__\u001b[39m(\u001b[38;5;28mself\u001b[39m, name, value)\n\u001b[1;32m   5923\u001b[0m \u001b[38;5;28;01melif\u001b[39;00m name \u001b[38;5;129;01min\u001b[39;00m \u001b[38;5;28mself\u001b[39m\u001b[38;5;241m.\u001b[39m_metadata:\n\u001b[0;32m-> 5924\u001b[0m     \u001b[38;5;28;43mobject\u001b[39;49m\u001b[38;5;241;43m.\u001b[39;49m\u001b[38;5;21;43m__setattr__\u001b[39;49m\u001b[43m(\u001b[49m\u001b[38;5;28;43mself\u001b[39;49m\u001b[43m,\u001b[49m\u001b[43m \u001b[49m\u001b[43mname\u001b[49m\u001b[43m,\u001b[49m\u001b[43m \u001b[49m\u001b[43mvalue\u001b[49m\u001b[43m)\u001b[49m\n\u001b[1;32m   5925\u001b[0m \u001b[38;5;28;01melse\u001b[39;00m:\n\u001b[1;32m   5926\u001b[0m     \u001b[38;5;28;01mtry\u001b[39;00m:\n",
      "File \u001b[0;32m/usr/local/lib/python3.8/dist-packages/pandas/core/series.py:661\u001b[0m, in \u001b[0;36mSeries.name\u001b[0;34m(self, value)\u001b[0m\n\u001b[1;32m    613\u001b[0m \u001b[38;5;250m    \u001b[39m\u001b[38;5;124;03m\"\"\"\u001b[39;00m\n\u001b[1;32m    614\u001b[0m \u001b[38;5;124;03m    Return the name of the Series.\u001b[39;00m\n\u001b[1;32m    615\u001b[0m \n\u001b[0;32m   (...)\u001b[0m\n\u001b[1;32m    657\u001b[0m \u001b[38;5;124;03m    'Even Numbers'\u001b[39;00m\n\u001b[1;32m    658\u001b[0m \u001b[38;5;124;03m    \"\"\"\u001b[39;00m\n\u001b[1;32m    659\u001b[0m     \u001b[38;5;28;01mreturn\u001b[39;00m \u001b[38;5;28mself\u001b[39m\u001b[38;5;241m.\u001b[39m_name\n\u001b[0;32m--> 661\u001b[0m \u001b[38;5;129m@name\u001b[39m\u001b[38;5;241m.\u001b[39msetter\n\u001b[1;32m    662\u001b[0m \u001b[38;5;28;01mdef\u001b[39;00m \u001b[38;5;21mname\u001b[39m(\u001b[38;5;28mself\u001b[39m, value: Hashable) \u001b[38;5;241m-\u001b[39m\u001b[38;5;241m>\u001b[39m \u001b[38;5;28;01mNone\u001b[39;00m:\n\u001b[1;32m    663\u001b[0m     validate_all_hashable(value, error_name\u001b[38;5;241m=\u001b[39m\u001b[38;5;124mf\u001b[39m\u001b[38;5;124m\"\u001b[39m\u001b[38;5;132;01m{\u001b[39;00m\u001b[38;5;28mtype\u001b[39m(\u001b[38;5;28mself\u001b[39m)\u001b[38;5;241m.\u001b[39m\u001b[38;5;18m__name__\u001b[39m\u001b[38;5;132;01m}\u001b[39;00m\u001b[38;5;124m.name\u001b[39m\u001b[38;5;124m\"\u001b[39m)\n\u001b[1;32m    664\u001b[0m     \u001b[38;5;28mobject\u001b[39m\u001b[38;5;241m.\u001b[39m\u001b[38;5;21m__setattr__\u001b[39m(\u001b[38;5;28mself\u001b[39m, \u001b[38;5;124m\"\u001b[39m\u001b[38;5;124m_name\u001b[39m\u001b[38;5;124m\"\u001b[39m, value)\n",
      "\u001b[0;31mKeyboardInterrupt\u001b[0m: "
     ]
    }
   ],
   "source": [
    "iteration = 1\n",
    "\n",
    "# Define stopping criteria (either k is reached or min_sim is triggered)\n",
    "K_target = 72\n",
    "\n",
    "points = get_points(gdf, tessellation)\n",
    "loc_frequencies = points.groupby(['clustering_HL', 'tile_ID'])[['TRIP_ID']].nunique().reset_index().sort_values('clustering_HL').rename(columns={'TRIP_ID': 'freq'})\n",
    "loc_frequencies['tf_idf'] = loc_frequencies.apply(lambda x: get_inverse_loc_frequency(x, loc_frequencies, points), axis=1)\n",
    "Min_sim = loc_frequencies.tf_idf.quantile(0.7)**2\n",
    "print(f\"Min Sim threshold: {Min_sim}\")\n",
    "\n",
    "while True:\n",
    "    print('\\nNext Iteration: ', iteration)\n",
    "    # Get new points gdf matched with tessellation that contains updated clustering column\n",
    "    points = get_points(gdf, tessellation)\n",
    "    \n",
    "    # Compute location entropy for latest clustering (inverse normalized entropy)\n",
    "#     points['location_entropy'] = points.tile_ID.progress_apply(lambda x: get_location_entropy(x, points))\n",
    "#     points['location_entropy'] = points.location_entropy.apply(lambda x: 1 - (x - points.location_entropy.min())/(points.location_entropy.max() - points.location_entropy.min()))\n",
    "#     points.location_entropy.plot.hist(bins=30, title=\"Inverse location_entropy distribution\")\n",
    "#     plt.show()\n",
    "    \n",
    "    # Update location frequencies and loc frequency-inverse cluster frequency\n",
    "    loc_frequencies = points.groupby(['clustering_HL', 'tile_ID'])[['TRIP_ID']].nunique().reset_index().sort_values('clustering_HL').rename(columns={'TRIP_ID': 'freq'})\n",
    "    loc_frequencies['tf_idf'] = loc_frequencies.apply(lambda x: get_inverse_loc_frequency(x, loc_frequencies, points), axis=1)\n",
    "    loc_frequencies.tf_idf.plot.hist(bins=50, title=\"Tf-Idf distribution\")\n",
    "    plt.show()\n",
    "    \n",
    "    # Recalculate similarities between latest clusters\n",
    "    M = np.zeros((loc_frequencies.clustering_HL.nunique(), loc_frequencies.clustering_HL.nunique()))\n",
    "    for i, cl_i in tqdm(enumerate(loc_frequencies.clustering_HL.unique()), total=loc_frequencies.clustering_HL.nunique()):\n",
    "        for j, cl_j in enumerate(loc_frequencies.clustering_HL.unique()):\n",
    "            if i == j:\n",
    "                continue\n",
    "            M[i, j] = get_location_similarity(cl_i, cl_j, loc_frequencies, points)\n",
    "    np.fill_diagonal(M, 0)\n",
    "    \n",
    "    # Select n best links and assign new clustering IDs\n",
    "    print('New links of clusters:')\n",
    "    max_n =  get_max_n(M)\n",
    "    # Adjust scores based on overlapping trips in the two candidate clusters\n",
    "    print(max_n)\n",
    "    max_n = [(t[0] * 1/(find_nr_overlaps(loc_frequencies.clustering_HL.unique()[t[1]], loc_frequencies.clustering_HL.unique()[t[2]], gdf) + 1), t[1], t[2]) for t in max_n]\n",
    "    print(max_n)\n",
    "    \n",
    "    # Take the 5 best fitting clusters\n",
    "    for i, tup in enumerate(sorted(max_n, reverse=True)[:5]):\n",
    "        cl_1 = loc_frequencies.clustering_HL.unique()[tup[1]]\n",
    "        cl_2 = loc_frequencies.clustering_HL.unique()[tup[2]]\n",
    "        print(cl_1, cl_2)\n",
    "        # Assign new clustering ids (merge clustering ids)\n",
    "        gdf['clustering_HL'] = gdf.clustering_HL.apply(lambda x: cl_1 if x == cl_2 else x)\n",
    "    \n",
    "    # Evaluate result of iteration\n",
    "    attack.evaluate(gdf.clustering_HL.tolist(), gdf)\n",
    "    store_results_recursive_search(gdf.clustering_HL.tolist(), gdf)\n",
    "    \n",
    "    print('Iteration', iteration, 'done. ', gdf.clustering_HL.nunique(), 'clusters left.')\n",
    "    \n",
    "    # Check break conditions\n",
    "    if gdf.clustering_HL.nunique() <= K_target:\n",
    "        print(\"K clusters reached! Done!\")\n",
    "        break\n",
    "    if sorted(max_n, reverse=True)[0][0] < Min_sim:\n",
    "        print(\"No good matches to make left! Done!\")\n",
    "        break\n",
    "        \n",
    "    iteration += 1"
   ]
  },
  {
   "cell_type": "code",
   "execution_count": 20,
   "id": "8b42e3b4",
   "metadata": {},
   "outputs": [
    {
     "data": {
      "text/plain": [
       "3.726098351553516"
      ]
     },
     "execution_count": 20,
     "metadata": {},
     "output_type": "execute_result"
    }
   ],
   "source": []
  },
  {
   "cell_type": "code",
   "execution_count": null,
   "id": "7d8ebe1c",
   "metadata": {},
   "outputs": [],
   "source": [
    "gdf.drop(['START_POINT', 'END_POINT'], axis=1).to_file(\"data/freemove/freemove_clustering_tfidf.geojson\", driver=\"GeoJSON\")"
   ]
  }
 ],
 "metadata": {
  "kernelspec": {
   "display_name": "Python 3 (ipykernel)",
   "language": "python",
   "name": "python3"
  },
  "language_info": {
   "codemirror_mode": {
    "name": "ipython",
    "version": 3
   },
   "file_extension": ".py",
   "mimetype": "text/x-python",
   "name": "python",
   "nbconvert_exporter": "python",
   "pygments_lexer": "ipython3",
   "version": "3.8.10"
  }
 },
 "nbformat": 4,
 "nbformat_minor": 5
}
