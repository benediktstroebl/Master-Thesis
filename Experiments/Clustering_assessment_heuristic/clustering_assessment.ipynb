{
 "cells": [
  {
   "cell_type": "code",
   "execution_count": 120,
   "metadata": {},
   "outputs": [],
   "source": [
    "import sys\n",
    "sys.path.append('../..')\n",
    "\n",
    "import attack\n",
    "import data_loader as dl"
   ]
  },
  {
   "cell_type": "code",
   "execution_count": 220,
   "metadata": {},
   "outputs": [],
   "source": [
    "import geopandas as gp\n",
    "import pandas as pd\n",
    "from tqdm import tqdm\n",
    "import numpy as np\n",
    "import libpysal\n",
    "import itertools\n",
    "from joblib import Parallel, delayed\n",
    "import random\n",
    "import matplotlib.pyplot as plt\n",
    "from shapely import Point\n",
    "import math\n",
    "from tqdm import tqdm\n",
    "tqdm.pandas()"
   ]
  },
  {
   "cell_type": "code",
   "execution_count": 221,
   "metadata": {},
   "outputs": [],
   "source": [
    "# Load data\n",
    "gdf = gp.read_file('full_trip_HL_clustering.geojson').to_crs(4326)"
   ]
  },
  {
   "cell_type": "code",
   "execution_count": 222,
   "metadata": {},
   "outputs": [],
   "source": [
    "# format clusering_HL columns as object\n",
    "gdf['clustering_HL'] = gdf['clustering_HL'].astype('object')"
   ]
  },
  {
   "cell_type": "code",
   "execution_count": 223,
   "metadata": {},
   "outputs": [],
   "source": [
    "gdf['START_POINT'] = gdf.geometry.apply(lambda x: Point(x.coords[0]))\n",
    "gdf['END_POINT'] = gdf.geometry.apply(lambda x: Point(x.coords[-1]))"
   ]
  },
  {
   "cell_type": "code",
   "execution_count": null,
   "metadata": {},
   "outputs": [],
   "source": [
    "# plot trajectories of a random user and the corresponding clusters\n",
    "user = random.choice(gdf['PERSON_ID'].unique())\n",
    "\n",
    "# select random user\n",
    "user_gdf = gdf[gdf['PERSON_ID'] == user]\n",
    "\n",
    "# print nr of trajectories of user\n",
    "print('Nr of trajectories of user: ', len(user_gdf))\n",
    "\n",
    "# print nr of clusters of user\n",
    "print('Nr of clusters of user: ', len(user_gdf['clustering_HL'].unique()))\n",
    "\n",
    "# plot trajectories of user\n",
    "user_gdf.explore(column='clustering_HL')\n"
   ]
  },
  {
   "cell_type": "code",
   "execution_count": null,
   "metadata": {},
   "outputs": [],
   "source": [
    "# plot start and end points of user\n",
    "gp.GeoDataFrame(user_gdf[['START_POINT', 'END_POINT', 'clustering_HL']], geometry='START_POINT').explore(column='clustering_HL')"
   ]
  },
  {
   "cell_type": "code",
   "execution_count": 324,
   "metadata": {},
   "outputs": [],
   "source": [
    "def get_points(gdf, tessellation):\n",
    "    sp = gdf[['PERSON_ID', 'TRIP_ID', 'TRIP_START', 'START_POINT', 'clustering_HL']].copy()\n",
    "    ep = gdf[['PERSON_ID', 'TRIP_ID', 'TRIP_END', 'END_POINT', 'clustering_HL']].copy()\n",
    "\n",
    "\n",
    "    sp['lat'] = sp.START_POINT.apply(lambda x: x.y)\n",
    "    sp['lng'] = sp.START_POINT.apply(lambda x: x.x)\n",
    "    ep['lat'] = ep.END_POINT.apply(lambda x: x.y)\n",
    "    ep['lng'] = ep.END_POINT.apply(lambda x: x.x)\n",
    "\n",
    "    sp = sp.rename(columns={'TRIP_START': 'datetime'})\n",
    "    ep = ep.rename(columns={'TRIP_END': 'datetime'})\n",
    "\n",
    "    sp.drop('START_POINT', axis=1, inplace=True)\n",
    "    ep.drop('END_POINT', axis=1, inplace=True)\n",
    "\n",
    "    points = pd.concat([sp, ep])\n",
    "    points = gp.GeoDataFrame(points, geometry=gp.points_from_xy(points.lng, points.lat, crs='epsg:4326'))\n",
    "    \n",
    "    points = gp.sjoin(points, tessellation, predicate='within', how='left').drop('index_right', axis=1)\n",
    "    \n",
    "    return points"
   ]
  },
  {
   "cell_type": "code",
   "execution_count": 326,
   "metadata": {},
   "outputs": [],
   "source": [
    "points = get_points(gdf, tessellation)"
   ]
  },
  {
   "cell_type": "code",
   "execution_count": 327,
   "metadata": {},
   "outputs": [
    {
     "data": {
      "text/html": [
       "<div>\n",
       "<style scoped>\n",
       "    .dataframe tbody tr th:only-of-type {\n",
       "        vertical-align: middle;\n",
       "    }\n",
       "\n",
       "    .dataframe tbody tr th {\n",
       "        vertical-align: top;\n",
       "    }\n",
       "\n",
       "    .dataframe thead th {\n",
       "        text-align: right;\n",
       "    }\n",
       "</style>\n",
       "<table border=\"1\" class=\"dataframe\">\n",
       "  <thead>\n",
       "    <tr style=\"text-align: right;\">\n",
       "      <th></th>\n",
       "      <th>PERSON_ID</th>\n",
       "      <th>TRIP_ID</th>\n",
       "      <th>datetime</th>\n",
       "      <th>clustering_HL</th>\n",
       "      <th>lat</th>\n",
       "      <th>lng</th>\n",
       "      <th>geometry</th>\n",
       "      <th>tile_ID</th>\n",
       "    </tr>\n",
       "  </thead>\n",
       "  <tbody>\n",
       "    <tr>\n",
       "      <th>0</th>\n",
       "      <td>17246</td>\n",
       "      <td>0</td>\n",
       "      <td>2022-10-21T14:59:24</td>\n",
       "      <td>21</td>\n",
       "      <td>52.530942</td>\n",
       "      <td>13.317532</td>\n",
       "      <td>POINT (13.31753 52.53094)</td>\n",
       "      <td>4868</td>\n",
       "    </tr>\n",
       "    <tr>\n",
       "      <th>1</th>\n",
       "      <td>17246</td>\n",
       "      <td>1</td>\n",
       "      <td>2022-10-21T16:07:38</td>\n",
       "      <td>21</td>\n",
       "      <td>52.538612</td>\n",
       "      <td>13.375194</td>\n",
       "      <td>POINT (13.37519 52.53861)</td>\n",
       "      <td>5213</td>\n",
       "    </tr>\n",
       "    <tr>\n",
       "      <th>2</th>\n",
       "      <td>17246</td>\n",
       "      <td>2</td>\n",
       "      <td>2022-10-21T19:16:16</td>\n",
       "      <td>21</td>\n",
       "      <td>52.538529</td>\n",
       "      <td>13.375381</td>\n",
       "      <td>POINT (13.37538 52.53853)</td>\n",
       "      <td>5213</td>\n",
       "    </tr>\n",
       "    <tr>\n",
       "      <th>3</th>\n",
       "      <td>17246</td>\n",
       "      <td>3</td>\n",
       "      <td>2022-10-21T20:41:59</td>\n",
       "      <td>73</td>\n",
       "      <td>52.531368</td>\n",
       "      <td>13.319161</td>\n",
       "      <td>POINT (13.31916 52.53137)</td>\n",
       "      <td>4868</td>\n",
       "    </tr>\n",
       "    <tr>\n",
       "      <th>4</th>\n",
       "      <td>16947</td>\n",
       "      <td>4</td>\n",
       "      <td>2022-10-23T09:32:44</td>\n",
       "      <td>45</td>\n",
       "      <td>52.528147</td>\n",
       "      <td>13.379241</td>\n",
       "      <td>POINT (13.37924 52.52815)</td>\n",
       "      <td>5212</td>\n",
       "    </tr>\n",
       "    <tr>\n",
       "      <th>...</th>\n",
       "      <td>...</td>\n",
       "      <td>...</td>\n",
       "      <td>...</td>\n",
       "      <td>...</td>\n",
       "      <td>...</td>\n",
       "      <td>...</td>\n",
       "      <td>...</td>\n",
       "      <td>...</td>\n",
       "    </tr>\n",
       "    <tr>\n",
       "      <th>1370</th>\n",
       "      <td>16356</td>\n",
       "      <td>1403</td>\n",
       "      <td>2022-11-17T18:13:33</td>\n",
       "      <td>6</td>\n",
       "      <td>52.534717</td>\n",
       "      <td>13.198952</td>\n",
       "      <td>POINT (13.19895 52.53472)</td>\n",
       "      <td>4094</td>\n",
       "    </tr>\n",
       "    <tr>\n",
       "      <th>1371</th>\n",
       "      <td>16356</td>\n",
       "      <td>1404</td>\n",
       "      <td>2022-11-17T18:35:06</td>\n",
       "      <td>6</td>\n",
       "      <td>52.531724</td>\n",
       "      <td>13.197715</td>\n",
       "      <td>POINT (13.19771 52.53172)</td>\n",
       "      <td>4094</td>\n",
       "    </tr>\n",
       "    <tr>\n",
       "      <th>1372</th>\n",
       "      <td>16370</td>\n",
       "      <td>1405</td>\n",
       "      <td>2022-11-17T19:17:50</td>\n",
       "      <td>58</td>\n",
       "      <td>52.508464</td>\n",
       "      <td>13.390704</td>\n",
       "      <td>POINT (13.39070 52.50846)</td>\n",
       "      <td>5295</td>\n",
       "    </tr>\n",
       "    <tr>\n",
       "      <th>1373</th>\n",
       "      <td>16370</td>\n",
       "      <td>1406</td>\n",
       "      <td>2022-11-17T21:02:04</td>\n",
       "      <td>58</td>\n",
       "      <td>52.508462</td>\n",
       "      <td>13.391137</td>\n",
       "      <td>POINT (13.39114 52.50846)</td>\n",
       "      <td>5295</td>\n",
       "    </tr>\n",
       "    <tr>\n",
       "      <th>1374</th>\n",
       "      <td>16370</td>\n",
       "      <td>1407</td>\n",
       "      <td>2022-11-17T22:20:54</td>\n",
       "      <td>39</td>\n",
       "      <td>52.447518</td>\n",
       "      <td>13.352827</td>\n",
       "      <td>POINT (13.35283 52.44752)</td>\n",
       "      <td>5030</td>\n",
       "    </tr>\n",
       "  </tbody>\n",
       "</table>\n",
       "<p>2750 rows × 8 columns</p>\n",
       "</div>"
      ],
      "text/plain": [
       "      PERSON_ID  TRIP_ID             datetime  clustering_HL        lat  \\\n",
       "0         17246        0  2022-10-21T14:59:24             21  52.530942   \n",
       "1         17246        1  2022-10-21T16:07:38             21  52.538612   \n",
       "2         17246        2  2022-10-21T19:16:16             21  52.538529   \n",
       "3         17246        3  2022-10-21T20:41:59             73  52.531368   \n",
       "4         16947        4  2022-10-23T09:32:44             45  52.528147   \n",
       "...         ...      ...                  ...            ...        ...   \n",
       "1370      16356     1403  2022-11-17T18:13:33              6  52.534717   \n",
       "1371      16356     1404  2022-11-17T18:35:06              6  52.531724   \n",
       "1372      16370     1405  2022-11-17T19:17:50             58  52.508464   \n",
       "1373      16370     1406  2022-11-17T21:02:04             58  52.508462   \n",
       "1374      16370     1407  2022-11-17T22:20:54             39  52.447518   \n",
       "\n",
       "            lng                   geometry tile_ID  \n",
       "0     13.317532  POINT (13.31753 52.53094)    4868  \n",
       "1     13.375194  POINT (13.37519 52.53861)    5213  \n",
       "2     13.375381  POINT (13.37538 52.53853)    5213  \n",
       "3     13.319161  POINT (13.31916 52.53137)    4868  \n",
       "4     13.379241  POINT (13.37924 52.52815)    5212  \n",
       "...         ...                        ...     ...  \n",
       "1370  13.198952  POINT (13.19895 52.53472)    4094  \n",
       "1371  13.197715  POINT (13.19771 52.53172)    4094  \n",
       "1372  13.390704  POINT (13.39070 52.50846)    5295  \n",
       "1373  13.391137  POINT (13.39114 52.50846)    5295  \n",
       "1374  13.352827  POINT (13.35283 52.44752)    5030  \n",
       "\n",
       "[2750 rows x 8 columns]"
      ]
     },
     "execution_count": 327,
     "metadata": {},
     "output_type": "execute_result"
    }
   ],
   "source": [
    "points"
   ]
  },
  {
   "cell_type": "code",
   "execution_count": 219,
   "metadata": {
    "scrolled": true
   },
   "outputs": [
    {
     "name": "stderr",
     "output_type": "stream",
     "text": [
      "/usr/local/lib/python3.8/dist-packages/skmob/tessellation/tilers.py:117: ShapelyDeprecationWarning: The 'cascaded_union()' function is deprecated. Use 'unary_union()' instead.\n",
      "  base_shape = gpd.GeoSeries(cascaded_union(polygons), crs=base_shape.crs)\n"
     ]
    }
   ],
   "source": [
    "from skmob.tessellation import tilers\n",
    "import skmob\n",
    "from shapely.geometry import Polygon\n",
    "\n",
    "\n",
    "MIN_LNG, MIN_LAT, MAX_LNG, MAX_LAT = 12.562133, 52.099718, 14.129426, 52.803108  # raw_points_gdf.geometry.total_bounds\n",
    "\n",
    "TILE_DIAMETER_IN_METERS = (\n",
    "    1500  # approximately. For h3 the most appropriate resolution is found\n",
    ")\n",
    "TILE_TYPE = \"squared\"  # other option: \"squared\", \"h3_tessellation\"\n",
    "####################################################################\n",
    "\n",
    "base_shape = gp.GeoDataFrame(\n",
    "    index=[0],\n",
    "    crs=4326,\n",
    "    geometry=[\n",
    "        Polygon(\n",
    "            zip(\n",
    "                [MIN_LNG, MAX_LNG, MAX_LNG, MIN_LNG],\n",
    "                [MIN_LAT, MIN_LAT, MAX_LAT, MAX_LAT],\n",
    "            )\n",
    "        )\n",
    "    ],\n",
    ")\n",
    "\n",
    "tessellation = tilers.tiler.get(\n",
    "    TILE_TYPE,\n",
    "    base_shape=base_shape,\n",
    "    meters=TILE_DIAMETER_IN_METERS,\n",
    ")#.drop('H3_INDEX', axis=1)"
   ]
  },
  {
   "cell_type": "code",
   "execution_count": 226,
   "metadata": {},
   "outputs": [
    {
     "data": {
      "text/html": [
       "<div>\n",
       "<style scoped>\n",
       "    .dataframe tbody tr th:only-of-type {\n",
       "        vertical-align: middle;\n",
       "    }\n",
       "\n",
       "    .dataframe tbody tr th {\n",
       "        vertical-align: top;\n",
       "    }\n",
       "\n",
       "    .dataframe thead th {\n",
       "        text-align: right;\n",
       "    }\n",
       "</style>\n",
       "<table border=\"1\" class=\"dataframe\">\n",
       "  <thead>\n",
       "    <tr style=\"text-align: right;\">\n",
       "      <th></th>\n",
       "      <th>tile_ID</th>\n",
       "      <th>geometry</th>\n",
       "    </tr>\n",
       "  </thead>\n",
       "  <tbody>\n",
       "    <tr>\n",
       "      <th>0</th>\n",
       "      <td>0</td>\n",
       "      <td>POLYGON ((12.56213 52.09972, 12.56213 52.10799...</td>\n",
       "    </tr>\n",
       "    <tr>\n",
       "      <th>1</th>\n",
       "      <td>1</td>\n",
       "      <td>POLYGON ((12.56213 52.10799, 12.56213 52.11627...</td>\n",
       "    </tr>\n",
       "    <tr>\n",
       "      <th>2</th>\n",
       "      <td>2</td>\n",
       "      <td>POLYGON ((12.56213 52.11627, 12.56213 52.12454...</td>\n",
       "    </tr>\n",
       "    <tr>\n",
       "      <th>3</th>\n",
       "      <td>3</td>\n",
       "      <td>POLYGON ((12.56213 52.12454, 12.56213 52.13282...</td>\n",
       "    </tr>\n",
       "    <tr>\n",
       "      <th>4</th>\n",
       "      <td>4</td>\n",
       "      <td>POLYGON ((12.56213 52.13282, 12.56213 52.14109...</td>\n",
       "    </tr>\n",
       "    <tr>\n",
       "      <th>...</th>\n",
       "      <td>...</td>\n",
       "      <td>...</td>\n",
       "    </tr>\n",
       "    <tr>\n",
       "      <th>10057</th>\n",
       "      <td>10057</td>\n",
       "      <td>POLYGON ((14.12520 52.76516, 14.12520 52.77331...</td>\n",
       "    </tr>\n",
       "    <tr>\n",
       "      <th>10058</th>\n",
       "      <td>10058</td>\n",
       "      <td>POLYGON ((14.12520 52.77331, 14.12520 52.78146...</td>\n",
       "    </tr>\n",
       "    <tr>\n",
       "      <th>10059</th>\n",
       "      <td>10059</td>\n",
       "      <td>POLYGON ((14.12520 52.78146, 14.12520 52.78961...</td>\n",
       "    </tr>\n",
       "    <tr>\n",
       "      <th>10060</th>\n",
       "      <td>10060</td>\n",
       "      <td>POLYGON ((14.12520 52.78961, 14.12520 52.79776...</td>\n",
       "    </tr>\n",
       "    <tr>\n",
       "      <th>10061</th>\n",
       "      <td>10061</td>\n",
       "      <td>POLYGON ((14.12520 52.79776, 14.12520 52.80590...</td>\n",
       "    </tr>\n",
       "  </tbody>\n",
       "</table>\n",
       "<p>10062 rows × 2 columns</p>\n",
       "</div>"
      ],
      "text/plain": [
       "      tile_ID                                           geometry\n",
       "0           0  POLYGON ((12.56213 52.09972, 12.56213 52.10799...\n",
       "1           1  POLYGON ((12.56213 52.10799, 12.56213 52.11627...\n",
       "2           2  POLYGON ((12.56213 52.11627, 12.56213 52.12454...\n",
       "3           3  POLYGON ((12.56213 52.12454, 12.56213 52.13282...\n",
       "4           4  POLYGON ((12.56213 52.13282, 12.56213 52.14109...\n",
       "...       ...                                                ...\n",
       "10057   10057  POLYGON ((14.12520 52.76516, 14.12520 52.77331...\n",
       "10058   10058  POLYGON ((14.12520 52.77331, 14.12520 52.78146...\n",
       "10059   10059  POLYGON ((14.12520 52.78146, 14.12520 52.78961...\n",
       "10060   10060  POLYGON ((14.12520 52.78961, 14.12520 52.79776...\n",
       "10061   10061  POLYGON ((14.12520 52.79776, 14.12520 52.80590...\n",
       "\n",
       "[10062 rows x 2 columns]"
      ]
     },
     "execution_count": 226,
     "metadata": {},
     "output_type": "execute_result"
    }
   ],
   "source": [
    "tessellation"
   ]
  },
  {
   "cell_type": "code",
   "execution_count": 227,
   "metadata": {
    "scrolled": false
   },
   "outputs": [
    {
     "data": {
      "text/html": [
       "<div>\n",
       "<style scoped>\n",
       "    .dataframe tbody tr th:only-of-type {\n",
       "        vertical-align: middle;\n",
       "    }\n",
       "\n",
       "    .dataframe tbody tr th {\n",
       "        vertical-align: top;\n",
       "    }\n",
       "\n",
       "    .dataframe thead th {\n",
       "        text-align: right;\n",
       "    }\n",
       "</style>\n",
       "<table border=\"1\" class=\"dataframe\">\n",
       "  <thead>\n",
       "    <tr style=\"text-align: right;\">\n",
       "      <th></th>\n",
       "      <th>PERSON_ID</th>\n",
       "      <th>TRIP_ID</th>\n",
       "      <th>datetime</th>\n",
       "      <th>clustering_HL</th>\n",
       "      <th>lat</th>\n",
       "      <th>lng</th>\n",
       "      <th>geometry</th>\n",
       "      <th>tile_ID</th>\n",
       "    </tr>\n",
       "  </thead>\n",
       "  <tbody>\n",
       "    <tr>\n",
       "      <th>0</th>\n",
       "      <td>17246</td>\n",
       "      <td>0</td>\n",
       "      <td>2022-10-21T14:59:24</td>\n",
       "      <td>21</td>\n",
       "      <td>52.530942</td>\n",
       "      <td>13.317532</td>\n",
       "      <td>POINT (13.31753 52.53094)</td>\n",
       "      <td>4868</td>\n",
       "    </tr>\n",
       "    <tr>\n",
       "      <th>1</th>\n",
       "      <td>17246</td>\n",
       "      <td>1</td>\n",
       "      <td>2022-10-21T16:07:38</td>\n",
       "      <td>21</td>\n",
       "      <td>52.538612</td>\n",
       "      <td>13.375194</td>\n",
       "      <td>POINT (13.37519 52.53861)</td>\n",
       "      <td>5213</td>\n",
       "    </tr>\n",
       "    <tr>\n",
       "      <th>2</th>\n",
       "      <td>17246</td>\n",
       "      <td>2</td>\n",
       "      <td>2022-10-21T19:16:16</td>\n",
       "      <td>21</td>\n",
       "      <td>52.538529</td>\n",
       "      <td>13.375381</td>\n",
       "      <td>POINT (13.37538 52.53853)</td>\n",
       "      <td>5213</td>\n",
       "    </tr>\n",
       "    <tr>\n",
       "      <th>3</th>\n",
       "      <td>17246</td>\n",
       "      <td>3</td>\n",
       "      <td>2022-10-21T20:41:59</td>\n",
       "      <td>73</td>\n",
       "      <td>52.531368</td>\n",
       "      <td>13.319161</td>\n",
       "      <td>POINT (13.31916 52.53137)</td>\n",
       "      <td>4868</td>\n",
       "    </tr>\n",
       "    <tr>\n",
       "      <th>4</th>\n",
       "      <td>16947</td>\n",
       "      <td>4</td>\n",
       "      <td>2022-10-23T09:32:44</td>\n",
       "      <td>45</td>\n",
       "      <td>52.528147</td>\n",
       "      <td>13.379241</td>\n",
       "      <td>POINT (13.37924 52.52815)</td>\n",
       "      <td>5212</td>\n",
       "    </tr>\n",
       "    <tr>\n",
       "      <th>...</th>\n",
       "      <td>...</td>\n",
       "      <td>...</td>\n",
       "      <td>...</td>\n",
       "      <td>...</td>\n",
       "      <td>...</td>\n",
       "      <td>...</td>\n",
       "      <td>...</td>\n",
       "      <td>...</td>\n",
       "    </tr>\n",
       "    <tr>\n",
       "      <th>1370</th>\n",
       "      <td>16356</td>\n",
       "      <td>1403</td>\n",
       "      <td>2022-11-17T18:13:33</td>\n",
       "      <td>6</td>\n",
       "      <td>52.534717</td>\n",
       "      <td>13.198952</td>\n",
       "      <td>POINT (13.19895 52.53472)</td>\n",
       "      <td>4094</td>\n",
       "    </tr>\n",
       "    <tr>\n",
       "      <th>1371</th>\n",
       "      <td>16356</td>\n",
       "      <td>1404</td>\n",
       "      <td>2022-11-17T18:35:06</td>\n",
       "      <td>6</td>\n",
       "      <td>52.531724</td>\n",
       "      <td>13.197715</td>\n",
       "      <td>POINT (13.19771 52.53172)</td>\n",
       "      <td>4094</td>\n",
       "    </tr>\n",
       "    <tr>\n",
       "      <th>1372</th>\n",
       "      <td>16370</td>\n",
       "      <td>1405</td>\n",
       "      <td>2022-11-17T19:17:50</td>\n",
       "      <td>58</td>\n",
       "      <td>52.508464</td>\n",
       "      <td>13.390704</td>\n",
       "      <td>POINT (13.39070 52.50846)</td>\n",
       "      <td>5295</td>\n",
       "    </tr>\n",
       "    <tr>\n",
       "      <th>1373</th>\n",
       "      <td>16370</td>\n",
       "      <td>1406</td>\n",
       "      <td>2022-11-17T21:02:04</td>\n",
       "      <td>58</td>\n",
       "      <td>52.508462</td>\n",
       "      <td>13.391137</td>\n",
       "      <td>POINT (13.39114 52.50846)</td>\n",
       "      <td>5295</td>\n",
       "    </tr>\n",
       "    <tr>\n",
       "      <th>1374</th>\n",
       "      <td>16370</td>\n",
       "      <td>1407</td>\n",
       "      <td>2022-11-17T22:20:54</td>\n",
       "      <td>39</td>\n",
       "      <td>52.447518</td>\n",
       "      <td>13.352827</td>\n",
       "      <td>POINT (13.35283 52.44752)</td>\n",
       "      <td>5030</td>\n",
       "    </tr>\n",
       "  </tbody>\n",
       "</table>\n",
       "<p>2750 rows × 8 columns</p>\n",
       "</div>"
      ],
      "text/plain": [
       "      PERSON_ID  TRIP_ID             datetime clustering_HL        lat  \\\n",
       "0         17246        0  2022-10-21T14:59:24            21  52.530942   \n",
       "1         17246        1  2022-10-21T16:07:38            21  52.538612   \n",
       "2         17246        2  2022-10-21T19:16:16            21  52.538529   \n",
       "3         17246        3  2022-10-21T20:41:59            73  52.531368   \n",
       "4         16947        4  2022-10-23T09:32:44            45  52.528147   \n",
       "...         ...      ...                  ...           ...        ...   \n",
       "1370      16356     1403  2022-11-17T18:13:33             6  52.534717   \n",
       "1371      16356     1404  2022-11-17T18:35:06             6  52.531724   \n",
       "1372      16370     1405  2022-11-17T19:17:50            58  52.508464   \n",
       "1373      16370     1406  2022-11-17T21:02:04            58  52.508462   \n",
       "1374      16370     1407  2022-11-17T22:20:54            39  52.447518   \n",
       "\n",
       "            lng                   geometry tile_ID  \n",
       "0     13.317532  POINT (13.31753 52.53094)    4868  \n",
       "1     13.375194  POINT (13.37519 52.53861)    5213  \n",
       "2     13.375381  POINT (13.37538 52.53853)    5213  \n",
       "3     13.319161  POINT (13.31916 52.53137)    4868  \n",
       "4     13.379241  POINT (13.37924 52.52815)    5212  \n",
       "...         ...                        ...     ...  \n",
       "1370  13.198952  POINT (13.19895 52.53472)    4094  \n",
       "1371  13.197715  POINT (13.19771 52.53172)    4094  \n",
       "1372  13.390704  POINT (13.39070 52.50846)    5295  \n",
       "1373  13.391137  POINT (13.39114 52.50846)    5295  \n",
       "1374  13.352827  POINT (13.35283 52.44752)    5030  \n",
       "\n",
       "[2750 rows x 8 columns]"
      ]
     },
     "execution_count": 227,
     "metadata": {},
     "output_type": "execute_result"
    }
   ],
   "source": [
    "points = gp.sjoin(points, tessellation, predicate='within', how='left').drop('index_right', axis=1)\n",
    "points"
   ]
  },
  {
   "cell_type": "code",
   "execution_count": 228,
   "metadata": {},
   "outputs": [],
   "source": [
    "\n",
    "\n",
    "def get_location_entropy(tile_id, mapped_points_gdf):\n",
    "    assert isinstance(tile_id, str)\n",
    "    t_trips = mapped_points_gdf.query(\"tile_ID == @tile_id\")\n",
    "    le = 0\n",
    "    c_l = len(t_trips)\n",
    "    for p in t_trips.clustering_HL:\n",
    "        c_l_u = len(t_trips.query('clustering_HL == @p'))\n",
    "        p_u_l =  c_l_u/ c_l\n",
    "        le += p_u_l * math.log(p_u_l)\n",
    "    return -le\n",
    "        \n"
   ]
  },
  {
   "cell_type": "code",
   "execution_count": 229,
   "metadata": {
    "scrolled": true
   },
   "outputs": [
    {
     "name": "stderr",
     "output_type": "stream",
     "text": [
      "100%|███████████████████████████████████████████████████████████████████████████████| 2750/2750 [01:50<00:00, 24.97it/s]\n"
     ]
    }
   ],
   "source": [
    "points['location_entropy'] = points.tile_ID.progress_apply(lambda x: get_location_entropy(x, points))\n",
    "\n",
    "points['location_entropy'] = points.location_entropy.apply(lambda x: 1 - (x - points.location_entropy.min())/(points.location_entropy.max() - points.location_entropy.min()))"
   ]
  },
  {
   "cell_type": "code",
   "execution_count": 231,
   "metadata": {
    "scrolled": false
   },
   "outputs": [
    {
     "data": {
      "text/plain": [
       "<Axes: ylabel='Frequency'>"
      ]
     },
     "execution_count": 231,
     "metadata": {},
     "output_type": "execute_result"
    },
    {
     "data": {
      "image/png": "[encoded data removed]",
      "text/plain": [
       "<Figure size 640x480 with 1 Axes>"
      ]
     },
     "metadata": {},
     "output_type": "display_data"
    }
   ],
   "source": [
    "points.location_entropy.plot.hist()"
   ]
  },
  {
   "cell_type": "code",
   "execution_count": 80,
   "metadata": {},
   "outputs": [
    {
     "data": {
      "text/plain": [
       "84.39999999999999"
      ]
     },
     "execution_count": 80,
     "metadata": {},
     "output_type": "execute_result"
    }
   ],
   "source": [
    "points.groupby(['tile_ID']).TRIP_ID.nunique()"
   ]
  },
  {
   "cell_type": "code",
   "execution_count": 257,
   "metadata": {},
   "outputs": [],
   "source": [
    "def get_inverse_loc_frequency(row, loc_frequencies, points):\n",
    "    \n",
    "    tl_ID = str(row.tile_ID)\n",
    "    cl_ID = row.clustering_HL\n",
    "    \n",
    "    cl_loc_freqs = loc_frequencies.query('clustering_HL == @cl_ID')\n",
    "        \n",
    "    tf = row.freq/cl_loc_freqs.freq.sum()\n",
    "    \n",
    "    idf = math.log(points.clustering_HL.nunique()/(points.query('tile_ID == @tl_ID').clustering_HL.nunique() + 1))\n",
    "    \n",
    "    tf_idf = tf * idf\n",
    "    \n",
    "    return tf_idf\n",
    "    \n",
    "    \n",
    "    \n",
    "        "
   ]
  },
  {
   "cell_type": "code",
   "execution_count": 256,
   "metadata": {},
   "outputs": [
    {
     "data": {
      "text/html": [
       "<div>\n",
       "<style scoped>\n",
       "    .dataframe tbody tr th:only-of-type {\n",
       "        vertical-align: middle;\n",
       "    }\n",
       "\n",
       "    .dataframe tbody tr th {\n",
       "        vertical-align: top;\n",
       "    }\n",
       "\n",
       "    .dataframe thead th {\n",
       "        text-align: right;\n",
       "    }\n",
       "</style>\n",
       "<table border=\"1\" class=\"dataframe\">\n",
       "  <thead>\n",
       "    <tr style=\"text-align: right;\">\n",
       "      <th></th>\n",
       "      <th>clustering_HL</th>\n",
       "      <th>tile_ID</th>\n",
       "      <th>freq</th>\n",
       "      <th>tf_idf</th>\n",
       "    </tr>\n",
       "  </thead>\n",
       "  <tbody>\n",
       "    <tr>\n",
       "      <th>0</th>\n",
       "      <td>1</td>\n",
       "      <td>2873</td>\n",
       "      <td>2</td>\n",
       "      <td>0.620104</td>\n",
       "    </tr>\n",
       "    <tr>\n",
       "      <th>1</th>\n",
       "      <td>1</td>\n",
       "      <td>2962</td>\n",
       "      <td>1</td>\n",
       "      <td>0.310052</td>\n",
       "    </tr>\n",
       "    <tr>\n",
       "      <th>2</th>\n",
       "      <td>1</td>\n",
       "      <td>3048</td>\n",
       "      <td>2</td>\n",
       "      <td>0.620104</td>\n",
       "    </tr>\n",
       "    <tr>\n",
       "      <th>3</th>\n",
       "      <td>1</td>\n",
       "      <td>3134</td>\n",
       "      <td>8</td>\n",
       "      <td>1.741059</td>\n",
       "    </tr>\n",
       "    <tr>\n",
       "      <th>4</th>\n",
       "      <td>1</td>\n",
       "      <td>3135</td>\n",
       "      <td>2</td>\n",
       "      <td>0.620104</td>\n",
       "    </tr>\n",
       "    <tr>\n",
       "      <th>...</th>\n",
       "      <td>...</td>\n",
       "      <td>...</td>\n",
       "      <td>...</td>\n",
       "      <td>...</td>\n",
       "    </tr>\n",
       "    <tr>\n",
       "      <th>1033</th>\n",
       "      <td>312</td>\n",
       "      <td>5550</td>\n",
       "      <td>3</td>\n",
       "      <td>0.960376</td>\n",
       "    </tr>\n",
       "    <tr>\n",
       "      <th>1034</th>\n",
       "      <td>313</td>\n",
       "      <td>5297</td>\n",
       "      <td>1</td>\n",
       "      <td>1.306949</td>\n",
       "    </tr>\n",
       "    <tr>\n",
       "      <th>1035</th>\n",
       "      <td>313</td>\n",
       "      <td>5550</td>\n",
       "      <td>1</td>\n",
       "      <td>0.960376</td>\n",
       "    </tr>\n",
       "    <tr>\n",
       "      <th>1036</th>\n",
       "      <td>314</td>\n",
       "      <td>5644</td>\n",
       "      <td>1</td>\n",
       "      <td>1.097022</td>\n",
       "    </tr>\n",
       "    <tr>\n",
       "      <th>1037</th>\n",
       "      <td>314</td>\n",
       "      <td>6643</td>\n",
       "      <td>1</td>\n",
       "      <td>2.528123</td>\n",
       "    </tr>\n",
       "  </tbody>\n",
       "</table>\n",
       "<p>1038 rows × 4 columns</p>\n",
       "</div>"
      ],
      "text/plain": [
       "      clustering_HL tile_ID  freq    tf_idf\n",
       "0                 1    2873     2  0.620104\n",
       "1                 1    2962     1  0.310052\n",
       "2                 1    3048     2  0.620104\n",
       "3                 1    3134     8  1.741059\n",
       "4                 1    3135     2  0.620104\n",
       "...             ...     ...   ...       ...\n",
       "1033            312    5550     3  0.960376\n",
       "1034            313    5297     1  1.306949\n",
       "1035            313    5550     1  0.960376\n",
       "1036            314    5644     1  1.097022\n",
       "1037            314    6643     1  2.528123\n",
       "\n",
       "[1038 rows x 4 columns]"
      ]
     },
     "execution_count": 256,
     "metadata": {},
     "output_type": "execute_result"
    }
   ],
   "source": [
    "loc_frequencies"
   ]
  },
  {
   "cell_type": "code",
   "execution_count": 328,
   "metadata": {},
   "outputs": [
    {
     "data": {
      "text/plain": [
       "<Axes: ylabel='Frequency'>"
      ]
     },
     "execution_count": 328,
     "metadata": {},
     "output_type": "execute_result"
    },
    {
     "name": "stderr",
     "output_type": "stream",
     "text": [
      "findfont: Generic family 'sans-serif' not found because none of the following families were found: Arial, Liberation Sans, Bitstream Vera Sans, sans-serif\n",
      "findfont: Generic family 'sans-serif' not found because none of the following families were found: Arial, Liberation Sans, Bitstream Vera Sans, sans-serif\n",
      "findfont: Generic family 'sans-serif' not found because none of the following families were found: Arial, Liberation Sans, Bitstream Vera Sans, sans-serif\n",
      "findfont: Generic family 'sans-serif' not found because none of the following families were found: Arial, Liberation Sans, Bitstream Vera Sans, sans-serif\n",
      "findfont: Generic family 'sans-serif' not found because none of the following families were found: Arial, Liberation Sans, Bitstream Vera Sans, sans-serif\n",
      "findfont: Generic family 'sans-serif' not found because none of the following families were found: Arial, Liberation Sans, Bitstream Vera Sans, sans-serif\n",
      "findfont: Generic family 'sans-serif' not found because none of the following families were found: Arial, Liberation Sans, Bitstream Vera Sans, sans-serif\n",
      "findfont: Generic family 'sans-serif' not found because none of the following families were found: Arial, Liberation Sans, Bitstream Vera Sans, sans-serif\n",
      "findfont: Generic family 'sans-serif' not found because none of the following families were found: Arial, Liberation Sans, Bitstream Vera Sans, sans-serif\n",
      "findfont: Generic family 'sans-serif' not found because none of the following families were found: Arial, Liberation Sans, Bitstream Vera Sans, sans-serif\n",
      "findfont: Generic family 'sans-serif' not found because none of the following families were found: Arial, Liberation Sans, Bitstream Vera Sans, sans-serif\n",
      "findfont: Generic family 'sans-serif' not found because none of the following families were found: Arial, Liberation Sans, Bitstream Vera Sans, sans-serif\n",
      "findfont: Generic family 'sans-serif' not found because none of the following families were found: Arial, Liberation Sans, Bitstream Vera Sans, sans-serif\n",
      "findfont: Generic family 'sans-serif' not found because none of the following families were found: Arial, Liberation Sans, Bitstream Vera Sans, sans-serif\n",
      "findfont: Generic family 'sans-serif' not found because none of the following families were found: Arial, Liberation Sans, Bitstream Vera Sans, sans-serif\n",
      "findfont: Generic family 'sans-serif' not found because none of the following families were found: Arial, Liberation Sans, Bitstream Vera Sans, sans-serif\n",
      "findfont: Generic family 'sans-serif' not found because none of the following families were found: Arial, Liberation Sans, Bitstream Vera Sans, sans-serif\n",
      "findfont: Generic family 'sans-serif' not found because none of the following families were found: Arial, Liberation Sans, Bitstream Vera Sans, sans-serif\n",
      "findfont: Generic family 'sans-serif' not found because none of the following families were found: Arial, Liberation Sans, Bitstream Vera Sans, sans-serif\n",
      "findfont: Generic family 'sans-serif' not found because none of the following families were found: Arial, Liberation Sans, Bitstream Vera Sans, sans-serif\n",
      "findfont: Generic family 'sans-serif' not found because none of the following families were found: Arial, Liberation Sans, Bitstream Vera Sans, sans-serif\n",
      "findfont: Generic family 'sans-serif' not found because none of the following families were found: Arial, Liberation Sans, Bitstream Vera Sans, sans-serif\n",
      "findfont: Generic family 'sans-serif' not found because none of the following families were found: Arial, Liberation Sans, Bitstream Vera Sans, sans-serif\n",
      "findfont: Generic family 'sans-serif' not found because none of the following families were found: Arial, Liberation Sans, Bitstream Vera Sans, sans-serif\n",
      "findfont: Generic family 'sans-serif' not found because none of the following families were found: Arial, Liberation Sans, Bitstream Vera Sans, sans-serif\n",
      "findfont: Generic family 'sans-serif' not found because none of the following families were found: Arial, Liberation Sans, Bitstream Vera Sans, sans-serif\n",
      "findfont: Generic family 'sans-serif' not found because none of the following families were found: Arial, Liberation Sans, Bitstream Vera Sans, sans-serif\n",
      "findfont: Generic family 'sans-serif' not found because none of the following families were found: Arial, Liberation Sans, Bitstream Vera Sans, sans-serif\n",
      "findfont: Generic family 'sans-serif' not found because none of the following families were found: Arial, Liberation Sans, Bitstream Vera Sans, sans-serif\n",
      "findfont: Generic family 'sans-serif' not found because none of the following families were found: Arial, Liberation Sans, Bitstream Vera Sans, sans-serif\n",
      "findfont: Generic family 'sans-serif' not found because none of the following families were found: Arial, Liberation Sans, Bitstream Vera Sans, sans-serif\n",
      "findfont: Generic family 'sans-serif' not found because none of the following families were found: Arial, Liberation Sans, Bitstream Vera Sans, sans-serif\n",
      "findfont: Generic family 'sans-serif' not found because none of the following families were found: Arial, Liberation Sans, Bitstream Vera Sans, sans-serif\n",
      "findfont: Generic family 'sans-serif' not found because none of the following families were found: Arial, Liberation Sans, Bitstream Vera Sans, sans-serif\n",
      "findfont: Generic family 'sans-serif' not found because none of the following families were found: Arial, Liberation Sans, Bitstream Vera Sans, sans-serif\n",
      "findfont: Generic family 'sans-serif' not found because none of the following families were found: Arial, Liberation Sans, Bitstream Vera Sans, sans-serif\n",
      "findfont: Generic family 'sans-serif' not found because none of the following families were found: Arial, Liberation Sans, Bitstream Vera Sans, sans-serif\n",
      "findfont: Generic family 'sans-serif' not found because none of the following families were found: Arial, Liberation Sans, Bitstream Vera Sans, sans-serif\n",
      "findfont: Generic family 'sans-serif' not found because none of the following families were found: Arial, Liberation Sans, Bitstream Vera Sans, sans-serif\n",
      "findfont: Generic family 'sans-serif' not found because none of the following families were found: Arial, Liberation Sans, Bitstream Vera Sans, sans-serif\n",
      "findfont: Generic family 'sans-serif' not found because none of the following families were found: Arial, Liberation Sans, Bitstream Vera Sans, sans-serif\n",
      "findfont: Generic family 'sans-serif' not found because none of the following families were found: Arial, Liberation Sans, Bitstream Vera Sans, sans-serif\n",
      "findfont: Generic family 'sans-serif' not found because none of the following families were found: Arial, Liberation Sans, Bitstream Vera Sans, sans-serif\n",
      "findfont: Generic family 'sans-serif' not found because none of the following families were found: Arial, Liberation Sans, Bitstream Vera Sans, sans-serif\n",
      "findfont: Generic family 'sans-serif' not found because none of the following families were found: Arial, Liberation Sans, Bitstream Vera Sans, sans-serif\n",
      "findfont: Generic family 'sans-serif' not found because none of the following families were found: Arial, Liberation Sans, Bitstream Vera Sans, sans-serif\n",
      "findfont: Generic family 'sans-serif' not found because none of the following families were found: Arial, Liberation Sans, Bitstream Vera Sans, sans-serif\n",
      "findfont: Generic family 'sans-serif' not found because none of the following families were found: Arial, Liberation Sans, Bitstream Vera Sans, sans-serif\n",
      "findfont: Generic family 'sans-serif' not found because none of the following families were found: Arial, Liberation Sans, Bitstream Vera Sans, sans-serif\n",
      "findfont: Generic family 'sans-serif' not found because none of the following families were found: Arial, Liberation Sans, Bitstream Vera Sans, sans-serif\n"
     ]
    },
    {
     "data": {
      "image/png": "[encoded data removed]",
      "text/plain": [
       "<Figure size 800x550 with 1 Axes>"
      ]
     },
     "metadata": {},
     "output_type": "display_data"
    }
   ],
   "source": [
    "loc_frequencies = points.groupby(['clustering_HL', 'tile_ID'])[['TRIP_ID']].nunique().reset_index().sort_values('clustering_HL').rename(columns={'TRIP_ID': 'freq'})\n",
    "loc_frequencies['tf_idf'] = loc_frequencies.apply(lambda x: get_inverse_loc_frequency(x, loc_frequencies, points), axis=1)\n",
    "loc_frequencies.tf_idf.plot.hist(bins=100)"
   ]
  },
  {
   "cell_type": "code",
   "execution_count": 265,
   "metadata": {},
   "outputs": [
    {
     "data": {
      "text/html": [
       "<div>\n",
       "<style scoped>\n",
       "    .dataframe tbody tr th:only-of-type {\n",
       "        vertical-align: middle;\n",
       "    }\n",
       "\n",
       "    .dataframe tbody tr th {\n",
       "        vertical-align: top;\n",
       "    }\n",
       "\n",
       "    .dataframe thead th {\n",
       "        text-align: right;\n",
       "    }\n",
       "</style>\n",
       "<table border=\"1\" class=\"dataframe\">\n",
       "  <thead>\n",
       "    <tr style=\"text-align: right;\">\n",
       "      <th></th>\n",
       "      <th>PERSON_ID</th>\n",
       "      <th>TRIP_ID</th>\n",
       "      <th>datetime</th>\n",
       "      <th>clustering_HL</th>\n",
       "      <th>lat</th>\n",
       "      <th>lng</th>\n",
       "      <th>geometry</th>\n",
       "      <th>tile_ID</th>\n",
       "      <th>location_entropy</th>\n",
       "    </tr>\n",
       "  </thead>\n",
       "  <tbody>\n",
       "    <tr>\n",
       "      <th>0</th>\n",
       "      <td>17246</td>\n",
       "      <td>0</td>\n",
       "      <td>2022-10-21T14:59:24</td>\n",
       "      <td>21</td>\n",
       "      <td>52.530942</td>\n",
       "      <td>13.317532</td>\n",
       "      <td>POINT (13.31753 52.53094)</td>\n",
       "      <td>4868</td>\n",
       "      <td>0.670968</td>\n",
       "    </tr>\n",
       "    <tr>\n",
       "      <th>1</th>\n",
       "      <td>17246</td>\n",
       "      <td>1</td>\n",
       "      <td>2022-10-21T16:07:38</td>\n",
       "      <td>21</td>\n",
       "      <td>52.538612</td>\n",
       "      <td>13.375194</td>\n",
       "      <td>POINT (13.37519 52.53861)</td>\n",
       "      <td>5213</td>\n",
       "      <td>0.768943</td>\n",
       "    </tr>\n",
       "    <tr>\n",
       "      <th>2</th>\n",
       "      <td>17246</td>\n",
       "      <td>2</td>\n",
       "      <td>2022-10-21T19:16:16</td>\n",
       "      <td>21</td>\n",
       "      <td>52.538529</td>\n",
       "      <td>13.375381</td>\n",
       "      <td>POINT (13.37538 52.53853)</td>\n",
       "      <td>5213</td>\n",
       "      <td>0.768943</td>\n",
       "    </tr>\n",
       "    <tr>\n",
       "      <th>3</th>\n",
       "      <td>17246</td>\n",
       "      <td>3</td>\n",
       "      <td>2022-10-21T20:41:59</td>\n",
       "      <td>73</td>\n",
       "      <td>52.531368</td>\n",
       "      <td>13.319161</td>\n",
       "      <td>POINT (13.31916 52.53137)</td>\n",
       "      <td>4868</td>\n",
       "      <td>0.670968</td>\n",
       "    </tr>\n",
       "    <tr>\n",
       "      <th>4</th>\n",
       "      <td>16947</td>\n",
       "      <td>4</td>\n",
       "      <td>2022-10-23T09:32:44</td>\n",
       "      <td>45</td>\n",
       "      <td>52.528147</td>\n",
       "      <td>13.379241</td>\n",
       "      <td>POINT (13.37924 52.52815)</td>\n",
       "      <td>5212</td>\n",
       "      <td>0.774609</td>\n",
       "    </tr>\n",
       "    <tr>\n",
       "      <th>...</th>\n",
       "      <td>...</td>\n",
       "      <td>...</td>\n",
       "      <td>...</td>\n",
       "      <td>...</td>\n",
       "      <td>...</td>\n",
       "      <td>...</td>\n",
       "      <td>...</td>\n",
       "      <td>...</td>\n",
       "      <td>...</td>\n",
       "    </tr>\n",
       "    <tr>\n",
       "      <th>1370</th>\n",
       "      <td>16356</td>\n",
       "      <td>1403</td>\n",
       "      <td>2022-11-17T18:13:33</td>\n",
       "      <td>6</td>\n",
       "      <td>52.534717</td>\n",
       "      <td>13.198952</td>\n",
       "      <td>POINT (13.19895 52.53472)</td>\n",
       "      <td>4094</td>\n",
       "      <td>0.596234</td>\n",
       "    </tr>\n",
       "    <tr>\n",
       "      <th>1371</th>\n",
       "      <td>16356</td>\n",
       "      <td>1404</td>\n",
       "      <td>2022-11-17T18:35:06</td>\n",
       "      <td>6</td>\n",
       "      <td>52.531724</td>\n",
       "      <td>13.197715</td>\n",
       "      <td>POINT (13.19771 52.53172)</td>\n",
       "      <td>4094</td>\n",
       "      <td>0.596234</td>\n",
       "    </tr>\n",
       "    <tr>\n",
       "      <th>1372</th>\n",
       "      <td>16370</td>\n",
       "      <td>1405</td>\n",
       "      <td>2022-11-17T19:17:50</td>\n",
       "      <td>58</td>\n",
       "      <td>52.508464</td>\n",
       "      <td>13.390704</td>\n",
       "      <td>POINT (13.39070 52.50846)</td>\n",
       "      <td>5295</td>\n",
       "      <td>0.616716</td>\n",
       "    </tr>\n",
       "    <tr>\n",
       "      <th>1373</th>\n",
       "      <td>16370</td>\n",
       "      <td>1406</td>\n",
       "      <td>2022-11-17T21:02:04</td>\n",
       "      <td>58</td>\n",
       "      <td>52.508462</td>\n",
       "      <td>13.391137</td>\n",
       "      <td>POINT (13.39114 52.50846)</td>\n",
       "      <td>5295</td>\n",
       "      <td>0.616716</td>\n",
       "    </tr>\n",
       "    <tr>\n",
       "      <th>1374</th>\n",
       "      <td>16370</td>\n",
       "      <td>1407</td>\n",
       "      <td>2022-11-17T22:20:54</td>\n",
       "      <td>39</td>\n",
       "      <td>52.447518</td>\n",
       "      <td>13.352827</td>\n",
       "      <td>POINT (13.35283 52.44752)</td>\n",
       "      <td>5030</td>\n",
       "      <td>0.885365</td>\n",
       "    </tr>\n",
       "  </tbody>\n",
       "</table>\n",
       "<p>2750 rows × 9 columns</p>\n",
       "</div>"
      ],
      "text/plain": [
       "      PERSON_ID  TRIP_ID             datetime clustering_HL        lat  \\\n",
       "0         17246        0  2022-10-21T14:59:24            21  52.530942   \n",
       "1         17246        1  2022-10-21T16:07:38            21  52.538612   \n",
       "2         17246        2  2022-10-21T19:16:16            21  52.538529   \n",
       "3         17246        3  2022-10-21T20:41:59            73  52.531368   \n",
       "4         16947        4  2022-10-23T09:32:44            45  52.528147   \n",
       "...         ...      ...                  ...           ...        ...   \n",
       "1370      16356     1403  2022-11-17T18:13:33             6  52.534717   \n",
       "1371      16356     1404  2022-11-17T18:35:06             6  52.531724   \n",
       "1372      16370     1405  2022-11-17T19:17:50            58  52.508464   \n",
       "1373      16370     1406  2022-11-17T21:02:04            58  52.508462   \n",
       "1374      16370     1407  2022-11-17T22:20:54            39  52.447518   \n",
       "\n",
       "            lng                   geometry tile_ID  location_entropy  \n",
       "0     13.317532  POINT (13.31753 52.53094)    4868          0.670968  \n",
       "1     13.375194  POINT (13.37519 52.53861)    5213          0.768943  \n",
       "2     13.375381  POINT (13.37538 52.53853)    5213          0.768943  \n",
       "3     13.319161  POINT (13.31916 52.53137)    4868          0.670968  \n",
       "4     13.379241  POINT (13.37924 52.52815)    5212          0.774609  \n",
       "...         ...                        ...     ...               ...  \n",
       "1370  13.198952  POINT (13.19895 52.53472)    4094          0.596234  \n",
       "1371  13.197715  POINT (13.19771 52.53172)    4094          0.596234  \n",
       "1372  13.390704  POINT (13.39070 52.50846)    5295          0.616716  \n",
       "1373  13.391137  POINT (13.39114 52.50846)    5295          0.616716  \n",
       "1374  13.352827  POINT (13.35283 52.44752)    5030          0.885365  \n",
       "\n",
       "[2750 rows x 9 columns]"
      ]
     },
     "execution_count": 265,
     "metadata": {},
     "output_type": "execute_result"
    }
   ],
   "source": [
    "points"
   ]
  },
  {
   "cell_type": "code",
   "execution_count": 263,
   "metadata": {},
   "outputs": [],
   "source": [
    "def get_location_similarity(cl_i, cl_j, loc_frequencies, points):\n",
    "    overlap_tile_ids = set(loc_frequencies.query(\"clustering_HL == @cl_i\").tile_ID).intersection(set(loc_frequencies.query(\"clustering_HL == @cl_j\").tile_ID))\n",
    "    nr_overlapping_tiles = len(overlap_tile_ids)\n",
    "    loc_sim = 0\n",
    "    \n",
    "    if nr_overlapping_tiles == 0:\n",
    "        return loc_sim\n",
    "    for t in overlap_tile_ids:\n",
    "        cl_i_freq = loc_frequencies[(loc_frequencies['clustering_HL'] == cl_i) & (loc_frequencies['tile_ID'] == t)].tf_idf.iloc[0]\n",
    "        cl_j_freq = loc_frequencies[(loc_frequencies['clustering_HL'] == cl_j) & (loc_frequencies['tile_ID'] == t)].tf_idf.iloc[0]\n",
    "        \n",
    "        loc_sim += points.query(\"tile_ID == @t\").location_entropy.iloc[0] * min(cl_i_freq, cl_j_freq)\n",
    "    return loc_sim/nr_overlapping_tiles"
   ]
  },
  {
   "cell_type": "code",
   "execution_count": 266,
   "metadata": {
    "scrolled": false
   },
   "outputs": [
    {
     "name": "stderr",
     "output_type": "stream",
     "text": [
      "100%|█████████████████████████████████████████████████████████████████████████████████| 314/314 [02:40<00:00,  1.96it/s]\n"
     ]
    }
   ],
   "source": [
    "M = np.zeros((loc_frequencies.clustering_HL.nunique(), loc_frequencies.clustering_HL.nunique()))\n",
    "\n",
    "for i, cl_i in tqdm(enumerate(loc_frequencies.clustering_HL.unique()), total=loc_frequencies.clustering_HL.nunique()):\n",
    "    \n",
    "    for j, cl_j in enumerate(loc_frequencies.clustering_HL.unique()):\n",
    "        if i == j:\n",
    "            continue\n",
    "            \n",
    "        M[i, j] = get_location_similarity(cl_i, cl_j, loc_frequencies, points)\n",
    "\n",
    "# Symmetrize\n",
    "# M = M + M.T\n",
    "\n",
    "# M = np.max(M) - M\n",
    "\n",
    "# Set diagonal to 0\n",
    "np.fill_diagonal(M, 0)\n"
   ]
  },
  {
   "cell_type": "code",
   "execution_count": 268,
   "metadata": {},
   "outputs": [
    {
     "data": {
      "text/plain": [
       "(array([ 41, 112, 171]),)"
      ]
     },
     "execution_count": 268,
     "metadata": {},
     "output_type": "execute_result"
    }
   ],
   "source": [
    "np.nonzero(M[0])"
   ]
  },
  {
   "cell_type": "code",
   "execution_count": 270,
   "metadata": {},
   "outputs": [
    {
     "data": {
      "text/plain": [
       "112"
      ]
     },
     "execution_count": 270,
     "metadata": {},
     "output_type": "execute_result"
    }
   ],
   "source": [
    "np.argmax(M[0])"
   ]
  },
  {
   "cell_type": "code",
   "execution_count": null,
   "metadata": {},
   "outputs": [],
   "source": [
    "M[174]"
   ]
  },
  {
   "cell_type": "code",
   "execution_count": 297,
   "metadata": {},
   "outputs": [
    {
     "data": {
      "text/plain": [
       "(array([172, 173, 174]),)"
      ]
     },
     "execution_count": 297,
     "metadata": {},
     "output_type": "execute_result"
    }
   ],
   "source": [
    "np.nonzero(sum(M == 2.795666886601611))"
   ]
  },
  {
   "cell_type": "code",
   "execution_count": 315,
   "metadata": {
    "scrolled": true
   },
   "outputs": [
    {
     "data": {
      "text/plain": [
       "[(174, 173), (172, 174), (173, 172), (173, 174), (174, 172)]"
      ]
     },
     "execution_count": 315,
     "metadata": {},
     "output_type": "execute_result"
    }
   ],
   "source": [
    "def get_5_max(M):\n",
    "    max_5 = [0,0,0,0,0]\n",
    "    max_5_indices = [(0,0), (0,0), (0,0), (0,0), (0,0)]\n",
    "    \n",
    "    for i in range(M.shape[0]):\n",
    "        for j in range(M.shape[1]):\n",
    "            if not all(x > M[i,j] for x in max_5):\n",
    "                index_smallest_val = max_5.index(sorted(max_5, reverse=False)[0])\n",
    "                max_5[index_smallest_val] = M[i,j]\n",
    "                max_5_indices[index_smallest_val] = (i, j)\n",
    "                \n",
    "    return max_5_indices\n",
    "\n",
    "get_5_max(M)"
   ]
  },
  {
   "cell_type": "code",
   "execution_count": 319,
   "metadata": {},
   "outputs": [
    {
     "name": "stdout",
     "output_type": "stream",
     "text": [
      "(174, 173)\n",
      "(172, 174)\n",
      "(173, 172)\n",
      "(173, 174)\n",
      "(174, 172)\n"
     ]
    }
   ],
   "source": [
    "for tup in get_5_max(M):\n",
    "    print(tup)\n",
    "    cl_1 = loc_frequencies.clustering_HL.unique()[tup[0]]\n",
    "    cl_2 = loc_frequencies.clustering_HL.unique()[tup[1]]\n",
    "    gdf['clustering_HL'] = gdf.clustering_HL.apply(lambda x: cl_1 if x == cl_2 else x)"
   ]
  },
  {
   "cell_type": "code",
   "execution_count": 320,
   "metadata": {},
   "outputs": [
    {
     "name": "stdout",
     "output_type": "stream",
     "text": [
      "Homogeneity: 0.894\n",
      "Completeness: 0.724\n",
      "V-measure: 0.800\n",
      "Rand index: 0.982\n",
      "ARI: 0.493\n",
      "MI: 3.517\n",
      "NMI: 0.800\n",
      "AMI: 0.661\n",
      "Cluster accuracy: 0.553\n"
     ]
    }
   ],
   "source": [
    "attack.evaluate(gdf.clustering_HL.tolist(), gdf)"
   ]
  },
  {
   "cell_type": "code",
   "execution_count": null,
   "metadata": {
    "scrolled": true
   },
   "outputs": [
    {
     "name": "stderr",
     "output_type": "stream",
     "text": [
      "100%|███████████████████████████████████████████████████████████████████████████████| 2750/2750 [01:45<00:00, 26.10it/s]\n",
      "100%|█████████████████████████████████████████████████████████████████████████████████| 312/312 [02:35<00:00,  2.01it/s]\n"
     ]
    },
    {
     "name": "stdout",
     "output_type": "stream",
     "text": [
      "(160, 159)\n",
      "(156, 158)\n",
      "(156, 159)\n",
      "(156, 160)\n",
      "(157, 156)\n",
      "Homogeneity: 0.894\n",
      "Completeness: 0.725\n",
      "V-measure: 0.801\n",
      "Rand index: 0.982\n",
      "ARI: 0.493\n",
      "MI: 3.517\n",
      "NMI: 0.801\n",
      "AMI: 0.662\n",
      "Cluster accuracy: 0.553\n"
     ]
    },
    {
     "name": "stderr",
     "output_type": "stream",
     "text": [
      "100%|███████████████████████████████████████████████████████████████████████████████| 2750/2750 [01:48<00:00, 25.35it/s]\n",
      "100%|█████████████████████████████████████████████████████████████████████████████████| 308/308 [02:34<00:00,  2.00it/s]\n"
     ]
    },
    {
     "name": "stdout",
     "output_type": "stream",
     "text": [
      "(138, 137)\n",
      "(131, 133)\n",
      "(131, 136)\n",
      "(131, 134)\n",
      "(131, 132)\n",
      "Homogeneity: 0.894\n",
      "Completeness: 0.726\n",
      "V-measure: 0.801\n",
      "Rand index: 0.982\n",
      "ARI: 0.494\n",
      "MI: 3.517\n",
      "NMI: 0.801\n",
      "AMI: 0.664\n",
      "Cluster accuracy: 0.553\n"
     ]
    },
    {
     "name": "stderr",
     "output_type": "stream",
     "text": [
      "100%|███████████████████████████████████████████████████████████████████████████████| 2750/2750 [01:46<00:00, 25.89it/s]\n",
      "100%|█████████████████████████████████████████████████████████████████████████████████| 303/303 [02:28<00:00,  2.04it/s]\n"
     ]
    },
    {
     "name": "stdout",
     "output_type": "stream",
     "text": [
      "(133, 132)\n",
      "(131, 133)\n",
      "(133, 131)\n",
      "(132, 131)\n",
      "(131, 132)\n",
      "Homogeneity: 0.894\n",
      "Completeness: 0.727\n",
      "V-measure: 0.802\n",
      "Rand index: 0.982\n",
      "ARI: 0.494\n",
      "MI: 3.517\n",
      "NMI: 0.802\n",
      "AMI: 0.665\n",
      "Cluster accuracy: 0.555\n"
     ]
    },
    {
     "name": "stderr",
     "output_type": "stream",
     "text": [
      "100%|███████████████████████████████████████████████████████████████████████████████| 2750/2750 [01:46<00:00, 25.90it/s]\n",
      "100%|█████████████████████████████████████████████████████████████████████████████████| 301/301 [02:28<00:00,  2.03it/s]\n"
     ]
    },
    {
     "name": "stdout",
     "output_type": "stream",
     "text": [
      "(146, 145)\n",
      "(143, 144)\n",
      "(144, 143)\n",
      "(143, 145)\n",
      "(144, 145)\n",
      "Homogeneity: 0.894\n",
      "Completeness: 0.727\n",
      "V-measure: 0.802\n",
      "Rand index: 0.982\n",
      "ARI: 0.494\n",
      "MI: 3.517\n",
      "NMI: 0.802\n",
      "AMI: 0.666\n",
      "Cluster accuracy: 0.555\n"
     ]
    },
    {
     "name": "stderr",
     "output_type": "stream",
     "text": [
      "100%|███████████████████████████████████████████████████████████████████████████████| 2750/2750 [01:46<00:00, 25.90it/s]\n",
      "100%|█████████████████████████████████████████████████████████████████████████████████| 299/299 [02:25<00:00,  2.05it/s]\n"
     ]
    },
    {
     "name": "stdout",
     "output_type": "stream",
     "text": [
      "(161, 132)\n",
      "(143, 144)\n",
      "(128, 15)\n",
      "(144, 143)\n",
      "(132, 161)\n",
      "Homogeneity: 0.894\n",
      "Completeness: 0.728\n",
      "V-measure: 0.802\n",
      "Rand index: 0.982\n",
      "ARI: 0.495\n",
      "MI: 3.517\n",
      "NMI: 0.802\n",
      "AMI: 0.667\n",
      "Cluster accuracy: 0.556\n"
     ]
    },
    {
     "name": "stderr",
     "output_type": "stream",
     "text": [
      "100%|███████████████████████████████████████████████████████████████████████████████| 2750/2750 [01:45<00:00, 25.95it/s]\n",
      "100%|█████████████████████████████████████████████████████████████████████████████████| 296/296 [02:23<00:00,  2.06it/s]\n"
     ]
    },
    {
     "name": "stdout",
     "output_type": "stream",
     "text": [
      "(17, 211)\n",
      "(107, 133)\n",
      "(133, 107)\n",
      "(211, 17)\n",
      "(73, 76)\n",
      "Homogeneity: 0.893\n",
      "Completeness: 0.728\n",
      "V-measure: 0.802\n",
      "Rand index: 0.982\n",
      "ARI: 0.494\n",
      "MI: 3.514\n",
      "NMI: 0.802\n",
      "AMI: 0.667\n",
      "Cluster accuracy: 0.556\n"
     ]
    },
    {
     "name": "stderr",
     "output_type": "stream",
     "text": [
      "100%|███████████████████████████████████████████████████████████████████████████████| 2750/2750 [01:45<00:00, 26.09it/s]\n",
      "100%|█████████████████████████████████████████████████████████████████████████████████| 293/293 [02:21<00:00,  2.07it/s]\n"
     ]
    },
    {
     "name": "stdout",
     "output_type": "stream",
     "text": [
      "(141, 198)\n",
      "(112, 111)\n",
      "(198, 141)\n",
      "(101, 20)\n",
      "(111, 112)\n",
      "Homogeneity: 0.893\n",
      "Completeness: 0.728\n",
      "V-measure: 0.802\n",
      "Rand index: 0.982\n",
      "ARI: 0.494\n",
      "MI: 3.511\n",
      "NMI: 0.802\n",
      "AMI: 0.667\n",
      "Cluster accuracy: 0.556\n"
     ]
    },
    {
     "name": "stderr",
     "output_type": "stream",
     "text": [
      "100%|███████████████████████████████████████████████████████████████████████████████| 2750/2750 [01:45<00:00, 25.96it/s]\n",
      "100%|█████████████████████████████████████████████████████████████████████████████████| 290/290 [02:19<00:00,  2.08it/s]\n"
     ]
    },
    {
     "name": "stdout",
     "output_type": "stream",
     "text": [
      "(153, 280)\n",
      "(127, 1)\n",
      "(1, 127)\n",
      "(280, 153)\n",
      "(63, 234)\n",
      "Homogeneity: 0.893\n",
      "Completeness: 0.728\n",
      "V-measure: 0.802\n",
      "Rand index: 0.982\n",
      "ARI: 0.495\n",
      "MI: 3.510\n",
      "NMI: 0.802\n",
      "AMI: 0.668\n",
      "Cluster accuracy: 0.556\n"
     ]
    },
    {
     "name": "stderr",
     "output_type": "stream",
     "text": [
      "100%|███████████████████████████████████████████████████████████████████████████████| 2750/2750 [01:46<00:00, 25.81it/s]\n",
      "100%|█████████████████████████████████████████████████████████████████████████████████| 287/287 [02:18<00:00,  2.07it/s]\n"
     ]
    },
    {
     "name": "stdout",
     "output_type": "stream",
     "text": [
      "(42, 233)\n",
      "(151, 63)\n",
      "(63, 151)\n",
      "(233, 42)\n",
      "(155, 80)\n",
      "Homogeneity: 0.892\n",
      "Completeness: 0.729\n",
      "V-measure: 0.802\n",
      "Rand index: 0.982\n",
      "ARI: 0.496\n",
      "MI: 3.508\n",
      "NMI: 0.802\n",
      "AMI: 0.669\n",
      "Cluster accuracy: 0.557\n"
     ]
    },
    {
     "name": "stderr",
     "output_type": "stream",
     "text": [
      "100%|███████████████████████████████████████████████████████████████████████████████| 2750/2750 [01:47<00:00, 25.62it/s]\n"
     ]
    }
   ],
   "source": [
    "for i in range(10):\n",
    "    # Get new points gdf matched with tessellation that contains updated clustering column\n",
    "    points = get_points(gdf, tessellation)\n",
    "    \n",
    "    # Compute location entropy for latest clustering\n",
    "    points['location_entropy'] = points.tile_ID.progress_apply(lambda x: get_location_entropy(x, points))\n",
    "    points['location_entropy'] = points.location_entropy.apply(lambda x: 1 - (x - points.location_entropy.min())/(points.location_entropy.max() - points.location_entropy.min()))\n",
    "    print(points.location_entropy.plot.hist(bins=20))\n",
    "    \n",
    "    # Update location frequencies and loc frequency-inverse cluster frequency\n",
    "    loc_frequencies = points.groupby(['clustering_HL', 'tile_ID'])[['TRIP_ID']].nunique().reset_index().sort_values('clustering_HL').rename(columns={'TRIP_ID': 'freq'})\n",
    "    loc_frequencies['tf_idf'] = loc_frequencies.apply(lambda x: get_inverse_loc_frequency(x, loc_frequencies, points), axis=1)\n",
    "    print(loc_frequencies.tf_idf.plot.hist(bins=50))\n",
    "    \n",
    "    # Recalculate similarities between latest clusters\n",
    "    M = np.zeros((loc_frequencies.clustering_HL.nunique(), loc_frequencies.clustering_HL.nunique()))\n",
    "    for i, cl_i in tqdm(enumerate(loc_frequencies.clustering_HL.unique()), total=loc_frequencies.clustering_HL.nunique()):\n",
    "        for j, cl_j in enumerate(loc_frequencies.clustering_HL.unique()):\n",
    "            if i == j:\n",
    "                continue\n",
    "            M[i, j] = get_location_similarity(cl_i, cl_j, loc_frequencies, points)\n",
    "    np.fill_diagonal(M, 0)\n",
    "    \n",
    "    # Select 5 best links and assign new clustering IDs\n",
    "    print('New links of clusters:')\n",
    "    for tup in get_5_max(M):\n",
    "        cl_1 = loc_frequencies.clustering_HL.unique()[tup[0]]\n",
    "        cl_2 = loc_frequencies.clustering_HL.unique()[tup[1]]\n",
    "        print(cl_1, cl_2)\n",
    "        gdf['clustering_HL'] = gdf.clustering_HL.apply(lambda x: cl_1 if x == cl_2 else x)\n",
    "    \n",
    "    # Evaluate result of iteration\n",
    "    attack.evaluate(gdf.clustering_HL.tolist(), gdf)"
   ]
  },
  {
   "cell_type": "code",
   "execution_count": 251,
   "metadata": {
    "scrolled": true
   },
   "outputs": [
    {
     "name": "stdout",
     "output_type": "stream",
     "text": [
      "(162,)\n",
      "(56,)\n",
      "(51,)\n"
     ]
    },
    {
     "name": "stderr",
     "output_type": "stream",
     "text": [
      "/usr/local/lib/python3.8/dist-packages/sklearn/cluster/_optics.py:932: RuntimeWarning: divide by zero encountered in divide\n",
      "  ratio = reachability_plot[:-1] / reachability_plot[1:]\n"
     ]
    }
   ],
   "source": [
    "from sklearn.cluster import DBSCAN, AgglomerativeClustering, OPTICS\n",
    "import numpy as np\n",
    "\n",
    "dbscan = DBSCAN(eps=2, min_samples=1, metric='precomputed').fit(M)\n",
    "print(np.unique(dbscan.labels_).shape)\n",
    "\n",
    "optics = OPTICS(min_samples=2, metric='precomputed').fit(M)\n",
    "print(np.unique(optics.labels_).shape)\n",
    "\n",
    "ac = AgglomerativeClustering(metric='precomputed', n_clusters=51, linkage='average').fit(M)\n",
    "print(np.unique(ac.labels_).shape)\n"
   ]
  },
  {
   "cell_type": "code",
   "execution_count": 250,
   "metadata": {},
   "outputs": [
    {
     "name": "stderr",
     "output_type": "stream",
     "text": [
      "findfont: Generic family 'sans-serif' not found because none of the following families were found: Arial, Liberation Sans, Bitstream Vera Sans, sans-serif\n",
      "findfont: Generic family 'sans-serif' not found because none of the following families were found: Arial, Liberation Sans, Bitstream Vera Sans, sans-serif\n",
      "findfont: Generic family 'sans-serif' not found because none of the following families were found: Arial, Liberation Sans, Bitstream Vera Sans, sans-serif\n",
      "findfont: Generic family 'sans-serif' not found because none of the following families were found: Arial, Liberation Sans, Bitstream Vera Sans, sans-serif\n",
      "findfont: Generic family 'sans-serif' not found because none of the following families were found: Arial, Liberation Sans, Bitstream Vera Sans, sans-serif\n",
      "findfont: Generic family 'sans-serif' not found because none of the following families were found: Arial, Liberation Sans, Bitstream Vera Sans, sans-serif\n",
      "findfont: Generic family 'sans-serif' not found because none of the following families were found: Arial, Liberation Sans, Bitstream Vera Sans, sans-serif\n",
      "findfont: Generic family 'sans-serif' not found because none of the following families were found: Arial, Liberation Sans, Bitstream Vera Sans, sans-serif\n",
      "findfont: Generic family 'sans-serif' not found because none of the following families were found: Arial, Liberation Sans, Bitstream Vera Sans, sans-serif\n",
      "findfont: Generic family 'sans-serif' not found because none of the following families were found: Arial, Liberation Sans, Bitstream Vera Sans, sans-serif\n",
      "findfont: Generic family 'sans-serif' not found because none of the following families were found: Arial, Liberation Sans, Bitstream Vera Sans, sans-serif\n",
      "findfont: Generic family 'sans-serif' not found because none of the following families were found: Arial, Liberation Sans, Bitstream Vera Sans, sans-serif\n",
      "findfont: Generic family 'sans-serif' not found because none of the following families were found: Arial, Liberation Sans, Bitstream Vera Sans, sans-serif\n",
      "findfont: Generic family 'sans-serif' not found because none of the following families were found: Arial, Liberation Sans, Bitstream Vera Sans, sans-serif\n",
      "findfont: Generic family 'sans-serif' not found because none of the following families were found: Arial, Liberation Sans, Bitstream Vera Sans, sans-serif\n",
      "findfont: Generic family 'sans-serif' not found because none of the following families were found: Arial, Liberation Sans, Bitstream Vera Sans, sans-serif\n",
      "findfont: Generic family 'sans-serif' not found because none of the following families were found: Arial, Liberation Sans, Bitstream Vera Sans, sans-serif\n",
      "findfont: Generic family 'sans-serif' not found because none of the following families were found: Arial, Liberation Sans, Bitstream Vera Sans, sans-serif\n",
      "findfont: Generic family 'sans-serif' not found because none of the following families were found: Arial, Liberation Sans, Bitstream Vera Sans, sans-serif\n",
      "findfont: Generic family 'sans-serif' not found because none of the following families were found: Arial, Liberation Sans, Bitstream Vera Sans, sans-serif\n",
      "findfont: Generic family 'sans-serif' not found because none of the following families were found: Arial, Liberation Sans, Bitstream Vera Sans, sans-serif\n",
      "findfont: Generic family 'sans-serif' not found because none of the following families were found: Arial, Liberation Sans, Bitstream Vera Sans, sans-serif\n",
      "findfont: Generic family 'sans-serif' not found because none of the following families were found: Arial, Liberation Sans, Bitstream Vera Sans, sans-serif\n",
      "findfont: Generic family 'sans-serif' not found because none of the following families were found: Arial, Liberation Sans, Bitstream Vera Sans, sans-serif\n",
      "findfont: Generic family 'sans-serif' not found because none of the following families were found: Arial, Liberation Sans, Bitstream Vera Sans, sans-serif\n",
      "findfont: Generic family 'sans-serif' not found because none of the following families were found: Arial, Liberation Sans, Bitstream Vera Sans, sans-serif\n",
      "findfont: Generic family 'sans-serif' not found because none of the following families were found: Arial, Liberation Sans, Bitstream Vera Sans, sans-serif\n",
      "findfont: Generic family 'sans-serif' not found because none of the following families were found: Arial, Liberation Sans, Bitstream Vera Sans, sans-serif\n",
      "findfont: Generic family 'sans-serif' not found because none of the following families were found: Arial, Liberation Sans, Bitstream Vera Sans, sans-serif\n",
      "findfont: Generic family 'sans-serif' not found because none of the following families were found: Arial, Liberation Sans, Bitstream Vera Sans, sans-serif\n",
      "findfont: Generic family 'sans-serif' not found because none of the following families were found: Arial, Liberation Sans, Bitstream Vera Sans, sans-serif\n",
      "findfont: Generic family 'sans-serif' not found because none of the following families were found: Arial, Liberation Sans, Bitstream Vera Sans, sans-serif\n",
      "findfont: Generic family 'sans-serif' not found because none of the following families were found: Arial, Liberation Sans, Bitstream Vera Sans, sans-serif\n",
      "findfont: Generic family 'sans-serif' not found because none of the following families were found: Arial, Liberation Sans, Bitstream Vera Sans, sans-serif\n",
      "findfont: Generic family 'sans-serif' not found because none of the following families were found: Arial, Liberation Sans, Bitstream Vera Sans, sans-serif\n",
      "findfont: Generic family 'sans-serif' not found because none of the following families were found: Arial, Liberation Sans, Bitstream Vera Sans, sans-serif\n",
      "findfont: Generic family 'sans-serif' not found because none of the following families were found: Arial, Liberation Sans, Bitstream Vera Sans, sans-serif\n",
      "findfont: Generic family 'sans-serif' not found because none of the following families were found: Arial, Liberation Sans, Bitstream Vera Sans, sans-serif\n",
      "findfont: Generic family 'sans-serif' not found because none of the following families were found: Arial, Liberation Sans, Bitstream Vera Sans, sans-serif\n",
      "findfont: Generic family 'sans-serif' not found because none of the following families were found: Arial, Liberation Sans, Bitstream Vera Sans, sans-serif\n",
      "findfont: Generic family 'sans-serif' not found because none of the following families were found: Arial, Liberation Sans, Bitstream Vera Sans, sans-serif\n",
      "findfont: Generic family 'sans-serif' not found because none of the following families were found: Arial, Liberation Sans, Bitstream Vera Sans, sans-serif\n",
      "findfont: Generic family 'sans-serif' not found because none of the following families were found: Arial, Liberation Sans, Bitstream Vera Sans, sans-serif\n",
      "findfont: Generic family 'sans-serif' not found because none of the following families were found: Arial, Liberation Sans, Bitstream Vera Sans, sans-serif\n",
      "findfont: Generic family 'sans-serif' not found because none of the following families were found: Arial, Liberation Sans, Bitstream Vera Sans, sans-serif\n",
      "findfont: Generic family 'sans-serif' not found because none of the following families were found: Arial, Liberation Sans, Bitstream Vera Sans, sans-serif\n",
      "findfont: Generic family 'sans-serif' not found because none of the following families were found: Arial, Liberation Sans, Bitstream Vera Sans, sans-serif\n",
      "findfont: Generic family 'sans-serif' not found because none of the following families were found: Arial, Liberation Sans, Bitstream Vera Sans, sans-serif\n",
      "findfont: Generic family 'sans-serif' not found because none of the following families were found: Arial, Liberation Sans, Bitstream Vera Sans, sans-serif\n",
      "findfont: Generic family 'sans-serif' not found because none of the following families were found: Arial, Liberation Sans, Bitstream Vera Sans, sans-serif\n",
      "findfont: Generic family 'sans-serif' not found because none of the following families were found: Arial, Liberation Sans, Bitstream Vera Sans, sans-serif\n",
      "findfont: Generic family 'sans-serif' not found because none of the following families were found: Arial, Liberation Sans, Bitstream Vera Sans, sans-serif\n",
      "findfont: Generic family 'sans-serif' not found because none of the following families were found: Arial, Liberation Sans, Bitstream Vera Sans, sans-serif\n"
     ]
    },
    {
     "name": "stderr",
     "output_type": "stream",
     "text": [
      "findfont: Generic family 'sans-serif' not found because none of the following families were found: Arial, Liberation Sans, Bitstream Vera Sans, sans-serif\n",
      "findfont: Generic family 'sans-serif' not found because none of the following families were found: Arial, Liberation Sans, Bitstream Vera Sans, sans-serif\n",
      "findfont: Generic family 'sans-serif' not found because none of the following families were found: Arial, Liberation Sans, Bitstream Vera Sans, sans-serif\n",
      "findfont: Generic family 'sans-serif' not found because none of the following families were found: Arial, Liberation Sans, Bitstream Vera Sans, sans-serif\n",
      "findfont: Generic family 'sans-serif' not found because none of the following families were found: Arial, Liberation Sans, Bitstream Vera Sans, sans-serif\n",
      "findfont: Generic family 'sans-serif' not found because none of the following families were found: Arial, Liberation Sans, Bitstream Vera Sans, sans-serif\n",
      "findfont: Generic family 'sans-serif' not found because none of the following families were found: Arial, Liberation Sans, Bitstream Vera Sans, sans-serif\n",
      "findfont: Generic family 'sans-serif' not found because none of the following families were found: Arial, Liberation Sans, Bitstream Vera Sans, sans-serif\n",
      "findfont: Generic family 'sans-serif' not found because none of the following families were found: Arial, Liberation Sans, Bitstream Vera Sans, sans-serif\n",
      "findfont: Generic family 'sans-serif' not found because none of the following families were found: Arial, Liberation Sans, Bitstream Vera Sans, sans-serif\n",
      "findfont: Generic family 'sans-serif' not found because none of the following families were found: Arial, Liberation Sans, Bitstream Vera Sans, sans-serif\n",
      "findfont: Generic family 'sans-serif' not found because none of the following families were found: Arial, Liberation Sans, Bitstream Vera Sans, sans-serif\n",
      "findfont: Generic family 'sans-serif' not found because none of the following families were found: Arial, Liberation Sans, Bitstream Vera Sans, sans-serif\n",
      "findfont: Generic family 'sans-serif' not found because none of the following families were found: Arial, Liberation Sans, Bitstream Vera Sans, sans-serif\n",
      "findfont: Generic family 'sans-serif' not found because none of the following families were found: Arial, Liberation Sans, Bitstream Vera Sans, sans-serif\n",
      "findfont: Generic family 'sans-serif' not found because none of the following families were found: Arial, Liberation Sans, Bitstream Vera Sans, sans-serif\n",
      "findfont: Generic family 'sans-serif' not found because none of the following families were found: Arial, Liberation Sans, Bitstream Vera Sans, sans-serif\n",
      "findfont: Generic family 'sans-serif' not found because none of the following families were found: Arial, Liberation Sans, Bitstream Vera Sans, sans-serif\n",
      "findfont: Generic family 'sans-serif' not found because none of the following families were found: Arial, Liberation Sans, Bitstream Vera Sans, sans-serif\n",
      "findfont: Generic family 'sans-serif' not found because none of the following families were found: Arial, Liberation Sans, Bitstream Vera Sans, sans-serif\n",
      "findfont: Generic family 'sans-serif' not found because none of the following families were found: Arial, Liberation Sans, Bitstream Vera Sans, sans-serif\n",
      "findfont: Generic family 'sans-serif' not found because none of the following families were found: Arial, Liberation Sans, Bitstream Vera Sans, sans-serif\n",
      "findfont: Generic family 'sans-serif' not found because none of the following families were found: Arial, Liberation Sans, Bitstream Vera Sans, sans-serif\n",
      "findfont: Generic family 'sans-serif' not found because none of the following families were found: Arial, Liberation Sans, Bitstream Vera Sans, sans-serif\n",
      "findfont: Generic family 'sans-serif' not found because none of the following families were found: Arial, Liberation Sans, Bitstream Vera Sans, sans-serif\n",
      "findfont: Generic family 'sans-serif' not found because none of the following families were found: Arial, Liberation Sans, Bitstream Vera Sans, sans-serif\n",
      "findfont: Generic family 'sans-serif' not found because none of the following families were found: Arial, Liberation Sans, Bitstream Vera Sans, sans-serif\n",
      "findfont: Generic family 'sans-serif' not found because none of the following families were found: Arial, Liberation Sans, Bitstream Vera Sans, sans-serif\n",
      "findfont: Generic family 'sans-serif' not found because none of the following families were found: Arial, Liberation Sans, Bitstream Vera Sans, sans-serif\n",
      "findfont: Generic family 'sans-serif' not found because none of the following families were found: Arial, Liberation Sans, Bitstream Vera Sans, sans-serif\n",
      "findfont: Generic family 'sans-serif' not found because none of the following families were found: Arial, Liberation Sans, Bitstream Vera Sans, sans-serif\n",
      "findfont: Generic family 'sans-serif' not found because none of the following families were found: Arial, Liberation Sans, Bitstream Vera Sans, sans-serif\n",
      "findfont: Generic family 'sans-serif' not found because none of the following families were found: Arial, Liberation Sans, Bitstream Vera Sans, sans-serif\n",
      "findfont: Generic family 'sans-serif' not found because none of the following families were found: Arial, Liberation Sans, Bitstream Vera Sans, sans-serif\n",
      "findfont: Generic family 'sans-serif' not found because none of the following families were found: Arial, Liberation Sans, Bitstream Vera Sans, sans-serif\n",
      "findfont: Generic family 'sans-serif' not found because none of the following families were found: Arial, Liberation Sans, Bitstream Vera Sans, sans-serif\n",
      "findfont: Generic family 'sans-serif' not found because none of the following families were found: Arial, Liberation Sans, Bitstream Vera Sans, sans-serif\n",
      "findfont: Generic family 'sans-serif' not found because none of the following families were found: Arial, Liberation Sans, Bitstream Vera Sans, sans-serif\n",
      "findfont: Generic family 'sans-serif' not found because none of the following families were found: Arial, Liberation Sans, Bitstream Vera Sans, sans-serif\n",
      "findfont: Generic family 'sans-serif' not found because none of the following families were found: Arial, Liberation Sans, Bitstream Vera Sans, sans-serif\n",
      "findfont: Generic family 'sans-serif' not found because none of the following families were found: Arial, Liberation Sans, Bitstream Vera Sans, sans-serif\n",
      "findfont: Generic family 'sans-serif' not found because none of the following families were found: Arial, Liberation Sans, Bitstream Vera Sans, sans-serif\n",
      "findfont: Generic family 'sans-serif' not found because none of the following families were found: Arial, Liberation Sans, Bitstream Vera Sans, sans-serif\n",
      "findfont: Generic family 'sans-serif' not found because none of the following families were found: Arial, Liberation Sans, Bitstream Vera Sans, sans-serif\n",
      "findfont: Generic family 'sans-serif' not found because none of the following families were found: Arial, Liberation Sans, Bitstream Vera Sans, sans-serif\n",
      "findfont: Generic family 'sans-serif' not found because none of the following families were found: Arial, Liberation Sans, Bitstream Vera Sans, sans-serif\n",
      "findfont: Generic family 'sans-serif' not found because none of the following families were found: Arial, Liberation Sans, Bitstream Vera Sans, sans-serif\n",
      "findfont: Generic family 'sans-serif' not found because none of the following families were found: Arial, Liberation Sans, Bitstream Vera Sans, sans-serif\n",
      "findfont: Generic family 'sans-serif' not found because none of the following families were found: Arial, Liberation Sans, Bitstream Vera Sans, sans-serif\n",
      "findfont: Generic family 'sans-serif' not found because none of the following families were found: Arial, Liberation Sans, Bitstream Vera Sans, sans-serif\n",
      "findfont: Generic family 'sans-serif' not found because none of the following families were found: Arial, Liberation Sans, Bitstream Vera Sans, sans-serif\n",
      "findfont: Generic family 'sans-serif' not found because none of the following families were found: Arial, Liberation Sans, Bitstream Vera Sans, sans-serif\n",
      "findfont: Generic family 'sans-serif' not found because none of the following families were found: Arial, Liberation Sans, Bitstream Vera Sans, sans-serif\n"
     ]
    },
    {
     "name": "stderr",
     "output_type": "stream",
     "text": [
      "findfont: Generic family 'sans-serif' not found because none of the following families were found: Arial, Liberation Sans, Bitstream Vera Sans, sans-serif\n",
      "findfont: Generic family 'sans-serif' not found because none of the following families were found: Arial, Liberation Sans, Bitstream Vera Sans, sans-serif\n",
      "findfont: Generic family 'sans-serif' not found because none of the following families were found: Arial, Liberation Sans, Bitstream Vera Sans, sans-serif\n"
     ]
    },
    {
     "data": {
      "image/png": "[encoded data removed]",
      "text/plain": [
       "<Figure size 800x550 with 2 Axes>"
      ]
     },
     "metadata": {},
     "output_type": "display_data"
    },
    {
     "data": {
      "text/html": [
       "<style>#sk-container-id-4 {color: black;background-color: white;}#sk-container-id-4 pre{padding: 0;}#sk-container-id-4 div.sk-toggleable {background-color: white;}#sk-container-id-4 label.sk-toggleable__label {cursor: pointer;display: block;width: 100%;margin-bottom: 0;padding: 0.3em;box-sizing: border-box;text-align: center;}#sk-container-id-4 label.sk-toggleable__label-arrow:before {content: \"▸\";float: left;margin-right: 0.25em;color: #696969;}#sk-container-id-4 label.sk-toggleable__label-arrow:hover:before {color: black;}#sk-container-id-4 div.sk-estimator:hover label.sk-toggleable__label-arrow:before {color: black;}#sk-container-id-4 div.sk-toggleable__content {max-height: 0;max-width: 0;overflow: hidden;text-align: left;background-color: #f0f8ff;}#sk-container-id-4 div.sk-toggleable__content pre {margin: 0.2em;color: black;border-radius: 0.25em;background-color: #f0f8ff;}#sk-container-id-4 input.sk-toggleable__control:checked~div.sk-toggleable__content {max-height: 200px;max-width: 100%;overflow: auto;}#sk-container-id-4 input.sk-toggleable__control:checked~label.sk-toggleable__label-arrow:before {content: \"▾\";}#sk-container-id-4 div.sk-estimator input.sk-toggleable__control:checked~label.sk-toggleable__label {background-color: #d4ebff;}#sk-container-id-4 div.sk-label input.sk-toggleable__control:checked~label.sk-toggleable__label {background-color: #d4ebff;}#sk-container-id-4 input.sk-hidden--visually {border: 0;clip: rect(1px 1px 1px 1px);clip: rect(1px, 1px, 1px, 1px);height: 1px;margin: -1px;overflow: hidden;padding: 0;position: absolute;width: 1px;}#sk-container-id-4 div.sk-estimator {font-family: monospace;background-color: #f0f8ff;border: 1px dotted black;border-radius: 0.25em;box-sizing: border-box;margin-bottom: 0.5em;}#sk-container-id-4 div.sk-estimator:hover {background-color: #d4ebff;}#sk-container-id-4 div.sk-parallel-item::after {content: \"\";width: 100%;border-bottom: 1px solid gray;flex-grow: 1;}#sk-container-id-4 div.sk-label:hover label.sk-toggleable__label {background-color: #d4ebff;}#sk-container-id-4 div.sk-serial::before {content: \"\";position: absolute;border-left: 1px solid gray;box-sizing: border-box;top: 0;bottom: 0;left: 50%;z-index: 0;}#sk-container-id-4 div.sk-serial {display: flex;flex-direction: column;align-items: center;background-color: white;padding-right: 0.2em;padding-left: 0.2em;position: relative;}#sk-container-id-4 div.sk-item {position: relative;z-index: 1;}#sk-container-id-4 div.sk-parallel {display: flex;align-items: stretch;justify-content: center;background-color: white;position: relative;}#sk-container-id-4 div.sk-item::before, #sk-container-id-4 div.sk-parallel-item::before {content: \"\";position: absolute;border-left: 1px solid gray;box-sizing: border-box;top: 0;bottom: 0;left: 50%;z-index: -1;}#sk-container-id-4 div.sk-parallel-item {display: flex;flex-direction: column;z-index: 1;position: relative;background-color: white;}#sk-container-id-4 div.sk-parallel-item:first-child::after {align-self: flex-end;width: 50%;}#sk-container-id-4 div.sk-parallel-item:last-child::after {align-self: flex-start;width: 50%;}#sk-container-id-4 div.sk-parallel-item:only-child::after {width: 0;}#sk-container-id-4 div.sk-dashed-wrapped {border: 1px dashed gray;margin: 0 0.4em 0.5em 0.4em;box-sizing: border-box;padding-bottom: 0.4em;background-color: white;}#sk-container-id-4 div.sk-label label {font-family: monospace;font-weight: bold;display: inline-block;line-height: 1.2em;}#sk-container-id-4 div.sk-label-container {text-align: center;}#sk-container-id-4 div.sk-container {/* jupyter's `normalize.less` sets `[hidden] { display: none; }` but bootstrap.min.css set `[hidden] { display: none !important; }` so we also need the `!important` here to be able to override the default hidden behavior on the sphinx rendered scikit-learn.org. See: https://github.com/scikit-learn/scikit-learn/issues/21755 */display: inline-block !important;position: relative;}#sk-container-id-4 div.sk-text-repr-fallback {display: none;}</style><div id=\"sk-container-id-4\" class=\"sk-top-container\"><div class=\"sk-text-repr-fallback\"><pre>KElbowVisualizer(ax=&lt;Axes: title={&#x27;center&#x27;: &#x27;Distortion Score Elbow for AgglomerativeClustering Clustering&#x27;}, xlabel=&#x27;k&#x27;, ylabel=&#x27;distortion score&#x27;&gt;,\n",
       "                 estimator=AgglomerativeClustering(linkage=&#x27;average&#x27;,\n",
       "                                                   metric=&#x27;precomputed&#x27;,\n",
       "                                                   n_clusters=199),\n",
       "                 k=(50, 200))</pre><b>In a Jupyter environment, please rerun this cell to show the HTML representation or trust the notebook. <br />On GitHub, the HTML representation is unable to render, please try loading this page with nbviewer.org.</b></div><div class=\"sk-container\" hidden><div class=\"sk-item sk-dashed-wrapped\"><div class=\"sk-label-container\"><div class=\"sk-label sk-toggleable\"><input class=\"sk-toggleable__control sk-hidden--visually\" id=\"sk-estimator-id-10\" type=\"checkbox\" ><label for=\"sk-estimator-id-10\" class=\"sk-toggleable__label sk-toggleable__label-arrow\">KElbowVisualizer</label><div class=\"sk-toggleable__content\"><pre>KElbowVisualizer(ax=&lt;Axes: title={&#x27;center&#x27;: &#x27;Distortion Score Elbow for AgglomerativeClustering Clustering&#x27;}, xlabel=&#x27;k&#x27;, ylabel=&#x27;distortion score&#x27;&gt;,\n",
       "                 estimator=AgglomerativeClustering(linkage=&#x27;average&#x27;,\n",
       "                                                   metric=&#x27;precomputed&#x27;,\n",
       "                                                   n_clusters=199),\n",
       "                 k=(50, 200))</pre></div></div></div><div class=\"sk-parallel\"><div class=\"sk-parallel-item\"><div class=\"sk-item\"><div class=\"sk-label-container\"><div class=\"sk-label sk-toggleable\"><input class=\"sk-toggleable__control sk-hidden--visually\" id=\"sk-estimator-id-11\" type=\"checkbox\" ><label for=\"sk-estimator-id-11\" class=\"sk-toggleable__label sk-toggleable__label-arrow\">estimator: AgglomerativeClustering</label><div class=\"sk-toggleable__content\"><pre>AgglomerativeClustering(linkage=&#x27;average&#x27;, metric=&#x27;precomputed&#x27;, n_clusters=199)</pre></div></div></div><div class=\"sk-serial\"><div class=\"sk-item\"><div class=\"sk-estimator sk-toggleable\"><input class=\"sk-toggleable__control sk-hidden--visually\" id=\"sk-estimator-id-12\" type=\"checkbox\" ><label for=\"sk-estimator-id-12\" class=\"sk-toggleable__label sk-toggleable__label-arrow\">AgglomerativeClustering</label><div class=\"sk-toggleable__content\"><pre>AgglomerativeClustering(linkage=&#x27;average&#x27;, metric=&#x27;precomputed&#x27;, n_clusters=199)</pre></div></div></div></div></div></div></div></div></div></div>"
      ],
      "text/plain": [
       "KElbowVisualizer(ax=<Axes: title={'center': 'Distortion Score Elbow for AgglomerativeClustering Clustering'}, xlabel='k', ylabel='distortion score'>,\n",
       "                 estimator=AgglomerativeClustering(linkage='average',\n",
       "                                                   metric='precomputed',\n",
       "                                                   n_clusters=199),\n",
       "                 k=(50, 200))"
      ]
     },
     "execution_count": 250,
     "metadata": {},
     "output_type": "execute_result"
    }
   ],
   "source": [
    "from yellowbrick.cluster import kelbow_visualizer\n",
    "\n",
    "# Instantiate the clustering model and visualizer\n",
    "\n",
    "kelbow_visualizer(AgglomerativeClustering(metric='precomputed', linkage='average'), M, k=(50,200))"
   ]
  },
  {
   "cell_type": "code",
   "execution_count": 252,
   "metadata": {},
   "outputs": [],
   "source": [
    "trip_id_cluster_dict = gdf[['TRIP_ID', 'clustering_HL']].set_index('TRIP_ID').to_dict()['clustering_HL']\n",
    "\n",
    "dbscan_clustering = dict(zip(loc_frequencies.clustering_HL.unique(), dbscan.labels_))\n",
    "dbscan_clustering = [dbscan_clustering[trip_id_cluster_dict[key]] for key in trip_id_cluster_dict.keys()]\n",
    "\n",
    "optics_clustering = dict(zip(loc_frequencies.clustering_HL.unique(), optics.labels_))\n",
    "optics_clustering = [optics_clustering[trip_id_cluster_dict[key]] for key in trip_id_cluster_dict.keys()]\n",
    "\n",
    "ac_clustering = dict(zip(loc_frequencies.clustering_HL.unique(), ac.labels_))\n",
    "ac_clustering = [ac_clustering[trip_id_cluster_dict[key]] for key in trip_id_cluster_dict.keys()]\n",
    "\n"
   ]
  },
  {
   "cell_type": "code",
   "execution_count": 253,
   "metadata": {},
   "outputs": [
    {
     "name": "stdout",
     "output_type": "stream",
     "text": [
      "Homogeneity: 0.894\n",
      "Completeness: 0.724\n",
      "V-measure: 0.800\n",
      "Rand index: 0.982\n",
      "ARI: 0.493\n",
      "MI: 3.517\n",
      "NMI: 0.800\n",
      "AMI: 0.660\n",
      "Cluster accuracy: 0.553\n",
      "Homogeneity: 0.819\n",
      "Completeness: 0.746\n",
      "V-measure: 0.781\n",
      "Rand index: 0.980\n",
      "ARI: 0.492\n",
      "MI: 3.219\n",
      "NMI: 0.781\n",
      "AMI: 0.674\n",
      "Cluster accuracy: 0.589\n",
      "Homogeneity: 0.427\n",
      "Completeness: 0.706\n",
      "V-measure: 0.532\n",
      "Rand index: 0.699\n",
      "ARI: 0.048\n",
      "MI: 1.680\n",
      "NMI: 0.532\n",
      "AMI: 0.403\n",
      "Cluster accuracy: 0.357\n",
      "Homogeneity: 0.650\n",
      "Completeness: 0.765\n",
      "V-measure: 0.703\n",
      "Rand index: 0.955\n",
      "ARI: 0.343\n",
      "MI: 2.556\n",
      "NMI: 0.703\n",
      "AMI: 0.628\n",
      "Cluster accuracy: 0.498\n"
     ]
    }
   ],
   "source": [
    "attack.evaluate(gdf.clustering_HL.tolist(), gdf)\n",
    "\n",
    "attack.evaluate(dbscan_clustering, gdf)\n",
    "\n",
    "attack.evaluate(optics_clustering, gdf)\n",
    "\n",
    "attack.evaluate(ac_clustering, gdf)"
   ]
  },
  {
   "cell_type": "code",
   "execution_count": 159,
   "metadata": {},
   "outputs": [
    {
     "data": {
      "text/plain": [
       "72"
      ]
     },
     "execution_count": 159,
     "metadata": {},
     "output_type": "execute_result"
    }
   ],
   "source": [
    "gdf.PERSON_ID.nunique()"
   ]
  }
 ],
 "metadata": {
  "kernelspec": {
   "display_name": "Python 3 (ipykernel)",
   "language": "python",
   "name": "python3"
  },
  "language_info": {
   "codemirror_mode": {
    "name": "ipython",
    "version": 3
   },
   "file_extension": ".py",
   "mimetype": "text/x-python",
   "name": "python",
   "nbconvert_exporter": "python",
   "pygments_lexer": "ipython3",
   "version": "3.8.10"
  }
 },
 "nbformat": 4,
 "nbformat_minor": 2
}
