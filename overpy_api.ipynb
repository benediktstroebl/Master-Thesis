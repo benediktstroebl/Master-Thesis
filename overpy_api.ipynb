{
 "cells": [
  {
   "cell_type": "code",
   "execution_count": 2,
   "metadata": {},
   "outputs": [],
   "source": [
    "import overpy\n",
    "api = overpy.Overpass()\n"
   ]
  },
  {
   "cell_type": "code",
   "execution_count": 3,
   "metadata": {},
   "outputs": [],
   "source": [
    "result = api.query(\n",
    "\"\"\"\n",
    "<osm-script>\n",
    "  <union>\n",
    "    <query type=\"node\">\n",
    "      <around lat=\"52.51398938681681\" lon=\"13.390622534359139\" radius=\"1000\"/>\n",
    "      <has-kv k=\"amenity\" v=\"cafe\"/>\n",
    "    </query>\n",
    "    <query type=\"node\">\n",
    "      <around lat=\"52.51398938681681\" lon=\"13.390622534359139\" radius=\"100\"/>\n",
    "      <has-kv k=\"public_transport\"/>\n",
    "    </query>\n",
    "  </union>\n",
    "  <print/>\n",
    "</osm-script>\n",
    "\"\"\")"
   ]
  },
  {
   "cell_type": "code",
   "execution_count": 5,
   "metadata": {},
   "outputs": [],
   "source": [
    "node = result.get_nodes()"
   ]
  },
  {
   "cell_type": "code",
   "execution_count": 13,
   "metadata": {},
   "outputs": [
    {
     "data": {
      "text/plain": [
       "{'amenity': 'cafe',\n",
       " 'name': 'Café Konzerthaus',\n",
       " 'opening_hours': 'Apr-Sep: Mo-Su,PH 09:00-24:00, Oct-Mar: Mo-Su,PH 11:00-24:00',\n",
       " 'toilets:wheelchair': 'yes',\n",
       " 'wheelchair': 'no'}"
      ]
     },
     "execution_count": 13,
     "metadata": {},
     "output_type": "execute_result"
    }
   ],
   "source": [
    "node.tags"
   ]
  }
 ],
 "metadata": {
  "kernelspec": {
   "display_name": "env",
   "language": "python",
   "name": "python3"
  },
  "language_info": {
   "codemirror_mode": {
    "name": "ipython",
    "version": 3
   },
   "file_extension": ".py",
   "mimetype": "text/x-python",
   "name": "python",
   "nbconvert_exporter": "python",
   "pygments_lexer": "ipython3",
   "version": "3.10.6"
  },
  "orig_nbformat": 4
 },
 "nbformat": 4,
 "nbformat_minor": 2
}
