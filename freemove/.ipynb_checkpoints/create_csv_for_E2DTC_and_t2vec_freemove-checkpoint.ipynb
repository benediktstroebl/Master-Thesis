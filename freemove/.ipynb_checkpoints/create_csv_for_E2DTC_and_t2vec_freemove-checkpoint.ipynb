{
 "cells": [
  {
   "cell_type": "code",
   "execution_count": 1,
   "id": "a962ee4e",
   "metadata": {},
   "outputs": [],
   "source": [
    "import sys\n",
    "sys.path.append('..')\n",
    "\n",
    "import attack\n",
    "import data_loader as dl\n",
    "import pandas as pd\n",
    "import numpy as np\n",
    "import time\n",
    "import datetime"
   ]
  },
  {
   "cell_type": "code",
   "execution_count": 5,
   "id": "02bbeee7",
   "metadata": {},
   "outputs": [
    {
     "name": "stdout",
     "output_type": "stream",
     "text": [
      "Reading raw freemove geojson file...\n",
      "Done.\n",
      "Number of trajectories in loaded dataset: 1408\n",
      "Number of users in loaded dataset: 74\n"
     ]
    }
   ],
   "source": [
    "# Load preprocessed data \n",
    "raw_full_trip_gdf, raw_trip_sp_gdf, raw_trip_ep_gdf, tesselation_gdf = dl.load_freemove(\n",
    "    data_type='raw', \n",
    "    min_n_trips_per_user=1,\n",
    "    tessellation_diameter=300,\n",
    "    hide_test_users=False)\n",
    "assert len(raw_full_trip_gdf) == len(raw_trip_sp_gdf) == len(raw_trip_ep_gdf)"
   ]
  },
  {
   "cell_type": "code",
   "execution_count": 6,
   "id": "360d577a",
   "metadata": {},
   "outputs": [],
   "source": [
    "gdf_sp, gdf_ep = attack.match_boundary_points_with_tessellation(raw_trip_sp_gdf, raw_trip_ep_gdf, tesselation_gdf)"
   ]
  },
  {
   "cell_type": "code",
   "execution_count": 7,
   "id": "2c22ca0e",
   "metadata": {},
   "outputs": [
    {
     "name": "stdout",
     "output_type": "stream",
     "text": [
      "Number of trips that start and end wihin tessellation area: 1375\n",
      "Number of trips outside and therefore dropped: 33\n"
     ]
    }
   ],
   "source": [
    "full_trip_gdf, trip_sp_gdf, trip_ep_gdf, gdf_sp, gdf_ep = attack.extract_trips_that_start_end_in_tessellation(raw_full_trip_gdf, raw_trip_sp_gdf, raw_trip_ep_gdf, gdf_sp, gdf_ep)\n"
   ]
  },
  {
   "cell_type": "code",
   "execution_count": 10,
   "id": "4a71e672",
   "metadata": {},
   "outputs": [
    {
     "name": "stdout",
     "output_type": "stream",
     "text": [
      "Max nr of points: 8646\n",
      "99% quantile of nr of points: 3088.0\n",
      "5% quantile of nr of points: 60.0\n"
     ]
    },
    {
     "data": {
      "text/plain": [
       "<Axes: ylabel='Frequency'>"
      ]
     },
     "execution_count": 10,
     "metadata": {},
     "output_type": "execute_result"
    },
    {
     "data": {
      "image/png": "[encoded data removed]",
      "text/plain": [
       "<Figure size 640x480 with 1 Axes>"
      ]
     },
     "metadata": {},
     "output_type": "display_data"
    }
   ],
   "source": [
    "print(f'Max nr of points: {full_trip_gdf.geometry.apply(lambda x: len(x.coords)).max()}')\n",
    "print(f'99% quantile of nr of points: {full_trip_gdf.geometry.apply(lambda x: len(x.coords)).quantile(0.95)}')\n",
    "print(f'5% quantile of nr of points: {full_trip_gdf.geometry.apply(lambda x: len(x.coords)).quantile(0.05)}')\n",
    "full_trip_gdf.geometry.apply(lambda x: len(x.coords)).plot.hist(bins=20)"
   ]
  },
  {
   "cell_type": "code",
   "execution_count": 11,
   "id": "52f92eff",
   "metadata": {},
   "outputs": [],
   "source": [
    "full_trip_gdf = full_trip_gdf[['TRIP_ID', 'TRIP_START', 'PERSON_ID', 'geometry']].copy()"
   ]
  },
  {
   "cell_type": "code",
   "execution_count": 12,
   "id": "6af96aa1",
   "metadata": {},
   "outputs": [],
   "source": [
    "full_trip_gdf['TRIP_START'] = pd.to_datetime(full_trip_gdf['TRIP_START'], format='%Y-%m-%d %H:%M:%S')"
   ]
  },
  {
   "cell_type": "code",
   "execution_count": 13,
   "id": "3ed947d2",
   "metadata": {},
   "outputs": [],
   "source": [
    "# Convert to UNIX timestamp\n",
    "full_trip_gdf['TIMESTAMP'] = full_trip_gdf.TRIP_START.apply(lambda x: int(datetime.datetime.timestamp(x)))"
   ]
  },
  {
   "cell_type": "code",
   "execution_count": 14,
   "id": "bb3661f3",
   "metadata": {},
   "outputs": [],
   "source": [
    "full_trip_gdf = full_trip_gdf.drop('TRIP_START', axis=1)"
   ]
  },
  {
   "cell_type": "code",
   "execution_count": 15,
   "id": "156598a8",
   "metadata": {},
   "outputs": [],
   "source": [
    "full_trip_gdf = full_trip_gdf.rename(columns={'geometry': 'POLYLINE'})"
   ]
  },
  {
   "cell_type": "code",
   "execution_count": 16,
   "id": "dd45f9b9",
   "metadata": {},
   "outputs": [],
   "source": [
    "full_trip_gdf['POLYLINE'] = full_trip_gdf.POLYLINE.to_crs(4326)"
   ]
  },
  {
   "cell_type": "code",
   "execution_count": 17,
   "id": "9f27797d",
   "metadata": {},
   "outputs": [],
   "source": [
    "full_trip_gdf['POLYLINE'] = full_trip_gdf.POLYLINE.apply(lambda x: [l for l in [list(c) for c in x.coords]])"
   ]
  },
  {
   "cell_type": "code",
   "execution_count": 18,
   "id": "f99802c6",
   "metadata": {},
   "outputs": [],
   "source": [
    "full_trip_gdf['MISSING_DATA'] = False"
   ]
  },
  {
   "cell_type": "code",
   "execution_count": 19,
   "id": "ddc9083d",
   "metadata": {},
   "outputs": [],
   "source": [
    "full_trip_gdf = full_trip_gdf.reset_index(drop=True)"
   ]
  },
  {
   "cell_type": "code",
   "execution_count": null,
   "id": "30b0e9eb",
   "metadata": {},
   "outputs": [],
   "source": [
    "full_trip_gdf.to_csv('../data/freemove/freemove.csv', index=False)"
   ]
  }
 ],
 "metadata": {
  "kernelspec": {
   "display_name": "Python 3 (ipykernel)",
   "language": "python",
   "name": "python3"
  },
  "language_info": {
   "codemirror_mode": {
    "name": "ipython",
    "version": 3
   },
   "file_extension": ".py",
   "mimetype": "text/x-python",
   "name": "python",
   "nbconvert_exporter": "python",
   "pygments_lexer": "ipython3",
   "version": "3.8.10"
  }
 },
 "nbformat": 4,
 "nbformat_minor": 5
}
