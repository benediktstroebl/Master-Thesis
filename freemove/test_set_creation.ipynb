{
 "cells": [
  {
   "cell_type": "code",
   "execution_count": 1,
   "metadata": {},
   "outputs": [],
   "source": [
    "import geopandas as gp\n",
    "import random"
   ]
  },
  {
   "cell_type": "code",
   "execution_count": 2,
   "metadata": {},
   "outputs": [],
   "source": [
    "# Load data from secure Veracrypt partition\n",
    "raw_full_trip_gdf = gp.read_file(\"W:/Master-Thesis-Repository/data/freemove_dlr_data/raw_full_trip.geojson\")"
   ]
  },
  {
   "cell_type": "code",
   "execution_count": 3,
   "metadata": {},
   "outputs": [],
   "source": [
    "# Random sample 20% of all PERSON_IDs and write them to txt file\n",
    "ids = random.sample(raw_full_trip_gdf.PERSON_ID.to_list(), round(len(raw_full_trip_gdf.PERSON_ID.unique())/5)+1)\n",
    "\n",
    "with open(\"test_set_user_ids.txt\", \"w\") as f:\n",
    "    for s in ids:\n",
    "        f.write(str(s) +\"\\n\")"
   ]
  }
 ],
 "metadata": {
  "kernelspec": {
   "display_name": "env",
   "language": "python",
   "name": "python3"
  },
  "language_info": {
   "codemirror_mode": {
    "name": "ipython",
    "version": 3
   },
   "file_extension": ".py",
   "mimetype": "text/x-python",
   "name": "python",
   "nbconvert_exporter": "python",
   "pygments_lexer": "ipython3",
   "version": "3.10.6"
  },
  "orig_nbformat": 4,
  "vscode": {
   "interpreter": {
    "hash": "543daf12f525df94f20bbdd448da69881f98a71c963c44c9c7818e0113666227"
   }
  }
 },
 "nbformat": 4,
 "nbformat_minor": 2
}
