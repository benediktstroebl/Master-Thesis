{
 "cells": [
  {
   "cell_type": "code",
   "execution_count": 1,
   "metadata": {},
   "outputs": [],
   "source": [
    "import geopandas as gp\n",
    "from shapely import Point, LineString\n",
    "from tqdm.notebook import tqdm\n",
    "tqdm.pandas()"
   ]
  },
  {
   "cell_type": "code",
   "execution_count": 3,
   "metadata": {},
   "outputs": [],
   "source": [
    "raw_full_trip_gdf = gp.read_file(\"../data/geolife/geolife_raw.geojson\", geometry='geometry')"
   ]
  },
  {
   "cell_type": "code",
   "execution_count": 4,
   "metadata": {},
   "outputs": [],
   "source": [
    "# get start and end points\n",
    "\n",
    "# Create SP and EP columns\n",
    "raw_full_trip_gdf['TRIP_SP'] = raw_full_trip_gdf.geometry.apply(lambda x: Point(x.coords[0]))\n",
    "raw_full_trip_gdf['TRIP_EP'] = raw_full_trip_gdf.geometry.apply(lambda x: Point(x.coords[-1]))\n",
    "\n",
    "# Rename columns and drop unnecessary columns\n",
    "raw_full_trip_gdf.rename(columns={\n",
    "    'start_t': 'TRIP_START', \n",
    "    'end_t': 'TRIP_END', \n",
    "    'traj_id': 'TRIP_ID',\n",
    "    'length': 'TRIP_LEN_IN_MTRS',\n",
    "    'user_id': 'PERSON_ID'}, inplace=True)\n",
    "    \n",
    "raw_full_trip_gdf.drop(columns=['direction'], axis=1, inplace=True)"
   ]
  },
  {
   "cell_type": "code",
   "execution_count": 5,
   "metadata": {},
   "outputs": [],
   "source": [
    "EPZ_RADIUS = 200\n",
    "\n",
    "raw_full_trip_gdf['START_EPZ'] = raw_full_trip_gdf.TRIP_SP.apply(lambda x: x.buffer(EPZ_RADIUS))\n",
    "raw_full_trip_gdf['END_EPZ'] = raw_full_trip_gdf.TRIP_EP.apply(lambda x: x.buffer(EPZ_RADIUS))"
   ]
  },
  {
   "cell_type": "code",
   "execution_count": 6,
   "metadata": {},
   "outputs": [
    {
     "data": {
      "text/plain": [
       "400.0"
      ]
     },
     "execution_count": 6,
     "metadata": {},
     "output_type": "execute_result"
    }
   ],
   "source": [
    "# check whether radius is correct (2*r)\n",
    "from scipy.spatial import distance\n",
    "\n",
    "distance.euclidean(raw_full_trip_gdf.START_EPZ[0].exterior.coords[0], raw_full_trip_gdf.START_EPZ[0].exterior.coords[32])\n"
   ]
  },
  {
   "cell_type": "code",
   "execution_count": 7,
   "metadata": {},
   "outputs": [],
   "source": [
    "def cut_epz(row):\n",
    "    try:\n",
    "        return LineString([x for x in row.geometry.coords if not Point(x).within(row.START_EPZ) and not Point(x).within(row.END_EPZ)])\n",
    "    except Exception as e:\n",
    "        return LineString()"
   ]
  },
  {
   "cell_type": "code",
   "execution_count": 8,
   "metadata": {},
   "outputs": [],
   "source": [
    "raw_full_trip_gdf['NR_POINTS'] = raw_full_trip_gdf.geometry.apply(lambda x: len(x.coords))\n",
    "# raw_full_trip_gdf = raw_full_trip_gdf.query('NR_POINTS > 10')"
   ]
  },
  {
   "cell_type": "code",
   "execution_count": 9,
   "metadata": {},
   "outputs": [
    {
     "data": {
      "application/vnd.jupyter.widget-view+json": {
       "model_id": "b83d4c71577d4bdda89fd938418cadb3",
       "version_major": 2,
       "version_minor": 0
      },
      "text/plain": [
       "  0%|          | 0/17783 [00:00<?, ?it/s]"
      ]
     },
     "metadata": {},
     "output_type": "display_data"
    },
    {
     "data": {
      "text/plain": [
       "0                                         LINESTRING EMPTY\n",
       "1        LINESTRING (442827.2209975433 4425313.63413397...\n",
       "2                                         LINESTRING EMPTY\n",
       "3        LINESTRING (442954.51692436734 4425207.2319982...\n",
       "4                                         LINESTRING EMPTY\n",
       "                               ...                        \n",
       "17778    LINESTRING (440623.6507312886 4426219.44492938...\n",
       "17779    LINESTRING (452277.6457196546 4427309.07799563...\n",
       "17780    LINESTRING (441441.660483156 4426304.432357409...\n",
       "17781    LINESTRING (452298.09832655755 4427171.7751059...\n",
       "17782    LINESTRING (452389.71076034335 4426805.4527143...\n",
       "Length: 17783, dtype: object"
      ]
     },
     "execution_count": 9,
     "metadata": {},
     "output_type": "execute_result"
    }
   ],
   "source": [
    "raw_full_trip_gdf.progress_apply(lambda x: cut_epz(x), axis = 1)"
   ]
  },
  {
   "cell_type": "code",
   "execution_count": 56,
   "metadata": {},
   "outputs": [
    {
     "data": {
      "text/html": [
       "<div style=\"width:100%;\"><div style=\"position:relative;width:100%;height:0;padding-bottom:60%;\"><span style=\"color:#565656\">Make this Notebook Trusted to load map: File -> Trust Notebook</span><iframe srcdoc=\"&lt;!DOCTYPE html&gt;\n",
       "&lt;html&gt;\n",
       "&lt;head&gt;\n",
       "    \n",
       "    &lt;meta http-equiv=&quot;content-type&quot; content=&quot;text/html; charset=UTF-8&quot; /&gt;\n",
       "    \n",
       "        &lt;script&gt;\n",
       "            L_NO_TOUCH = false;\n",
       "            L_DISABLE_3D = false;\n",
       "        &lt;/script&gt;\n",
       "    \n",
       "    &lt;style&gt;html, body {width: 100%;height: 100%;margin: 0;padding: 0;}&lt;/style&gt;\n",
       "    &lt;style&gt;#map {position:absolute;top:0;bottom:0;right:0;left:0;}&lt;/style&gt;\n",
       "    &lt;script src=&quot;https://cdn.jsdelivr.net/npm/leaflet@1.6.0/dist/leaflet.js&quot;&gt;&lt;/script&gt;\n",
       "    &lt;script src=&quot;https://code.jquery.com/jquery-1.12.4.min.js&quot;&gt;&lt;/script&gt;\n",
       "    &lt;script src=&quot;https://maxcdn.bootstrapcdn.com/bootstrap/3.2.0/js/bootstrap.min.js&quot;&gt;&lt;/script&gt;\n",
       "    &lt;script src=&quot;https://cdnjs.cloudflare.com/ajax/libs/Leaflet.awesome-markers/2.0.2/leaflet.awesome-markers.js&quot;&gt;&lt;/script&gt;\n",
       "    &lt;link rel=&quot;stylesheet&quot; href=&quot;https://cdn.jsdelivr.net/npm/leaflet@1.6.0/dist/leaflet.css&quot;/&gt;\n",
       "    &lt;link rel=&quot;stylesheet&quot; href=&quot;https://maxcdn.bootstrapcdn.com/bootstrap/3.2.0/css/bootstrap.min.css&quot;/&gt;\n",
       "    &lt;link rel=&quot;stylesheet&quot; href=&quot;https://maxcdn.bootstrapcdn.com/bootstrap/3.2.0/css/bootstrap-theme.min.css&quot;/&gt;\n",
       "    &lt;link rel=&quot;stylesheet&quot; href=&quot;https://maxcdn.bootstrapcdn.com/font-awesome/4.6.3/css/font-awesome.min.css&quot;/&gt;\n",
       "    &lt;link rel=&quot;stylesheet&quot; href=&quot;https://cdnjs.cloudflare.com/ajax/libs/Leaflet.awesome-markers/2.0.2/leaflet.awesome-markers.css&quot;/&gt;\n",
       "    &lt;link rel=&quot;stylesheet&quot; href=&quot;https://cdn.jsdelivr.net/gh/python-visualization/folium/folium/templates/leaflet.awesome.rotate.min.css&quot;/&gt;\n",
       "    \n",
       "            &lt;meta name=&quot;viewport&quot; content=&quot;width=device-width,\n",
       "                initial-scale=1.0, maximum-scale=1.0, user-scalable=no&quot; /&gt;\n",
       "            &lt;style&gt;\n",
       "                #map_0807628189159c4be02a239e3bb9c3b9 {\n",
       "                    position: relative;\n",
       "                    width: 100.0%;\n",
       "                    height: 100.0%;\n",
       "                    left: 0.0%;\n",
       "                    top: 0.0%;\n",
       "                }\n",
       "            &lt;/style&gt;\n",
       "        \n",
       "    \n",
       "                    &lt;style&gt;\n",
       "                        .foliumtooltip {\n",
       "                            \n",
       "                        }\n",
       "                       .foliumtooltip table{\n",
       "                            margin: auto;\n",
       "                        }\n",
       "                        .foliumtooltip tr{\n",
       "                            text-align: left;\n",
       "                        }\n",
       "                        .foliumtooltip th{\n",
       "                            padding: 2px; padding-right: 8px;\n",
       "                        }\n",
       "                    &lt;/style&gt;\n",
       "            \n",
       "&lt;/head&gt;\n",
       "&lt;body&gt;\n",
       "    \n",
       "    \n",
       "            &lt;div class=&quot;folium-map&quot; id=&quot;map_0807628189159c4be02a239e3bb9c3b9&quot; &gt;&lt;/div&gt;\n",
       "        \n",
       "&lt;/body&gt;\n",
       "&lt;script&gt;\n",
       "    \n",
       "    \n",
       "            var map_0807628189159c4be02a239e3bb9c3b9 = L.map(\n",
       "                &quot;map_0807628189159c4be02a239e3bb9c3b9&quot;,\n",
       "                {\n",
       "                    center: [39.98161266346107, 116.32870291630158],\n",
       "                    crs: L.CRS.EPSG3857,\n",
       "                    zoom: 10,\n",
       "                    zoomControl: true,\n",
       "                    preferCanvas: false,\n",
       "                }\n",
       "            );\n",
       "            L.control.scale().addTo(map_0807628189159c4be02a239e3bb9c3b9);\n",
       "\n",
       "            \n",
       "\n",
       "        \n",
       "    \n",
       "            var tile_layer_3d8e48e85b9164b0ad5a6786c20ff0c8 = L.tileLayer(\n",
       "                &quot;https://{s}.tile.openstreetmap.org/{z}/{x}/{y}.png&quot;,\n",
       "                {&quot;attribution&quot;: &quot;Data by \\u0026copy; \\u003ca href=\\&quot;http://openstreetmap.org\\&quot;\\u003eOpenStreetMap\\u003c/a\\u003e, under \\u003ca href=\\&quot;http://www.openstreetmap.org/copyright\\&quot;\\u003eODbL\\u003c/a\\u003e.&quot;, &quot;detectRetina&quot;: false, &quot;maxNativeZoom&quot;: 18, &quot;maxZoom&quot;: 18, &quot;minZoom&quot;: 0, &quot;noWrap&quot;: false, &quot;opacity&quot;: 1, &quot;subdomains&quot;: &quot;abc&quot;, &quot;tms&quot;: false}\n",
       "            ).addTo(map_0807628189159c4be02a239e3bb9c3b9);\n",
       "        \n",
       "    \n",
       "            map_0807628189159c4be02a239e3bb9c3b9.fitBounds(\n",
       "                [[39.97243148777076, 116.32468051284334], [39.99079383915138, 116.33272531975982]],\n",
       "                {}\n",
       "            );\n",
       "        \n",
       "    \n",
       "        function geo_json_9a9b90d19f684b638d83be832f53fb6b_styler(feature) {\n",
       "            switch(feature.id) {\n",
       "                default:\n",
       "                    return {&quot;fillOpacity&quot;: 0.5, &quot;weight&quot;: 2};\n",
       "            }\n",
       "        }\n",
       "        function geo_json_9a9b90d19f684b638d83be832f53fb6b_highlighter(feature) {\n",
       "            switch(feature.id) {\n",
       "                default:\n",
       "                    return {&quot;fillOpacity&quot;: 0.75};\n",
       "            }\n",
       "        }\n",
       "        function geo_json_9a9b90d19f684b638d83be832f53fb6b_pointToLayer(feature, latlng) {\n",
       "            var opts = {&quot;bubblingMouseEvents&quot;: true, &quot;color&quot;: &quot;#3388ff&quot;, &quot;dashArray&quot;: null, &quot;dashOffset&quot;: null, &quot;fill&quot;: true, &quot;fillColor&quot;: &quot;#3388ff&quot;, &quot;fillOpacity&quot;: 0.2, &quot;fillRule&quot;: &quot;evenodd&quot;, &quot;lineCap&quot;: &quot;round&quot;, &quot;lineJoin&quot;: &quot;round&quot;, &quot;opacity&quot;: 1.0, &quot;radius&quot;: 2, &quot;stroke&quot;: true, &quot;weight&quot;: 3};\n",
       "            \n",
       "            let style = geo_json_9a9b90d19f684b638d83be832f53fb6b_styler(feature)\n",
       "            Object.assign(opts, style)\n",
       "            \n",
       "            return new L.CircleMarker(latlng, opts)\n",
       "        }\n",
       "\n",
       "        function geo_json_9a9b90d19f684b638d83be832f53fb6b_onEachFeature(feature, layer) {\n",
       "            layer.on({\n",
       "                mouseout: function(e) {\n",
       "                    if(typeof e.target.setStyle === &quot;function&quot;){\n",
       "                        geo_json_9a9b90d19f684b638d83be832f53fb6b.resetStyle(e.target);\n",
       "                    }\n",
       "                },\n",
       "                mouseover: function(e) {\n",
       "                    if(typeof e.target.setStyle === &quot;function&quot;){\n",
       "                        const highlightStyle = geo_json_9a9b90d19f684b638d83be832f53fb6b_highlighter(e.target.feature)\n",
       "                        e.target.setStyle(highlightStyle);\n",
       "                    }\n",
       "                },\n",
       "            });\n",
       "        };\n",
       "        var geo_json_9a9b90d19f684b638d83be832f53fb6b = L.geoJson(null, {\n",
       "                onEachFeature: geo_json_9a9b90d19f684b638d83be832f53fb6b_onEachFeature,\n",
       "            \n",
       "                style: geo_json_9a9b90d19f684b638d83be832f53fb6b_styler,\n",
       "                pointToLayer: geo_json_9a9b90d19f684b638d83be832f53fb6b_pointToLayer\n",
       "        });\n",
       "\n",
       "        function geo_json_9a9b90d19f684b638d83be832f53fb6b_add (data) {\n",
       "            geo_json_9a9b90d19f684b638d83be832f53fb6b\n",
       "                .addData(data)\n",
       "                .addTo(map_0807628189159c4be02a239e3bb9c3b9);\n",
       "        }\n",
       "            geo_json_9a9b90d19f684b638d83be832f53fb6b_add({&quot;bbox&quot;: [116.32468051284334, 39.97243148777076, 116.33272531975982, 39.99079383915138], &quot;features&quot;: [{&quot;bbox&quot;: [116.32468051284334, 39.987190160280235, 116.32936548874879, 39.99079383915138], &quot;geometry&quot;: {&quot;coordinates&quot;: [[[116.32936548874879, 39.989005577675385], [116.32935593619692, 39.988828901173015], [116.3293239163446, 39.98865379561883], [116.32926973772805, 39.9884819473582], [116.3291939222723, 39.98831501135487], [116.32909720025867, 39.988154595253796], [116.32898050328676, 39.98800224390022], [116.32884495529794, 39.98785942446393], [116.32869186174824, 39.98772751231169], [116.32852269703365, 39.9876077777642], [116.32833909029029, 39.98750137386467], [116.32814280970535, 39.987409325276964], [116.32793574549025, 39.98733251841994], [116.32771989167983, 39.98727169293305], [116.32749732693287, 39.98722743455524], [116.3272701945185, 39.98720016948563], [116.32704068168113, 39.987190160280235], [116.32681099858242, 39.98719750332429], [116.32658335702288, 39.98722212790432], [116.32635994914766, 39.98726379688898], [116.32614292634143, 39.987322109012126], [116.32593437851534, 39.98739650273612], [116.32573631398527, 39.987486261658226], [116.3255506401351, 39.98759052140798], [116.32537914505076, 39.987708277969475], [116.32522348030213, 39.9878383973481], [116.3250851450384, 39.98797962648901], [116.32496547154989, 39.988130605342285], [116.32486561243559, 39.98828987995834], [116.32478652950005, 39.98845591648818], [116.32472898448664, 39.98862711595299], [116.3246935317363, 39.98880182964162], [116.32468051284334, 39.98897837498724], [116.32469005335923, 39.98915505177057], [116.32472206157692, 39.98933015849355], [116.32477622940729, 39.98950200876591], [116.32485203533987, 39.989668947546626], [116.32494874945925, 39.98982936708397], [116.32506544046923, 39.989981722400664], [116.32520098465751, 39.9901245461746], [116.3253540767142, 39.990256462872345], [116.3255232423006, 39.990376201998515], [116.32570685224712, 39.99048261033393], [116.32590313824348, 39.99057466304426], [116.32611020987031, 39.990651473552234], [116.3263260728079, 39.99071230207806], [116.32654864804677, 39.990756562766045], [116.32677579191457, 39.99078382932828], [116.32700531672674, 39.99079383915138], [116.32723501186143, 39.99078649582637], [116.32746266505559, 39.990761870077534], [116.32768608371696, 39.99072019908112], [116.3279031160464, 39.990661884180604], [116.32811167176673, 39.990587487020335], [116.32830974225874, 39.990497724135125], [116.32849541990942, 39.990393460047706], [116.32866691648681, 39.99027569894071], [116.3288225803636, 39.99014557498341], [116.3289609124242, 39.99000434140662], [116.3290805805013, 39.98985335843073], [116.32918043220387, 39.98969408016372], [116.32925950601219, 39.98952804059494], [116.32931704053371, 39.98935683881995], [116.32935248183063, 39.98918212363871], [116.32936548874879, 39.989005577675385]]], &quot;type&quot;: &quot;Polygon&quot;}, &quot;id&quot;: &quot;0&quot;, &quot;properties&quot;: {&quot;PERSON_ID&quot;: 163, &quot;TRIP_END&quot;: &quot;2000-01-02T07:15:23&quot;, &quot;TRIP_ID&quot;: 20000101231219, &quot;TRIP_LEN_IN_MTRS&quot;: 468.5169252667523, &quot;TRIP_START&quot;: &quot;2000-01-02T07:12:19&quot;}, &quot;type&quot;: &quot;Feature&quot;}, {&quot;bbox&quot;: [116.3280413484894, 39.97243148777076, 116.33272531975982, 39.976035178327564], &quot;geometry&quot;: {&quot;coordinates&quot;: [[[116.33272531975982, 39.97424683898727], [116.33271576007687, 39.97407016225939], [116.33268373799982, 39.97389505717535], [116.33262956208613, 39.97372321007598], [116.33255375423467, 39.97355627591385], [116.33245704465345, 39.9733958623162], [116.3323403648222, 39.97324351410418], [116.33220483851719, 39.973100698417355], [116.3320517709855, 39.97296879058639], [116.33188263637255, 39.97284906089043], [116.33169906352457, 39.972742662325984], [116.3315028203023, 39.97265061950555], [116.33129579655737, 39.97257381879252], [116.33107998593496, 39.97251299976717], [116.33085746667797, 39.97246874810629], [116.33063038161757, 39.97244148994431], [116.3304009175422, 39.97243148777076], [116.33017128414411, 39.972438837903184], [116.32994369274526, 39.9724634695598], [116.32972033500782, 39.972505145541156], [116.32950336183377, 39.97256346451372], [116.3292948626564, 39.97263786487385], [116.32909684532315, 39.97272763015491], [116.32891121676343, 39.97283189592517], [116.32873976462709, 39.97294965811068], [116.32858414007045, 39.97307978266268], [116.32844584185563, 39.97322101647643], [116.3283262019161, 39.973371999456994], [116.32822637252774, 39.973531277615], [116.32814731520881, 39.97369731706729], [116.32808979145581, 39.9738685188069], [116.3280543554049, 39.974043234100726], [116.3280413484894, 39.974219780366454], [116.32805089614537, 39.974396457375946], [116.32808290659679, 39.97457156362894], [116.32813707173297, 39.97474341273969], [116.32821287006918, 39.97491034967836], [116.3283095717631, 39.975070766711], [116.32842624563813, 39.97522311888442], [116.32856176814686, 39.97536593890689], [116.32871483418812, 39.975497851281055], [116.32888396967374, 39.97561758555324], [116.32906754572399, 39.975723988551024], [116.32926379435506, 39.97581603549155], [116.32947082550743, 39.975892839853124], [116.32968664525131, 39.975953661915206], [116.32990917499319, 39.97599791588437], [116.33013627149906, 39.97602517553743], [116.33036574754055, 39.976035178327564], [116.33059539296565, 39.976027827913576], [116.33082299599015, 39.97600319508799], [116.33104636450511, 39.97596151709524], [116.33126334719438, 39.97590319534615], [116.33147185425905, 39.975828791551024], [116.33166987754852, 39.975739022308545], [116.33185550990451, 39.97563475220268], [116.33202696353126, 39.975516985473924], [116.33218258721521, 39.97538685634574], [116.3323208822278, 39.97524561809864], [116.33244051675855, 39.97509463099798], [116.33254033873943, 39.97493534919143], [116.33261938693694, 39.9747693067024], [116.332676900205, 39.97459810265451], [116.33271232481046, 39.974423385869606], [116.33272531975982, 39.97424683898727]]], &quot;type&quot;: &quot;Polygon&quot;}, &quot;id&quot;: &quot;1&quot;, &quot;properties&quot;: {&quot;PERSON_ID&quot;: 142, &quot;TRIP_END&quot;: &quot;2007-04-12T19:33:40&quot;, &quot;TRIP_ID&quot;: 20070412093132, &quot;TRIP_LEN_IN_MTRS&quot;: 10274.543096458088, &quot;TRIP_START&quot;: &quot;2007-04-12T17:31:32&quot;}, &quot;type&quot;: &quot;Feature&quot;}], &quot;type&quot;: &quot;FeatureCollection&quot;});\n",
       "\n",
       "        \n",
       "    \n",
       "    geo_json_9a9b90d19f684b638d83be832f53fb6b.bindTooltip(\n",
       "    function(layer){\n",
       "    let div = L.DomUtil.create(&#x27;div&#x27;);\n",
       "    \n",
       "    let handleObject = feature=&gt;typeof(feature)==&#x27;object&#x27; ? JSON.stringify(feature) : feature;\n",
       "    let fields = [&quot;TRIP_ID&quot;, &quot;TRIP_START&quot;, &quot;TRIP_END&quot;, &quot;TRIP_LEN_IN_MTRS&quot;, &quot;PERSON_ID&quot;];\n",
       "    let aliases = [&quot;TRIP_ID&quot;, &quot;TRIP_START&quot;, &quot;TRIP_END&quot;, &quot;TRIP_LEN_IN_MTRS&quot;, &quot;PERSON_ID&quot;];\n",
       "    let table = &#x27;&lt;table&gt;&#x27; +\n",
       "        String(\n",
       "        fields.map(\n",
       "        (v,i)=&gt;\n",
       "        `&lt;tr&gt;\n",
       "            &lt;th&gt;${aliases[i]}&lt;/th&gt;\n",
       "            \n",
       "            &lt;td&gt;${handleObject(layer.feature.properties[v])}&lt;/td&gt;\n",
       "        &lt;/tr&gt;`).join(&#x27;&#x27;))\n",
       "    +&#x27;&lt;/table&gt;&#x27;;\n",
       "    div.innerHTML=table;\n",
       "    \n",
       "    return div\n",
       "    }\n",
       "    ,{&quot;className&quot;: &quot;foliumtooltip&quot;, &quot;sticky&quot;: true});\n",
       "                     \n",
       "&lt;/script&gt;\n",
       "&lt;/html&gt;\" style=\"position:absolute;width:100%;height:100%;left:0;top:0;border:none !important;\" allowfullscreen webkitallowfullscreen mozallowfullscreen></iframe></div></div>"
      ],
      "text/plain": [
       "<folium.folium.Map at 0x1bc39fc05b0>"
      ]
     },
     "execution_count": 56,
     "metadata": {},
     "output_type": "execute_result"
    }
   ],
   "source": [
    "gp.GeoDataFrame(raw_full_trip_gdf, geometry='START_EPZ').head(2).explore()"
   ]
  }
 ],
 "metadata": {
  "kernelspec": {
   "display_name": "Python 3 (ipykernel)",
   "language": "python",
   "name": "python3"
  },
  "language_info": {
   "codemirror_mode": {
    "name": "ipython",
    "version": 3
   },
   "file_extension": ".py",
   "mimetype": "text/x-python",
   "name": "python",
   "nbconvert_exporter": "python",
   "pygments_lexer": "ipython3",
   "version": "3.8.10"
  }
 },
 "nbformat": 4,
 "nbformat_minor": 2
}
