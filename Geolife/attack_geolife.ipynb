{
 "cells": [
  {
   "cell_type": "code",
   "execution_count": 1,
   "metadata": {},
   "outputs": [],
   "source": [
    "import sys\n",
    "sys.path.append('..')\n",
    "\n",
    "import attack\n",
    "import data_loader as dl"
   ]
  },
  {
   "cell_type": "code",
   "execution_count": 2,
   "metadata": {},
   "outputs": [],
   "source": [
    "import geopandas as gp\n",
    "import pandas as pd\n",
    "from tqdm import tqdm\n",
    "import numpy as np\n",
    "import libpysal\n",
    "import itertools\n",
    "from joblib import Parallel, delayed\n",
    "import random\n",
    "import matplotlib.pyplot as plt"
   ]
  },
  {
   "cell_type": "code",
   "execution_count": 3,
   "metadata": {},
   "outputs": [
    {
     "name": "stdout",
     "output_type": "stream",
     "text": [
      "Reading geolife geojson file...\n",
      "Done.\n",
      "Number of trajectories in loaded dataset: 312\n",
      "Number of users in loaded dataset: 5\n"
     ]
    },
    {
     "name": "stderr",
     "output_type": "stream",
     "text": [
      "c:\\Users\\Bened\\Documents\\Git\\Master-Thesis\\env\\lib\\site-packages\\geopandas\\geodataframe.py:1351: SettingWithCopyWarning: \n",
      "A value is trying to be set on a copy of a slice from a DataFrame.\n",
      "Try using .loc[row_indexer,col_indexer] = value instead\n",
      "\n",
      "See the caveats in the documentation: https://pandas.pydata.org/pandas-docs/stable/user_guide/indexing.html#returning-a-view-versus-a-copy\n",
      "  super().__setitem__(key, value)\n",
      "c:\\Users\\Bened\\Documents\\Git\\Master-Thesis\\env\\lib\\site-packages\\geopandas\\geodataframe.py:1351: SettingWithCopyWarning: \n",
      "A value is trying to be set on a copy of a slice from a DataFrame.\n",
      "Try using .loc[row_indexer,col_indexer] = value instead\n",
      "\n",
      "See the caveats in the documentation: https://pandas.pydata.org/pandas-docs/stable/user_guide/indexing.html#returning-a-view-versus-a-copy\n",
      "  super().__setitem__(key, value)\n",
      "c:\\Users\\Bened\\Documents\\Git\\Master-Thesis\\env\\lib\\site-packages\\geopandas\\geodataframe.py:1351: SettingWithCopyWarning: \n",
      "A value is trying to be set on a copy of a slice from a DataFrame.\n",
      "Try using .loc[row_indexer,col_indexer] = value instead\n",
      "\n",
      "See the caveats in the documentation: https://pandas.pydata.org/pandas-docs/stable/user_guide/indexing.html#returning-a-view-versus-a-copy\n",
      "  super().__setitem__(key, value)\n",
      "c:\\Users\\Bened\\Documents\\Git\\Master-Thesis\\Geolife\\..\\data_loader.py:43: SettingWithCopyWarning: \n",
      "A value is trying to be set on a copy of a slice from a DataFrame\n",
      "\n",
      "See the caveats in the documentation: https://pandas.pydata.org/pandas-docs/stable/user_guide/indexing.html#returning-a-view-versus-a-copy\n",
      "  geolife_raw_gdf.rename(columns={\n",
      "c:\\Users\\Bened\\Documents\\Git\\Master-Thesis\\Geolife\\..\\data_loader.py:50: SettingWithCopyWarning: \n",
      "A value is trying to be set on a copy of a slice from a DataFrame\n",
      "\n",
      "See the caveats in the documentation: https://pandas.pydata.org/pandas-docs/stable/user_guide/indexing.html#returning-a-view-versus-a-copy\n",
      "  geolife_raw_gdf.drop(columns=['direction'], axis=1, inplace=True)\n",
      "c:\\Users\\Bened\\Documents\\Git\\Master-Thesis\\env\\lib\\site-packages\\geopandas\\geodataframe.py:1351: SettingWithCopyWarning: \n",
      "A value is trying to be set on a copy of a slice from a DataFrame.\n",
      "Try using .loc[row_indexer,col_indexer] = value instead\n",
      "\n",
      "See the caveats in the documentation: https://pandas.pydata.org/pandas-docs/stable/user_guide/indexing.html#returning-a-view-versus-a-copy\n",
      "  super().__setitem__(key, value)\n",
      "c:\\Users\\Bened\\Documents\\Git\\Master-Thesis\\env\\lib\\site-packages\\geopandas\\geodataframe.py:1351: SettingWithCopyWarning: \n",
      "A value is trying to be set on a copy of a slice from a DataFrame.\n",
      "Try using .loc[row_indexer,col_indexer] = value instead\n",
      "\n",
      "See the caveats in the documentation: https://pandas.pydata.org/pandas-docs/stable/user_guide/indexing.html#returning-a-view-versus-a-copy\n",
      "  super().__setitem__(key, value)\n"
     ]
    }
   ],
   "source": [
    "# Load preprocessed data \n",
    "raw_full_trip_gdf, raw_trip_sp_gdf, raw_trip_ep_gdf, tesselation_gdf = dl.load_geolife(only_toy_data=True)\n",
    "assert len(raw_full_trip_gdf) == len(raw_trip_sp_gdf) == len(raw_trip_ep_gdf)"
   ]
  },
  {
   "cell_type": "code",
   "execution_count": 4,
   "metadata": {},
   "outputs": [
    {
     "data": {
      "image/png": "[encoded data removed]",
      "text/plain": [
       "<Figure size 1000x500 with 1 Axes>"
      ]
     },
     "metadata": {},
     "output_type": "display_data"
    },
    {
     "name": "stdout",
     "output_type": "stream",
     "text": [
      "\n",
      "Matching start and end points with tessellation...\n",
      "Done.\n",
      "\n",
      "Extracting trips that start and end within tessellation area...\n",
      "Number of trips that start and end wihin tessellation area: 290\n",
      "Number of trips outside and therefore dropped: 22\n",
      "Done.\n",
      "\n",
      "Building mapping of trip chains...\n"
     ]
    },
    {
     "name": "stderr",
     "output_type": "stream",
     "text": [
      "100%|██████████| 290/290 [00:04<00:00, 59.88it/s]\n"
     ]
    },
    {
     "name": "stdout",
     "output_type": "stream",
     "text": [
      "Done.\n",
      "\n",
      "Evaluating trip chaining...\n",
      "Number of edges (matched) between trips: 73\n",
      "Number of wrong matches: 0\n",
      "Done.\n",
      "\n",
      "Building trip chains...\n"
     ]
    },
    {
     "name": "stderr",
     "output_type": "stream",
     "text": [
      "100%|██████████| 290/290 [00:00<00:00, 146495.02it/s]\n"
     ]
    },
    {
     "name": "stdout",
     "output_type": "stream",
     "text": [
      "Done.\n",
      "\n",
      "Merging trips...\n"
     ]
    },
    {
     "name": "stderr",
     "output_type": "stream",
     "text": [
      "100%|██████████| 290/290 [00:03<00:00, 77.02it/s]\n"
     ]
    },
    {
     "name": "stdout",
     "output_type": "stream",
     "text": [
      "Done.\n",
      "Number of trips that were matched at least once: 289/290\n",
      "Concatenating MERGED and UNMERGED trips...\n",
      "Done.\n",
      "\n",
      "Extracting data for concatenated trips...\n",
      "Done.\n",
      "\n",
      "Building clustering after concatenation...\n",
      "Number of unique clusters: 218\n",
      "Done.\n",
      "\n",
      "Building HL from start points...\n"
     ]
    },
    {
     "name": "stderr",
     "output_type": "stream",
     "text": [
      "c:\\Users\\Bened\\Documents\\Git\\Master-Thesis\\env\\lib\\site-packages\\libpysal\\weights\\weights.py:172: UserWarning: The weights matrix is not fully connected: \n",
      " There are 16 disconnected components.\n",
      " There are 9 islands with ids: 12, 14, 15, 18, 20, 26, 27, 49, 51.\n",
      "  warnings.warn(message)\n"
     ]
    },
    {
     "name": "stdout",
     "output_type": "stream",
     "text": [
      "Done.\n",
      "\n",
      "Building HL from end points...\n"
     ]
    },
    {
     "name": "stderr",
     "output_type": "stream",
     "text": [
      "c:\\Users\\Bened\\Documents\\Git\\Master-Thesis\\env\\lib\\site-packages\\libpysal\\weights\\weights.py:172: UserWarning: The weights matrix is not fully connected: \n",
      " There are 32 disconnected components.\n",
      " There are 24 islands with ids: 5, 28, 29, 30, 38, 39, 40, 41, 42, 49, 50, 53, 54, 58, 59, 60, 63, 64, 73, 74, 79, 110, 111, 112.\n",
      "  warnings.warn(message)\n",
      "c:\\Users\\Bened\\Documents\\Git\\Master-Thesis\\env\\lib\\site-packages\\libpysal\\weights\\weights.py:172: UserWarning: The weights matrix is not fully connected: \n",
      " There are 40 disconnected components.\n",
      " There are 29 islands with ids: 15, 55, 56, 58, 59, 60, 61, 62, 70, 71, 76, 77, 102, 103, 104, 105, 106, 107, 108, 109, 111, 112, 149, 151, 152, 153, 158, 159, 164.\n",
      "  warnings.warn(message)\n"
     ]
    },
    {
     "name": "stdout",
     "output_type": "stream",
     "text": [
      "Done.\n",
      "\n",
      "Combining HL from start points and end points...\n",
      "Number of users for which at least on Home Location has been identified:  5\n",
      "Number of unique HL tiles: 40\n",
      "Done.\n",
      "\n",
      "Matching trips to HL...\n",
      "Number of unmatched trajectories (concatenated) that do neither start nor end in a HL tile: 10/218\n",
      "Number of trajectories (concatenated) that start AND end in a HL tile: 74/218\n",
      "Number of trips that match different HL tiles with their SP and EP: 44\n",
      "Done.\n",
      "\n",
      "Matching double assigned trips to unique HL...\n",
      "Done.\n",
      "\n",
      "Getting trajectories that happened during the same time...\n",
      "Done.\n",
      "\n",
      "Building clustering after HL matching step...\n"
     ]
    },
    {
     "name": "stderr",
     "output_type": "stream",
     "text": [
      "  0%|          | 0/26 [00:00<?, ?it/s]"
     ]
    },
    {
     "name": "stdout",
     "output_type": "stream",
     "text": [
      "Running randomized subset search for 200 iterations with 37 trajectories...\n",
      "Done. Length of longest subset:  37\n"
     ]
    },
    {
     "name": "stderr",
     "output_type": "stream",
     "text": [
      " 12%|█▏        | 3/26 [00:00<00:01, 12.93it/s]"
     ]
    },
    {
     "name": "stdout",
     "output_type": "stream",
     "text": [
      "Running randomized subset search for 200 iterations with 59 trajectories...\n"
     ]
    },
    {
     "name": "stderr",
     "output_type": "stream",
     "text": [
      " 42%|████▏     | 11/26 [00:01<00:01,  9.40it/s]"
     ]
    },
    {
     "name": "stdout",
     "output_type": "stream",
     "text": [
      "Done. Length of longest subset:  59\n",
      "Running randomized subset search for 200 iterations with 45 trajectories...\n"
     ]
    },
    {
     "name": "stderr",
     "output_type": "stream",
     "text": [
      "100%|██████████| 26/26 [00:01<00:00, 15.56it/s]\n"
     ]
    },
    {
     "name": "stdout",
     "output_type": "stream",
     "text": [
      "Done. Length of longest subset:  45\n",
      "Done.\n",
      "\n",
      "Clustering results after concatenation step:\n",
      "Number of unique clusters: 218\n",
      "Homogeneity: 1.000\n",
      "Completeness: 0.182\n",
      "V-measure: 0.308\n",
      "Rand index: 0.534\n",
      "ARI: 0.005\n",
      "MI: 0.963\n",
      "NMI: 0.308\n",
      "AMI: 0.081\n",
      "Cluster accuracy: 0.041\n",
      "\n",
      "Clustering results after HL matching step:\n",
      "Number of unique clusters: 34\n",
      "Homogeneity: 0.974\n",
      "Completeness: 0.414\n",
      "V-measure: 0.581\n",
      "Rand index: 0.697\n",
      "ARI: 0.368\n",
      "MI: 0.938\n",
      "NMI: 0.581\n",
      "AMI: 0.541\n",
      "Cluster accuracy: 0.538\n",
      "\n",
      "Assigning trips without match...\n",
      "Comparing trips that were not assigned to any HL_ID with trips that were assigned to a HL_ID...\n"
     ]
    },
    {
     "name": "stderr",
     "output_type": "stream",
     "text": [
      " 10%|█         | 1/10 [00:06<00:56,  6.32s/it]"
     ]
    },
    {
     "name": "stdout",
     "output_type": "stream",
     "text": [
      "no match and assign new cluster id 35 to trips 11 100\n"
     ]
    },
    {
     "name": "stderr",
     "output_type": "stream",
     "text": [
      " 20%|██        | 2/10 [00:09<00:37,  4.64s/it]"
     ]
    },
    {
     "name": "stdout",
     "output_type": "stream",
     "text": [
      "LCSS scores too low to match\n"
     ]
    },
    {
     "name": "stderr",
     "output_type": "stream",
     "text": [
      " 30%|███       | 3/10 [00:12<00:27,  3.92s/it]"
     ]
    },
    {
     "name": "stdout",
     "output_type": "stream",
     "text": [
      "existing match and assign cluster id 2.0 to trip 262\n"
     ]
    },
    {
     "name": "stderr",
     "output_type": "stream",
     "text": [
      " 40%|████      | 4/10 [00:18<00:26,  4.45s/it]"
     ]
    },
    {
     "name": "stdout",
     "output_type": "stream",
     "text": [
      "existing match and assign cluster id 2.0 to trip 255\n"
     ]
    },
    {
     "name": "stderr",
     "output_type": "stream",
     "text": [
      " 50%|█████     | 5/10 [00:22<00:22,  4.42s/it]"
     ]
    },
    {
     "name": "stdout",
     "output_type": "stream",
     "text": [
      "existing match and assign cluster id 6.0 to trip 253\n"
     ]
    },
    {
     "name": "stderr",
     "output_type": "stream",
     "text": [
      " 60%|██████    | 6/10 [00:23<00:12,  3.15s/it]"
     ]
    },
    {
     "name": "stdout",
     "output_type": "stream",
     "text": [
      "existing match and assign cluster id 2.0 to trip 1\n"
     ]
    },
    {
     "name": "stderr",
     "output_type": "stream",
     "text": [
      " 70%|███████   | 7/10 [00:25<00:08,  2.94s/it]"
     ]
    },
    {
     "name": "stdout",
     "output_type": "stream",
     "text": [
      "existing match and assign cluster id 5.0 to trip 51\n",
      "There are two or more HL_IDs with the same LCSS score. Looking for second highest LCSS score...\n",
      "Candidate HL_IDs: [-1.0, 15.0, 17.0]\n"
     ]
    },
    {
     "name": "stderr",
     "output_type": "stream",
     "text": [
      " 80%|████████  | 8/10 [00:30<00:07,  3.67s/it]"
     ]
    },
    {
     "name": "stdout",
     "output_type": "stream",
     "text": [
      "There is a unique highest score\n",
      "The highest score is 1.0 and the best_hl_id is 15.0\n",
      "existing match and assign cluster id 15.0 to trip 64\n",
      "There are two or more HL_IDs with the same LCSS score. Looking for second highest LCSS score...\n",
      "Candidate HL_IDs: [15.0, 18.0]\n"
     ]
    },
    {
     "name": "stderr",
     "output_type": "stream",
     "text": [
      "100%|██████████| 10/10 [00:32<00:00,  3.24s/it]"
     ]
    },
    {
     "name": "stdout",
     "output_type": "stream",
     "text": [
      "There is a unique highest score\n",
      "The highest score is 1.0 and the best_hl_id is 15.0\n",
      "existing match and assign cluster id 15.0 to trip 101\n",
      "Done.\n",
      "Assigning clustering IDs to all trips that are part of a new cluster...\n",
      "Done.\n",
      "Done.\n",
      "\n",
      "Clustering results after concatenation step:\n",
      "Number of unique clusters: 218\n",
      "Homogeneity: 1.000\n",
      "Completeness: 0.182\n",
      "V-measure: 0.308\n",
      "Rand index: 0.534\n",
      "ARI: 0.005\n",
      "MI: 0.963\n",
      "NMI: 0.308\n",
      "AMI: 0.081\n",
      "Cluster accuracy: 0.041\n",
      "\n",
      "Clustering results after HL matching step:\n",
      "Number of unique clusters: 34\n",
      "Homogeneity: 0.974\n",
      "Completeness: 0.414\n",
      "V-measure: 0.581\n",
      "Rand index: 0.697\n",
      "ARI: 0.368\n",
      "MI: 0.938\n",
      "NMI: 0.581\n",
      "AMI: 0.541\n",
      "Cluster accuracy: 0.538\n",
      "\n",
      "Clustering results after double assign HL step:\n",
      "Number of unique clusters: 27\n",
      "Homogeneity: 0.950\n",
      "Completeness: 0.422\n",
      "V-measure: 0.584\n",
      "Rand index: 0.702\n",
      "ARI: 0.378\n",
      "MI: 0.915\n",
      "NMI: 0.584\n",
      "AMI: 0.551\n",
      "Cluster accuracy: 0.552\n",
      "\n",
      "Storing results to csv...\n",
      "Done.\n"
     ]
    },
    {
     "name": "stderr",
     "output_type": "stream",
     "text": [
      "\n"
     ]
    },
    {
     "data": {
      "image/png": "[encoded data removed]",
      "text/plain": [
       "<Figure size 640x480 with 1 Axes>"
      ]
     },
     "metadata": {},
     "output_type": "display_data"
    }
   ],
   "source": [
    "attack.run_full_attack(raw_full_trip_gdf, raw_trip_sp_gdf, raw_trip_ep_gdf, tesselation_gdf)"
   ]
  },
  {
   "cell_type": "code",
   "execution_count": 6,
   "metadata": {},
   "outputs": [
    {
     "data": {
      "image/png": "[encoded data removed]",
      "text/plain": [
       "<Figure size 1000x500 with 1 Axes>"
      ]
     },
     "metadata": {},
     "output_type": "display_data"
    }
   ],
   "source": [
    "# plot hour of day distribution of TRIP_START\n",
    "attack.plot_hour_of_day_distribution(raw_full_trip_gdf)"
   ]
  },
  {
   "cell_type": "markdown",
   "metadata": {},
   "source": [
    "# Merge Start Points (SP) and End Points (EP) with Tessellation"
   ]
  },
  {
   "cell_type": "code",
   "execution_count": 7,
   "metadata": {},
   "outputs": [],
   "source": [
    "gdf_sp, gdf_ep = attack.match_boundary_points_with_tessellation(raw_trip_sp_gdf, raw_trip_ep_gdf, tesselation_gdf)"
   ]
  },
  {
   "cell_type": "markdown",
   "metadata": {},
   "source": [
    "# Extract Full Trips that Start and End within Tessellation Area"
   ]
  },
  {
   "cell_type": "code",
   "execution_count": 8,
   "metadata": {},
   "outputs": [
    {
     "name": "stdout",
     "output_type": "stream",
     "text": [
      "Number of trips that start and end wihin tessellation area: 290\n",
      "Number of trips outside and therefore dropped: 22\n"
     ]
    }
   ],
   "source": [
    "full_trip_gdf, trip_sp_gdf, trip_ep_gdf, gdf_sp, gdf_ep = attack.extract_trips_that_start_end_in_tessellation(raw_full_trip_gdf, raw_trip_sp_gdf, raw_trip_ep_gdf, gdf_sp, gdf_ep)\n"
   ]
  },
  {
   "cell_type": "markdown",
   "metadata": {},
   "source": [
    "## Build mapping of trip chains"
   ]
  },
  {
   "cell_type": "code",
   "execution_count": 9,
   "metadata": {},
   "outputs": [
    {
     "name": "stderr",
     "output_type": "stream",
     "text": [
      "100%|██████████| 290/290 [00:05<00:00, 57.81it/s]\n"
     ]
    }
   ],
   "source": [
    "mapping_cont_trips = attack.build_trip_chain_mapping(gdf_sp, gdf_ep)"
   ]
  },
  {
   "cell_type": "code",
   "execution_count": 10,
   "metadata": {},
   "outputs": [
    {
     "name": "stdout",
     "output_type": "stream",
     "text": [
      "Number of edges (matched) between trips: 73\n",
      "Number of wrong matches: 0\n"
     ]
    }
   ],
   "source": [
    "attack.evaluate_trip_chaining(mapping_cont_trips, full_trip_gdf)"
   ]
  },
  {
   "cell_type": "markdown",
   "metadata": {},
   "source": [
    "## Merge trips according to matching"
   ]
  },
  {
   "cell_type": "code",
   "execution_count": 11,
   "metadata": {},
   "outputs": [
    {
     "name": "stdout",
     "output_type": "stream",
     "text": [
      "\n",
      "Building trip chains...\n"
     ]
    },
    {
     "name": "stderr",
     "output_type": "stream",
     "text": [
      "100%|██████████| 290/290 [00:00<00:00, 96704.42it/s]\n"
     ]
    },
    {
     "name": "stdout",
     "output_type": "stream",
     "text": [
      "Done.\n",
      "\n",
      "Merging trips...\n"
     ]
    },
    {
     "name": "stderr",
     "output_type": "stream",
     "text": [
      "100%|██████████| 290/290 [00:04<00:00, 65.87it/s]"
     ]
    },
    {
     "name": "stdout",
     "output_type": "stream",
     "text": [
      "Done.\n",
      "Number of trips that were matched at least once: 289/290\n",
      "Concatenating MERGED and UNMERGED trips...\n",
      "Done.\n"
     ]
    },
    {
     "name": "stderr",
     "output_type": "stream",
     "text": [
      "\n"
     ]
    }
   ],
   "source": [
    "full_trips_concat_gdf, trip_concat_dict = attack.merge_trips_from_matching(gdf_sp, mapping_cont_trips, full_trip_gdf)"
   ]
  },
  {
   "cell_type": "code",
   "execution_count": 12,
   "metadata": {},
   "outputs": [],
   "source": [
    "gdf_sp_concat, trip_sp_gdf_concat, gdf_ep_concat, trip_ep_gdf_concat = attack.extract_concatenated_trips(full_trips_concat_gdf, gdf_sp, trip_sp_gdf, gdf_ep, trip_ep_gdf)"
   ]
  },
  {
   "attachments": {},
   "cell_type": "markdown",
   "metadata": {},
   "source": [
    "## Build Clustering after Concatenation Step"
   ]
  },
  {
   "cell_type": "code",
   "execution_count": 13,
   "metadata": {},
   "outputs": [
    {
     "name": "stdout",
     "output_type": "stream",
     "text": [
      "Number of unique clusters: 218\n"
     ]
    }
   ],
   "source": [
    "clustering_concat = attack.build_clustering_after_concatenation(full_trips_concat_gdf, trip_concat_dict, full_trip_gdf)"
   ]
  },
  {
   "cell_type": "markdown",
   "metadata": {},
   "source": [
    "# Build Home Locations (HL)"
   ]
  },
  {
   "cell_type": "markdown",
   "metadata": {},
   "source": [
    "## From Start Points (SPs)"
   ]
  },
  {
   "cell_type": "markdown",
   "metadata": {},
   "source": [
    "We use the SP-tessellation matching that still contains all SP (and potential HL), and not just the SP and EP of the concatenated trips. We do this, because we do not want loose potential HL contributed of substrip concatenated in a chain."
   ]
  },
  {
   "cell_type": "code",
   "execution_count": 14,
   "metadata": {},
   "outputs": [
    {
     "name": "stderr",
     "output_type": "stream",
     "text": [
      "c:\\Users\\Bened\\Documents\\Git\\Master-Thesis\\env\\lib\\site-packages\\libpysal\\weights\\weights.py:172: UserWarning: The weights matrix is not fully connected: \n",
      " There are 16 disconnected components.\n",
      " There are 9 islands with ids: 12, 14, 15, 18, 20, 26, 27, 49, 51.\n",
      "  warnings.warn(message)\n"
     ]
    }
   ],
   "source": [
    "gdf_hl_combined_sp = attack.build_hl_from_start_points(gdf_sp)"
   ]
  },
  {
   "cell_type": "markdown",
   "metadata": {},
   "source": [
    "## From End Points (EPs)"
   ]
  },
  {
   "cell_type": "code",
   "execution_count": 15,
   "metadata": {},
   "outputs": [
    {
     "name": "stderr",
     "output_type": "stream",
     "text": [
      "c:\\Users\\Bened\\Documents\\Git\\Master-Thesis\\env\\lib\\site-packages\\libpysal\\weights\\weights.py:172: UserWarning: The weights matrix is not fully connected: \n",
      " There are 32 disconnected components.\n",
      " There are 24 islands with ids: 5, 28, 29, 30, 38, 39, 40, 41, 42, 49, 50, 53, 54, 58, 59, 60, 63, 64, 73, 74, 79, 110, 111, 112.\n",
      "  warnings.warn(message)\n"
     ]
    }
   ],
   "source": [
    "gdf_hl_combined_ep = attack.build_hl_from_end_points(gdf_ep)"
   ]
  },
  {
   "cell_type": "markdown",
   "metadata": {},
   "source": [
    "## Merge (concatenate)"
   ]
  },
  {
   "cell_type": "code",
   "execution_count": 16,
   "metadata": {},
   "outputs": [
    {
     "name": "stderr",
     "output_type": "stream",
     "text": [
      "c:\\Users\\Bened\\Documents\\Git\\Master-Thesis\\env\\lib\\site-packages\\libpysal\\weights\\weights.py:172: UserWarning: The weights matrix is not fully connected: \n",
      " There are 40 disconnected components.\n",
      " There are 29 islands with ids: 15, 55, 56, 58, 59, 60, 61, 62, 70, 71, 76, 77, 102, 103, 104, 105, 106, 107, 108, 109, 111, 112, 149, 151, 152, 153, 158, 159, 164.\n",
      "  warnings.warn(message)\n"
     ]
    },
    {
     "name": "stdout",
     "output_type": "stream",
     "text": [
      "Number of users for which at least on Home Location has been identified:  5\n",
      "Number of unique HL tiles: 40\n"
     ]
    },
    {
     "data": {
      "image/png": "[encoded data removed]",
      "text/plain": [
       "<Figure size 640x480 with 1 Axes>"
      ]
     },
     "metadata": {},
     "output_type": "display_data"
    }
   ],
   "source": [
    "gp_combined, HL_table = attack.concatenate_hl(gdf_hl_combined_sp, gdf_hl_combined_ep)"
   ]
  },
  {
   "cell_type": "markdown",
   "metadata": {},
   "source": [
    "# Match trips with Home Location tiles"
   ]
  },
  {
   "cell_type": "markdown",
   "metadata": {},
   "source": [
    "## Match concatenated trips"
   ]
  },
  {
   "cell_type": "code",
   "execution_count": 17,
   "metadata": {},
   "outputs": [
    {
     "name": "stdout",
     "output_type": "stream",
     "text": [
      "Number of unmatched trajectories (concatenated) that do neither start nor end in a HL tile: 10/218\n",
      "Number of trajectories (concatenated) that start AND end in a HL tile: 74/218\n",
      "Number of trips that match different HL tiles with their SP and EP: 44\n"
     ]
    }
   ],
   "source": [
    "HL_table_se_concat, unmatched_trips, double_assigned_trips, nr_unmatched = attack.match_trips_to_HL(gp_combined, HL_table, trip_sp_gdf_concat, trip_ep_gdf_concat, full_trips_concat_gdf)"
   ]
  },
  {
   "cell_type": "markdown",
   "metadata": {},
   "source": [
    "## Assign double matched trips to one unique HL"
   ]
  },
  {
   "cell_type": "markdown",
   "metadata": {},
   "source": [
    "Iterate over all double matched trips and compare them to all other trips that are uniquely assigned in their respective potential HLs that they have been matched with. Then take the HL with the single maximum lcss score between the trip under question and any trip of the assigned HL tiles."
   ]
  },
  {
   "cell_type": "code",
   "execution_count": 18,
   "metadata": {},
   "outputs": [],
   "source": [
    "HL_table_trips_concat = attack.assign_double_matched_trips_to_unique_hl(HL_table_se_concat, full_trips_concat_gdf, unmatched_trips, double_assigned_trips, nr_unmatched)\n"
   ]
  },
  {
   "attachments": {},
   "cell_type": "markdown",
   "metadata": {},
   "source": [
    "## Get trajectories that happened during the same time"
   ]
  },
  {
   "cell_type": "code",
   "execution_count": 19,
   "metadata": {},
   "outputs": [],
   "source": [
    "full_trips_concat_gdf_overlap_dict = attack.getTripOverlaps(full_trips_concat_gdf)"
   ]
  },
  {
   "cell_type": "markdown",
   "metadata": {},
   "source": [
    "## Create clustering after HL assignment step"
   ]
  },
  {
   "cell_type": "code",
   "execution_count": 20,
   "metadata": {},
   "outputs": [
    {
     "name": "stderr",
     "output_type": "stream",
     "text": [
      "  0%|          | 0/26 [00:00<?, ?it/s]"
     ]
    },
    {
     "name": "stdout",
     "output_type": "stream",
     "text": [
      "Running randomized subset search for 200 iterations with 37 trajectories...\n"
     ]
    },
    {
     "name": "stderr",
     "output_type": "stream",
     "text": [
      " 12%|█▏        | 3/26 [00:00<00:05,  4.39it/s]"
     ]
    },
    {
     "name": "stdout",
     "output_type": "stream",
     "text": [
      "Done. Length of longest subset:  37\n",
      "Running randomized subset search for 200 iterations with 59 trajectories...\n"
     ]
    },
    {
     "name": "stderr",
     "output_type": "stream",
     "text": [
      " 42%|████▏     | 11/26 [00:01<00:02,  5.87it/s]"
     ]
    },
    {
     "name": "stdout",
     "output_type": "stream",
     "text": [
      "Done. Length of longest subset:  59\n",
      "Running randomized subset search for 200 iterations with 45 trajectories...\n"
     ]
    },
    {
     "name": "stderr",
     "output_type": "stream",
     "text": [
      "100%|██████████| 26/26 [00:02<00:00, 10.46it/s]"
     ]
    },
    {
     "name": "stdout",
     "output_type": "stream",
     "text": [
      "Done. Length of longest subset:  45\n"
     ]
    },
    {
     "name": "stderr",
     "output_type": "stream",
     "text": [
      "\n"
     ]
    }
   ],
   "source": [
    "clustering_after_HL, HL_table_dict = attack.build_clustering_after_HL_assignment(HL_table_trips_concat, full_trip_gdf, trip_concat_dict, full_trips_concat_gdf_overlap_dict)"
   ]
  },
  {
   "cell_type": "code",
   "execution_count": 21,
   "metadata": {},
   "outputs": [
    {
     "name": "stdout",
     "output_type": "stream",
     "text": [
      "Clustering results after concatenation step:\n",
      "Number of unique clusters: 218\n",
      "Homogeneity: 1.000\n",
      "Completeness: 0.182\n",
      "V-measure: 0.308\n",
      "Rand index: 0.534\n",
      "ARI: 0.005\n",
      "MI: 0.963\n",
      "NMI: 0.308\n",
      "AMI: 0.081\n",
      "\n",
      "Clustering results after HL matching step:\n",
      "Number of unique clusters: 34\n",
      "Homogeneity: 0.974\n",
      "Completeness: 0.414\n",
      "V-measure: 0.581\n",
      "Rand index: 0.697\n",
      "ARI: 0.368\n",
      "MI: 0.938\n",
      "NMI: 0.581\n",
      "AMI: 0.541\n"
     ]
    }
   ],
   "source": [
    "print(\"Clustering results after concatenation step:\")\n",
    "print(f\"Number of unique clusters: {len(set(clustering_concat))}\")\n",
    "attack.evaluate(clustering_concat, full_trip_gdf)\n",
    "\n",
    "clustering_HL = list(dict(sorted(clustering_after_HL.items())).values())\n",
    "print(\"\\nClustering results after HL matching step:\")\n",
    "print(f\"Number of unique clusters: {len(set(clustering_HL))}\")\n",
    "attack.evaluate(clustering_HL, full_trip_gdf)"
   ]
  },
  {
   "attachments": {},
   "cell_type": "markdown",
   "metadata": {},
   "source": [
    "## Try to Assign Trips Without Match"
   ]
  },
  {
   "cell_type": "code",
   "execution_count": 22,
   "metadata": {},
   "outputs": [
    {
     "name": "stdout",
     "output_type": "stream",
     "text": [
      "Comparing trips that were not assigned to any HL_ID with trips that were assigned to a HL_ID...\n"
     ]
    },
    {
     "name": "stderr",
     "output_type": "stream",
     "text": [
      " 10%|█         | 1/10 [00:05<00:46,  5.11s/it]"
     ]
    },
    {
     "name": "stdout",
     "output_type": "stream",
     "text": [
      "no match and assign new cluster id 35 to trips 11 100\n"
     ]
    },
    {
     "name": "stderr",
     "output_type": "stream",
     "text": [
      " 20%|██        | 2/10 [00:08<00:30,  3.82s/it]"
     ]
    },
    {
     "name": "stdout",
     "output_type": "stream",
     "text": [
      "LCSS scores too low to match\n"
     ]
    },
    {
     "name": "stderr",
     "output_type": "stream",
     "text": [
      " 30%|███       | 3/10 [00:10<00:23,  3.35s/it]"
     ]
    },
    {
     "name": "stdout",
     "output_type": "stream",
     "text": [
      "existing match and assign cluster id 2.0 to trip 262\n"
     ]
    },
    {
     "name": "stderr",
     "output_type": "stream",
     "text": [
      " 40%|████      | 4/10 [00:15<00:22,  3.78s/it]"
     ]
    },
    {
     "name": "stdout",
     "output_type": "stream",
     "text": [
      "existing match and assign cluster id 2.0 to trip 255\n"
     ]
    },
    {
     "name": "stderr",
     "output_type": "stream",
     "text": [
      " 50%|█████     | 5/10 [00:19<00:19,  4.00s/it]"
     ]
    },
    {
     "name": "stdout",
     "output_type": "stream",
     "text": [
      "existing match and assign cluster id 6.0 to trip 253\n"
     ]
    },
    {
     "name": "stderr",
     "output_type": "stream",
     "text": [
      " 60%|██████    | 6/10 [00:20<00:11,  2.94s/it]"
     ]
    },
    {
     "name": "stdout",
     "output_type": "stream",
     "text": [
      "existing match and assign cluster id 2.0 to trip 1\n"
     ]
    },
    {
     "name": "stderr",
     "output_type": "stream",
     "text": [
      " 70%|███████   | 7/10 [00:23<00:08,  2.89s/it]"
     ]
    },
    {
     "name": "stdout",
     "output_type": "stream",
     "text": [
      "existing match and assign cluster id 5.0 to trip 51\n",
      "There are two or more HL_IDs with the same LCSS score. Looking for second highest LCSS score...\n",
      "Candidate HL_IDs: [-1.0, 15.0, 17.0]\n"
     ]
    },
    {
     "name": "stderr",
     "output_type": "stream",
     "text": [
      " 80%|████████  | 8/10 [00:29<00:07,  3.81s/it]"
     ]
    },
    {
     "name": "stdout",
     "output_type": "stream",
     "text": [
      "There is a unique highest score\n",
      "The highest score is 1.0 and the best_hl_id is 15.0\n",
      "existing match and assign cluster id 15.0 to trip 64\n",
      "There are two or more HL_IDs with the same LCSS score. Looking for second highest LCSS score...\n",
      "Candidate HL_IDs: [15.0, 18.0]\n"
     ]
    },
    {
     "name": "stderr",
     "output_type": "stream",
     "text": [
      "100%|██████████| 10/10 [00:30<00:00,  3.04s/it]"
     ]
    },
    {
     "name": "stdout",
     "output_type": "stream",
     "text": [
      "There is a unique highest score\n",
      "The highest score is 1.0 and the best_hl_id is 15.0\n",
      "existing match and assign cluster id 15.0 to trip 101\n",
      "Done.\n",
      "Assigning clustering IDs to all trips that are part of a new cluster...\n",
      "Done.\n"
     ]
    },
    {
     "name": "stderr",
     "output_type": "stream",
     "text": [
      "\n"
     ]
    }
   ],
   "source": [
    "clustering_after_double_assign_HL = attack.assign_trips_without_match(\n",
    "    clustering_after_HL, HL_table_dict, \n",
    "    full_trips_concat_gdf, \n",
    "    full_trips_concat_gdf_overlap_dict, \n",
    "    full_trip_gdf, \n",
    "    trip_concat_dict)\n"
   ]
  },
  {
   "cell_type": "code",
   "execution_count": 23,
   "metadata": {},
   "outputs": [
    {
     "name": "stdout",
     "output_type": "stream",
     "text": [
      "Clustering results after concatenation step:\n",
      "Number of unique clusters: 218\n",
      "Homogeneity: 1.000\n",
      "Completeness: 0.182\n",
      "V-measure: 0.308\n",
      "Rand index: 0.534\n",
      "ARI: 0.005\n",
      "MI: 0.963\n",
      "NMI: 0.308\n",
      "AMI: 0.081\n",
      "\n",
      "Clustering results after HL matching step:\n",
      "Number of unique clusters: 34\n",
      "Homogeneity: 0.974\n",
      "Completeness: 0.414\n",
      "V-measure: 0.581\n",
      "Rand index: 0.697\n",
      "ARI: 0.368\n",
      "MI: 0.938\n",
      "NMI: 0.581\n",
      "AMI: 0.541\n",
      "\n",
      "Clustering results after double assign HL step:\n",
      "Number of unique clusters: 27\n",
      "Homogeneity: 0.950\n",
      "Completeness: 0.422\n",
      "V-measure: 0.584\n",
      "Rand index: 0.702\n",
      "ARI: 0.378\n",
      "MI: 0.915\n",
      "NMI: 0.584\n",
      "AMI: 0.551\n"
     ]
    }
   ],
   "source": [
    "print(\"Clustering results after concatenation step:\")\n",
    "print(f\"Number of unique clusters: {len(set(clustering_concat))}\")\n",
    "attack.evaluate(clustering_concat, full_trip_gdf)\n",
    "\n",
    "print(\"\\nClustering results after HL matching step:\")\n",
    "print(f\"Number of unique clusters: {len(set(list(dict(sorted(clustering_after_HL.items())).values())))}\")\n",
    "attack.evaluate(list(dict(sorted(clustering_after_HL.items())).values()), full_trip_gdf)\n",
    "\n",
    "print(\"\\nClustering results after double assign HL step:\")\n",
    "print(f\"Number of unique clusters: {len(set(list(dict(sorted(clustering_after_double_assign_HL.items())).values())))}\")\n",
    "attack.evaluate(list(dict(sorted(clustering_after_double_assign_HL.items())).values()), full_trip_gdf)"
   ]
  },
  {
   "cell_type": "code",
   "execution_count": 32,
   "metadata": {},
   "outputs": [],
   "source": [
    "attack.store_results(clustering_concat, list(dict(sorted(clustering_after_HL.items())).values()), list(dict(sorted(clustering_after_double_assign_HL.items())).values()), full_trip_gdf)"
   ]
  }
 ],
 "metadata": {
  "kernelspec": {
   "display_name": "Python 3 (ipykernel)",
   "language": "python",
   "name": "python3"
  },
  "language_info": {
   "codemirror_mode": {
    "name": "ipython",
    "version": 3
   },
   "file_extension": ".py",
   "mimetype": "text/x-python",
   "name": "python",
   "nbconvert_exporter": "python",
   "pygments_lexer": "ipython3",
   "version": "3.10.6"
  },
  "vscode": {
   "interpreter": {
    "hash": "543daf12f525df94f20bbdd448da69881f98a71c963c44c9c7818e0113666227"
   }
  }
 },
 "nbformat": 4,
 "nbformat_minor": 2
}
