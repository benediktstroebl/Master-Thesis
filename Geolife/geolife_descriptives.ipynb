{
 "cells": [
  {
   "cell_type": "code",
   "execution_count": 1,
   "id": "3fba8bd1",
   "metadata": {},
   "outputs": [],
   "source": [
    "import sys\n",
    "# sys.stdout = open('logfile', 'w')\n",
    "sys.path.append('..')\n",
    "\n",
    "import attack\n",
    "import data_loader as dl\n",
    "import geopandas as gp\n",
    "import pandas as pd\n",
    "from tqdm import tqdm\n",
    "import numpy as np\n",
    "import libpysal\n",
    "import itertools\n",
    "from joblib import Parallel, delayed\n",
    "import random\n",
    "import matplotlib.pyplot as plt\n",
    "from skmob.tessellation import tilers\n",
    "import matplotlib.pyplot as plt\n",
    "import seaborn as sns\n",
    "from statannotations.Annotator import Annotator\n",
    "%matplotlib inline\n",
    "plt.rcParams.update({'figure.figsize':(10,5), 'figure.dpi':200})\n",
    "sns.set_palette(sns.color_palette(\"colorblind\"))"
   ]
  },
  {
   "cell_type": "code",
   "execution_count": 2,
   "id": "b516b29a",
   "metadata": {},
   "outputs": [
    {
     "name": "stdout",
     "output_type": "stream",
     "text": [
      "Reading raw geolife geojson file...\n",
      "Done.\n",
      "Number of trajectories in loaded dataset: 5400\n",
      "Number of users in loaded dataset: 73\n",
      "Number of trips that start and end wihin tessellation area: 5101\n",
      "Number of trips outside and therefore dropped: 299\n"
     ]
    }
   ],
   "source": [
    "# Load preprocessed data \n",
    "raw_full_trip_gdf, raw_trip_sp_gdf, raw_trip_ep_gdf, tesselation_gdf = dl.load_geolife(data_type='raw', \n",
    "                                                                                       min_n_trips_per_user=1,\n",
    "                                                                                       rand_n_week_period=None,\n",
    "                                                                                       tessellation_diameter=200,\n",
    "                                                                                       min_trip_length=200,\n",
    "                                                                                       min_nr_points=50,\n",
    "                                                                                       upper_quantile_length=0.95,\n",
    "                                                                                       only_2008=True)\n",
    "assert len(raw_full_trip_gdf) == len(raw_trip_sp_gdf) == len(raw_trip_ep_gdf)\n",
    "\n",
    "# Merge Start Points (SP) and End Points (EP) with Tessellation\n",
    "gdf_sp, gdf_ep = attack.match_boundary_points_with_tessellation(raw_trip_sp_gdf, raw_trip_ep_gdf, tesselation_gdf)\n",
    "\n",
    "# Extract Full Trips that Start and End within Tessellation Area\n",
    "full_trip_gdf, trip_sp_gdf, trip_ep_gdf, gdf_sp, gdf_ep = attack.extract_trips_that_start_end_in_tessellation(raw_full_trip_gdf, raw_trip_sp_gdf, raw_trip_ep_gdf, gdf_sp, gdf_ep)\n"
   ]
  },
  {
   "cell_type": "code",
   "execution_count": 28,
   "id": "7d1b8014",
   "metadata": {},
   "outputs": [
    {
     "data": {
      "text/plain": [
       "count     72.000000\n",
       "mean      70.847222\n",
       "std       87.658213\n",
       "min        1.000000\n",
       "25%       11.250000\n",
       "50%       46.500000\n",
       "75%       87.250000\n",
       "max      494.000000\n",
       "Name: TRIP_ID, dtype: float64"
      ]
     },
     "execution_count": 28,
     "metadata": {},
     "output_type": "execute_result"
    }
   ],
   "source": [
    "full_trip_gdf.groupby('PERSON_ID').nunique().TRIP_ID.describe()"
   ]
  },
  {
   "cell_type": "code",
   "execution_count": 25,
   "id": "d7182601",
   "metadata": {},
   "outputs": [
    {
     "data": {
      "text/plain": [
       "count     5101.000000\n",
       "mean     13354.763176\n",
       "std      14528.771405\n",
       "min        202.738029\n",
       "25%       2839.112467\n",
       "50%       8338.111997\n",
       "75%      18273.843041\n",
       "max      81934.432104\n",
       "Name: TRIP_LEN_IN_MTRS, dtype: float64"
      ]
     },
     "execution_count": 25,
     "metadata": {},
     "output_type": "execute_result"
    }
   ],
   "source": [
    "full_trip_gdf.TRIP_LEN_IN_MTRS.describe()"
   ]
  },
  {
   "cell_type": "code",
   "execution_count": 27,
   "id": "a73c60c5",
   "metadata": {},
   "outputs": [
    {
     "data": {
      "text/plain": [
       "count    5101.000000\n",
       "mean      140.264739\n",
       "std       216.632775\n",
       "min         1.366667\n",
       "25%        17.166667\n",
       "50%        42.116667\n",
       "75%       158.666667\n",
       "max      2085.283333\n",
       "Name: TRIP_DURATION_IN_MINS, dtype: float64"
      ]
     },
     "execution_count": 27,
     "metadata": {},
     "output_type": "execute_result"
    }
   ],
   "source": [
    "full_trip_gdf.TRIP_DURATION_IN_MINS.describe()"
   ]
  }
 ],
 "metadata": {
  "kernelspec": {
   "display_name": "Python 3 (ipykernel)",
   "language": "python",
   "name": "python3"
  },
  "language_info": {
   "codemirror_mode": {
    "name": "ipython",
    "version": 3
   },
   "file_extension": ".py",
   "mimetype": "text/x-python",
   "name": "python",
   "nbconvert_exporter": "python",
   "pygments_lexer": "ipython3",
   "version": "3.8.10"
  }
 },
 "nbformat": 4,
 "nbformat_minor": 5
}
