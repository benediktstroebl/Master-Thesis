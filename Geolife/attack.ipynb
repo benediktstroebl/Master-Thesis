{
 "cells": [
  {
   "cell_type": "code",
   "execution_count": 194,
   "metadata": {},
   "outputs": [],
   "source": [
    "import geopandas as gp\n",
    "import pandas as pd\n",
    "from tqdm import tqdm\n",
    "import numpy as np"
   ]
  },
  {
   "cell_type": "code",
   "execution_count": 154,
   "metadata": {},
   "outputs": [],
   "source": [
    "# load data frames\n",
    "import load_geolife"
   ]
  },
  {
   "cell_type": "code",
   "execution_count": 155,
   "metadata": {},
   "outputs": [],
   "source": [
    "# Load preprocessed data \n",
    "raw_full_trip_gdf, raw_trip_sp_gdf, raw_trip_ep_gdf, tesselation_gdf = load_geolife.geolife_raw_full_trip_gdf, load_geolife.geolife_raw_sp_gdf, load_geolife.geolife_raw_ep_gdf, load_geolife.geolife_tesselation_gdf\n",
    "assert len(raw_full_trip_gdf) == len(raw_trip_sp_gdf) == len(raw_trip_ep_gdf)"
   ]
  },
  {
   "cell_type": "markdown",
   "metadata": {},
   "source": [
    "# Merge Start Points (SP) and End Points (EP) with Tessellation"
   ]
  },
  {
   "cell_type": "code",
   "execution_count": 6,
   "metadata": {},
   "outputs": [],
   "source": [
    "def match_boundary_points_with_tessellation(raw_trip_sp_gdf, raw_trip_ep_gdf, tesselation_gdf):\n",
    "    \"\"\"This function matches the boundary points of the raw trips with the tesselation. \n",
    "\n",
    "    Args:\n",
    "        raw_trip_sp_gdf (_type_): _description_\n",
    "        raw_trip_ep_gdf (_type_): _description_\n",
    "        tesselation_gdf (_type_): _description_\n",
    "\n",
    "    Returns:\n",
    "        _type_: This function returns two data frames, one for the start points and one for the end points. These data frames contain the tile_id of the tesselation that the point is located in.\n",
    "    \"\"\"\n",
    "    # SP\n",
    "    # Spatial join points to polygons\n",
    "    gdf_sp = gp.sjoin(\n",
    "        tesselation_gdf[[\"tile_id\", \"geometry\"]],\n",
    "        raw_trip_sp_gdf,\n",
    "        how=\"inner\"\n",
    "    ).drop('index_right', axis=1)\n",
    "\n",
    "    # Spatial join points to polygons\n",
    "    gdf_ep = gp.sjoin(\n",
    "        tesselation_gdf[[\"tile_id\", \"geometry\"]],\n",
    "        raw_trip_ep_gdf,\n",
    "        how=\"inner\"\n",
    "    ).drop('index_right', axis=1)\n",
    "\n",
    "    return gdf_sp, gdf_ep"
   ]
  },
  {
   "cell_type": "code",
   "execution_count": 236,
   "metadata": {},
   "outputs": [],
   "source": [
    "gdf_sp, gdf_ep = match_boundary_points_with_tessellation(raw_trip_sp_gdf, raw_trip_ep_gdf, tesselation_gdf)"
   ]
  },
  {
   "cell_type": "markdown",
   "metadata": {},
   "source": [
    "# Extract Full Trips that Start and End within Tessellation Area"
   ]
  },
  {
   "cell_type": "code",
   "execution_count": 238,
   "metadata": {},
   "outputs": [
    {
     "name": "stdout",
     "output_type": "stream",
     "text": [
      "Number of trips that start and end wihin tessellation area: 13664\n",
      "Number of trips outside and therefore dropped: 3069\n"
     ]
    }
   ],
   "source": [
    "gdf_sp_ids = gdf_sp.TRIP_ID\n",
    "gdf_ep_ids = gdf_ep.TRIP_ID\n",
    "\n",
    "full_trip_gdf = raw_full_trip_gdf.query(\"TRIP_ID in @gdf_sp_ids and TRIP_ID in @gdf_ep_ids\")\n",
    "trip_sp_gdf = raw_trip_sp_gdf.query(\"TRIP_ID in @gdf_ep_ids\")\n",
    "trip_ep_gdf = raw_trip_ep_gdf.query(\"TRIP_ID in @gdf_sp_ids\")\n",
    "\n",
    "gdf_sp = gdf_sp.query(\"TRIP_ID in @gdf_ep_ids\")\n",
    "gdf_ep = gdf_ep.query(\"TRIP_ID in @gdf_sp_ids\")\n",
    "\n",
    "assert len(full_trip_gdf) == len(trip_sp_gdf) == len(trip_ep_gdf) == len(gdf_sp) == len(gdf_ep) == len(set(trip_sp_gdf.TRIP_ID).intersection(set(trip_ep_gdf.TRIP_ID))) # this last intersection checks that for all unique trip ids we have exactly ONE SP and EP\n",
    "\n",
    "print(f\"Number of trips that start and end wihin tessellation area: {len(full_trip_gdf)}\")\n",
    "print(f\"Number of trips outside and therefore dropped: {len(raw_full_trip_gdf) - len(full_trip_gdf)}\")"
   ]
  },
  {
   "cell_type": "markdown",
   "metadata": {},
   "source": [
    "## Build mapping of trip chains"
   ]
  },
  {
   "cell_type": "code",
   "execution_count": 239,
   "metadata": {},
   "outputs": [],
   "source": [
    "def build_trip_chain_mapping(gdf_sp, gdf_ep, INFLOW_HR_DIFF_THRESHOLD=4, HR_DIFF_THRESHOLD=8):\n",
    "    \"\"\"This function returns a list of trip chains that are continued trips that happened subsequent to and from same tile within a given time threshold.\n",
    "\n",
    "    Args:\n",
    "        gdf_sp (_type_): _description_\n",
    "        gdf_ep (_type_): _description_\n",
    "        inflow_hr_diff_threshold (int, optional): _description_. Defaults to 4.\n",
    "        hr_diff_threshold (int, optional): _description_. Defaults to 8.\n",
    "\n",
    "    Returns:\n",
    "        _type_: _description_\n",
    "    \"\"\"\n",
    "\n",
    "    # Calculate mapping of continued trips that happened subsequent to and from same tile\n",
    "    mapping_cont_trips = []\n",
    "    for index, trip in tqdm(gdf_ep.sort_values('TRIP_ID').iterrows(), total=len(gdf_ep)):\n",
    "        te_1_id = trip.TRIP_ID\n",
    "        te_1_tid = trip.tile_id\n",
    "        te_1_dt = pd.to_datetime(trip['TRIP_END'], format='%Y-%m-%d %H:%M:%S')\n",
    "        ts_1_dt = pd.to_datetime(trip['TRIP_START'], format='%Y-%m-%d %H:%M:%S')\n",
    "\n",
    "        inflow = gdf_ep.query(\"tile_id == @te_1_tid\")\n",
    "        inflow['TRIP_END'] = inflow.TRIP_END.astype('datetime64[ns]')\n",
    "        inflow['TRIP_START'] = inflow.TRIP_START.astype('datetime64[ns]')\n",
    "        inflow['INFLOW_HR_DIFF'] = inflow.TRIP_END.apply(lambda x: (x - te_1_dt).total_seconds()/3600)\n",
    "        inflow = inflow.query(\"(INFLOW_HR_DIFF <= @INFLOW_HR_DIFF_THRESHOLD) and (INFLOW_HR_DIFF >= @INFLOW_HR_DIFF_THRESHOLD)\") # Take trips \n",
    "        inflow = inflow.query(\"(TRIP_START > @te_1_dt) or (@ts_1_dt > TRIP_END)\") # Ignore trips that have happened simultaneously\n",
    "\n",
    "        # if more than one trip has arrived in +- hour window, then do not merge this trip\n",
    "        if len(inflow) > 1:\n",
    "            continue\n",
    "\n",
    "        \n",
    "        # Get all trips that started from same tile as t_1 has ended in\n",
    "        ts_2 = gdf_sp.query(\"tile_id == @te_1_tid\")\n",
    "\n",
    "        # get difference between two trips hours (seconds divided by 3600 gets hours)\n",
    "        ts_2['TRIP_START'] = ts_2.TRIP_START.astype('datetime64[ns]')\n",
    "        ts_2['TRIP_END'] = ts_2.TRIP_END.astype('datetime64[ns]')\n",
    "    \n",
    "        ts_2['hr_diff'] = ts_2['TRIP_START'].apply(lambda x: (x - te_1_dt).total_seconds()/3600)\n",
    "\n",
    "        # Only consider trips that started within a certain time after the initial trip ended in the same tessellation tile\n",
    "        ts_2 = ts_2[(ts_2['hr_diff'].astype(str).astype(float) <= HR_DIFF_THRESHOLD) & (ts_2['hr_diff'].astype(str).astype(float) >= 0)]\n",
    "\n",
    "        # Only consider trips that are not simultaneously\n",
    "        ts_2 = ts_2.query(\"(TRIP_START > @te_1_dt) or (@ts_1_dt > TRIP_END)\")\n",
    "\n",
    "        # Only consider connection if exactly one trip started from same tile in time window\n",
    "        if len(ts_2) == 1:\n",
    "            mapping_cont_trips.append({\n",
    "                'TRIP_ID': te_1_id,\n",
    "                'TRIP_ID_CONT': ts_2.TRIP_ID.iloc[0]\n",
    "            })\n",
    "\n",
    "    return mapping_cont_trips\n",
    "    \n"
   ]
  },
  {
   "cell_type": "code",
   "execution_count": 45,
   "metadata": {},
   "outputs": [],
   "source": [
    "mapping_cont_trips = build_trip_chain_mapping(gdf_sp, gdf_ep)"
   ]
  },
  {
   "cell_type": "code",
   "execution_count": 48,
   "metadata": {},
   "outputs": [],
   "source": [
    "def evaluate_trip_chaining(mapping_cont_trips, full_trip_gdf):\n",
    "    \"\"\"This function evaluates the trip chaining by checking if the chained trips are from the same person.\n",
    "\n",
    "    Args:\n",
    "        mapping_cont_trips (_type_): Dictionary of trip ids that are chained. Output of build_trip_chain_mapping()\n",
    "        full_trip_gdf (_type_): The full trip gdf that contains all trips.\n",
    "    Returns:\n",
    "        _type_: None\n",
    "    \"\"\"\n",
    "    mistakes = []\n",
    "    for conn in mapping_cont_trips:\n",
    "        trip_ids = [conn['TRIP_ID'],  conn['TRIP_ID_CONT']]\n",
    "        unique_person = full_trip_gdf.query(\"TRIP_ID in @trip_ids\").PERSON_ID.nunique()\n",
    "\n",
    "        if unique_person > 1:\n",
    "            mistakes.append(full_trip_gdf.query(\"TRIP_ID in @trip_ids\"))\n",
    "\n",
    "\n",
    "    print(f\"Number of edges (matched) between trips: {len(mapping_cont_trips)}\")\n",
    "    print(f\"Number of wrong matches: {len(mistakes)}\")\n"
   ]
  },
  {
   "cell_type": "code",
   "execution_count": 248,
   "metadata": {},
   "outputs": [
    {
     "name": "stdout",
     "output_type": "stream",
     "text": [
      "Number of edges (matched) between trips: 5670\n",
      "Number of wrong matches: 229\n"
     ]
    }
   ],
   "source": [
    "evaluate_trip_chaining(mapping_cont_trips, full_trip_gdf)"
   ]
  },
  {
   "cell_type": "markdown",
   "metadata": {},
   "source": [
    "## Merge trips according to matching"
   ]
  },
  {
   "cell_type": "code",
   "execution_count": 241,
   "metadata": {},
   "outputs": [],
   "source": [
    "def getTripChain(trip_id, mapping_cont_trips, chain=[]):\n",
    "    \"\"\" Recursive function that returns a list for all chained trips for a give orig trip_id\n",
    "\n",
    "\n",
    "    Args:\n",
    "        trip_id (_type_): _description_\n",
    "        chain (list, optional): _description_. Defaults to [].\n",
    "        mapping_cont_trips (_type_): Mapping of continued trips. Output of build_trip_chain_mapping().\n",
    "\n",
    "    Returns:\n",
    "        _type_: _description_\n",
    "    \"\"\"\n",
    "    if type(trip_id) == str:\n",
    "        trip_id = int(trip_id)\n",
    "\n",
    "    # add orig trip_id to output list\n",
    "    if len(chain) == 0:\n",
    "        chain.append(trip_id)\n",
    "\n",
    "    # recursively find all chained trips originating from the orig trip_id\n",
    "    for edge in mapping_cont_trips:\n",
    "        if edge['TRIP_ID'] == trip_id:\n",
    "            chain.append(edge['TRIP_ID_CONT'])\n",
    "            getTripChain(edge['TRIP_ID_CONT'], mapping_cont_trips, chain)\n",
    "            \n",
    "        \n",
    "    return chain"
   ]
  },
  {
   "cell_type": "code",
   "execution_count": 242,
   "metadata": {},
   "outputs": [],
   "source": [
    "def merge_trips_from_matching(gdf_sp, mapping_cont_trips, full_trip_gdf):\n",
    "    ### Merge trips according to matching\n",
    "\n",
    "    # Get trip chain for each trip (Start Point)\n",
    "    print(\"Building trip chains...\")\n",
    "    trip_chains = [getTripChain(trip, mapping_cont_trips, chain=[]) for trip in tqdm(gdf_sp.TRIP_ID)]\n",
    "    print(\"Done.\")\n",
    "\n",
    "    # Sort for longest chain first\n",
    "    trip_chains.sort(key = len, reverse = True)\n",
    "\n",
    "    # Create dictionary to store mappings for evaluation\n",
    "    trip_concat_dict = {}\n",
    "\n",
    "    covered_trips = []\n",
    "    merged_trips_gdf = []\n",
    "    print(\"Merging trips...\")\n",
    "    for chain in tqdm(trip_chains, total=len(trip_chains)):\n",
    "        # Check if any of the trips in the current chain has already been merged as part of another chain\n",
    "        # Since we start with the longest chain and iterate through descending sorted list, we only retain the complete chains\n",
    "        if set(chain).intersection(set(covered_trips)):\n",
    "            continue\n",
    "\n",
    "        # add trip chain to dict for evaluation later\n",
    "        trip_concat_dict[chain[0]] = chain[1:]\n",
    "        \n",
    "        # add all trip ids part of current chain to list so that every trip is only contained in longest chain of it\n",
    "        covered_trips += chain\n",
    "\n",
    "        trips = full_trip_gdf.query(\"TRIP_ID in @chain\").sort_values(\"TRIP_START\")\n",
    "        trips[\"temp\"] = 1\n",
    "\n",
    "        trips = trips.groupby('temp').agg(list).reset_index(drop=True).rename(columns={'TRIP_ID': 'TRIP_ID_CHAIN'})\n",
    "\n",
    "        trips[\"wkt_trip\"] = trips['geometry'].apply(lambda x: \", \".join([str(i) for i in x]).replace(\"), LINESTRING (\", \", \"))\n",
    "        trips['TRIP_START'] = trips['TRIP_START'].apply(lambda x: min(x))\n",
    "        trips['TRIP_END'] = trips['TRIP_END'].apply(lambda x: max(x))\n",
    "        trips['TRIP_LEN_IN_MTRS'] = trips['TRIP_LEN_IN_MTRS'].apply(lambda x: sum(x))\n",
    "        #trips['TRIP_DURATION_IN_SECS'] = trips['TRIP_DURATION_IN_SECS'].apply(lambda x: sum(x))\n",
    "        trips['TRIP_WD'] = trips['TRIP_WD'].apply(lambda x: x[0]) # see below\n",
    "        trips['TRIP_DATE'] = trips['TRIP_DATE'].apply(lambda x: x[0]) # see below\n",
    "        trips['TRIP_ID'] = trips['TRIP_ID_CHAIN'].apply(lambda x: x[0]) # assign trip_id of first trip in chain to concatenated trip\n",
    "        # This is the TRIP_ID of the last trip in the chain to be concatenated\n",
    "        trips['TRIP_ID_LAST'] = trips['TRIP_ID_CHAIN'].apply(lambda x: x[-1]) \n",
    "\n",
    "        # Note: Here we are assigning the PERSON_ID of the first trip to the concatenated trip. This of course can be erroneous if the concatenation itself is wrong\n",
    "        trips['PERSON_ID'] = trips['PERSON_ID'].apply(lambda x: x[0])\n",
    "        trips = trips.drop(['geometry', 'TRIP_ID_CHAIN'], axis=1)\n",
    "\n",
    "        trips = gp.GeoDataFrame(trips, geometry=gp.GeoSeries.from_wkt(trips['wkt_trip'])).drop('wkt_trip', axis=1)\n",
    "\n",
    "        merged_trips_gdf.append(trips)\n",
    "    print(\"Done.\")\n",
    "\n",
    "    trip_merged_gdf = pd.concat(merged_trips_gdf)\n",
    "\n",
    "    print(f\"Number of trips that were matched at least once: {len(set(covered_trips))}/{len(set(gdf_sp.TRIP_ID))}\")\n",
    "\n",
    "    # Concatenate all trips that were unmerged with the merged trips into a new gdf\n",
    "    print(\"Concatenating merged and unmerged trips...\")\n",
    "    unmerged_trips = full_trip_gdf.query(\"TRIP_ID not in @covered_trips\")\n",
    "    full_trips_concat_gdf = pd.concat([unmerged_trips, trip_merged_gdf])\n",
    "    full_trips_concat_gdf['TRIP_ID_FIRST'] = full_trips_concat_gdf['TRIP_ID'] # This is the same as TRIP_ID\n",
    "    print(\"Done.\")\n",
    "\n",
    "    # Assign TRIP_ID as TRIP_ID_LAST in case TRIP has not been merged and first and last TRIP_Id are in fact the same\n",
    "    full_trips_concat_gdf['TRIP_ID_LAST'] = np.where(full_trips_concat_gdf.TRIP_ID_LAST.isnull(), full_trips_concat_gdf.TRIP_ID, full_trips_concat_gdf.TRIP_ID_LAST)\n",
    "\n",
    "\n",
    "    return full_trips_concat_gdf.reset_index(drop=True), trip_concat_dict"
   ]
  },
  {
   "cell_type": "code",
   "execution_count": 210,
   "metadata": {},
   "outputs": [
    {
     "name": "stdout",
     "output_type": "stream",
     "text": [
      "Building trip chains...\n"
     ]
    },
    {
     "name": "stderr",
     "output_type": "stream",
     "text": [
      "100%|██████████| 13664/13664 [00:12<00:00, 1103.34it/s]\n"
     ]
    },
    {
     "name": "stdout",
     "output_type": "stream",
     "text": [
      "Done.\n",
      "Merging trips...\n"
     ]
    },
    {
     "name": "stderr",
     "output_type": "stream",
     "text": [
      "100%|██████████| 13664/13664 [03:10<00:00, 71.87it/s] \n"
     ]
    },
    {
     "name": "stdout",
     "output_type": "stream",
     "text": [
      "Done.\n",
      "Number of trips that were matched at least once: 13366/13664\n",
      "Concatenating merged and unmerged trips...\n",
      "Done.\n"
     ]
    }
   ],
   "source": [
    "full_trips_concat_gdf, trip_concat_dict = merge_trips_from_matching(gdf_sp, mapping_cont_trips, full_trip_gdf)"
   ]
  },
  {
   "cell_type": "code",
   "execution_count": 243,
   "metadata": {},
   "outputs": [],
   "source": [
    "# Filter for those trip_ids that are still the start of a trip even after the concatenation (of trip chains)\n",
    "t_id_sp = full_trips_concat_gdf.TRIP_ID_FIRST\n",
    "t_id_ep = full_trips_concat_gdf.TRIP_ID_LAST\n",
    "\n",
    "# Also filter dfs that contain points\n",
    "gdf_sp_concat = gdf_sp.query(\"TRIP_ID in @t_id_sp\")\n",
    "trip_sp_gdf_concat = trip_sp_gdf.query(\"TRIP_ID in @t_id_sp\")\n",
    "\n",
    "gdf_ep_concat = gdf_ep.query(\"TRIP_ID in @t_id_ep\")\n",
    "trip_ep_gdf_concat = trip_ep_gdf.query(\"TRIP_ID in @t_id_ep\")\n",
    "\n",
    "assert len(trip_sp_gdf_concat) == len(trip_ep_gdf_concat) == len(gdf_sp_concat) == len(gdf_ep_concat)"
   ]
  },
  {
   "cell_type": "code",
   "execution_count": 219,
   "metadata": {},
   "outputs": [],
   "source": [
    "def getIndexInList(trip_id, full_trip_gdf):\n",
    "    \"\"\"This function takes in a trip_id and returns the list index of this trip's position in the ground truth clustering.\n",
    "\n",
    "    Args:\n",
    "        trip_id (int): TRIP_ID\n",
    "\n",
    "    Returns:\n",
    "        int: The index of this TRIP_ID in the ground truth clustering vector.\n",
    "    \"\"\"\n",
    "    index_list = full_trip_gdf.sort_values('TRIP_ID').TRIP_ID.to_list()\n",
    "\n",
    "    return index_list.index(trip_id)\n",
    "\n",
    "\n",
    "def build_clustering_after_concatenation(full_trips_concat_gdf, trip_concat_dict):\n",
    "    \"\"\"This function builds the clustering vector after the concatenation step.\n",
    "\n",
    "    Args:\n",
    "        full_trips_concat_gdf (GeoDataFrame): GeoDataFrame containing all trips after the concatenation step.\n",
    "        trip_concat_dict (dict): Dictionary containing the trip chains that were concatenated.\n",
    "\n",
    "    Returns:\n",
    "        int: The index of this TRIP_ID in the ground truth clustering vector.\n",
    "    \"\"\"\n",
    "\n",
    "    # This creates the array with clustering IDs after the concatenation step\n",
    "    clustering_concat = {}\n",
    "    for index, trip in full_trips_concat_gdf.reset_index().sort_values('TRIP_ID').iterrows():\n",
    "        trip_order_index = getIndexInList(trip.TRIP_ID, full_trip_gdf)\n",
    "\n",
    "        clustering_concat[trip_order_index] = index\n",
    "\n",
    "        if trip.TRIP_ID in trip_concat_dict:\n",
    "            for t in trip_concat_dict[trip.TRIP_ID]:\n",
    "                clustering_concat[getIndexInList(t, full_trip_gdf)] = index\n",
    "\n",
    "    clustering_concat = list(dict(sorted(clustering_concat.items())).values())\n",
    "\n",
    "    print(f\"Number of unique clusters: {len(set(clustering_concat))}\")\n",
    "\n",
    "    return clustering_concat\n"
   ]
  },
  {
   "cell_type": "code",
   "execution_count": 246,
   "metadata": {},
   "outputs": [
    {
     "data": {
      "text/html": [
       "<div>\n",
       "<style scoped>\n",
       "    .dataframe tbody tr th:only-of-type {\n",
       "        vertical-align: middle;\n",
       "    }\n",
       "\n",
       "    .dataframe tbody tr th {\n",
       "        vertical-align: top;\n",
       "    }\n",
       "\n",
       "    .dataframe thead th {\n",
       "        text-align: right;\n",
       "    }\n",
       "</style>\n",
       "<table border=\"1\" class=\"dataframe\">\n",
       "  <thead>\n",
       "    <tr style=\"text-align: right;\">\n",
       "      <th></th>\n",
       "      <th>tile_id</th>\n",
       "      <th>geometry</th>\n",
       "      <th>TRIP_ID</th>\n",
       "      <th>TRIP_START</th>\n",
       "      <th>TRIP_END</th>\n",
       "      <th>TRIP_LENGTH_IN_MTRS</th>\n",
       "      <th>PERSON_ID</th>\n",
       "      <th>TRIP_WD</th>\n",
       "      <th>TRIP_DATE</th>\n",
       "    </tr>\n",
       "  </thead>\n",
       "  <tbody>\n",
       "  </tbody>\n",
       "</table>\n",
       "</div>"
      ],
      "text/plain": [
       "Empty GeoDataFrame\n",
       "Columns: [tile_id, geometry, TRIP_ID, TRIP_START, TRIP_END, TRIP_LENGTH_IN_MTRS, PERSON_ID, TRIP_WD, TRIP_DATE]\n",
       "Index: []"
      ]
     },
     "execution_count": 246,
     "metadata": {},
     "output_type": "execute_result"
    }
   ],
   "source": [
    "gdf_sp.query(\"TRIP_ID == 74\")"
   ]
  },
  {
   "cell_type": "code",
   "execution_count": 245,
   "metadata": {},
   "outputs": [
    {
     "data": {
      "text/html": [
       "<div>\n",
       "<style scoped>\n",
       "    .dataframe tbody tr th:only-of-type {\n",
       "        vertical-align: middle;\n",
       "    }\n",
       "\n",
       "    .dataframe tbody tr th {\n",
       "        vertical-align: top;\n",
       "    }\n",
       "\n",
       "    .dataframe thead th {\n",
       "        text-align: right;\n",
       "    }\n",
       "</style>\n",
       "<table border=\"1\" class=\"dataframe\">\n",
       "  <thead>\n",
       "    <tr style=\"text-align: right;\">\n",
       "      <th></th>\n",
       "      <th>TRIP_ID</th>\n",
       "      <th>TRIP_START</th>\n",
       "      <th>TRIP_END</th>\n",
       "      <th>geometry</th>\n",
       "      <th>TRIP_LENGTH_IN_MTRS</th>\n",
       "      <th>PERSON_ID</th>\n",
       "      <th>TRIP_WD</th>\n",
       "      <th>TRIP_DATE</th>\n",
       "      <th>TRIP_LEN_IN_MTRS</th>\n",
       "    </tr>\n",
       "  </thead>\n",
       "  <tbody>\n",
       "  </tbody>\n",
       "</table>\n",
       "</div>"
      ],
      "text/plain": [
       "Empty GeoDataFrame\n",
       "Columns: [TRIP_ID, TRIP_START, TRIP_END, geometry, TRIP_LENGTH_IN_MTRS, PERSON_ID, TRIP_WD, TRIP_DATE, TRIP_LEN_IN_MTRS]\n",
       "Index: []"
      ]
     },
     "execution_count": 245,
     "metadata": {},
     "output_type": "execute_result"
    }
   ],
   "source": [
    "full_trip_gdf.query(\"TRIP_ID == 74\")"
   ]
  },
  {
   "cell_type": "code",
   "execution_count": 230,
   "metadata": {},
   "outputs": [
    {
     "data": {
      "text/plain": [
       "76"
      ]
     },
     "execution_count": 230,
     "metadata": {},
     "output_type": "execute_result"
    }
   ],
   "source": [
    "full_trip_gdf.sort_values('TRIP_ID').TRIP_ID.to_list()[74]"
   ]
  },
  {
   "cell_type": "code",
   "execution_count": 247,
   "metadata": {},
   "outputs": [
    {
     "data": {
      "text/html": [
       "<div>\n",
       "<style scoped>\n",
       "    .dataframe tbody tr th:only-of-type {\n",
       "        vertical-align: middle;\n",
       "    }\n",
       "\n",
       "    .dataframe tbody tr th {\n",
       "        vertical-align: top;\n",
       "    }\n",
       "\n",
       "    .dataframe thead th {\n",
       "        text-align: right;\n",
       "    }\n",
       "</style>\n",
       "<table border=\"1\" class=\"dataframe\">\n",
       "  <thead>\n",
       "    <tr style=\"text-align: right;\">\n",
       "      <th></th>\n",
       "      <th>TRIP_ID</th>\n",
       "      <th>TRIP_START</th>\n",
       "      <th>TRIP_END</th>\n",
       "      <th>geometry</th>\n",
       "      <th>TRIP_LENGTH_IN_MTRS</th>\n",
       "      <th>PERSON_ID</th>\n",
       "      <th>TRIP_WD</th>\n",
       "      <th>TRIP_DATE</th>\n",
       "      <th>TRIP_LEN_IN_MTRS</th>\n",
       "    </tr>\n",
       "  </thead>\n",
       "  <tbody>\n",
       "    <tr>\n",
       "      <th>74</th>\n",
       "      <td>74</td>\n",
       "      <td>2009-04-14 12:40:21</td>\n",
       "      <td>2009-04-14 13:35:11</td>\n",
       "      <td>LINESTRING (116.47565 39.90689, 116.47621 39.9...</td>\n",
       "      <td>31649.988277</td>\n",
       "      <td>0</td>\n",
       "      <td>Tuesday</td>\n",
       "      <td>2009-04-14</td>\n",
       "      <td>31649.988277</td>\n",
       "    </tr>\n",
       "  </tbody>\n",
       "</table>\n",
       "</div>"
      ],
      "text/plain": [
       "    TRIP_ID           TRIP_START             TRIP_END  \\\n",
       "74       74  2009-04-14 12:40:21  2009-04-14 13:35:11   \n",
       "\n",
       "                                             geometry  TRIP_LENGTH_IN_MTRS  \\\n",
       "74  LINESTRING (116.47565 39.90689, 116.47621 39.9...         31649.988277   \n",
       "\n",
       "    PERSON_ID  TRIP_WD   TRIP_DATE  TRIP_LEN_IN_MTRS  \n",
       "74          0  Tuesday  2009-04-14      31649.988277  "
      ]
     },
     "execution_count": 247,
     "metadata": {},
     "output_type": "execute_result"
    }
   ],
   "source": [
    "raw_full_trip_gdf.query(\"TRIP_ID == 74\")"
   ]
  },
  {
   "cell_type": "code",
   "execution_count": 225,
   "metadata": {},
   "outputs": [
    {
     "data": {
      "text/html": [
       "<div>\n",
       "<style scoped>\n",
       "    .dataframe tbody tr th:only-of-type {\n",
       "        vertical-align: middle;\n",
       "    }\n",
       "\n",
       "    .dataframe tbody tr th {\n",
       "        vertical-align: top;\n",
       "    }\n",
       "\n",
       "    .dataframe thead th {\n",
       "        text-align: right;\n",
       "    }\n",
       "</style>\n",
       "<table border=\"1\" class=\"dataframe\">\n",
       "  <thead>\n",
       "    <tr style=\"text-align: right;\">\n",
       "      <th></th>\n",
       "      <th>TRIP_ID</th>\n",
       "      <th>TRIP_START</th>\n",
       "      <th>TRIP_END</th>\n",
       "      <th>geometry</th>\n",
       "      <th>TRIP_LENGTH_IN_MTRS</th>\n",
       "      <th>PERSON_ID</th>\n",
       "      <th>TRIP_WD</th>\n",
       "      <th>TRIP_DATE</th>\n",
       "      <th>TRIP_LEN_IN_MTRS</th>\n",
       "      <th>TRIP_ID_LAST</th>\n",
       "      <th>TRIP_ID_FIRST</th>\n",
       "    </tr>\n",
       "  </thead>\n",
       "  <tbody>\n",
       "    <tr>\n",
       "      <th>0</th>\n",
       "      <td>74</td>\n",
       "      <td>2009-04-14 12:40:21</td>\n",
       "      <td>2009-04-14 13:35:11</td>\n",
       "      <td>LINESTRING (116.47565 39.90689, 116.47621 39.9...</td>\n",
       "      <td>31649.988277</td>\n",
       "      <td>0</td>\n",
       "      <td>Tuesday</td>\n",
       "      <td>2009-04-14</td>\n",
       "      <td>31649.988277</td>\n",
       "      <td>74.0</td>\n",
       "      <td>74</td>\n",
       "    </tr>\n",
       "    <tr>\n",
       "      <th>1</th>\n",
       "      <td>75</td>\n",
       "      <td>2009-04-14 13:52:36</td>\n",
       "      <td>2009-04-15 10:06:55</td>\n",
       "      <td>LINESTRING (116.80137 39.95207, 116.80129 39.9...</td>\n",
       "      <td>53090.957331</td>\n",
       "      <td>0</td>\n",
       "      <td>Tuesday</td>\n",
       "      <td>2009-04-14</td>\n",
       "      <td>53090.957331</td>\n",
       "      <td>75.0</td>\n",
       "      <td>75</td>\n",
       "    </tr>\n",
       "    <tr>\n",
       "      <th>2</th>\n",
       "      <td>78</td>\n",
       "      <td>2009-04-16 04:12:32</td>\n",
       "      <td>2009-04-16 04:32:01</td>\n",
       "      <td>LINESTRING (116.32543 39.99605, 116.32513 39.9...</td>\n",
       "      <td>2454.918599</td>\n",
       "      <td>0</td>\n",
       "      <td>Thursday</td>\n",
       "      <td>2009-04-16</td>\n",
       "      <td>2454.918599</td>\n",
       "      <td>78.0</td>\n",
       "      <td>78</td>\n",
       "    </tr>\n",
       "    <tr>\n",
       "      <th>3</th>\n",
       "      <td>85</td>\n",
       "      <td>2009-04-17 04:21:21</td>\n",
       "      <td>2009-04-17 05:14:32</td>\n",
       "      <td>LINESTRING (116.32517 39.99625, 116.32528 39.9...</td>\n",
       "      <td>5067.63454</td>\n",
       "      <td>0</td>\n",
       "      <td>Friday</td>\n",
       "      <td>2009-04-17</td>\n",
       "      <td>5067.634540</td>\n",
       "      <td>85.0</td>\n",
       "      <td>85</td>\n",
       "    </tr>\n",
       "    <tr>\n",
       "      <th>4</th>\n",
       "      <td>87</td>\n",
       "      <td>2009-04-19 00:53:31</td>\n",
       "      <td>2009-04-19 04:06:41</td>\n",
       "      <td>LINESTRING (116.31490 40.00954, 116.31521 40.0...</td>\n",
       "      <td>60592.681897</td>\n",
       "      <td>0</td>\n",
       "      <td>Sunday</td>\n",
       "      <td>2009-04-19</td>\n",
       "      <td>60592.681897</td>\n",
       "      <td>87.0</td>\n",
       "      <td>87</td>\n",
       "    </tr>\n",
       "    <tr>\n",
       "      <th>...</th>\n",
       "      <td>...</td>\n",
       "      <td>...</td>\n",
       "      <td>...</td>\n",
       "      <td>...</td>\n",
       "      <td>...</td>\n",
       "      <td>...</td>\n",
       "      <td>...</td>\n",
       "      <td>...</td>\n",
       "      <td>...</td>\n",
       "      <td>...</td>\n",
       "      <td>...</td>\n",
       "    </tr>\n",
       "    <tr>\n",
       "      <th>11356</th>\n",
       "      <td>3629</td>\n",
       "      <td>2009-07-22 11:52:04</td>\n",
       "      <td>2009-07-22 12:05:29</td>\n",
       "      <td>LINESTRING (116.42170 40.04310, 116.42172 40.0...</td>\n",
       "      <td>[1519.308674817583]</td>\n",
       "      <td>144</td>\n",
       "      <td>Wednesday</td>\n",
       "      <td>2009-07-22</td>\n",
       "      <td>1519.308675</td>\n",
       "      <td>3629.0</td>\n",
       "      <td>3629</td>\n",
       "    </tr>\n",
       "    <tr>\n",
       "      <th>11357</th>\n",
       "      <td>7421</td>\n",
       "      <td>2008-11-07 08:53:45</td>\n",
       "      <td>2008-11-08 03:55:12</td>\n",
       "      <td>LINESTRING (116.37989 39.85883, 116.37989 39.8...</td>\n",
       "      <td>[17377.251492553263]</td>\n",
       "      <td>19</td>\n",
       "      <td>Friday</td>\n",
       "      <td>2008-11-07</td>\n",
       "      <td>17377.251493</td>\n",
       "      <td>7421.0</td>\n",
       "      <td>7421</td>\n",
       "    </tr>\n",
       "    <tr>\n",
       "      <th>11358</th>\n",
       "      <td>5889</td>\n",
       "      <td>2012-02-19 14:28:41</td>\n",
       "      <td>2012-02-19 15:44:44</td>\n",
       "      <td>LINESTRING (116.45877 39.98437, 116.45868 39.9...</td>\n",
       "      <td>[3471.532567338531]</td>\n",
       "      <td>163</td>\n",
       "      <td>Sunday</td>\n",
       "      <td>2012-02-19</td>\n",
       "      <td>3471.532567</td>\n",
       "      <td>5889.0</td>\n",
       "      <td>5889</td>\n",
       "    </tr>\n",
       "    <tr>\n",
       "      <th>11359</th>\n",
       "      <td>4508</td>\n",
       "      <td>2010-02-10 09:05:35</td>\n",
       "      <td>2010-02-11 06:15:11</td>\n",
       "      <td>LINESTRING (116.44691 40.01943, 116.44520 40.0...</td>\n",
       "      <td>[52146.03841004418]</td>\n",
       "      <td>153</td>\n",
       "      <td>Wednesday</td>\n",
       "      <td>2010-02-10</td>\n",
       "      <td>52146.038410</td>\n",
       "      <td>4508.0</td>\n",
       "      <td>4508</td>\n",
       "    </tr>\n",
       "    <tr>\n",
       "      <th>11360</th>\n",
       "      <td>3661</td>\n",
       "      <td>2009-08-09 09:03:22</td>\n",
       "      <td>2009-08-09 09:21:52</td>\n",
       "      <td>LINESTRING (116.44636 40.01972, 116.44621 40.0...</td>\n",
       "      <td>[1819.083466924721]</td>\n",
       "      <td>144</td>\n",
       "      <td>Sunday</td>\n",
       "      <td>2009-08-09</td>\n",
       "      <td>1819.083467</td>\n",
       "      <td>3661.0</td>\n",
       "      <td>3661</td>\n",
       "    </tr>\n",
       "  </tbody>\n",
       "</table>\n",
       "<p>11361 rows × 11 columns</p>\n",
       "</div>"
      ],
      "text/plain": [
       "       TRIP_ID           TRIP_START             TRIP_END  \\\n",
       "0           74  2009-04-14 12:40:21  2009-04-14 13:35:11   \n",
       "1           75  2009-04-14 13:52:36  2009-04-15 10:06:55   \n",
       "2           78  2009-04-16 04:12:32  2009-04-16 04:32:01   \n",
       "3           85  2009-04-17 04:21:21  2009-04-17 05:14:32   \n",
       "4           87  2009-04-19 00:53:31  2009-04-19 04:06:41   \n",
       "...        ...                  ...                  ...   \n",
       "11356     3629  2009-07-22 11:52:04  2009-07-22 12:05:29   \n",
       "11357     7421  2008-11-07 08:53:45  2008-11-08 03:55:12   \n",
       "11358     5889  2012-02-19 14:28:41  2012-02-19 15:44:44   \n",
       "11359     4508  2010-02-10 09:05:35  2010-02-11 06:15:11   \n",
       "11360     3661  2009-08-09 09:03:22  2009-08-09 09:21:52   \n",
       "\n",
       "                                                geometry  \\\n",
       "0      LINESTRING (116.47565 39.90689, 116.47621 39.9...   \n",
       "1      LINESTRING (116.80137 39.95207, 116.80129 39.9...   \n",
       "2      LINESTRING (116.32543 39.99605, 116.32513 39.9...   \n",
       "3      LINESTRING (116.32517 39.99625, 116.32528 39.9...   \n",
       "4      LINESTRING (116.31490 40.00954, 116.31521 40.0...   \n",
       "...                                                  ...   \n",
       "11356  LINESTRING (116.42170 40.04310, 116.42172 40.0...   \n",
       "11357  LINESTRING (116.37989 39.85883, 116.37989 39.8...   \n",
       "11358  LINESTRING (116.45877 39.98437, 116.45868 39.9...   \n",
       "11359  LINESTRING (116.44691 40.01943, 116.44520 40.0...   \n",
       "11360  LINESTRING (116.44636 40.01972, 116.44621 40.0...   \n",
       "\n",
       "        TRIP_LENGTH_IN_MTRS  PERSON_ID    TRIP_WD   TRIP_DATE  \\\n",
       "0              31649.988277          0    Tuesday  2009-04-14   \n",
       "1              53090.957331          0    Tuesday  2009-04-14   \n",
       "2               2454.918599          0   Thursday  2009-04-16   \n",
       "3                5067.63454          0     Friday  2009-04-17   \n",
       "4              60592.681897          0     Sunday  2009-04-19   \n",
       "...                     ...        ...        ...         ...   \n",
       "11356   [1519.308674817583]        144  Wednesday  2009-07-22   \n",
       "11357  [17377.251492553263]         19     Friday  2008-11-07   \n",
       "11358   [3471.532567338531]        163     Sunday  2012-02-19   \n",
       "11359   [52146.03841004418]        153  Wednesday  2010-02-10   \n",
       "11360   [1819.083466924721]        144     Sunday  2009-08-09   \n",
       "\n",
       "       TRIP_LEN_IN_MTRS  TRIP_ID_LAST  TRIP_ID_FIRST  \n",
       "0          31649.988277          74.0             74  \n",
       "1          53090.957331          75.0             75  \n",
       "2           2454.918599          78.0             78  \n",
       "3           5067.634540          85.0             85  \n",
       "4          60592.681897          87.0             87  \n",
       "...                 ...           ...            ...  \n",
       "11356       1519.308675        3629.0           3629  \n",
       "11357      17377.251493        7421.0           7421  \n",
       "11358       3471.532567        5889.0           5889  \n",
       "11359      52146.038410        4508.0           4508  \n",
       "11360       1819.083467        3661.0           3661  \n",
       "\n",
       "[11361 rows x 11 columns]"
      ]
     },
     "execution_count": 225,
     "metadata": {},
     "output_type": "execute_result"
    }
   ],
   "source": [
    "full_trips_concat_gdf"
   ]
  },
  {
   "cell_type": "code",
   "execution_count": 226,
   "metadata": {},
   "outputs": [
    {
     "ename": "ValueError",
     "evalue": "74 is not in list",
     "output_type": "error",
     "traceback": [
      "\u001b[1;31m---------------------------------------------------------------------------\u001b[0m",
      "\u001b[1;31mValueError\u001b[0m                                Traceback (most recent call last)",
      "Cell \u001b[1;32mIn[226], line 1\u001b[0m\n\u001b[1;32m----> 1\u001b[0m build_clustering_after_concatenation(full_trips_concat_gdf\u001b[39m.\u001b[39;49mreset_index(drop\u001b[39m=\u001b[39;49m\u001b[39mTrue\u001b[39;49;00m), trip_concat_dict)\n",
      "Cell \u001b[1;32mIn[219], line 29\u001b[0m, in \u001b[0;36mbuild_clustering_after_concatenation\u001b[1;34m(full_trips_concat_gdf, trip_concat_dict)\u001b[0m\n\u001b[0;32m     27\u001b[0m clustering_concat \u001b[39m=\u001b[39m {}\n\u001b[0;32m     28\u001b[0m \u001b[39mfor\u001b[39;00m index, trip \u001b[39min\u001b[39;00m full_trips_concat_gdf\u001b[39m.\u001b[39mreset_index()\u001b[39m.\u001b[39msort_values(\u001b[39m'\u001b[39m\u001b[39mTRIP_ID\u001b[39m\u001b[39m'\u001b[39m)\u001b[39m.\u001b[39miterrows():\n\u001b[1;32m---> 29\u001b[0m     trip_order_index \u001b[39m=\u001b[39m getIndexInList(trip\u001b[39m.\u001b[39;49mTRIP_ID, full_trip_gdf)\n\u001b[0;32m     31\u001b[0m     clustering_concat[trip_order_index] \u001b[39m=\u001b[39m index\n\u001b[0;32m     33\u001b[0m     \u001b[39mif\u001b[39;00m trip\u001b[39m.\u001b[39mTRIP_ID \u001b[39min\u001b[39;00m trip_concat_dict:\n",
      "Cell \u001b[1;32mIn[219], line 12\u001b[0m, in \u001b[0;36mgetIndexInList\u001b[1;34m(trip_id, full_trip_gdf)\u001b[0m\n\u001b[0;32m      2\u001b[0m \u001b[39m\u001b[39m\u001b[39m\"\"\"This function takes in a trip_id and returns the list index of this trip's position in the ground truth clustering.\u001b[39;00m\n\u001b[0;32m      3\u001b[0m \n\u001b[0;32m      4\u001b[0m \u001b[39mArgs:\u001b[39;00m\n\u001b[1;32m   (...)\u001b[0m\n\u001b[0;32m      8\u001b[0m \u001b[39m    int: The index of this TRIP_ID in the ground truth clustering vector.\u001b[39;00m\n\u001b[0;32m      9\u001b[0m \u001b[39m\"\"\"\u001b[39;00m\n\u001b[0;32m     10\u001b[0m index_list \u001b[39m=\u001b[39m full_trip_gdf\u001b[39m.\u001b[39msort_values(\u001b[39m'\u001b[39m\u001b[39mTRIP_ID\u001b[39m\u001b[39m'\u001b[39m)\u001b[39m.\u001b[39mTRIP_ID\u001b[39m.\u001b[39mto_list()\n\u001b[1;32m---> 12\u001b[0m \u001b[39mreturn\u001b[39;00m index_list\u001b[39m.\u001b[39;49mindex(trip_id)\n",
      "\u001b[1;31mValueError\u001b[0m: 74 is not in list"
     ]
    }
   ],
   "source": [
    "build_clustering_after_concatenation(full_trips_concat_gdf.reset_index(drop=True), trip_concat_dict)"
   ]
  }
 ],
 "metadata": {
  "kernelspec": {
   "display_name": "Python 3 (ipykernel)",
   "language": "python",
   "name": "python3"
  },
  "language_info": {
   "codemirror_mode": {
    "name": "ipython",
    "version": 3
   },
   "file_extension": ".py",
   "mimetype": "text/x-python",
   "name": "python",
   "nbconvert_exporter": "python",
   "pygments_lexer": "ipython3",
   "version": "3.9.12"
  },
  "vscode": {
   "interpreter": {
    "hash": "543daf12f525df94f20bbdd448da69881f98a71c963c44c9c7818e0113666227"
   }
  }
 },
 "nbformat": 4,
 "nbformat_minor": 2
}
