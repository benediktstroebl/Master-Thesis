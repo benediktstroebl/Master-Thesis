{
 "cells": [
  {
   "cell_type": "code",
   "execution_count": 1,
   "metadata": {},
   "outputs": [],
   "source": [
    "import read_geolife_utils as read_geolife\n",
    "import geopandas as gp\n",
    "import movingpandas as mpd\n",
    "from datetime import timedelta\n",
    "from pyproj import CRS\n",
    "import pandas as pd\n",
    "from tqdm import tqdm\n",
    "from joblib import Parallel, delayed\n",
    "import logging\n",
    "logging.basicConfig(filename='log_read_geolife.log', level=logging.DEBUG)"
   ]
  },
  {
   "cell_type": "code",
   "execution_count": 2,
   "metadata": {},
   "outputs": [
    {
     "name": "stdout",
     "output_type": "stream",
     "text": [
      "Reading data...\n",
      "[1/182] processing user 000\n",
      "[2/182] processing user 001\n",
      "[3/182] processing user 002\n",
      "[4/182] processing user 003\n",
      "[5/182] processing user 004\n",
      "[6/182] processing user 005\n",
      "[7/182] processing user 006\n",
      "[8/182] processing user 007\n",
      "[9/182] processing user 008\n",
      "[10/182] processing user 009\n",
      "[11/182] processing user 010\n"
     ]
    },
    {
     "name": "stderr",
     "output_type": "stream",
     "text": [
      "c:\\Users\\Bened\\Documents\\Git\\Master-Thesis\\Geolife\\read_geolife_utils.py:42: SettingWithCopyWarning: \n",
      "A value is trying to be set on a copy of a slice from a DataFrame\n",
      "\n",
      "See the caveats in the documentation: https://pandas.pydata.org/pandas-docs/stable/user_guide/indexing.html#returning-a-view-versus-a-copy\n",
      "  points['label'][no_label] = 0\n"
     ]
    },
    {
     "name": "stdout",
     "output_type": "stream",
     "text": [
      "[12/182] processing user 011\n",
      "[13/182] processing user 012\n",
      "[14/182] processing user 013\n",
      "[15/182] processing user 014\n",
      "[16/182] processing user 015\n",
      "[17/182] processing user 016\n",
      "[18/182] processing user 017\n",
      "[19/182] processing user 018\n",
      "[20/182] processing user 019\n",
      "[21/182] processing user 020\n"
     ]
    },
    {
     "name": "stderr",
     "output_type": "stream",
     "text": [
      "c:\\Users\\Bened\\Documents\\Git\\Master-Thesis\\Geolife\\read_geolife_utils.py:42: SettingWithCopyWarning: \n",
      "A value is trying to be set on a copy of a slice from a DataFrame\n",
      "\n",
      "See the caveats in the documentation: https://pandas.pydata.org/pandas-docs/stable/user_guide/indexing.html#returning-a-view-versus-a-copy\n",
      "  points['label'][no_label] = 0\n",
      "c:\\Users\\Bened\\Documents\\Git\\Master-Thesis\\Geolife\\read_geolife_utils.py:42: SettingWithCopyWarning: \n",
      "A value is trying to be set on a copy of a slice from a DataFrame\n",
      "\n",
      "See the caveats in the documentation: https://pandas.pydata.org/pandas-docs/stable/user_guide/indexing.html#returning-a-view-versus-a-copy\n",
      "  points['label'][no_label] = 0\n"
     ]
    },
    {
     "name": "stdout",
     "output_type": "stream",
     "text": [
      "[22/182] processing user 021\n",
      "[23/182] processing user 022\n",
      "[24/182] processing user 023\n",
      "[25/182] processing user 024\n",
      "[26/182] processing user 025\n",
      "[27/182] processing user 026\n",
      "[28/182] processing user 027\n",
      "[29/182] processing user 028\n",
      "[30/182] processing user 029\n",
      "[31/182] processing user 030\n",
      "[32/182] processing user 031\n",
      "[33/182] processing user 032\n",
      "[34/182] processing user 033\n",
      "[35/182] processing user 034\n",
      "[36/182] processing user 035\n",
      "[37/182] processing user 036\n",
      "[38/182] processing user 037\n",
      "[39/182] processing user 038\n",
      "[40/182] processing user 039\n",
      "[41/182] processing user 040\n",
      "[42/182] processing user 041\n",
      "[43/182] processing user 042\n",
      "[44/182] processing user 043\n",
      "[45/182] processing user 044\n",
      "[46/182] processing user 045\n",
      "[47/182] processing user 046\n",
      "[48/182] processing user 047\n",
      "[49/182] processing user 048\n",
      "[50/182] processing user 049\n",
      "[51/182] processing user 050\n",
      "[52/182] processing user 051\n",
      "[53/182] processing user 052\n"
     ]
    },
    {
     "name": "stderr",
     "output_type": "stream",
     "text": [
      "c:\\Users\\Bened\\Documents\\Git\\Master-Thesis\\Geolife\\read_geolife_utils.py:42: SettingWithCopyWarning: \n",
      "A value is trying to be set on a copy of a slice from a DataFrame\n",
      "\n",
      "See the caveats in the documentation: https://pandas.pydata.org/pandas-docs/stable/user_guide/indexing.html#returning-a-view-versus-a-copy\n",
      "  points['label'][no_label] = 0\n",
      "c:\\Users\\Bened\\Documents\\Git\\Master-Thesis\\Geolife\\read_geolife_utils.py:42: SettingWithCopyWarning: \n",
      "A value is trying to be set on a copy of a slice from a DataFrame\n",
      "\n",
      "See the caveats in the documentation: https://pandas.pydata.org/pandas-docs/stable/user_guide/indexing.html#returning-a-view-versus-a-copy\n",
      "  points['label'][no_label] = 0\n"
     ]
    },
    {
     "name": "stdout",
     "output_type": "stream",
     "text": [
      "[54/182] processing user 053\n",
      "[55/182] processing user 054\n",
      "[56/182] processing user 055\n",
      "[57/182] processing user 056\n"
     ]
    },
    {
     "name": "stderr",
     "output_type": "stream",
     "text": [
      "c:\\Users\\Bened\\Documents\\Git\\Master-Thesis\\Geolife\\read_geolife_utils.py:42: SettingWithCopyWarning: \n",
      "A value is trying to be set on a copy of a slice from a DataFrame\n",
      "\n",
      "See the caveats in the documentation: https://pandas.pydata.org/pandas-docs/stable/user_guide/indexing.html#returning-a-view-versus-a-copy\n",
      "  points['label'][no_label] = 0\n"
     ]
    },
    {
     "name": "stdout",
     "output_type": "stream",
     "text": [
      "[58/182] processing user 057\n",
      "[59/182] processing user 058\n"
     ]
    },
    {
     "name": "stderr",
     "output_type": "stream",
     "text": [
      "c:\\Users\\Bened\\Documents\\Git\\Master-Thesis\\Geolife\\read_geolife_utils.py:42: SettingWithCopyWarning: \n",
      "A value is trying to be set on a copy of a slice from a DataFrame\n",
      "\n",
      "See the caveats in the documentation: https://pandas.pydata.org/pandas-docs/stable/user_guide/indexing.html#returning-a-view-versus-a-copy\n",
      "  points['label'][no_label] = 0\n",
      "c:\\Users\\Bened\\Documents\\Git\\Master-Thesis\\Geolife\\read_geolife_utils.py:42: SettingWithCopyWarning: \n",
      "A value is trying to be set on a copy of a slice from a DataFrame\n",
      "\n",
      "See the caveats in the documentation: https://pandas.pydata.org/pandas-docs/stable/user_guide/indexing.html#returning-a-view-versus-a-copy\n",
      "  points['label'][no_label] = 0\n",
      "c:\\Users\\Bened\\Documents\\Git\\Master-Thesis\\Geolife\\read_geolife_utils.py:42: SettingWithCopyWarning: \n",
      "A value is trying to be set on a copy of a slice from a DataFrame\n",
      "\n",
      "See the caveats in the documentation: https://pandas.pydata.org/pandas-docs/stable/user_guide/indexing.html#returning-a-view-versus-a-copy\n",
      "  points['label'][no_label] = 0\n"
     ]
    },
    {
     "name": "stdout",
     "output_type": "stream",
     "text": [
      "[60/182] processing user 059\n",
      "[61/182] processing user 060\n",
      "[62/182] processing user 061\n",
      "[63/182] processing user 062\n"
     ]
    },
    {
     "name": "stderr",
     "output_type": "stream",
     "text": [
      "c:\\Users\\Bened\\Documents\\Git\\Master-Thesis\\Geolife\\read_geolife_utils.py:42: SettingWithCopyWarning: \n",
      "A value is trying to be set on a copy of a slice from a DataFrame\n",
      "\n",
      "See the caveats in the documentation: https://pandas.pydata.org/pandas-docs/stable/user_guide/indexing.html#returning-a-view-versus-a-copy\n",
      "  points['label'][no_label] = 0\n"
     ]
    },
    {
     "name": "stdout",
     "output_type": "stream",
     "text": [
      "[64/182] processing user 063\n",
      "[65/182] processing user 064\n"
     ]
    },
    {
     "name": "stderr",
     "output_type": "stream",
     "text": [
      "c:\\Users\\Bened\\Documents\\Git\\Master-Thesis\\Geolife\\read_geolife_utils.py:42: SettingWithCopyWarning: \n",
      "A value is trying to be set on a copy of a slice from a DataFrame\n",
      "\n",
      "See the caveats in the documentation: https://pandas.pydata.org/pandas-docs/stable/user_guide/indexing.html#returning-a-view-versus-a-copy\n",
      "  points['label'][no_label] = 0\n"
     ]
    },
    {
     "name": "stdout",
     "output_type": "stream",
     "text": [
      "[66/182] processing user 065\n"
     ]
    },
    {
     "name": "stderr",
     "output_type": "stream",
     "text": [
      "c:\\Users\\Bened\\Documents\\Git\\Master-Thesis\\Geolife\\read_geolife_utils.py:42: SettingWithCopyWarning: \n",
      "A value is trying to be set on a copy of a slice from a DataFrame\n",
      "\n",
      "See the caveats in the documentation: https://pandas.pydata.org/pandas-docs/stable/user_guide/indexing.html#returning-a-view-versus-a-copy\n",
      "  points['label'][no_label] = 0\n"
     ]
    },
    {
     "name": "stdout",
     "output_type": "stream",
     "text": [
      "[67/182] processing user 066\n",
      "[68/182] processing user 067\n"
     ]
    },
    {
     "name": "stderr",
     "output_type": "stream",
     "text": [
      "c:\\Users\\Bened\\Documents\\Git\\Master-Thesis\\Geolife\\read_geolife_utils.py:42: SettingWithCopyWarning: \n",
      "A value is trying to be set on a copy of a slice from a DataFrame\n",
      "\n",
      "See the caveats in the documentation: https://pandas.pydata.org/pandas-docs/stable/user_guide/indexing.html#returning-a-view-versus-a-copy\n",
      "  points['label'][no_label] = 0\n"
     ]
    },
    {
     "name": "stdout",
     "output_type": "stream",
     "text": [
      "[69/182] processing user 068\n"
     ]
    },
    {
     "name": "stderr",
     "output_type": "stream",
     "text": [
      "c:\\Users\\Bened\\Documents\\Git\\Master-Thesis\\Geolife\\read_geolife_utils.py:42: SettingWithCopyWarning: \n",
      "A value is trying to be set on a copy of a slice from a DataFrame\n",
      "\n",
      "See the caveats in the documentation: https://pandas.pydata.org/pandas-docs/stable/user_guide/indexing.html#returning-a-view-versus-a-copy\n",
      "  points['label'][no_label] = 0\n",
      "c:\\Users\\Bened\\Documents\\Git\\Master-Thesis\\Geolife\\read_geolife_utils.py:42: SettingWithCopyWarning: \n",
      "A value is trying to be set on a copy of a slice from a DataFrame\n",
      "\n",
      "See the caveats in the documentation: https://pandas.pydata.org/pandas-docs/stable/user_guide/indexing.html#returning-a-view-versus-a-copy\n",
      "  points['label'][no_label] = 0\n"
     ]
    },
    {
     "name": "stdout",
     "output_type": "stream",
     "text": [
      "[70/182] processing user 069\n",
      "[71/182] processing user 070\n",
      "[72/182] processing user 071\n",
      "[73/182] processing user 072\n",
      "[74/182] processing user 073\n"
     ]
    },
    {
     "name": "stderr",
     "output_type": "stream",
     "text": [
      "c:\\Users\\Bened\\Documents\\Git\\Master-Thesis\\Geolife\\read_geolife_utils.py:42: SettingWithCopyWarning: \n",
      "A value is trying to be set on a copy of a slice from a DataFrame\n",
      "\n",
      "See the caveats in the documentation: https://pandas.pydata.org/pandas-docs/stable/user_guide/indexing.html#returning-a-view-versus-a-copy\n",
      "  points['label'][no_label] = 0\n"
     ]
    },
    {
     "name": "stdout",
     "output_type": "stream",
     "text": [
      "[75/182] processing user 074\n",
      "[76/182] processing user 075\n"
     ]
    },
    {
     "name": "stderr",
     "output_type": "stream",
     "text": [
      "c:\\Users\\Bened\\Documents\\Git\\Master-Thesis\\Geolife\\read_geolife_utils.py:42: SettingWithCopyWarning: \n",
      "A value is trying to be set on a copy of a slice from a DataFrame\n",
      "\n",
      "See the caveats in the documentation: https://pandas.pydata.org/pandas-docs/stable/user_guide/indexing.html#returning-a-view-versus-a-copy\n",
      "  points['label'][no_label] = 0\n",
      "c:\\Users\\Bened\\Documents\\Git\\Master-Thesis\\Geolife\\read_geolife_utils.py:42: SettingWithCopyWarning: \n",
      "A value is trying to be set on a copy of a slice from a DataFrame\n",
      "\n",
      "See the caveats in the documentation: https://pandas.pydata.org/pandas-docs/stable/user_guide/indexing.html#returning-a-view-versus-a-copy\n",
      "  points['label'][no_label] = 0\n"
     ]
    },
    {
     "name": "stdout",
     "output_type": "stream",
     "text": [
      "[77/182] processing user 076\n",
      "[78/182] processing user 077\n",
      "[79/182] processing user 078\n"
     ]
    },
    {
     "name": "stderr",
     "output_type": "stream",
     "text": [
      "c:\\Users\\Bened\\Documents\\Git\\Master-Thesis\\Geolife\\read_geolife_utils.py:42: SettingWithCopyWarning: \n",
      "A value is trying to be set on a copy of a slice from a DataFrame\n",
      "\n",
      "See the caveats in the documentation: https://pandas.pydata.org/pandas-docs/stable/user_guide/indexing.html#returning-a-view-versus-a-copy\n",
      "  points['label'][no_label] = 0\n"
     ]
    },
    {
     "name": "stdout",
     "output_type": "stream",
     "text": [
      "[80/182] processing user 079\n",
      "[81/182] processing user 080\n",
      "[82/182] processing user 081\n"
     ]
    },
    {
     "name": "stderr",
     "output_type": "stream",
     "text": [
      "c:\\Users\\Bened\\Documents\\Git\\Master-Thesis\\Geolife\\read_geolife_utils.py:42: SettingWithCopyWarning: \n",
      "A value is trying to be set on a copy of a slice from a DataFrame\n",
      "\n",
      "See the caveats in the documentation: https://pandas.pydata.org/pandas-docs/stable/user_guide/indexing.html#returning-a-view-versus-a-copy\n",
      "  points['label'][no_label] = 0\n",
      "c:\\Users\\Bened\\Documents\\Git\\Master-Thesis\\Geolife\\read_geolife_utils.py:42: SettingWithCopyWarning: \n",
      "A value is trying to be set on a copy of a slice from a DataFrame\n",
      "\n",
      "See the caveats in the documentation: https://pandas.pydata.org/pandas-docs/stable/user_guide/indexing.html#returning-a-view-versus-a-copy\n",
      "  points['label'][no_label] = 0\n"
     ]
    },
    {
     "name": "stdout",
     "output_type": "stream",
     "text": [
      "[83/182] processing user 082\n"
     ]
    },
    {
     "name": "stderr",
     "output_type": "stream",
     "text": [
      "c:\\Users\\Bened\\Documents\\Git\\Master-Thesis\\Geolife\\read_geolife_utils.py:42: SettingWithCopyWarning: \n",
      "A value is trying to be set on a copy of a slice from a DataFrame\n",
      "\n",
      "See the caveats in the documentation: https://pandas.pydata.org/pandas-docs/stable/user_guide/indexing.html#returning-a-view-versus-a-copy\n",
      "  points['label'][no_label] = 0\n"
     ]
    },
    {
     "name": "stdout",
     "output_type": "stream",
     "text": [
      "[84/182] processing user 083\n",
      "[85/182] processing user 084\n"
     ]
    },
    {
     "name": "stderr",
     "output_type": "stream",
     "text": [
      "c:\\Users\\Bened\\Documents\\Git\\Master-Thesis\\Geolife\\read_geolife_utils.py:42: SettingWithCopyWarning: \n",
      "A value is trying to be set on a copy of a slice from a DataFrame\n",
      "\n",
      "See the caveats in the documentation: https://pandas.pydata.org/pandas-docs/stable/user_guide/indexing.html#returning-a-view-versus-a-copy\n",
      "  points['label'][no_label] = 0\n"
     ]
    },
    {
     "name": "stdout",
     "output_type": "stream",
     "text": [
      "[86/182] processing user 085\n"
     ]
    },
    {
     "name": "stderr",
     "output_type": "stream",
     "text": [
      "c:\\Users\\Bened\\Documents\\Git\\Master-Thesis\\Geolife\\read_geolife_utils.py:42: SettingWithCopyWarning: \n",
      "A value is trying to be set on a copy of a slice from a DataFrame\n",
      "\n",
      "See the caveats in the documentation: https://pandas.pydata.org/pandas-docs/stable/user_guide/indexing.html#returning-a-view-versus-a-copy\n",
      "  points['label'][no_label] = 0\n",
      "c:\\Users\\Bened\\Documents\\Git\\Master-Thesis\\Geolife\\read_geolife_utils.py:42: SettingWithCopyWarning: \n",
      "A value is trying to be set on a copy of a slice from a DataFrame\n",
      "\n",
      "See the caveats in the documentation: https://pandas.pydata.org/pandas-docs/stable/user_guide/indexing.html#returning-a-view-versus-a-copy\n",
      "  points['label'][no_label] = 0\n",
      "c:\\Users\\Bened\\Documents\\Git\\Master-Thesis\\Geolife\\read_geolife_utils.py:42: SettingWithCopyWarning: \n",
      "A value is trying to be set on a copy of a slice from a DataFrame\n",
      "\n",
      "See the caveats in the documentation: https://pandas.pydata.org/pandas-docs/stable/user_guide/indexing.html#returning-a-view-versus-a-copy\n",
      "  points['label'][no_label] = 0\n"
     ]
    },
    {
     "name": "stdout",
     "output_type": "stream",
     "text": [
      "[87/182] processing user 086\n",
      "[88/182] processing user 087\n",
      "[89/182] processing user 088\n"
     ]
    },
    {
     "name": "stderr",
     "output_type": "stream",
     "text": [
      "c:\\Users\\Bened\\Documents\\Git\\Master-Thesis\\Geolife\\read_geolife_utils.py:42: SettingWithCopyWarning: \n",
      "A value is trying to be set on a copy of a slice from a DataFrame\n",
      "\n",
      "See the caveats in the documentation: https://pandas.pydata.org/pandas-docs/stable/user_guide/indexing.html#returning-a-view-versus-a-copy\n",
      "  points['label'][no_label] = 0\n"
     ]
    },
    {
     "name": "stdout",
     "output_type": "stream",
     "text": [
      "[90/182] processing user 089\n"
     ]
    },
    {
     "name": "stderr",
     "output_type": "stream",
     "text": [
      "c:\\Users\\Bened\\Documents\\Git\\Master-Thesis\\Geolife\\read_geolife_utils.py:42: SettingWithCopyWarning: \n",
      "A value is trying to be set on a copy of a slice from a DataFrame\n",
      "\n",
      "See the caveats in the documentation: https://pandas.pydata.org/pandas-docs/stable/user_guide/indexing.html#returning-a-view-versus-a-copy\n",
      "  points['label'][no_label] = 0\n"
     ]
    },
    {
     "name": "stdout",
     "output_type": "stream",
     "text": [
      "[91/182] processing user 090\n",
      "[92/182] processing user 091\n"
     ]
    },
    {
     "name": "stderr",
     "output_type": "stream",
     "text": [
      "c:\\Users\\Bened\\Documents\\Git\\Master-Thesis\\Geolife\\read_geolife_utils.py:42: SettingWithCopyWarning: \n",
      "A value is trying to be set on a copy of a slice from a DataFrame\n",
      "\n",
      "See the caveats in the documentation: https://pandas.pydata.org/pandas-docs/stable/user_guide/indexing.html#returning-a-view-versus-a-copy\n",
      "  points['label'][no_label] = 0\n"
     ]
    },
    {
     "name": "stdout",
     "output_type": "stream",
     "text": [
      "[93/182] processing user 092\n"
     ]
    },
    {
     "name": "stderr",
     "output_type": "stream",
     "text": [
      "c:\\Users\\Bened\\Documents\\Git\\Master-Thesis\\Geolife\\read_geolife_utils.py:42: SettingWithCopyWarning: \n",
      "A value is trying to be set on a copy of a slice from a DataFrame\n",
      "\n",
      "See the caveats in the documentation: https://pandas.pydata.org/pandas-docs/stable/user_guide/indexing.html#returning-a-view-versus-a-copy\n",
      "  points['label'][no_label] = 0\n"
     ]
    },
    {
     "name": "stdout",
     "output_type": "stream",
     "text": [
      "[94/182] processing user 093\n",
      "[95/182] processing user 094\n",
      "[96/182] processing user 095\n",
      "[97/182] processing user 096\n"
     ]
    },
    {
     "name": "stderr",
     "output_type": "stream",
     "text": [
      "c:\\Users\\Bened\\Documents\\Git\\Master-Thesis\\Geolife\\read_geolife_utils.py:42: SettingWithCopyWarning: \n",
      "A value is trying to be set on a copy of a slice from a DataFrame\n",
      "\n",
      "See the caveats in the documentation: https://pandas.pydata.org/pandas-docs/stable/user_guide/indexing.html#returning-a-view-versus-a-copy\n",
      "  points['label'][no_label] = 0\n"
     ]
    },
    {
     "name": "stdout",
     "output_type": "stream",
     "text": [
      "[98/182] processing user 097\n"
     ]
    },
    {
     "name": "stderr",
     "output_type": "stream",
     "text": [
      "c:\\Users\\Bened\\Documents\\Git\\Master-Thesis\\Geolife\\read_geolife_utils.py:42: SettingWithCopyWarning: \n",
      "A value is trying to be set on a copy of a slice from a DataFrame\n",
      "\n",
      "See the caveats in the documentation: https://pandas.pydata.org/pandas-docs/stable/user_guide/indexing.html#returning-a-view-versus-a-copy\n",
      "  points['label'][no_label] = 0\n",
      "c:\\Users\\Bened\\Documents\\Git\\Master-Thesis\\Geolife\\read_geolife_utils.py:42: SettingWithCopyWarning: \n",
      "A value is trying to be set on a copy of a slice from a DataFrame\n",
      "\n",
      "See the caveats in the documentation: https://pandas.pydata.org/pandas-docs/stable/user_guide/indexing.html#returning-a-view-versus-a-copy\n",
      "  points['label'][no_label] = 0\n"
     ]
    },
    {
     "name": "stdout",
     "output_type": "stream",
     "text": [
      "[99/182] processing user 098\n",
      "[100/182] processing user 099\n",
      "[101/182] processing user 100\n",
      "[102/182] processing user 101\n"
     ]
    },
    {
     "name": "stderr",
     "output_type": "stream",
     "text": [
      "c:\\Users\\Bened\\Documents\\Git\\Master-Thesis\\Geolife\\read_geolife_utils.py:42: SettingWithCopyWarning: \n",
      "A value is trying to be set on a copy of a slice from a DataFrame\n",
      "\n",
      "See the caveats in the documentation: https://pandas.pydata.org/pandas-docs/stable/user_guide/indexing.html#returning-a-view-versus-a-copy\n",
      "  points['label'][no_label] = 0\n",
      "c:\\Users\\Bened\\Documents\\Git\\Master-Thesis\\Geolife\\read_geolife_utils.py:42: SettingWithCopyWarning: \n",
      "A value is trying to be set on a copy of a slice from a DataFrame\n",
      "\n",
      "See the caveats in the documentation: https://pandas.pydata.org/pandas-docs/stable/user_guide/indexing.html#returning-a-view-versus-a-copy\n",
      "  points['label'][no_label] = 0\n"
     ]
    },
    {
     "name": "stdout",
     "output_type": "stream",
     "text": [
      "[103/182] processing user 102\n"
     ]
    },
    {
     "name": "stderr",
     "output_type": "stream",
     "text": [
      "c:\\Users\\Bened\\Documents\\Git\\Master-Thesis\\Geolife\\read_geolife_utils.py:42: SettingWithCopyWarning: \n",
      "A value is trying to be set on a copy of a slice from a DataFrame\n",
      "\n",
      "See the caveats in the documentation: https://pandas.pydata.org/pandas-docs/stable/user_guide/indexing.html#returning-a-view-versus-a-copy\n",
      "  points['label'][no_label] = 0\n"
     ]
    },
    {
     "name": "stdout",
     "output_type": "stream",
     "text": [
      "[104/182] processing user 103\n",
      "[105/182] processing user 104\n"
     ]
    },
    {
     "name": "stderr",
     "output_type": "stream",
     "text": [
      "c:\\Users\\Bened\\Documents\\Git\\Master-Thesis\\Geolife\\read_geolife_utils.py:42: SettingWithCopyWarning: \n",
      "A value is trying to be set on a copy of a slice from a DataFrame\n",
      "\n",
      "See the caveats in the documentation: https://pandas.pydata.org/pandas-docs/stable/user_guide/indexing.html#returning-a-view-versus-a-copy\n",
      "  points['label'][no_label] = 0\n",
      "c:\\Users\\Bened\\Documents\\Git\\Master-Thesis\\Geolife\\read_geolife_utils.py:42: SettingWithCopyWarning: \n",
      "A value is trying to be set on a copy of a slice from a DataFrame\n",
      "\n",
      "See the caveats in the documentation: https://pandas.pydata.org/pandas-docs/stable/user_guide/indexing.html#returning-a-view-versus-a-copy\n",
      "  points['label'][no_label] = 0\n",
      "c:\\Users\\Bened\\Documents\\Git\\Master-Thesis\\Geolife\\read_geolife_utils.py:42: SettingWithCopyWarning: \n",
      "A value is trying to be set on a copy of a slice from a DataFrame\n",
      "\n",
      "See the caveats in the documentation: https://pandas.pydata.org/pandas-docs/stable/user_guide/indexing.html#returning-a-view-versus-a-copy\n",
      "  points['label'][no_label] = 0\n",
      "c:\\Users\\Bened\\Documents\\Git\\Master-Thesis\\Geolife\\read_geolife_utils.py:42: SettingWithCopyWarning: \n",
      "A value is trying to be set on a copy of a slice from a DataFrame\n",
      "\n",
      "See the caveats in the documentation: https://pandas.pydata.org/pandas-docs/stable/user_guide/indexing.html#returning-a-view-versus-a-copy\n",
      "  points['label'][no_label] = 0\n"
     ]
    },
    {
     "name": "stdout",
     "output_type": "stream",
     "text": [
      "[106/182] processing user 105\n",
      "[107/182] processing user 106\n",
      "[108/182] processing user 107\n",
      "[109/182] processing user 108\n"
     ]
    },
    {
     "name": "stderr",
     "output_type": "stream",
     "text": [
      "c:\\Users\\Bened\\Documents\\Git\\Master-Thesis\\Geolife\\read_geolife_utils.py:42: SettingWithCopyWarning: \n",
      "A value is trying to be set on a copy of a slice from a DataFrame\n",
      "\n",
      "See the caveats in the documentation: https://pandas.pydata.org/pandas-docs/stable/user_guide/indexing.html#returning-a-view-versus-a-copy\n",
      "  points['label'][no_label] = 0\n"
     ]
    },
    {
     "name": "stdout",
     "output_type": "stream",
     "text": [
      "[110/182] processing user 109\n",
      "[111/182] processing user 110\n"
     ]
    },
    {
     "name": "stderr",
     "output_type": "stream",
     "text": [
      "c:\\Users\\Bened\\Documents\\Git\\Master-Thesis\\Geolife\\read_geolife_utils.py:42: SettingWithCopyWarning: \n",
      "A value is trying to be set on a copy of a slice from a DataFrame\n",
      "\n",
      "See the caveats in the documentation: https://pandas.pydata.org/pandas-docs/stable/user_guide/indexing.html#returning-a-view-versus-a-copy\n",
      "  points['label'][no_label] = 0\n"
     ]
    },
    {
     "name": "stdout",
     "output_type": "stream",
     "text": [
      "[112/182] processing user 111\n"
     ]
    },
    {
     "name": "stderr",
     "output_type": "stream",
     "text": [
      "c:\\Users\\Bened\\Documents\\Git\\Master-Thesis\\Geolife\\read_geolife_utils.py:42: SettingWithCopyWarning: \n",
      "A value is trying to be set on a copy of a slice from a DataFrame\n",
      "\n",
      "See the caveats in the documentation: https://pandas.pydata.org/pandas-docs/stable/user_guide/indexing.html#returning-a-view-versus-a-copy\n",
      "  points['label'][no_label] = 0\n"
     ]
    },
    {
     "name": "stdout",
     "output_type": "stream",
     "text": [
      "[113/182] processing user 112\n"
     ]
    },
    {
     "name": "stderr",
     "output_type": "stream",
     "text": [
      "c:\\Users\\Bened\\Documents\\Git\\Master-Thesis\\Geolife\\read_geolife_utils.py:42: SettingWithCopyWarning: \n",
      "A value is trying to be set on a copy of a slice from a DataFrame\n",
      "\n",
      "See the caveats in the documentation: https://pandas.pydata.org/pandas-docs/stable/user_guide/indexing.html#returning-a-view-versus-a-copy\n",
      "  points['label'][no_label] = 0\n"
     ]
    },
    {
     "name": "stdout",
     "output_type": "stream",
     "text": [
      "[114/182] processing user 113\n",
      "[115/182] processing user 114\n"
     ]
    },
    {
     "name": "stderr",
     "output_type": "stream",
     "text": [
      "c:\\Users\\Bened\\Documents\\Git\\Master-Thesis\\Geolife\\read_geolife_utils.py:42: SettingWithCopyWarning: \n",
      "A value is trying to be set on a copy of a slice from a DataFrame\n",
      "\n",
      "See the caveats in the documentation: https://pandas.pydata.org/pandas-docs/stable/user_guide/indexing.html#returning-a-view-versus-a-copy\n",
      "  points['label'][no_label] = 0\n"
     ]
    },
    {
     "name": "stdout",
     "output_type": "stream",
     "text": [
      "[116/182] processing user 115\n"
     ]
    },
    {
     "name": "stderr",
     "output_type": "stream",
     "text": [
      "c:\\Users\\Bened\\Documents\\Git\\Master-Thesis\\Geolife\\read_geolife_utils.py:42: SettingWithCopyWarning: \n",
      "A value is trying to be set on a copy of a slice from a DataFrame\n",
      "\n",
      "See the caveats in the documentation: https://pandas.pydata.org/pandas-docs/stable/user_guide/indexing.html#returning-a-view-versus-a-copy\n",
      "  points['label'][no_label] = 0\n",
      "c:\\Users\\Bened\\Documents\\Git\\Master-Thesis\\Geolife\\read_geolife_utils.py:42: SettingWithCopyWarning: \n",
      "A value is trying to be set on a copy of a slice from a DataFrame\n",
      "\n",
      "See the caveats in the documentation: https://pandas.pydata.org/pandas-docs/stable/user_guide/indexing.html#returning-a-view-versus-a-copy\n",
      "  points['label'][no_label] = 0\n",
      "c:\\Users\\Bened\\Documents\\Git\\Master-Thesis\\Geolife\\read_geolife_utils.py:42: SettingWithCopyWarning: \n",
      "A value is trying to be set on a copy of a slice from a DataFrame\n",
      "\n",
      "See the caveats in the documentation: https://pandas.pydata.org/pandas-docs/stable/user_guide/indexing.html#returning-a-view-versus-a-copy\n",
      "  points['label'][no_label] = 0\n",
      "c:\\Users\\Bened\\Documents\\Git\\Master-Thesis\\Geolife\\read_geolife_utils.py:42: SettingWithCopyWarning: \n",
      "A value is trying to be set on a copy of a slice from a DataFrame\n",
      "\n",
      "See the caveats in the documentation: https://pandas.pydata.org/pandas-docs/stable/user_guide/indexing.html#returning-a-view-versus-a-copy\n",
      "  points['label'][no_label] = 0\n"
     ]
    },
    {
     "name": "stdout",
     "output_type": "stream",
     "text": [
      "[117/182] processing user 116\n",
      "[118/182] processing user 117\n",
      "[119/182] processing user 118\n",
      "[120/182] processing user 119\n",
      "[121/182] processing user 120\n",
      "[122/182] processing user 121\n",
      "[123/182] processing user 122\n",
      "[124/182] processing user 123\n",
      "[125/182] processing user 124\n"
     ]
    },
    {
     "name": "stderr",
     "output_type": "stream",
     "text": [
      "c:\\Users\\Bened\\Documents\\Git\\Master-Thesis\\Geolife\\read_geolife_utils.py:42: SettingWithCopyWarning: \n",
      "A value is trying to be set on a copy of a slice from a DataFrame\n",
      "\n",
      "See the caveats in the documentation: https://pandas.pydata.org/pandas-docs/stable/user_guide/indexing.html#returning-a-view-versus-a-copy\n",
      "  points['label'][no_label] = 0\n"
     ]
    },
    {
     "name": "stdout",
     "output_type": "stream",
     "text": [
      "[126/182] processing user 125\n"
     ]
    },
    {
     "name": "stderr",
     "output_type": "stream",
     "text": [
      "c:\\Users\\Bened\\Documents\\Git\\Master-Thesis\\Geolife\\read_geolife_utils.py:42: SettingWithCopyWarning: \n",
      "A value is trying to be set on a copy of a slice from a DataFrame\n",
      "\n",
      "See the caveats in the documentation: https://pandas.pydata.org/pandas-docs/stable/user_guide/indexing.html#returning-a-view-versus-a-copy\n",
      "  points['label'][no_label] = 0\n"
     ]
    },
    {
     "name": "stdout",
     "output_type": "stream",
     "text": [
      "[127/182] processing user 126\n"
     ]
    },
    {
     "name": "stderr",
     "output_type": "stream",
     "text": [
      "c:\\Users\\Bened\\Documents\\Git\\Master-Thesis\\Geolife\\read_geolife_utils.py:42: SettingWithCopyWarning: \n",
      "A value is trying to be set on a copy of a slice from a DataFrame\n",
      "\n",
      "See the caveats in the documentation: https://pandas.pydata.org/pandas-docs/stable/user_guide/indexing.html#returning-a-view-versus-a-copy\n",
      "  points['label'][no_label] = 0\n"
     ]
    },
    {
     "name": "stdout",
     "output_type": "stream",
     "text": [
      "[128/182] processing user 127\n",
      "[129/182] processing user 128\n"
     ]
    },
    {
     "name": "stderr",
     "output_type": "stream",
     "text": [
      "c:\\Users\\Bened\\Documents\\Git\\Master-Thesis\\Geolife\\read_geolife_utils.py:42: SettingWithCopyWarning: \n",
      "A value is trying to be set on a copy of a slice from a DataFrame\n",
      "\n",
      "See the caveats in the documentation: https://pandas.pydata.org/pandas-docs/stable/user_guide/indexing.html#returning-a-view-versus-a-copy\n",
      "  points['label'][no_label] = 0\n",
      "c:\\Users\\Bened\\Documents\\Git\\Master-Thesis\\Geolife\\read_geolife_utils.py:42: SettingWithCopyWarning: \n",
      "A value is trying to be set on a copy of a slice from a DataFrame\n",
      "\n",
      "See the caveats in the documentation: https://pandas.pydata.org/pandas-docs/stable/user_guide/indexing.html#returning-a-view-versus-a-copy\n",
      "  points['label'][no_label] = 0\n"
     ]
    },
    {
     "name": "stdout",
     "output_type": "stream",
     "text": [
      "[130/182] processing user 129\n",
      "[131/182] processing user 130\n",
      "[132/182] processing user 131\n",
      "[133/182] processing user 132\n",
      "[134/182] processing user 133\n",
      "[135/182] processing user 134\n",
      "[136/182] processing user 135\n",
      "[137/182] processing user 136\n",
      "[138/182] processing user 137\n",
      "[139/182] processing user 138\n"
     ]
    },
    {
     "name": "stderr",
     "output_type": "stream",
     "text": [
      "c:\\Users\\Bened\\Documents\\Git\\Master-Thesis\\Geolife\\read_geolife_utils.py:42: SettingWithCopyWarning: \n",
      "A value is trying to be set on a copy of a slice from a DataFrame\n",
      "\n",
      "See the caveats in the documentation: https://pandas.pydata.org/pandas-docs/stable/user_guide/indexing.html#returning-a-view-versus-a-copy\n",
      "  points['label'][no_label] = 0\n",
      "c:\\Users\\Bened\\Documents\\Git\\Master-Thesis\\Geolife\\read_geolife_utils.py:42: SettingWithCopyWarning: \n",
      "A value is trying to be set on a copy of a slice from a DataFrame\n",
      "\n",
      "See the caveats in the documentation: https://pandas.pydata.org/pandas-docs/stable/user_guide/indexing.html#returning-a-view-versus-a-copy\n",
      "  points['label'][no_label] = 0\n",
      "c:\\Users\\Bened\\Documents\\Git\\Master-Thesis\\Geolife\\read_geolife_utils.py:42: SettingWithCopyWarning: \n",
      "A value is trying to be set on a copy of a slice from a DataFrame\n",
      "\n",
      "See the caveats in the documentation: https://pandas.pydata.org/pandas-docs/stable/user_guide/indexing.html#returning-a-view-versus-a-copy\n",
      "  points['label'][no_label] = 0\n"
     ]
    },
    {
     "name": "stdout",
     "output_type": "stream",
     "text": [
      "[140/182] processing user 139\n",
      "[141/182] processing user 140\n",
      "[142/182] processing user 141\n"
     ]
    },
    {
     "name": "stderr",
     "output_type": "stream",
     "text": [
      "c:\\Users\\Bened\\Documents\\Git\\Master-Thesis\\Geolife\\read_geolife_utils.py:42: SettingWithCopyWarning: \n",
      "A value is trying to be set on a copy of a slice from a DataFrame\n",
      "\n",
      "See the caveats in the documentation: https://pandas.pydata.org/pandas-docs/stable/user_guide/indexing.html#returning-a-view-versus-a-copy\n",
      "  points['label'][no_label] = 0\n"
     ]
    },
    {
     "name": "stdout",
     "output_type": "stream",
     "text": [
      "[143/182] processing user 142\n",
      "[144/182] processing user 143\n",
      "[145/182] processing user 144\n"
     ]
    },
    {
     "name": "stderr",
     "output_type": "stream",
     "text": [
      "c:\\Users\\Bened\\Documents\\Git\\Master-Thesis\\Geolife\\read_geolife_utils.py:42: SettingWithCopyWarning: \n",
      "A value is trying to be set on a copy of a slice from a DataFrame\n",
      "\n",
      "See the caveats in the documentation: https://pandas.pydata.org/pandas-docs/stable/user_guide/indexing.html#returning-a-view-versus-a-copy\n",
      "  points['label'][no_label] = 0\n"
     ]
    },
    {
     "name": "stdout",
     "output_type": "stream",
     "text": [
      "[146/182] processing user 145\n",
      "[147/182] processing user 146\n",
      "[148/182] processing user 147\n"
     ]
    },
    {
     "name": "stderr",
     "output_type": "stream",
     "text": [
      "c:\\Users\\Bened\\Documents\\Git\\Master-Thesis\\Geolife\\read_geolife_utils.py:42: SettingWithCopyWarning: \n",
      "A value is trying to be set on a copy of a slice from a DataFrame\n",
      "\n",
      "See the caveats in the documentation: https://pandas.pydata.org/pandas-docs/stable/user_guide/indexing.html#returning-a-view-versus-a-copy\n",
      "  points['label'][no_label] = 0\n"
     ]
    },
    {
     "name": "stdout",
     "output_type": "stream",
     "text": [
      "[149/182] processing user 148\n",
      "[150/182] processing user 149\n",
      "[151/182] processing user 150\n",
      "[152/182] processing user 151\n",
      "[153/182] processing user 152\n",
      "[154/182] processing user 153\n"
     ]
    },
    {
     "name": "stderr",
     "output_type": "stream",
     "text": [
      "c:\\Users\\Bened\\Documents\\Git\\Master-Thesis\\Geolife\\read_geolife_utils.py:42: SettingWithCopyWarning: \n",
      "A value is trying to be set on a copy of a slice from a DataFrame\n",
      "\n",
      "See the caveats in the documentation: https://pandas.pydata.org/pandas-docs/stable/user_guide/indexing.html#returning-a-view-versus-a-copy\n",
      "  points['label'][no_label] = 0\n"
     ]
    },
    {
     "name": "stdout",
     "output_type": "stream",
     "text": [
      "[155/182] processing user 154\n"
     ]
    },
    {
     "name": "stderr",
     "output_type": "stream",
     "text": [
      "c:\\Users\\Bened\\Documents\\Git\\Master-Thesis\\Geolife\\read_geolife_utils.py:42: SettingWithCopyWarning: \n",
      "A value is trying to be set on a copy of a slice from a DataFrame\n",
      "\n",
      "See the caveats in the documentation: https://pandas.pydata.org/pandas-docs/stable/user_guide/indexing.html#returning-a-view-versus-a-copy\n",
      "  points['label'][no_label] = 0\n"
     ]
    },
    {
     "name": "stdout",
     "output_type": "stream",
     "text": [
      "[156/182] processing user 155\n",
      "[157/182] processing user 156\n",
      "[158/182] processing user 157\n",
      "[159/182] processing user 158\n",
      "[160/182] processing user 159\n",
      "[161/182] processing user 160\n",
      "[162/182] processing user 161\n"
     ]
    },
    {
     "name": "stderr",
     "output_type": "stream",
     "text": [
      "c:\\Users\\Bened\\Documents\\Git\\Master-Thesis\\Geolife\\read_geolife_utils.py:42: SettingWithCopyWarning: \n",
      "A value is trying to be set on a copy of a slice from a DataFrame\n",
      "\n",
      "See the caveats in the documentation: https://pandas.pydata.org/pandas-docs/stable/user_guide/indexing.html#returning-a-view-versus-a-copy\n",
      "  points['label'][no_label] = 0\n"
     ]
    },
    {
     "name": "stdout",
     "output_type": "stream",
     "text": [
      "[163/182] processing user 162\n",
      "[164/182] processing user 163\n"
     ]
    },
    {
     "name": "stderr",
     "output_type": "stream",
     "text": [
      "c:\\Users\\Bened\\Documents\\Git\\Master-Thesis\\Geolife\\read_geolife_utils.py:42: SettingWithCopyWarning: \n",
      "A value is trying to be set on a copy of a slice from a DataFrame\n",
      "\n",
      "See the caveats in the documentation: https://pandas.pydata.org/pandas-docs/stable/user_guide/indexing.html#returning-a-view-versus-a-copy\n",
      "  points['label'][no_label] = 0\n"
     ]
    },
    {
     "name": "stdout",
     "output_type": "stream",
     "text": [
      "[165/182] processing user 164\n",
      "[166/182] processing user 165\n",
      "[167/182] processing user 166\n",
      "[168/182] processing user 167\n"
     ]
    },
    {
     "name": "stderr",
     "output_type": "stream",
     "text": [
      "c:\\Users\\Bened\\Documents\\Git\\Master-Thesis\\Geolife\\read_geolife_utils.py:42: SettingWithCopyWarning: \n",
      "A value is trying to be set on a copy of a slice from a DataFrame\n",
      "\n",
      "See the caveats in the documentation: https://pandas.pydata.org/pandas-docs/stable/user_guide/indexing.html#returning-a-view-versus-a-copy\n",
      "  points['label'][no_label] = 0\n"
     ]
    },
    {
     "name": "stdout",
     "output_type": "stream",
     "text": [
      "[169/182] processing user 168\n",
      "[170/182] processing user 169\n",
      "[171/182] processing user 170\n",
      "[172/182] processing user 171\n",
      "[173/182] processing user 172\n"
     ]
    },
    {
     "name": "stderr",
     "output_type": "stream",
     "text": [
      "c:\\Users\\Bened\\Documents\\Git\\Master-Thesis\\Geolife\\read_geolife_utils.py:42: SettingWithCopyWarning: \n",
      "A value is trying to be set on a copy of a slice from a DataFrame\n",
      "\n",
      "See the caveats in the documentation: https://pandas.pydata.org/pandas-docs/stable/user_guide/indexing.html#returning-a-view-versus-a-copy\n",
      "  points['label'][no_label] = 0\n"
     ]
    },
    {
     "name": "stdout",
     "output_type": "stream",
     "text": [
      "[174/182] processing user 173\n",
      "[175/182] processing user 174\n"
     ]
    },
    {
     "name": "stderr",
     "output_type": "stream",
     "text": [
      "c:\\Users\\Bened\\Documents\\Git\\Master-Thesis\\Geolife\\read_geolife_utils.py:42: SettingWithCopyWarning: \n",
      "A value is trying to be set on a copy of a slice from a DataFrame\n",
      "\n",
      "See the caveats in the documentation: https://pandas.pydata.org/pandas-docs/stable/user_guide/indexing.html#returning-a-view-versus-a-copy\n",
      "  points['label'][no_label] = 0\n",
      "c:\\Users\\Bened\\Documents\\Git\\Master-Thesis\\Geolife\\read_geolife_utils.py:42: SettingWithCopyWarning: \n",
      "A value is trying to be set on a copy of a slice from a DataFrame\n",
      "\n",
      "See the caveats in the documentation: https://pandas.pydata.org/pandas-docs/stable/user_guide/indexing.html#returning-a-view-versus-a-copy\n",
      "  points['label'][no_label] = 0\n"
     ]
    },
    {
     "name": "stdout",
     "output_type": "stream",
     "text": [
      "[176/182] processing user 175\n",
      "[177/182] processing user 176\n",
      "[178/182] processing user 177\n",
      "[179/182] processing user 178\n",
      "[180/182] processing user 179\n"
     ]
    },
    {
     "name": "stderr",
     "output_type": "stream",
     "text": [
      "c:\\Users\\Bened\\Documents\\Git\\Master-Thesis\\Geolife\\read_geolife_utils.py:42: SettingWithCopyWarning: \n",
      "A value is trying to be set on a copy of a slice from a DataFrame\n",
      "\n",
      "See the caveats in the documentation: https://pandas.pydata.org/pandas-docs/stable/user_guide/indexing.html#returning-a-view-versus-a-copy\n",
      "  points['label'][no_label] = 0\n"
     ]
    },
    {
     "name": "stdout",
     "output_type": "stream",
     "text": [
      "[181/182] processing user 180\n",
      "[182/182] processing user 181\n",
      "Data read.\n"
     ]
    }
   ],
   "source": [
    "print('Reading data...')\n",
    "geolife_raw_df = read_geolife.read_all_users('../data/geolife/Geolife Trajectories 1.3/Data')\n",
    "print('Data read.')"
   ]
  },
  {
   "cell_type": "code",
   "execution_count": 3,
   "metadata": {},
   "outputs": [],
   "source": [
    "def write_geojson(gdf, path):\n",
    "    assert isinstance(gdf, gp.GeoDataFrame)\n",
    "    gdf.to_file(path, driver='GeoJSON')\n",
    "\n"
   ]
  },
  {
   "cell_type": "code",
   "execution_count": 4,
   "metadata": {},
   "outputs": [
    {
     "name": "stdout",
     "output_type": "stream",
     "text": [
      "removing points outside valid lon and lat range...\n",
      "points removed.\n"
     ]
    }
   ],
   "source": [
    "print('removing points outside valid lon and lat range...')\n",
    "# Remove points that fall outside the valid lon and lat range (-90 to 90 for latitude and -180 to 180 for longitude)\n",
    "geolife_raw_gdf = geolife_raw_df[(geolife_raw_df.lat >= -90) & (geolife_raw_df.lat <= 90) & (geolife_raw_df.lon >= -180) & (geolife_raw_df.lon <= 180)]\n",
    "print('points removed.')"
   ]
  },
  {
   "cell_type": "code",
   "execution_count": 64,
   "metadata": {},
   "outputs": [
    {
     "name": "stdout",
     "output_type": "stream",
     "text": [
      "Dropping NA values...\n"
     ]
    },
    {
     "name": "stderr",
     "output_type": "stream",
     "text": [
      "C:\\Users\\Bened\\AppData\\Local\\Temp\\ipykernel_5836\\83576967.py:4: SettingWithCopyWarning: \n",
      "A value is trying to be set on a copy of a slice from a DataFrame\n",
      "\n",
      "See the caveats in the documentation: https://pandas.pydata.org/pandas-docs/stable/user_guide/indexing.html#returning-a-view-versus-a-copy\n",
      "  geolife_raw_gdf.dropna(inplace=True)\n"
     ]
    },
    {
     "name": "stdout",
     "output_type": "stream",
     "text": [
      "NA values dropped.\n"
     ]
    }
   ],
   "source": [
    "print('Dropping NA values...')\n",
    "len_before = len(geolife_raw_gdf)\n",
    "logging.info('Rows before dropping NA values: {}'.format(len(geolife_raw_gdf)))\n",
    "geolife_raw_gdf.dropna(inplace=True)\n",
    "geolife_raw_gdf = geolife_raw_gdf.query('traj_id != 20110911000506') # this trajectory has a single point with a timestamp of 0\n",
    "logging.info('Rows after dropping NA values: {}'.format(len(geolife_raw_gdf)))\n",
    "logging.info('Rows dropped: {}'.format(len_before - len(geolife_raw_gdf)))\n",
    "print('NA values dropped.')"
   ]
  },
  {
   "cell_type": "code",
   "execution_count": 6,
   "metadata": {},
   "outputs": [
    {
     "name": "stdout",
     "output_type": "stream",
     "text": [
      "creating trajectory collection...\n",
      "trajectory collection created.\n"
     ]
    }
   ],
   "source": [
    "print('creating trajectory collection...')\n",
    "# Create trajectory collection\n",
    "geolife_raw_collection = mpd.TrajectoryCollection(geolife_raw_df, traj_id_col='traj_id', obj_id_col ='user', t='time', x='lon', y='lat')\n",
    "print('trajectory collection created.')\n",
    "\n",
    "logging.info(f'This is a test log of traj id: {geolife_raw_collection.trajectories[0].id}')\n",
    "logging.info(f'Number of trajectories in data: {len(geolife_raw_collection.trajectories)}')"
   ]
  },
  {
   "cell_type": "code",
   "execution_count": 7,
   "metadata": {},
   "outputs": [
    {
     "name": "stdout",
     "output_type": "stream",
     "text": [
      "converting to EPSG:32650 for China (Beijing)...\n"
     ]
    },
    {
     "name": "stderr",
     "output_type": "stream",
     "text": [
      "[Parallel(n_jobs=-2)]: Using backend LokyBackend with 7 concurrent workers.\n",
      "[Parallel(n_jobs=-2)]: Done   4 tasks      | elapsed:    6.2s\n",
      "[Parallel(n_jobs=-2)]: Done  11 tasks      | elapsed:    6.3s\n",
      "[Parallel(n_jobs=-2)]: Done  18 tasks      | elapsed:    6.4s\n",
      "[Parallel(n_jobs=-2)]: Done  27 tasks      | elapsed:    6.4s\n",
      "[Parallel(n_jobs=-2)]: Batch computation too fast (0.1954s.) Setting batch_size=2.\n",
      "[Parallel(n_jobs=-2)]: Done  36 tasks      | elapsed:    6.5s\n",
      "[Parallel(n_jobs=-2)]: Done  47 tasks      | elapsed:    6.6s\n",
      "[Parallel(n_jobs=-2)]: Batch computation too fast (0.0909s.) Setting batch_size=4.\n",
      "[Parallel(n_jobs=-2)]: Done  67 tasks      | elapsed:    6.7s\n",
      "[Parallel(n_jobs=-2)]: Done 109 tasks      | elapsed:    7.1s\n",
      "[Parallel(n_jobs=-2)]: Done 161 tasks      | elapsed:    7.4s\n",
      "[Parallel(n_jobs=-2)]: Done 221 tasks      | elapsed:    7.8s\n",
      "[Parallel(n_jobs=-2)]: Done 281 tasks      | elapsed:    8.2s\n",
      "[Parallel(n_jobs=-2)]: Done 349 tasks      | elapsed:    8.5s\n",
      "[Parallel(n_jobs=-2)]: Done 417 tasks      | elapsed:    9.1s\n",
      "[Parallel(n_jobs=-2)]: Done 493 tasks      | elapsed:    9.8s\n",
      "[Parallel(n_jobs=-2)]: Done 569 tasks      | elapsed:   11.4s\n",
      "[Parallel(n_jobs=-2)]: Done 653 tasks      | elapsed:   14.0s\n",
      "[Parallel(n_jobs=-2)]: Batch computation too slow (2.0900s.) Setting batch_size=1.\n",
      "[Parallel(n_jobs=-2)]: Done 713 tasks      | elapsed:   14.9s\n",
      "[Parallel(n_jobs=-2)]: Batch computation too fast (0.1848s.) Setting batch_size=2.\n",
      "[Parallel(n_jobs=-2)]: Batch computation too fast (0.1246s.) Setting batch_size=4.\n",
      "[Parallel(n_jobs=-2)]: Done 741 tasks      | elapsed:   15.2s\n",
      "[Parallel(n_jobs=-2)]: Batch computation too slow (3.7602s.) Setting batch_size=1.\n",
      "[Parallel(n_jobs=-2)]: Done 809 tasks      | elapsed:   16.0s\n",
      "[Parallel(n_jobs=-2)]: Batch computation too fast (0.1907s.) Setting batch_size=2.\n",
      "[Parallel(n_jobs=-2)]: Done 846 tasks      | elapsed:   16.3s\n",
      "[Parallel(n_jobs=-2)]: Batch computation too fast (0.1424s.) Setting batch_size=4.\n",
      "[Parallel(n_jobs=-2)]: Done 897 tasks      | elapsed:   17.1s\n",
      "[Parallel(n_jobs=-2)]: Done 1005 tasks      | elapsed:   19.1s\n",
      "[Parallel(n_jobs=-2)]: Batch computation too slow (2.3435s.) Setting batch_size=1.\n",
      "[Parallel(n_jobs=-2)]: Done 1092 tasks      | elapsed:   20.2s\n",
      "[Parallel(n_jobs=-2)]: Batch computation too fast (0.1929s.) Setting batch_size=2.\n",
      "[Parallel(n_jobs=-2)]: Batch computation too fast (0.1918s.) Setting batch_size=4.\n",
      "[Parallel(n_jobs=-2)]: Done 1129 tasks      | elapsed:   20.6s\n",
      "[Parallel(n_jobs=-2)]: Done 1233 tasks      | elapsed:   21.6s\n",
      "[Parallel(n_jobs=-2)]: Done 1357 tasks      | elapsed:   24.0s\n",
      "[Parallel(n_jobs=-2)]: Done 1481 tasks      | elapsed:   27.7s\n",
      "[Parallel(n_jobs=-2)]: Batch computation too slow (2.0799s.) Setting batch_size=1.\n",
      "[Parallel(n_jobs=-2)]: Done 1565 tasks      | elapsed:   34.4s\n",
      "[Parallel(n_jobs=-2)]: Done 1607 tasks      | elapsed:   36.3s\n",
      "[Parallel(n_jobs=-2)]: Done 1642 tasks      | elapsed:   37.7s\n",
      "[Parallel(n_jobs=-2)]: Done 1677 tasks      | elapsed:   38.9s\n",
      "[Parallel(n_jobs=-2)]: Done 1714 tasks      | elapsed:   39.9s\n",
      "[Parallel(n_jobs=-2)]: Done 1751 tasks      | elapsed:   40.7s\n",
      "[Parallel(n_jobs=-2)]: Done 1790 tasks      | elapsed:   42.4s\n",
      "[Parallel(n_jobs=-2)]: Done 1829 tasks      | elapsed:   43.8s\n",
      "[Parallel(n_jobs=-2)]: Done 1870 tasks      | elapsed:   45.1s\n",
      "[Parallel(n_jobs=-2)]: Done 1911 tasks      | elapsed:   47.3s\n",
      "[Parallel(n_jobs=-2)]: Done 1954 tasks      | elapsed:   49.7s\n",
      "[Parallel(n_jobs=-2)]: Done 1997 tasks      | elapsed:   51.3s\n",
      "[Parallel(n_jobs=-2)]: Done 2042 tasks      | elapsed:   53.6s\n",
      "[Parallel(n_jobs=-2)]: Done 2087 tasks      | elapsed:   55.9s\n",
      "[Parallel(n_jobs=-2)]: Done 2134 tasks      | elapsed:   57.9s\n",
      "[Parallel(n_jobs=-2)]: Done 2181 tasks      | elapsed:  1.0min\n",
      "[Parallel(n_jobs=-2)]: Done 2230 tasks      | elapsed:  1.1min\n",
      "[Parallel(n_jobs=-2)]: Batch computation too fast (0.1963s.) Setting batch_size=2.\n",
      "[Parallel(n_jobs=-2)]: Done 2304 tasks      | elapsed:  1.1min\n",
      "[Parallel(n_jobs=-2)]: Batch computation too slow (2.0018s.) Setting batch_size=1.\n",
      "[Parallel(n_jobs=-2)]: Done 2385 tasks      | elapsed:  1.2min\n",
      "[Parallel(n_jobs=-2)]: Done 2436 tasks      | elapsed:  1.2min\n",
      "[Parallel(n_jobs=-2)]: Done 2490 tasks      | elapsed:  1.3min\n",
      "[Parallel(n_jobs=-2)]: Done 2543 tasks      | elapsed:  1.3min\n",
      "[Parallel(n_jobs=-2)]: Batch computation too fast (0.1951s.) Setting batch_size=2.\n",
      "[Parallel(n_jobs=-2)]: Done 2606 tasks      | elapsed:  1.3min\n",
      "[Parallel(n_jobs=-2)]: Done 2716 tasks      | elapsed:  1.4min\n",
      "[Parallel(n_jobs=-2)]: Done 2830 tasks      | elapsed:  1.4min\n",
      "[Parallel(n_jobs=-2)]: Done 2944 tasks      | elapsed:  1.5min\n",
      "[Parallel(n_jobs=-2)]: Done 3062 tasks      | elapsed:  1.6min\n",
      "[Parallel(n_jobs=-2)]: Batch computation too slow (2.1413s.) Setting batch_size=1.\n",
      "[Parallel(n_jobs=-2)]: Done 3165 tasks      | elapsed:  1.7min\n",
      "[Parallel(n_jobs=-2)]: Done 3226 tasks      | elapsed:  1.7min\n",
      "[Parallel(n_jobs=-2)]: Done 3287 tasks      | elapsed:  1.7min\n",
      "[Parallel(n_jobs=-2)]: Done 3350 tasks      | elapsed:  1.8min\n",
      "[Parallel(n_jobs=-2)]: Done 3413 tasks      | elapsed:  1.8min\n",
      "[Parallel(n_jobs=-2)]: Done 3478 tasks      | elapsed:  1.9min\n",
      "[Parallel(n_jobs=-2)]: Done 3543 tasks      | elapsed:  1.9min\n",
      "[Parallel(n_jobs=-2)]: Done 3610 tasks      | elapsed:  2.0min\n",
      "[Parallel(n_jobs=-2)]: Done 3677 tasks      | elapsed:  2.0min\n",
      "[Parallel(n_jobs=-2)]: Done 3746 tasks      | elapsed:  2.1min\n",
      "[Parallel(n_jobs=-2)]: Done 3815 tasks      | elapsed:  2.1min\n",
      "[Parallel(n_jobs=-2)]: Done 3886 tasks      | elapsed:  2.2min\n",
      "[Parallel(n_jobs=-2)]: Done 3957 tasks      | elapsed:  2.2min\n",
      "[Parallel(n_jobs=-2)]: Done 4030 tasks      | elapsed:  2.3min\n",
      "[Parallel(n_jobs=-2)]: Done 4103 tasks      | elapsed:  2.3min\n",
      "[Parallel(n_jobs=-2)]: Done 4178 tasks      | elapsed:  2.4min\n",
      "[Parallel(n_jobs=-2)]: Done 4253 tasks      | elapsed:  2.5min\n",
      "[Parallel(n_jobs=-2)]: Done 4330 tasks      | elapsed:  2.6min\n",
      "[Parallel(n_jobs=-2)]: Done 4407 tasks      | elapsed:  2.7min\n",
      "[Parallel(n_jobs=-2)]: Done 4486 tasks      | elapsed:  2.7min\n",
      "[Parallel(n_jobs=-2)]: Done 4565 tasks      | elapsed:  2.8min\n",
      "[Parallel(n_jobs=-2)]: Done 4646 tasks      | elapsed:  2.8min\n",
      "[Parallel(n_jobs=-2)]: Done 4727 tasks      | elapsed:  2.9min\n",
      "[Parallel(n_jobs=-2)]: Done 4810 tasks      | elapsed:  2.9min\n",
      "[Parallel(n_jobs=-2)]: Done 4893 tasks      | elapsed:  3.0min\n",
      "[Parallel(n_jobs=-2)]: Done 4978 tasks      | elapsed:  3.1min\n",
      "[Parallel(n_jobs=-2)]: Done 5063 tasks      | elapsed:  3.2min\n",
      "[Parallel(n_jobs=-2)]: Done 5150 tasks      | elapsed:  3.3min\n",
      "[Parallel(n_jobs=-2)]: Done 5237 tasks      | elapsed:  3.4min\n",
      "[Parallel(n_jobs=-2)]: Done 5326 tasks      | elapsed:  3.5min\n",
      "[Parallel(n_jobs=-2)]: Done 5415 tasks      | elapsed:  3.6min\n",
      "[Parallel(n_jobs=-2)]: Done 5506 tasks      | elapsed:  3.7min\n",
      "[Parallel(n_jobs=-2)]: Done 5597 tasks      | elapsed:  3.7min\n",
      "[Parallel(n_jobs=-2)]: Done 5690 tasks      | elapsed:  3.8min\n",
      "[Parallel(n_jobs=-2)]: Done 5783 tasks      | elapsed:  3.9min\n",
      "[Parallel(n_jobs=-2)]: Done 5878 tasks      | elapsed:  4.0min\n",
      "[Parallel(n_jobs=-2)]: Done 5973 tasks      | elapsed:  4.0min\n",
      "[Parallel(n_jobs=-2)]: Done 6070 tasks      | elapsed:  4.1min\n",
      "[Parallel(n_jobs=-2)]: Done 6167 tasks      | elapsed:  4.2min\n",
      "[Parallel(n_jobs=-2)]: Done 6266 tasks      | elapsed:  4.3min\n",
      "[Parallel(n_jobs=-2)]: Done 6365 tasks      | elapsed:  4.3min\n",
      "[Parallel(n_jobs=-2)]: Done 6466 tasks      | elapsed:  4.4min\n",
      "[Parallel(n_jobs=-2)]: Done 6567 tasks      | elapsed:  4.5min\n",
      "[Parallel(n_jobs=-2)]: Done 6670 tasks      | elapsed:  4.5min\n",
      "[Parallel(n_jobs=-2)]: Done 6773 tasks      | elapsed:  4.6min\n",
      "[Parallel(n_jobs=-2)]: Done 6878 tasks      | elapsed:  4.7min\n",
      "[Parallel(n_jobs=-2)]: Done 6983 tasks      | elapsed:  4.8min\n",
      "[Parallel(n_jobs=-2)]: Done 7090 tasks      | elapsed:  4.9min\n",
      "[Parallel(n_jobs=-2)]: Done 7197 tasks      | elapsed:  4.9min\n",
      "[Parallel(n_jobs=-2)]: Done 7306 tasks      | elapsed:  5.0min\n",
      "[Parallel(n_jobs=-2)]: Done 7415 tasks      | elapsed:  5.1min\n",
      "[Parallel(n_jobs=-2)]: Done 7526 tasks      | elapsed:  5.2min\n",
      "[Parallel(n_jobs=-2)]: Done 7637 tasks      | elapsed:  5.3min\n",
      "[Parallel(n_jobs=-2)]: Done 7750 tasks      | elapsed:  5.4min\n",
      "[Parallel(n_jobs=-2)]: Done 7863 tasks      | elapsed:  5.5min\n",
      "[Parallel(n_jobs=-2)]: Done 7978 tasks      | elapsed:  5.7min\n",
      "[Parallel(n_jobs=-2)]: Done 8093 tasks      | elapsed:  5.8min\n",
      "[Parallel(n_jobs=-2)]: Done 8210 tasks      | elapsed:  5.9min\n",
      "[Parallel(n_jobs=-2)]: Done 8327 tasks      | elapsed:  6.0min\n",
      "[Parallel(n_jobs=-2)]: Done 8446 tasks      | elapsed:  6.1min\n",
      "[Parallel(n_jobs=-2)]: Done 8565 tasks      | elapsed:  6.2min\n",
      "[Parallel(n_jobs=-2)]: Done 8686 tasks      | elapsed:  6.3min\n",
      "[Parallel(n_jobs=-2)]: Done 8807 tasks      | elapsed:  6.4min\n",
      "[Parallel(n_jobs=-2)]: Done 8930 tasks      | elapsed:  6.5min\n",
      "[Parallel(n_jobs=-2)]: Done 9053 tasks      | elapsed:  6.6min\n",
      "[Parallel(n_jobs=-2)]: Done 9178 tasks      | elapsed:  6.7min\n",
      "[Parallel(n_jobs=-2)]: Done 9303 tasks      | elapsed:  6.8min\n",
      "[Parallel(n_jobs=-2)]: Done 9430 tasks      | elapsed:  6.9min\n",
      "[Parallel(n_jobs=-2)]: Done 9557 tasks      | elapsed:  7.1min\n",
      "[Parallel(n_jobs=-2)]: Done 9686 tasks      | elapsed:  7.2min\n",
      "[Parallel(n_jobs=-2)]: Done 9815 tasks      | elapsed:  7.3min\n",
      "[Parallel(n_jobs=-2)]: Done 9946 tasks      | elapsed:  7.4min\n",
      "[Parallel(n_jobs=-2)]: Done 10077 tasks      | elapsed:  7.6min\n",
      "[Parallel(n_jobs=-2)]: Done 10210 tasks      | elapsed:  7.7min\n",
      "[Parallel(n_jobs=-2)]: Done 10343 tasks      | elapsed:  8.0min\n",
      "[Parallel(n_jobs=-2)]: Done 10478 tasks      | elapsed:  8.1min\n",
      "[Parallel(n_jobs=-2)]: Done 10613 tasks      | elapsed:  8.2min\n",
      "[Parallel(n_jobs=-2)]: Done 10750 tasks      | elapsed:  8.4min\n",
      "[Parallel(n_jobs=-2)]: Done 10887 tasks      | elapsed:  8.5min\n",
      "[Parallel(n_jobs=-2)]: Done 11026 tasks      | elapsed:  8.6min\n",
      "[Parallel(n_jobs=-2)]: Done 11165 tasks      | elapsed:  8.8min\n",
      "[Parallel(n_jobs=-2)]: Done 11306 tasks      | elapsed:  8.9min\n",
      "[Parallel(n_jobs=-2)]: Done 11447 tasks      | elapsed:  9.0min\n",
      "[Parallel(n_jobs=-2)]: Done 11590 tasks      | elapsed:  9.1min\n",
      "[Parallel(n_jobs=-2)]: Done 11733 tasks      | elapsed:  9.3min\n",
      "[Parallel(n_jobs=-2)]: Done 11878 tasks      | elapsed:  9.4min\n",
      "[Parallel(n_jobs=-2)]: Done 12023 tasks      | elapsed:  9.6min\n",
      "[Parallel(n_jobs=-2)]: Done 12170 tasks      | elapsed:  9.8min\n",
      "[Parallel(n_jobs=-2)]: Done 12317 tasks      | elapsed:  9.9min\n",
      "[Parallel(n_jobs=-2)]: Done 12466 tasks      | elapsed: 10.1min\n",
      "[Parallel(n_jobs=-2)]: Done 12615 tasks      | elapsed: 10.2min\n",
      "[Parallel(n_jobs=-2)]: Done 12766 tasks      | elapsed: 10.3min\n",
      "[Parallel(n_jobs=-2)]: Done 12917 tasks      | elapsed: 10.6min\n",
      "[Parallel(n_jobs=-2)]: Done 13070 tasks      | elapsed: 10.8min\n",
      "[Parallel(n_jobs=-2)]: Done 13223 tasks      | elapsed: 11.0min\n",
      "[Parallel(n_jobs=-2)]: Done 13378 tasks      | elapsed: 11.1min\n",
      "[Parallel(n_jobs=-2)]: Done 13533 tasks      | elapsed: 11.3min\n",
      "[Parallel(n_jobs=-2)]: Done 13690 tasks      | elapsed: 11.5min\n",
      "[Parallel(n_jobs=-2)]: Done 13847 tasks      | elapsed: 11.6min\n",
      "[Parallel(n_jobs=-2)]: Done 14006 tasks      | elapsed: 11.7min\n",
      "[Parallel(n_jobs=-2)]: Batch computation too fast (0.1977s.) Setting batch_size=2.\n",
      "[Parallel(n_jobs=-2)]: Done 14239 tasks      | elapsed: 11.8min\n",
      "[Parallel(n_jobs=-2)]: Done 14561 tasks      | elapsed: 11.9min\n",
      "[Parallel(n_jobs=-2)]: Done 14883 tasks      | elapsed: 12.1min\n",
      "[Parallel(n_jobs=-2)]: Done 15209 tasks      | elapsed: 12.2min\n",
      "[Parallel(n_jobs=-2)]: Done 15535 tasks      | elapsed: 12.4min\n",
      "[Parallel(n_jobs=-2)]: Batch computation too slow (2.0260s.) Setting batch_size=1.\n",
      "[Parallel(n_jobs=-2)]: Done 15839 tasks      | elapsed: 12.5min\n",
      "[Parallel(n_jobs=-2)]: Batch computation too fast (0.1963s.) Setting batch_size=2.\n",
      "[Parallel(n_jobs=-2)]: Done 16009 tasks      | elapsed: 12.7min\n",
      "[Parallel(n_jobs=-2)]: Batch computation too slow (2.4524s.) Setting batch_size=1.\n",
      "[Parallel(n_jobs=-2)]: Done 16289 tasks      | elapsed: 13.0min\n",
      "[Parallel(n_jobs=-2)]: Done 16457 tasks      | elapsed: 13.2min\n",
      "[Parallel(n_jobs=-2)]: Done 16626 tasks      | elapsed: 13.4min\n",
      "[Parallel(n_jobs=-2)]: Done 16795 tasks      | elapsed: 13.5min\n",
      "[Parallel(n_jobs=-2)]: Done 16966 tasks      | elapsed: 13.6min\n",
      "[Parallel(n_jobs=-2)]: Done 17137 tasks      | elapsed: 13.7min\n",
      "[Parallel(n_jobs=-2)]: Done 17310 tasks      | elapsed: 13.8min\n",
      "[Parallel(n_jobs=-2)]: Done 17483 tasks      | elapsed: 13.9min\n",
      "[Parallel(n_jobs=-2)]: Batch computation too fast (0.1955s.) Setting batch_size=2.\n",
      "[Parallel(n_jobs=-2)]: Batch computation too slow (2.1787s.) Setting batch_size=1.\n",
      "[Parallel(n_jobs=-2)]: Done 17728 tasks      | elapsed: 14.1min\n",
      "[Parallel(n_jobs=-2)]: Done 17784 out of 17784 | elapsed: 14.1min finished\n"
     ]
    },
    {
     "name": "stdout",
     "output_type": "stream",
     "text": [
      "converted to EPSG:32650 for China (Beijing).\n"
     ]
    }
   ],
   "source": [
    "# Convert to EPSG:32650 for China (Beijing)\n",
    "def convert_epsg(traj):\n",
    "    result = traj.to_crs(CRS(32650))\n",
    "    result.obj_id = traj.obj_id\n",
    "    return result\n",
    "print('converting to EPSG:32650 for China (Beijing)...')\n",
    "geolife_raw_collection.trajectories = Parallel(n_jobs=-2, verbose=10)(delayed(convert_epsg)(traj) for traj in geolife_raw_collection.trajectories)\n",
    "print('converted to EPSG:32650 for China (Beijing).')"
   ]
  },
  {
   "cell_type": "code",
   "execution_count": 21,
   "metadata": {},
   "outputs": [
    {
     "name": "stdout",
     "output_type": "stream",
     "text": [
      "smoothing trajectories...\n"
     ]
    },
    {
     "name": "stderr",
     "output_type": "stream",
     "text": [
      " 94%|█████████▎| 16631/17784 [6:27:01<35:12,  1.83s/it]   c:\\Users\\Bened\\Documents\\Git\\Master-Thesis\\env\\lib\\site-packages\\stonesoup\\types\\array.py:44: RuntimeWarning: invalid value encountered in matmul\n",
      "  result = super().__array_ufunc__(ufunc, method, *inputs, **kwargs)\n",
      "100%|██████████| 17784/17784 [6:48:52<00:00,  1.38s/it]  \n"
     ]
    },
    {
     "ename": "GEOSException",
     "evalue": "UnsupportedOperationException: getY called on empty Point\n",
     "output_type": "error",
     "traceback": [
      "\u001b[1;31m---------------------------------------------------------------------------\u001b[0m",
      "\u001b[1;31mGEOSException\u001b[0m                             Traceback (most recent call last)",
      "Cell \u001b[1;32mIn[21], line 22\u001b[0m\n\u001b[0;32m     19\u001b[0m         \u001b[39mprint\u001b[39m(e, \u001b[39m'\u001b[39m\u001b[39mError at traj: \u001b[39m\u001b[39m'\u001b[39m, traj\u001b[39m.\u001b[39mid)\n\u001b[0;32m     20\u001b[0m         \u001b[39mcontinue\u001b[39;00m\n\u001b[1;32m---> 22\u001b[0m geolife_smooth_collection \u001b[39m=\u001b[39m mpd\u001b[39m.\u001b[39;49mTrajectoryCollection(geolife_smooth_collection)\n\u001b[0;32m     23\u001b[0m \u001b[39mprint\u001b[39m(\u001b[39m'\u001b[39m\u001b[39mtrajectories smoothed.\u001b[39m\u001b[39m'\u001b[39m)\n",
      "File \u001b[1;32mc:\\Users\\Bened\\Documents\\Git\\Master-Thesis\\env\\lib\\site-packages\\movingpandas\\trajectory_collection.py:61\u001b[0m, in \u001b[0;36mTrajectoryCollection.__init__\u001b[1;34m(self, data, traj_id_col, obj_id_col, t, x, y, crs, min_length, min_duration)\u001b[0m\n\u001b[0;32m     59\u001b[0m \u001b[39mself\u001b[39m\u001b[39m.\u001b[39mmin_duration \u001b[39m=\u001b[39m min_duration\n\u001b[0;32m     60\u001b[0m \u001b[39mif\u001b[39;00m \u001b[39mtype\u001b[39m(data) \u001b[39m==\u001b[39m \u001b[39mlist\u001b[39m:\n\u001b[1;32m---> 61\u001b[0m     \u001b[39mself\u001b[39m\u001b[39m.\u001b[39mtrajectories \u001b[39m=\u001b[39m [\n\u001b[0;32m     62\u001b[0m         traj \u001b[39mfor\u001b[39;00m traj \u001b[39min\u001b[39;00m data \u001b[39mif\u001b[39;00m traj\u001b[39m.\u001b[39mget_length() \u001b[39m>\u001b[39m\u001b[39m=\u001b[39m min_length\n\u001b[0;32m     63\u001b[0m     ]\n\u001b[0;32m     64\u001b[0m     \u001b[39mif\u001b[39;00m min_duration:\n\u001b[0;32m     65\u001b[0m         \u001b[39mself\u001b[39m\u001b[39m.\u001b[39mtrajectories \u001b[39m=\u001b[39m [\n\u001b[0;32m     66\u001b[0m             traj\n\u001b[0;32m     67\u001b[0m             \u001b[39mfor\u001b[39;00m traj \u001b[39min\u001b[39;00m \u001b[39mself\u001b[39m\u001b[39m.\u001b[39mtrajectories\n\u001b[0;32m     68\u001b[0m             \u001b[39mif\u001b[39;00m traj\u001b[39m.\u001b[39mget_duration() \u001b[39m>\u001b[39m\u001b[39m=\u001b[39m min_duration\n\u001b[0;32m     69\u001b[0m         ]\n",
      "File \u001b[1;32mc:\\Users\\Bened\\Documents\\Git\\Master-Thesis\\env\\lib\\site-packages\\movingpandas\\trajectory_collection.py:62\u001b[0m, in \u001b[0;36m<listcomp>\u001b[1;34m(.0)\u001b[0m\n\u001b[0;32m     59\u001b[0m \u001b[39mself\u001b[39m\u001b[39m.\u001b[39mmin_duration \u001b[39m=\u001b[39m min_duration\n\u001b[0;32m     60\u001b[0m \u001b[39mif\u001b[39;00m \u001b[39mtype\u001b[39m(data) \u001b[39m==\u001b[39m \u001b[39mlist\u001b[39m:\n\u001b[0;32m     61\u001b[0m     \u001b[39mself\u001b[39m\u001b[39m.\u001b[39mtrajectories \u001b[39m=\u001b[39m [\n\u001b[1;32m---> 62\u001b[0m         traj \u001b[39mfor\u001b[39;00m traj \u001b[39min\u001b[39;00m data \u001b[39mif\u001b[39;00m traj\u001b[39m.\u001b[39;49mget_length() \u001b[39m>\u001b[39m\u001b[39m=\u001b[39m min_length\n\u001b[0;32m     63\u001b[0m     ]\n\u001b[0;32m     64\u001b[0m     \u001b[39mif\u001b[39;00m min_duration:\n\u001b[0;32m     65\u001b[0m         \u001b[39mself\u001b[39m\u001b[39m.\u001b[39mtrajectories \u001b[39m=\u001b[39m [\n\u001b[0;32m     66\u001b[0m             traj\n\u001b[0;32m     67\u001b[0m             \u001b[39mfor\u001b[39;00m traj \u001b[39min\u001b[39;00m \u001b[39mself\u001b[39m\u001b[39m.\u001b[39mtrajectories\n\u001b[0;32m     68\u001b[0m             \u001b[39mif\u001b[39;00m traj\u001b[39m.\u001b[39mget_duration() \u001b[39m>\u001b[39m\u001b[39m=\u001b[39m min_duration\n\u001b[0;32m     69\u001b[0m         ]\n",
      "File \u001b[1;32mc:\\Users\\Bened\\Documents\\Git\\Master-Thesis\\env\\lib\\site-packages\\movingpandas\\trajectory.py:746\u001b[0m, in \u001b[0;36mTrajectory.get_length\u001b[1;34m(self)\u001b[0m\n\u001b[0;32m    734\u001b[0m \u001b[39mdef\u001b[39;00m \u001b[39mget_length\u001b[39m(\u001b[39mself\u001b[39m):\n\u001b[0;32m    735\u001b[0m \u001b[39m    \u001b[39m\u001b[39m\"\"\"\u001b[39;00m\n\u001b[0;32m    736\u001b[0m \u001b[39m    Return the length of the trajectory.\u001b[39;00m\n\u001b[0;32m    737\u001b[0m \n\u001b[1;32m   (...)\u001b[0m\n\u001b[0;32m    744\u001b[0m \u001b[39m        Length of the trajectory\u001b[39;00m\n\u001b[0;32m    745\u001b[0m \u001b[39m    \"\"\"\u001b[39;00m\n\u001b[1;32m--> 746\u001b[0m     pt_tuples \u001b[39m=\u001b[39m [(pt\u001b[39m.\u001b[39my, pt\u001b[39m.\u001b[39mx) \u001b[39mfor\u001b[39;00m pt \u001b[39min\u001b[39;00m \u001b[39mself\u001b[39m\u001b[39m.\u001b[39mdf\u001b[39m.\u001b[39mgeometry\u001b[39m.\u001b[39mtolist()]\n\u001b[0;32m    747\u001b[0m     \u001b[39mif\u001b[39;00m \u001b[39mself\u001b[39m\u001b[39m.\u001b[39mis_latlon:\n\u001b[0;32m    748\u001b[0m         \u001b[39mreturn\u001b[39;00m geodesic(\u001b[39m*\u001b[39mpt_tuples)\u001b[39m.\u001b[39mm\n",
      "File \u001b[1;32mc:\\Users\\Bened\\Documents\\Git\\Master-Thesis\\env\\lib\\site-packages\\movingpandas\\trajectory.py:746\u001b[0m, in \u001b[0;36m<listcomp>\u001b[1;34m(.0)\u001b[0m\n\u001b[0;32m    734\u001b[0m \u001b[39mdef\u001b[39;00m \u001b[39mget_length\u001b[39m(\u001b[39mself\u001b[39m):\n\u001b[0;32m    735\u001b[0m \u001b[39m    \u001b[39m\u001b[39m\"\"\"\u001b[39;00m\n\u001b[0;32m    736\u001b[0m \u001b[39m    Return the length of the trajectory.\u001b[39;00m\n\u001b[0;32m    737\u001b[0m \n\u001b[1;32m   (...)\u001b[0m\n\u001b[0;32m    744\u001b[0m \u001b[39m        Length of the trajectory\u001b[39;00m\n\u001b[0;32m    745\u001b[0m \u001b[39m    \"\"\"\u001b[39;00m\n\u001b[1;32m--> 746\u001b[0m     pt_tuples \u001b[39m=\u001b[39m [(pt\u001b[39m.\u001b[39;49my, pt\u001b[39m.\u001b[39mx) \u001b[39mfor\u001b[39;00m pt \u001b[39min\u001b[39;00m \u001b[39mself\u001b[39m\u001b[39m.\u001b[39mdf\u001b[39m.\u001b[39mgeometry\u001b[39m.\u001b[39mtolist()]\n\u001b[0;32m    747\u001b[0m     \u001b[39mif\u001b[39;00m \u001b[39mself\u001b[39m\u001b[39m.\u001b[39mis_latlon:\n\u001b[0;32m    748\u001b[0m         \u001b[39mreturn\u001b[39;00m geodesic(\u001b[39m*\u001b[39mpt_tuples)\u001b[39m.\u001b[39mm\n",
      "File \u001b[1;32mc:\\Users\\Bened\\Documents\\Git\\Master-Thesis\\env\\lib\\site-packages\\shapely\\geometry\\point.py:88\u001b[0m, in \u001b[0;36mPoint.y\u001b[1;34m(self)\u001b[0m\n\u001b[0;32m     85\u001b[0m \u001b[39m@property\u001b[39m\n\u001b[0;32m     86\u001b[0m \u001b[39mdef\u001b[39;00m \u001b[39my\u001b[39m(\u001b[39mself\u001b[39m):\n\u001b[0;32m     87\u001b[0m \u001b[39m    \u001b[39m\u001b[39m\"\"\"Return y coordinate.\"\"\"\u001b[39;00m\n\u001b[1;32m---> 88\u001b[0m     \u001b[39mreturn\u001b[39;00m shapely\u001b[39m.\u001b[39;49mget_y(\u001b[39mself\u001b[39;49m)\n",
      "File \u001b[1;32mc:\\Users\\Bened\\Documents\\Git\\Master-Thesis\\env\\lib\\site-packages\\shapely\\decorators.py:77\u001b[0m, in \u001b[0;36mmultithreading_enabled.<locals>.wrapped\u001b[1;34m(*args, **kwargs)\u001b[0m\n\u001b[0;32m     75\u001b[0m     \u001b[39mfor\u001b[39;00m arr \u001b[39min\u001b[39;00m array_args:\n\u001b[0;32m     76\u001b[0m         arr\u001b[39m.\u001b[39mflags\u001b[39m.\u001b[39mwriteable \u001b[39m=\u001b[39m \u001b[39mFalse\u001b[39;00m\n\u001b[1;32m---> 77\u001b[0m     \u001b[39mreturn\u001b[39;00m func(\u001b[39m*\u001b[39margs, \u001b[39m*\u001b[39m\u001b[39m*\u001b[39mkwargs)\n\u001b[0;32m     78\u001b[0m \u001b[39mfinally\u001b[39;00m:\n\u001b[0;32m     79\u001b[0m     \u001b[39mfor\u001b[39;00m arr, old_flag \u001b[39min\u001b[39;00m \u001b[39mzip\u001b[39m(array_args, old_flags):\n",
      "File \u001b[1;32mc:\\Users\\Bened\\Documents\\Git\\Master-Thesis\\env\\lib\\site-packages\\shapely\\_geometry.py:298\u001b[0m, in \u001b[0;36mget_y\u001b[1;34m(point, **kwargs)\u001b[0m\n\u001b[0;32m    274\u001b[0m \u001b[39m@multithreading_enabled\u001b[39m\n\u001b[0;32m    275\u001b[0m \u001b[39mdef\u001b[39;00m \u001b[39mget_y\u001b[39m(point, \u001b[39m*\u001b[39m\u001b[39m*\u001b[39mkwargs):\n\u001b[0;32m    276\u001b[0m \u001b[39m    \u001b[39m\u001b[39m\"\"\"Returns the y-coordinate of a point\u001b[39;00m\n\u001b[0;32m    277\u001b[0m \n\u001b[0;32m    278\u001b[0m \u001b[39m    Parameters\u001b[39;00m\n\u001b[1;32m   (...)\u001b[0m\n\u001b[0;32m    296\u001b[0m \u001b[39m    nan\u001b[39;00m\n\u001b[0;32m    297\u001b[0m \u001b[39m    \"\"\"\u001b[39;00m\n\u001b[1;32m--> 298\u001b[0m     \u001b[39mreturn\u001b[39;00m lib\u001b[39m.\u001b[39mget_y(point, \u001b[39m*\u001b[39m\u001b[39m*\u001b[39mkwargs)\n",
      "\u001b[1;31mGEOSException\u001b[0m: UnsupportedOperationException: getY called on empty Point\n"
     ]
    }
   ],
   "source": [
    "# Smooth trajectories\n",
    "def smooth_traj(traj, PROCESS_NOISE_STD=0.1, MEASUREMENT_NOISE_STD=10):\n",
    "    try:\n",
    "        result = mpd.KalmanSmootherCV(traj).smooth(process_noise_std=PROCESS_NOISE_STD, measurement_noise_std=MEASUREMENT_NOISE_STD)\n",
    "        result.obj_id = traj.obj_id\n",
    "        return result\n",
    "    except BaseException as e:\n",
    "        print(e, 'Error at traj: ', traj.id)\n",
    "        logging.warning(f'{e} Error at traj: {traj.id}')\n",
    "        return traj\n",
    "\n",
    "print('smoothing trajectories...')\n",
    "# geolife_splitted_smooth_collection = Parallel(n_jobs=4, verbose=10)(delayed(smooth_traj)(traj) for traj in geolife_splitted_collection.trajectories)\n",
    "geolife_smooth_collection = []\n",
    "for traj in tqdm(geolife_raw_collection.trajectories):\n",
    "    try:\n",
    "        geolife_smooth_collection.append(smooth_traj(traj))\n",
    "    except BaseException as e:\n",
    "        print(e, 'Error at traj: ', traj.id)\n",
    "        continue\n",
    "\n",
    "geolife_smooth_collection = mpd.TrajectoryCollection(geolife_smooth_collection)\n",
    "print('trajectories smoothed.')"
   ]
  },
  {
   "cell_type": "code",
   "execution_count": 13,
   "metadata": {},
   "outputs": [
    {
     "name": "stdout",
     "output_type": "stream",
     "text": [
      "splitting trajectories...\n"
     ]
    },
    {
     "name": "stderr",
     "output_type": "stream",
     "text": [
      " 94%|█████████▎| 16632/17784 [12:20:06<2:22:24,  7.42s/it] "
     ]
    },
    {
     "name": "stdout",
     "output_type": "stream",
     "text": [
      "IllegalArgumentException: CGAlgorithmsDD::orientationIndex encountered NaN/Inf numbers Error at traj:  20110911000506\n"
     ]
    },
    {
     "name": "stderr",
     "output_type": "stream",
     "text": [
      "100%|██████████| 17784/17784 [13:06:40<00:00,  2.65s/it]   \n"
     ]
    },
    {
     "name": "stdout",
     "output_type": "stream",
     "text": [
      "trajectories split.\n"
     ]
    }
   ],
   "source": [
    "# Split trajectories\n",
    "\n",
    "def split_traj(traj, MAX_DIAMETER=100, MIN_DURATION=timedelta(minutes=15), MIN_LENGTH=500):\n",
    "    try:\n",
    "        split = mpd.StopSplitter(traj).split(max_diameter=MAX_DIAMETER, min_duration=MIN_DURATION, min_length=MIN_LENGTH)\n",
    "        for i in range(len(split.trajectories)):\n",
    "            split.trajectories[i].obj_id = traj.obj_id\n",
    "        return split.trajectories\n",
    "    except BaseException as e:\n",
    "        print(e, 'Error at traj: ', traj.id)\n",
    "        logging.warning(f'{e} Error at traj: {traj.id}')\n",
    "\n",
    "        return []\n",
    "\n",
    "print('splitting trajectories...')\n",
    "# split_trajs = Parallel(n_jobs=4, verbose=10)(delayed(split_traj)(traj) for traj in geolife_raw_collection.trajectories)\n",
    "split_trajs = []\n",
    "for traj in tqdm(geolife_raw_collection.trajectories):\n",
    "    try:\n",
    "        split_trajs.append(split_traj(traj))\n",
    "    except BaseException as e:\n",
    "        print(e, 'Error at traj: ', traj.id)\n",
    "        continue\n",
    "    \n",
    "split_trajs = [traj for sublist in split_trajs for traj in sublist]\n",
    "geolife_splitted_collection = mpd.TrajectoryCollection(split_trajs)\n",
    "print('trajectories split.')"
   ]
  },
  {
   "cell_type": "code",
   "execution_count": 14,
   "metadata": {},
   "outputs": [
    {
     "name": "stdout",
     "output_type": "stream",
     "text": [
      "smoothing trajectories...\n"
     ]
    },
    {
     "name": "stderr",
     "output_type": "stream",
     "text": [
      "100%|██████████| 26668/26668 [5:05:55<00:00,  1.45it/s]   \n"
     ]
    },
    {
     "name": "stdout",
     "output_type": "stream",
     "text": [
      "trajectories smoothed.\n"
     ]
    }
   ],
   "source": [
    "\n",
    "\n",
    "# Smooth trajectories\n",
    "def smooth_traj(traj, PROCESS_NOISE_STD=0.1, MEASUREMENT_NOISE_STD=10):\n",
    "    try:\n",
    "        result = mpd.KalmanSmootherCV(traj).smooth(process_noise_std=PROCESS_NOISE_STD, measurement_noise_std=MEASUREMENT_NOISE_STD)\n",
    "        result.obj_id = traj.obj_id\n",
    "        return result\n",
    "    except BaseException as e:\n",
    "        print(e, 'Error at traj: ', traj.id)\n",
    "        logging.warning(f'{e} Error at traj: {traj.id}')\n",
    "        return traj\n",
    "\n",
    "print('smoothing trajectories...')\n",
    "# geolife_splitted_smooth_collection = Parallel(n_jobs=4, verbose=10)(delayed(smooth_traj)(traj) for traj in geolife_splitted_collection.trajectories)\n",
    "geolife_splitted_smooth_collection = []\n",
    "for traj in tqdm(geolife_splitted_collection.trajectories):\n",
    "    try:\n",
    "        geolife_splitted_smooth_collection.append(smooth_traj(traj))\n",
    "    except BaseException as e:\n",
    "        print(e, 'Error at traj: ', traj.id)\n",
    "        continue\n",
    "\n",
    "geolife_splitted_smooth_collection = mpd.TrajectoryCollection(geolife_splitted_smooth_collection)\n",
    "print('trajectories smoothed.')"
   ]
  },
  {
   "cell_type": "code",
   "execution_count": 15,
   "metadata": {},
   "outputs": [
    {
     "name": "stdout",
     "output_type": "stream",
     "text": [
      "generalizing trajectories... (1)\n"
     ]
    },
    {
     "name": "stderr",
     "output_type": "stream",
     "text": [
      "100%|██████████| 26668/26668 [1:25:47<00:00,  5.18it/s]   \n"
     ]
    },
    {
     "name": "stdout",
     "output_type": "stream",
     "text": [
      "trajectories generalized. (1)\n"
     ]
    }
   ],
   "source": [
    "# Generalize trajectories\n",
    "def generalize_traj(traj, TOLERANCE=1.0):\n",
    "    try:\n",
    "        result = mpd.DouglasPeuckerGeneralizer(traj).generalize(tolerance=TOLERANCE)\n",
    "        result.obj_id = traj.obj_id\n",
    "        return result\n",
    "    except BaseException as e:\n",
    "        print(e, 'Error at traj: ', traj.id)\n",
    "        logging.warning(f'{e} Error at traj: {traj.id}')\n",
    "        return traj\n",
    "\n",
    "# Douglas-Peucker generalization for non-smoothed trajectories\n",
    "print('generalizing trajectories... (1)')\n",
    "logging.info('generalizing trajectories... (1)')\n",
    "# geolife_splitted_generalized_collection = Parallel(n_jobs=4, verbose=10)(delayed(generalize_traj)(traj) for traj in geolife_splitted_collection.trajectories)\n",
    "geolife_splitted_generalized_collection = []\n",
    "for traj in tqdm(geolife_splitted_collection.trajectories):\n",
    "    try:\n",
    "        geolife_splitted_generalized_collection.append(generalize_traj(traj))\n",
    "    except BaseException as e:\n",
    "        print(e, 'Error at traj: ', traj.id)\n",
    "        continue\n",
    "geolife_splitted_generalized_collection = mpd.TrajectoryCollection(geolife_splitted_generalized_collection)\n",
    "print('trajectories generalized. (1)')\n",
    "logging.info('trajectories generalized. (1)')"
   ]
  },
  {
   "cell_type": "code",
   "execution_count": 16,
   "metadata": {},
   "outputs": [
    {
     "name": "stdout",
     "output_type": "stream",
     "text": [
      "generalizing trajectories... (2)\n"
     ]
    },
    {
     "name": "stderr",
     "output_type": "stream",
     "text": [
      "100%|██████████| 26668/26668 [1:07:59<00:00,  6.54it/s]  \n"
     ]
    },
    {
     "name": "stdout",
     "output_type": "stream",
     "text": [
      "trajectories generalized. (2)\n"
     ]
    }
   ],
   "source": [
    "# Douglas-Peucker generalization for smoothed trajectories\n",
    "print('generalizing trajectories... (2)')\n",
    "logging.info('generalizing trajectories... (2)')\n",
    "# geolife_splitted_smooth_generalized_collection = Parallel(n_jobs=4, verbose=10)(delayed(generalize_traj)(traj) for traj in geolife_splitted_smooth_collection.trajectories)\n",
    "geolife_splitted_smooth_generalized_collection = []\n",
    "for traj in tqdm(geolife_splitted_smooth_collection.trajectories):\n",
    "    try:\n",
    "        geolife_splitted_smooth_generalized_collection.append(generalize_traj(traj))\n",
    "    except BaseException as e:\n",
    "        print(e, 'Error at traj: ', traj.id)\n",
    "        continue\n",
    "\n",
    "geolife_splitted_smooth_generalized_collection = mpd.TrajectoryCollection(geolife_splitted_smooth_generalized_collection)\n",
    "print('trajectories generalized. (2)')\n",
    "logging.info('trajectories generalized. (2)')"
   ]
  },
  {
   "cell_type": "code",
   "execution_count": 13,
   "metadata": {},
   "outputs": [],
   "source": [
    "def convert_trajcollection_to_gdf(trajcollection):\n",
    "    gdfs = []\n",
    "    for traj in tqdm(trajcollection.trajectories):\n",
    "        traj_gdf = traj.to_traj_gdf()\n",
    "        traj_gdf['user_id'] = traj.obj_id\n",
    "        gdfs.append(traj_gdf)\n",
    "\n",
    "    gdf = gp.GeoDataFrame(pd.concat(gdfs), crs='EPSG:32650')\n",
    "\n",
    "    return gp.GeoDataFrame(pd.concat(gdfs), crs='EPSG:32650')\n",
    "\n"
   ]
  },
  {
   "cell_type": "code",
   "execution_count": 68,
   "metadata": {},
   "outputs": [
    {
     "name": "stderr",
     "output_type": "stream",
     "text": [
      "100%|██████████| 17784/17784 [10:58<00:00, 27.02it/s] \n",
      "100%|██████████| 17783/17783 [11:01<00:00, 26.89it/s]\n"
     ]
    }
   ],
   "source": [
    "logging.info('converting to gdf...')\n",
    "geolife_raw = convert_trajcollection_to_gdf(geolife_raw_collection)\n",
    "geolife_smooth = convert_trajcollection_to_gdf(geolife_smooth_collection)\n",
    "geolife_splitted = convert_trajcollection_to_gdf(geolife_splitted_collection)\n",
    "geolife_splitted_smooth = convert_trajcollection_to_gdf(geolife_splitted_smooth_collection)\n",
    "geolife_splitted_generalized = convert_trajcollection_to_gdf(geolife_splitted_generalized_collection)\n",
    "geolife_splitted_smooth_generalized = convert_trajcollection_to_gdf(geolife_splitted_smooth_generalized_collection)\n",
    "logging.info('converted to gdf.')"
   ]
  },
  {
   "cell_type": "code",
   "execution_count": 75,
   "metadata": {},
   "outputs": [],
   "source": [
    "\n",
    "def convert_timezone(gdf):\n",
    "    # Convert timezone to Asia/Shanghai\n",
    "    gdf = gdf.copy()\n",
    "    gdf['start_t'] = gdf['start_t'].dt.tz_localize('GMT').dt.tz_convert('Asia/Shanghai').dt.tz_localize(None)\n",
    "    gdf['end_t'] = gdf['end_t'].dt.tz_localize('GMT').dt.tz_convert('Asia/Shanghai').dt.tz_localize(None)\n",
    "    return gdf\n",
    "\n",
    "\n",
    "# In[ ]:\n",
    "\n",
    "logging.info('converting timezone...')\n",
    "geolife_raw = convert_timezone(geolife_raw)\n",
    "geolife_smooth = convert_timezone(geolife_smooth)\n",
    "geolife_splitted = convert_timezone(geolife_splitted)\n",
    "geolife_splitted_smooth = convert_timezone(geolife_splitted_smooth)\n",
    "geolife_splitted_generalized = convert_timezone(geolife_splitted_generalized)\n",
    "geolife_splitted_smooth_generalized = convert_timezone(geolife_splitted_smooth_generalized)\n",
    "logging.info('converted timezone.')"
   ]
  },
  {
   "cell_type": "code",
   "execution_count": 78,
   "metadata": {},
   "outputs": [
    {
     "name": "stderr",
     "output_type": "stream",
     "text": [
      "c:\\Users\\Bened\\Documents\\Git\\Master-Thesis\\env\\lib\\site-packages\\geopandas\\io\\file.py:362: FutureWarning: pandas.Int64Index is deprecated and will be removed from pandas in a future version. Use pandas.Index with the appropriate dtype instead.\n",
      "  pd.Int64Index,\n"
     ]
    }
   ],
   "source": [
    "# Write gdf to pickle file to load fast for further processing\n",
    "logging.info('writing to pickle...')\n",
    "write_geojson(geolife_raw, '../data/geolife/geolife_raw.geojson')\n",
    "write_geojson(geolife_smooth, '../data/geolife/geolife_smooth.geojson')\n",
    "write_geojson(geolife_splitted, '../data/geolife/geolife_splitted.geojson')\n",
    "write_geojson(geolife_splitted_smooth, '../data/geolife/geolife_splitted_smooth.geojson')\n",
    "write_geojson(geolife_splitted_generalized, '../data/geolife/geolife_splitted_generalized.geojson')\n",
    "write_geojson(geolife_splitted_smooth_generalized, '../data/geolife/geolife_splitted_smooth_generalized.geojson')\n",
    "logging.info('written to pickle.')\n"
   ]
  }
 ],
 "metadata": {
  "kernelspec": {
   "display_name": "Python 3 (ipykernel)",
   "language": "python",
   "name": "python3"
  },
  "language_info": {
   "codemirror_mode": {
    "name": "ipython",
    "version": 3
   },
   "file_extension": ".py",
   "mimetype": "text/x-python",
   "name": "python",
   "nbconvert_exporter": "python",
   "pygments_lexer": "ipython3",
   "version": "3.8.10"
  },
  "vscode": {
   "interpreter": {
    "hash": "543daf12f525df94f20bbdd448da69881f98a71c963c44c9c7818e0113666227"
   }
  }
 },
 "nbformat": 4,
 "nbformat_minor": 2
}
