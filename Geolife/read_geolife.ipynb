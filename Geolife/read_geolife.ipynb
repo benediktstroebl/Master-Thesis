{
 "cells": [
  {
   "cell_type": "code",
   "execution_count": 1,
   "metadata": {},
   "outputs": [],
   "source": [
    "import read_geolife_utils as read_geolife\n",
    "import geopandas as gp\n",
    "import movingpandas as mpd\n",
    "from datetime import timedelta\n",
    "from pyproj import CRS\n",
    "import pandas as pd\n",
    "from tqdm import tqdm\n",
    "from joblib import Parallel, delayed\n",
    "import logging\n",
    "logging.basicConfig(filename='log_read_geolife.log', level=logging.DEBUG)"
   ]
  },
  {
   "cell_type": "code",
   "execution_count": 2,
   "metadata": {},
   "outputs": [
    {
     "name": "stdout",
     "output_type": "stream",
     "text": [
      "Reading data...\n",
      "[1/182] processing user 000\n",
      "[2/182] processing user 001\n",
      "[3/182] processing user 002\n",
      "[4/182] processing user 003\n",
      "[5/182] processing user 004\n",
      "[6/182] processing user 005\n",
      "[7/182] processing user 006\n",
      "[8/182] processing user 007\n",
      "[9/182] processing user 008\n",
      "[10/182] processing user 009\n",
      "[11/182] processing user 010\n"
     ]
    },
    {
     "name": "stderr",
     "output_type": "stream",
     "text": [
      "c:\\Users\\Bened\\Documents\\Git\\Master-Thesis\\Geolife\\read_geolife_utils.py:42: SettingWithCopyWarning: \n",
      "A value is trying to be set on a copy of a slice from a DataFrame\n",
      "\n",
      "See the caveats in the documentation: https://pandas.pydata.org/pandas-docs/stable/user_guide/indexing.html#returning-a-view-versus-a-copy\n",
      "  points['label'][no_label] = 0\n"
     ]
    },
    {
     "name": "stdout",
     "output_type": "stream",
     "text": [
      "[12/182] processing user 011\n",
      "[13/182] processing user 012\n",
      "[14/182] processing user 013\n",
      "[15/182] processing user 014\n",
      "[16/182] processing user 015\n",
      "[17/182] processing user 016\n",
      "[18/182] processing user 017\n",
      "[19/182] processing user 018\n",
      "[20/182] processing user 019\n",
      "[21/182] processing user 020\n"
     ]
    },
    {
     "name": "stderr",
     "output_type": "stream",
     "text": [
      "c:\\Users\\Bened\\Documents\\Git\\Master-Thesis\\Geolife\\read_geolife_utils.py:42: SettingWithCopyWarning: \n",
      "A value is trying to be set on a copy of a slice from a DataFrame\n",
      "\n",
      "See the caveats in the documentation: https://pandas.pydata.org/pandas-docs/stable/user_guide/indexing.html#returning-a-view-versus-a-copy\n",
      "  points['label'][no_label] = 0\n",
      "c:\\Users\\Bened\\Documents\\Git\\Master-Thesis\\Geolife\\read_geolife_utils.py:42: SettingWithCopyWarning: \n",
      "A value is trying to be set on a copy of a slice from a DataFrame\n",
      "\n",
      "See the caveats in the documentation: https://pandas.pydata.org/pandas-docs/stable/user_guide/indexing.html#returning-a-view-versus-a-copy\n",
      "  points['label'][no_label] = 0\n"
     ]
    },
    {
     "name": "stdout",
     "output_type": "stream",
     "text": [
      "[22/182] processing user 021\n",
      "[23/182] processing user 022\n",
      "[24/182] processing user 023\n",
      "[25/182] processing user 024\n",
      "[26/182] processing user 025\n",
      "[27/182] processing user 026\n",
      "[28/182] processing user 027\n",
      "[29/182] processing user 028\n",
      "[30/182] processing user 029\n",
      "[31/182] processing user 030\n",
      "[32/182] processing user 031\n",
      "[33/182] processing user 032\n",
      "[34/182] processing user 033\n",
      "[35/182] processing user 034\n",
      "[36/182] processing user 035\n",
      "[37/182] processing user 036\n",
      "[38/182] processing user 037\n",
      "[39/182] processing user 038\n",
      "[40/182] processing user 039\n",
      "[41/182] processing user 040\n",
      "[42/182] processing user 041\n",
      "[43/182] processing user 042\n",
      "[44/182] processing user 043\n",
      "[45/182] processing user 044\n",
      "[46/182] processing user 045\n",
      "[47/182] processing user 046\n",
      "[48/182] processing user 047\n",
      "[49/182] processing user 048\n",
      "[50/182] processing user 049\n",
      "[51/182] processing user 050\n",
      "[52/182] processing user 051\n",
      "[53/182] processing user 052\n"
     ]
    },
    {
     "name": "stderr",
     "output_type": "stream",
     "text": [
      "c:\\Users\\Bened\\Documents\\Git\\Master-Thesis\\Geolife\\read_geolife_utils.py:42: SettingWithCopyWarning: \n",
      "A value is trying to be set on a copy of a slice from a DataFrame\n",
      "\n",
      "See the caveats in the documentation: https://pandas.pydata.org/pandas-docs/stable/user_guide/indexing.html#returning-a-view-versus-a-copy\n",
      "  points['label'][no_label] = 0\n",
      "c:\\Users\\Bened\\Documents\\Git\\Master-Thesis\\Geolife\\read_geolife_utils.py:42: SettingWithCopyWarning: \n",
      "A value is trying to be set on a copy of a slice from a DataFrame\n",
      "\n",
      "See the caveats in the documentation: https://pandas.pydata.org/pandas-docs/stable/user_guide/indexing.html#returning-a-view-versus-a-copy\n",
      "  points['label'][no_label] = 0\n"
     ]
    },
    {
     "name": "stdout",
     "output_type": "stream",
     "text": [
      "[54/182] processing user 053\n",
      "[55/182] processing user 054\n",
      "[56/182] processing user 055\n",
      "[57/182] processing user 056\n"
     ]
    },
    {
     "name": "stderr",
     "output_type": "stream",
     "text": [
      "c:\\Users\\Bened\\Documents\\Git\\Master-Thesis\\Geolife\\read_geolife_utils.py:42: SettingWithCopyWarning: \n",
      "A value is trying to be set on a copy of a slice from a DataFrame\n",
      "\n",
      "See the caveats in the documentation: https://pandas.pydata.org/pandas-docs/stable/user_guide/indexing.html#returning-a-view-versus-a-copy\n",
      "  points['label'][no_label] = 0\n"
     ]
    },
    {
     "name": "stdout",
     "output_type": "stream",
     "text": [
      "[58/182] processing user 057\n",
      "[59/182] processing user 058\n"
     ]
    },
    {
     "name": "stderr",
     "output_type": "stream",
     "text": [
      "c:\\Users\\Bened\\Documents\\Git\\Master-Thesis\\Geolife\\read_geolife_utils.py:42: SettingWithCopyWarning: \n",
      "A value is trying to be set on a copy of a slice from a DataFrame\n",
      "\n",
      "See the caveats in the documentation: https://pandas.pydata.org/pandas-docs/stable/user_guide/indexing.html#returning-a-view-versus-a-copy\n",
      "  points['label'][no_label] = 0\n",
      "c:\\Users\\Bened\\Documents\\Git\\Master-Thesis\\Geolife\\read_geolife_utils.py:42: SettingWithCopyWarning: \n",
      "A value is trying to be set on a copy of a slice from a DataFrame\n",
      "\n",
      "See the caveats in the documentation: https://pandas.pydata.org/pandas-docs/stable/user_guide/indexing.html#returning-a-view-versus-a-copy\n",
      "  points['label'][no_label] = 0\n",
      "c:\\Users\\Bened\\Documents\\Git\\Master-Thesis\\Geolife\\read_geolife_utils.py:42: SettingWithCopyWarning: \n",
      "A value is trying to be set on a copy of a slice from a DataFrame\n",
      "\n",
      "See the caveats in the documentation: https://pandas.pydata.org/pandas-docs/stable/user_guide/indexing.html#returning-a-view-versus-a-copy\n",
      "  points['label'][no_label] = 0\n"
     ]
    },
    {
     "name": "stdout",
     "output_type": "stream",
     "text": [
      "[60/182] processing user 059\n",
      "[61/182] processing user 060\n",
      "[62/182] processing user 061\n",
      "[63/182] processing user 062\n"
     ]
    },
    {
     "name": "stderr",
     "output_type": "stream",
     "text": [
      "c:\\Users\\Bened\\Documents\\Git\\Master-Thesis\\Geolife\\read_geolife_utils.py:42: SettingWithCopyWarning: \n",
      "A value is trying to be set on a copy of a slice from a DataFrame\n",
      "\n",
      "See the caveats in the documentation: https://pandas.pydata.org/pandas-docs/stable/user_guide/indexing.html#returning-a-view-versus-a-copy\n",
      "  points['label'][no_label] = 0\n"
     ]
    },
    {
     "name": "stdout",
     "output_type": "stream",
     "text": [
      "[64/182] processing user 063\n",
      "[65/182] processing user 064\n"
     ]
    },
    {
     "name": "stderr",
     "output_type": "stream",
     "text": [
      "c:\\Users\\Bened\\Documents\\Git\\Master-Thesis\\Geolife\\read_geolife_utils.py:42: SettingWithCopyWarning: \n",
      "A value is trying to be set on a copy of a slice from a DataFrame\n",
      "\n",
      "See the caveats in the documentation: https://pandas.pydata.org/pandas-docs/stable/user_guide/indexing.html#returning-a-view-versus-a-copy\n",
      "  points['label'][no_label] = 0\n"
     ]
    },
    {
     "name": "stdout",
     "output_type": "stream",
     "text": [
      "[66/182] processing user 065\n"
     ]
    },
    {
     "name": "stderr",
     "output_type": "stream",
     "text": [
      "c:\\Users\\Bened\\Documents\\Git\\Master-Thesis\\Geolife\\read_geolife_utils.py:42: SettingWithCopyWarning: \n",
      "A value is trying to be set on a copy of a slice from a DataFrame\n",
      "\n",
      "See the caveats in the documentation: https://pandas.pydata.org/pandas-docs/stable/user_guide/indexing.html#returning-a-view-versus-a-copy\n",
      "  points['label'][no_label] = 0\n"
     ]
    },
    {
     "name": "stdout",
     "output_type": "stream",
     "text": [
      "[67/182] processing user 066\n",
      "[68/182] processing user 067\n"
     ]
    },
    {
     "name": "stderr",
     "output_type": "stream",
     "text": [
      "c:\\Users\\Bened\\Documents\\Git\\Master-Thesis\\Geolife\\read_geolife_utils.py:42: SettingWithCopyWarning: \n",
      "A value is trying to be set on a copy of a slice from a DataFrame\n",
      "\n",
      "See the caveats in the documentation: https://pandas.pydata.org/pandas-docs/stable/user_guide/indexing.html#returning-a-view-versus-a-copy\n",
      "  points['label'][no_label] = 0\n"
     ]
    },
    {
     "name": "stdout",
     "output_type": "stream",
     "text": [
      "[69/182] processing user 068\n"
     ]
    },
    {
     "name": "stderr",
     "output_type": "stream",
     "text": [
      "c:\\Users\\Bened\\Documents\\Git\\Master-Thesis\\Geolife\\read_geolife_utils.py:42: SettingWithCopyWarning: \n",
      "A value is trying to be set on a copy of a slice from a DataFrame\n",
      "\n",
      "See the caveats in the documentation: https://pandas.pydata.org/pandas-docs/stable/user_guide/indexing.html#returning-a-view-versus-a-copy\n",
      "  points['label'][no_label] = 0\n",
      "c:\\Users\\Bened\\Documents\\Git\\Master-Thesis\\Geolife\\read_geolife_utils.py:42: SettingWithCopyWarning: \n",
      "A value is trying to be set on a copy of a slice from a DataFrame\n",
      "\n",
      "See the caveats in the documentation: https://pandas.pydata.org/pandas-docs/stable/user_guide/indexing.html#returning-a-view-versus-a-copy\n",
      "  points['label'][no_label] = 0\n"
     ]
    },
    {
     "name": "stdout",
     "output_type": "stream",
     "text": [
      "[70/182] processing user 069\n",
      "[71/182] processing user 070\n",
      "[72/182] processing user 071\n",
      "[73/182] processing user 072\n",
      "[74/182] processing user 073\n"
     ]
    },
    {
     "name": "stderr",
     "output_type": "stream",
     "text": [
      "c:\\Users\\Bened\\Documents\\Git\\Master-Thesis\\Geolife\\read_geolife_utils.py:42: SettingWithCopyWarning: \n",
      "A value is trying to be set on a copy of a slice from a DataFrame\n",
      "\n",
      "See the caveats in the documentation: https://pandas.pydata.org/pandas-docs/stable/user_guide/indexing.html#returning-a-view-versus-a-copy\n",
      "  points['label'][no_label] = 0\n"
     ]
    },
    {
     "name": "stdout",
     "output_type": "stream",
     "text": [
      "[75/182] processing user 074\n",
      "[76/182] processing user 075\n"
     ]
    },
    {
     "name": "stderr",
     "output_type": "stream",
     "text": [
      "c:\\Users\\Bened\\Documents\\Git\\Master-Thesis\\Geolife\\read_geolife_utils.py:42: SettingWithCopyWarning: \n",
      "A value is trying to be set on a copy of a slice from a DataFrame\n",
      "\n",
      "See the caveats in the documentation: https://pandas.pydata.org/pandas-docs/stable/user_guide/indexing.html#returning-a-view-versus-a-copy\n",
      "  points['label'][no_label] = 0\n",
      "c:\\Users\\Bened\\Documents\\Git\\Master-Thesis\\Geolife\\read_geolife_utils.py:42: SettingWithCopyWarning: \n",
      "A value is trying to be set on a copy of a slice from a DataFrame\n",
      "\n",
      "See the caveats in the documentation: https://pandas.pydata.org/pandas-docs/stable/user_guide/indexing.html#returning-a-view-versus-a-copy\n",
      "  points['label'][no_label] = 0\n"
     ]
    },
    {
     "name": "stdout",
     "output_type": "stream",
     "text": [
      "[77/182] processing user 076\n",
      "[78/182] processing user 077\n",
      "[79/182] processing user 078\n"
     ]
    },
    {
     "name": "stderr",
     "output_type": "stream",
     "text": [
      "c:\\Users\\Bened\\Documents\\Git\\Master-Thesis\\Geolife\\read_geolife_utils.py:42: SettingWithCopyWarning: \n",
      "A value is trying to be set on a copy of a slice from a DataFrame\n",
      "\n",
      "See the caveats in the documentation: https://pandas.pydata.org/pandas-docs/stable/user_guide/indexing.html#returning-a-view-versus-a-copy\n",
      "  points['label'][no_label] = 0\n"
     ]
    },
    {
     "name": "stdout",
     "output_type": "stream",
     "text": [
      "[80/182] processing user 079\n",
      "[81/182] processing user 080\n",
      "[82/182] processing user 081\n"
     ]
    },
    {
     "name": "stderr",
     "output_type": "stream",
     "text": [
      "c:\\Users\\Bened\\Documents\\Git\\Master-Thesis\\Geolife\\read_geolife_utils.py:42: SettingWithCopyWarning: \n",
      "A value is trying to be set on a copy of a slice from a DataFrame\n",
      "\n",
      "See the caveats in the documentation: https://pandas.pydata.org/pandas-docs/stable/user_guide/indexing.html#returning-a-view-versus-a-copy\n",
      "  points['label'][no_label] = 0\n",
      "c:\\Users\\Bened\\Documents\\Git\\Master-Thesis\\Geolife\\read_geolife_utils.py:42: SettingWithCopyWarning: \n",
      "A value is trying to be set on a copy of a slice from a DataFrame\n",
      "\n",
      "See the caveats in the documentation: https://pandas.pydata.org/pandas-docs/stable/user_guide/indexing.html#returning-a-view-versus-a-copy\n",
      "  points['label'][no_label] = 0\n"
     ]
    },
    {
     "name": "stdout",
     "output_type": "stream",
     "text": [
      "[83/182] processing user 082\n"
     ]
    },
    {
     "name": "stderr",
     "output_type": "stream",
     "text": [
      "c:\\Users\\Bened\\Documents\\Git\\Master-Thesis\\Geolife\\read_geolife_utils.py:42: SettingWithCopyWarning: \n",
      "A value is trying to be set on a copy of a slice from a DataFrame\n",
      "\n",
      "See the caveats in the documentation: https://pandas.pydata.org/pandas-docs/stable/user_guide/indexing.html#returning-a-view-versus-a-copy\n",
      "  points['label'][no_label] = 0\n"
     ]
    },
    {
     "name": "stdout",
     "output_type": "stream",
     "text": [
      "[84/182] processing user 083\n",
      "[85/182] processing user 084\n"
     ]
    },
    {
     "name": "stderr",
     "output_type": "stream",
     "text": [
      "c:\\Users\\Bened\\Documents\\Git\\Master-Thesis\\Geolife\\read_geolife_utils.py:42: SettingWithCopyWarning: \n",
      "A value is trying to be set on a copy of a slice from a DataFrame\n",
      "\n",
      "See the caveats in the documentation: https://pandas.pydata.org/pandas-docs/stable/user_guide/indexing.html#returning-a-view-versus-a-copy\n",
      "  points['label'][no_label] = 0\n"
     ]
    },
    {
     "name": "stdout",
     "output_type": "stream",
     "text": [
      "[86/182] processing user 085\n"
     ]
    },
    {
     "name": "stderr",
     "output_type": "stream",
     "text": [
      "c:\\Users\\Bened\\Documents\\Git\\Master-Thesis\\Geolife\\read_geolife_utils.py:42: SettingWithCopyWarning: \n",
      "A value is trying to be set on a copy of a slice from a DataFrame\n",
      "\n",
      "See the caveats in the documentation: https://pandas.pydata.org/pandas-docs/stable/user_guide/indexing.html#returning-a-view-versus-a-copy\n",
      "  points['label'][no_label] = 0\n",
      "c:\\Users\\Bened\\Documents\\Git\\Master-Thesis\\Geolife\\read_geolife_utils.py:42: SettingWithCopyWarning: \n",
      "A value is trying to be set on a copy of a slice from a DataFrame\n",
      "\n",
      "See the caveats in the documentation: https://pandas.pydata.org/pandas-docs/stable/user_guide/indexing.html#returning-a-view-versus-a-copy\n",
      "  points['label'][no_label] = 0\n",
      "c:\\Users\\Bened\\Documents\\Git\\Master-Thesis\\Geolife\\read_geolife_utils.py:42: SettingWithCopyWarning: \n",
      "A value is trying to be set on a copy of a slice from a DataFrame\n",
      "\n",
      "See the caveats in the documentation: https://pandas.pydata.org/pandas-docs/stable/user_guide/indexing.html#returning-a-view-versus-a-copy\n",
      "  points['label'][no_label] = 0\n"
     ]
    },
    {
     "name": "stdout",
     "output_type": "stream",
     "text": [
      "[87/182] processing user 086\n",
      "[88/182] processing user 087\n",
      "[89/182] processing user 088\n"
     ]
    },
    {
     "name": "stderr",
     "output_type": "stream",
     "text": [
      "c:\\Users\\Bened\\Documents\\Git\\Master-Thesis\\Geolife\\read_geolife_utils.py:42: SettingWithCopyWarning: \n",
      "A value is trying to be set on a copy of a slice from a DataFrame\n",
      "\n",
      "See the caveats in the documentation: https://pandas.pydata.org/pandas-docs/stable/user_guide/indexing.html#returning-a-view-versus-a-copy\n",
      "  points['label'][no_label] = 0\n"
     ]
    },
    {
     "name": "stdout",
     "output_type": "stream",
     "text": [
      "[90/182] processing user 089\n"
     ]
    },
    {
     "name": "stderr",
     "output_type": "stream",
     "text": [
      "c:\\Users\\Bened\\Documents\\Git\\Master-Thesis\\Geolife\\read_geolife_utils.py:42: SettingWithCopyWarning: \n",
      "A value is trying to be set on a copy of a slice from a DataFrame\n",
      "\n",
      "See the caveats in the documentation: https://pandas.pydata.org/pandas-docs/stable/user_guide/indexing.html#returning-a-view-versus-a-copy\n",
      "  points['label'][no_label] = 0\n"
     ]
    },
    {
     "name": "stdout",
     "output_type": "stream",
     "text": [
      "[91/182] processing user 090\n",
      "[92/182] processing user 091\n"
     ]
    },
    {
     "name": "stderr",
     "output_type": "stream",
     "text": [
      "c:\\Users\\Bened\\Documents\\Git\\Master-Thesis\\Geolife\\read_geolife_utils.py:42: SettingWithCopyWarning: \n",
      "A value is trying to be set on a copy of a slice from a DataFrame\n",
      "\n",
      "See the caveats in the documentation: https://pandas.pydata.org/pandas-docs/stable/user_guide/indexing.html#returning-a-view-versus-a-copy\n",
      "  points['label'][no_label] = 0\n"
     ]
    },
    {
     "name": "stdout",
     "output_type": "stream",
     "text": [
      "[93/182] processing user 092\n"
     ]
    },
    {
     "name": "stderr",
     "output_type": "stream",
     "text": [
      "c:\\Users\\Bened\\Documents\\Git\\Master-Thesis\\Geolife\\read_geolife_utils.py:42: SettingWithCopyWarning: \n",
      "A value is trying to be set on a copy of a slice from a DataFrame\n",
      "\n",
      "See the caveats in the documentation: https://pandas.pydata.org/pandas-docs/stable/user_guide/indexing.html#returning-a-view-versus-a-copy\n",
      "  points['label'][no_label] = 0\n"
     ]
    },
    {
     "name": "stdout",
     "output_type": "stream",
     "text": [
      "[94/182] processing user 093\n",
      "[95/182] processing user 094\n",
      "[96/182] processing user 095\n",
      "[97/182] processing user 096\n"
     ]
    },
    {
     "name": "stderr",
     "output_type": "stream",
     "text": [
      "c:\\Users\\Bened\\Documents\\Git\\Master-Thesis\\Geolife\\read_geolife_utils.py:42: SettingWithCopyWarning: \n",
      "A value is trying to be set on a copy of a slice from a DataFrame\n",
      "\n",
      "See the caveats in the documentation: https://pandas.pydata.org/pandas-docs/stable/user_guide/indexing.html#returning-a-view-versus-a-copy\n",
      "  points['label'][no_label] = 0\n"
     ]
    },
    {
     "name": "stdout",
     "output_type": "stream",
     "text": [
      "[98/182] processing user 097\n"
     ]
    },
    {
     "name": "stderr",
     "output_type": "stream",
     "text": [
      "c:\\Users\\Bened\\Documents\\Git\\Master-Thesis\\Geolife\\read_geolife_utils.py:42: SettingWithCopyWarning: \n",
      "A value is trying to be set on a copy of a slice from a DataFrame\n",
      "\n",
      "See the caveats in the documentation: https://pandas.pydata.org/pandas-docs/stable/user_guide/indexing.html#returning-a-view-versus-a-copy\n",
      "  points['label'][no_label] = 0\n",
      "c:\\Users\\Bened\\Documents\\Git\\Master-Thesis\\Geolife\\read_geolife_utils.py:42: SettingWithCopyWarning: \n",
      "A value is trying to be set on a copy of a slice from a DataFrame\n",
      "\n",
      "See the caveats in the documentation: https://pandas.pydata.org/pandas-docs/stable/user_guide/indexing.html#returning-a-view-versus-a-copy\n",
      "  points['label'][no_label] = 0\n"
     ]
    },
    {
     "name": "stdout",
     "output_type": "stream",
     "text": [
      "[99/182] processing user 098\n",
      "[100/182] processing user 099\n",
      "[101/182] processing user 100\n",
      "[102/182] processing user 101\n"
     ]
    },
    {
     "name": "stderr",
     "output_type": "stream",
     "text": [
      "c:\\Users\\Bened\\Documents\\Git\\Master-Thesis\\Geolife\\read_geolife_utils.py:42: SettingWithCopyWarning: \n",
      "A value is trying to be set on a copy of a slice from a DataFrame\n",
      "\n",
      "See the caveats in the documentation: https://pandas.pydata.org/pandas-docs/stable/user_guide/indexing.html#returning-a-view-versus-a-copy\n",
      "  points['label'][no_label] = 0\n",
      "c:\\Users\\Bened\\Documents\\Git\\Master-Thesis\\Geolife\\read_geolife_utils.py:42: SettingWithCopyWarning: \n",
      "A value is trying to be set on a copy of a slice from a DataFrame\n",
      "\n",
      "See the caveats in the documentation: https://pandas.pydata.org/pandas-docs/stable/user_guide/indexing.html#returning-a-view-versus-a-copy\n",
      "  points['label'][no_label] = 0\n"
     ]
    },
    {
     "name": "stdout",
     "output_type": "stream",
     "text": [
      "[103/182] processing user 102\n"
     ]
    },
    {
     "name": "stderr",
     "output_type": "stream",
     "text": [
      "c:\\Users\\Bened\\Documents\\Git\\Master-Thesis\\Geolife\\read_geolife_utils.py:42: SettingWithCopyWarning: \n",
      "A value is trying to be set on a copy of a slice from a DataFrame\n",
      "\n",
      "See the caveats in the documentation: https://pandas.pydata.org/pandas-docs/stable/user_guide/indexing.html#returning-a-view-versus-a-copy\n",
      "  points['label'][no_label] = 0\n"
     ]
    },
    {
     "name": "stdout",
     "output_type": "stream",
     "text": [
      "[104/182] processing user 103\n",
      "[105/182] processing user 104\n"
     ]
    },
    {
     "name": "stderr",
     "output_type": "stream",
     "text": [
      "c:\\Users\\Bened\\Documents\\Git\\Master-Thesis\\Geolife\\read_geolife_utils.py:42: SettingWithCopyWarning: \n",
      "A value is trying to be set on a copy of a slice from a DataFrame\n",
      "\n",
      "See the caveats in the documentation: https://pandas.pydata.org/pandas-docs/stable/user_guide/indexing.html#returning-a-view-versus-a-copy\n",
      "  points['label'][no_label] = 0\n",
      "c:\\Users\\Bened\\Documents\\Git\\Master-Thesis\\Geolife\\read_geolife_utils.py:42: SettingWithCopyWarning: \n",
      "A value is trying to be set on a copy of a slice from a DataFrame\n",
      "\n",
      "See the caveats in the documentation: https://pandas.pydata.org/pandas-docs/stable/user_guide/indexing.html#returning-a-view-versus-a-copy\n",
      "  points['label'][no_label] = 0\n",
      "c:\\Users\\Bened\\Documents\\Git\\Master-Thesis\\Geolife\\read_geolife_utils.py:42: SettingWithCopyWarning: \n",
      "A value is trying to be set on a copy of a slice from a DataFrame\n",
      "\n",
      "See the caveats in the documentation: https://pandas.pydata.org/pandas-docs/stable/user_guide/indexing.html#returning-a-view-versus-a-copy\n",
      "  points['label'][no_label] = 0\n",
      "c:\\Users\\Bened\\Documents\\Git\\Master-Thesis\\Geolife\\read_geolife_utils.py:42: SettingWithCopyWarning: \n",
      "A value is trying to be set on a copy of a slice from a DataFrame\n",
      "\n",
      "See the caveats in the documentation: https://pandas.pydata.org/pandas-docs/stable/user_guide/indexing.html#returning-a-view-versus-a-copy\n",
      "  points['label'][no_label] = 0\n"
     ]
    },
    {
     "name": "stdout",
     "output_type": "stream",
     "text": [
      "[106/182] processing user 105\n",
      "[107/182] processing user 106\n",
      "[108/182] processing user 107\n",
      "[109/182] processing user 108\n"
     ]
    },
    {
     "name": "stderr",
     "output_type": "stream",
     "text": [
      "c:\\Users\\Bened\\Documents\\Git\\Master-Thesis\\Geolife\\read_geolife_utils.py:42: SettingWithCopyWarning: \n",
      "A value is trying to be set on a copy of a slice from a DataFrame\n",
      "\n",
      "See the caveats in the documentation: https://pandas.pydata.org/pandas-docs/stable/user_guide/indexing.html#returning-a-view-versus-a-copy\n",
      "  points['label'][no_label] = 0\n"
     ]
    },
    {
     "name": "stdout",
     "output_type": "stream",
     "text": [
      "[110/182] processing user 109\n",
      "[111/182] processing user 110\n"
     ]
    },
    {
     "name": "stderr",
     "output_type": "stream",
     "text": [
      "c:\\Users\\Bened\\Documents\\Git\\Master-Thesis\\Geolife\\read_geolife_utils.py:42: SettingWithCopyWarning: \n",
      "A value is trying to be set on a copy of a slice from a DataFrame\n",
      "\n",
      "See the caveats in the documentation: https://pandas.pydata.org/pandas-docs/stable/user_guide/indexing.html#returning-a-view-versus-a-copy\n",
      "  points['label'][no_label] = 0\n"
     ]
    },
    {
     "name": "stdout",
     "output_type": "stream",
     "text": [
      "[112/182] processing user 111\n"
     ]
    },
    {
     "name": "stderr",
     "output_type": "stream",
     "text": [
      "c:\\Users\\Bened\\Documents\\Git\\Master-Thesis\\Geolife\\read_geolife_utils.py:42: SettingWithCopyWarning: \n",
      "A value is trying to be set on a copy of a slice from a DataFrame\n",
      "\n",
      "See the caveats in the documentation: https://pandas.pydata.org/pandas-docs/stable/user_guide/indexing.html#returning-a-view-versus-a-copy\n",
      "  points['label'][no_label] = 0\n"
     ]
    },
    {
     "name": "stdout",
     "output_type": "stream",
     "text": [
      "[113/182] processing user 112\n"
     ]
    },
    {
     "name": "stderr",
     "output_type": "stream",
     "text": [
      "c:\\Users\\Bened\\Documents\\Git\\Master-Thesis\\Geolife\\read_geolife_utils.py:42: SettingWithCopyWarning: \n",
      "A value is trying to be set on a copy of a slice from a DataFrame\n",
      "\n",
      "See the caveats in the documentation: https://pandas.pydata.org/pandas-docs/stable/user_guide/indexing.html#returning-a-view-versus-a-copy\n",
      "  points['label'][no_label] = 0\n"
     ]
    },
    {
     "name": "stdout",
     "output_type": "stream",
     "text": [
      "[114/182] processing user 113\n",
      "[115/182] processing user 114\n"
     ]
    },
    {
     "name": "stderr",
     "output_type": "stream",
     "text": [
      "c:\\Users\\Bened\\Documents\\Git\\Master-Thesis\\Geolife\\read_geolife_utils.py:42: SettingWithCopyWarning: \n",
      "A value is trying to be set on a copy of a slice from a DataFrame\n",
      "\n",
      "See the caveats in the documentation: https://pandas.pydata.org/pandas-docs/stable/user_guide/indexing.html#returning-a-view-versus-a-copy\n",
      "  points['label'][no_label] = 0\n"
     ]
    },
    {
     "name": "stdout",
     "output_type": "stream",
     "text": [
      "[116/182] processing user 115\n"
     ]
    },
    {
     "name": "stderr",
     "output_type": "stream",
     "text": [
      "c:\\Users\\Bened\\Documents\\Git\\Master-Thesis\\Geolife\\read_geolife_utils.py:42: SettingWithCopyWarning: \n",
      "A value is trying to be set on a copy of a slice from a DataFrame\n",
      "\n",
      "See the caveats in the documentation: https://pandas.pydata.org/pandas-docs/stable/user_guide/indexing.html#returning-a-view-versus-a-copy\n",
      "  points['label'][no_label] = 0\n",
      "c:\\Users\\Bened\\Documents\\Git\\Master-Thesis\\Geolife\\read_geolife_utils.py:42: SettingWithCopyWarning: \n",
      "A value is trying to be set on a copy of a slice from a DataFrame\n",
      "\n",
      "See the caveats in the documentation: https://pandas.pydata.org/pandas-docs/stable/user_guide/indexing.html#returning-a-view-versus-a-copy\n",
      "  points['label'][no_label] = 0\n",
      "c:\\Users\\Bened\\Documents\\Git\\Master-Thesis\\Geolife\\read_geolife_utils.py:42: SettingWithCopyWarning: \n",
      "A value is trying to be set on a copy of a slice from a DataFrame\n",
      "\n",
      "See the caveats in the documentation: https://pandas.pydata.org/pandas-docs/stable/user_guide/indexing.html#returning-a-view-versus-a-copy\n",
      "  points['label'][no_label] = 0\n",
      "c:\\Users\\Bened\\Documents\\Git\\Master-Thesis\\Geolife\\read_geolife_utils.py:42: SettingWithCopyWarning: \n",
      "A value is trying to be set on a copy of a slice from a DataFrame\n",
      "\n",
      "See the caveats in the documentation: https://pandas.pydata.org/pandas-docs/stable/user_guide/indexing.html#returning-a-view-versus-a-copy\n",
      "  points['label'][no_label] = 0\n"
     ]
    },
    {
     "name": "stdout",
     "output_type": "stream",
     "text": [
      "[117/182] processing user 116\n",
      "[118/182] processing user 117\n",
      "[119/182] processing user 118\n",
      "[120/182] processing user 119\n",
      "[121/182] processing user 120\n",
      "[122/182] processing user 121\n",
      "[123/182] processing user 122\n",
      "[124/182] processing user 123\n",
      "[125/182] processing user 124\n"
     ]
    },
    {
     "name": "stderr",
     "output_type": "stream",
     "text": [
      "c:\\Users\\Bened\\Documents\\Git\\Master-Thesis\\Geolife\\read_geolife_utils.py:42: SettingWithCopyWarning: \n",
      "A value is trying to be set on a copy of a slice from a DataFrame\n",
      "\n",
      "See the caveats in the documentation: https://pandas.pydata.org/pandas-docs/stable/user_guide/indexing.html#returning-a-view-versus-a-copy\n",
      "  points['label'][no_label] = 0\n"
     ]
    },
    {
     "name": "stdout",
     "output_type": "stream",
     "text": [
      "[126/182] processing user 125\n"
     ]
    },
    {
     "name": "stderr",
     "output_type": "stream",
     "text": [
      "c:\\Users\\Bened\\Documents\\Git\\Master-Thesis\\Geolife\\read_geolife_utils.py:42: SettingWithCopyWarning: \n",
      "A value is trying to be set on a copy of a slice from a DataFrame\n",
      "\n",
      "See the caveats in the documentation: https://pandas.pydata.org/pandas-docs/stable/user_guide/indexing.html#returning-a-view-versus-a-copy\n",
      "  points['label'][no_label] = 0\n"
     ]
    },
    {
     "name": "stdout",
     "output_type": "stream",
     "text": [
      "[127/182] processing user 126\n"
     ]
    },
    {
     "name": "stderr",
     "output_type": "stream",
     "text": [
      "c:\\Users\\Bened\\Documents\\Git\\Master-Thesis\\Geolife\\read_geolife_utils.py:42: SettingWithCopyWarning: \n",
      "A value is trying to be set on a copy of a slice from a DataFrame\n",
      "\n",
      "See the caveats in the documentation: https://pandas.pydata.org/pandas-docs/stable/user_guide/indexing.html#returning-a-view-versus-a-copy\n",
      "  points['label'][no_label] = 0\n"
     ]
    },
    {
     "name": "stdout",
     "output_type": "stream",
     "text": [
      "[128/182] processing user 127\n",
      "[129/182] processing user 128\n"
     ]
    },
    {
     "name": "stderr",
     "output_type": "stream",
     "text": [
      "c:\\Users\\Bened\\Documents\\Git\\Master-Thesis\\Geolife\\read_geolife_utils.py:42: SettingWithCopyWarning: \n",
      "A value is trying to be set on a copy of a slice from a DataFrame\n",
      "\n",
      "See the caveats in the documentation: https://pandas.pydata.org/pandas-docs/stable/user_guide/indexing.html#returning-a-view-versus-a-copy\n",
      "  points['label'][no_label] = 0\n",
      "c:\\Users\\Bened\\Documents\\Git\\Master-Thesis\\Geolife\\read_geolife_utils.py:42: SettingWithCopyWarning: \n",
      "A value is trying to be set on a copy of a slice from a DataFrame\n",
      "\n",
      "See the caveats in the documentation: https://pandas.pydata.org/pandas-docs/stable/user_guide/indexing.html#returning-a-view-versus-a-copy\n",
      "  points['label'][no_label] = 0\n"
     ]
    },
    {
     "name": "stdout",
     "output_type": "stream",
     "text": [
      "[130/182] processing user 129\n",
      "[131/182] processing user 130\n",
      "[132/182] processing user 131\n",
      "[133/182] processing user 132\n",
      "[134/182] processing user 133\n",
      "[135/182] processing user 134\n",
      "[136/182] processing user 135\n",
      "[137/182] processing user 136\n",
      "[138/182] processing user 137\n",
      "[139/182] processing user 138\n"
     ]
    },
    {
     "name": "stderr",
     "output_type": "stream",
     "text": [
      "c:\\Users\\Bened\\Documents\\Git\\Master-Thesis\\Geolife\\read_geolife_utils.py:42: SettingWithCopyWarning: \n",
      "A value is trying to be set on a copy of a slice from a DataFrame\n",
      "\n",
      "See the caveats in the documentation: https://pandas.pydata.org/pandas-docs/stable/user_guide/indexing.html#returning-a-view-versus-a-copy\n",
      "  points['label'][no_label] = 0\n",
      "c:\\Users\\Bened\\Documents\\Git\\Master-Thesis\\Geolife\\read_geolife_utils.py:42: SettingWithCopyWarning: \n",
      "A value is trying to be set on a copy of a slice from a DataFrame\n",
      "\n",
      "See the caveats in the documentation: https://pandas.pydata.org/pandas-docs/stable/user_guide/indexing.html#returning-a-view-versus-a-copy\n",
      "  points['label'][no_label] = 0\n",
      "c:\\Users\\Bened\\Documents\\Git\\Master-Thesis\\Geolife\\read_geolife_utils.py:42: SettingWithCopyWarning: \n",
      "A value is trying to be set on a copy of a slice from a DataFrame\n",
      "\n",
      "See the caveats in the documentation: https://pandas.pydata.org/pandas-docs/stable/user_guide/indexing.html#returning-a-view-versus-a-copy\n",
      "  points['label'][no_label] = 0\n"
     ]
    },
    {
     "name": "stdout",
     "output_type": "stream",
     "text": [
      "[140/182] processing user 139\n",
      "[141/182] processing user 140\n",
      "[142/182] processing user 141\n"
     ]
    },
    {
     "name": "stderr",
     "output_type": "stream",
     "text": [
      "c:\\Users\\Bened\\Documents\\Git\\Master-Thesis\\Geolife\\read_geolife_utils.py:42: SettingWithCopyWarning: \n",
      "A value is trying to be set on a copy of a slice from a DataFrame\n",
      "\n",
      "See the caveats in the documentation: https://pandas.pydata.org/pandas-docs/stable/user_guide/indexing.html#returning-a-view-versus-a-copy\n",
      "  points['label'][no_label] = 0\n"
     ]
    },
    {
     "name": "stdout",
     "output_type": "stream",
     "text": [
      "[143/182] processing user 142\n",
      "[144/182] processing user 143\n",
      "[145/182] processing user 144\n"
     ]
    },
    {
     "name": "stderr",
     "output_type": "stream",
     "text": [
      "c:\\Users\\Bened\\Documents\\Git\\Master-Thesis\\Geolife\\read_geolife_utils.py:42: SettingWithCopyWarning: \n",
      "A value is trying to be set on a copy of a slice from a DataFrame\n",
      "\n",
      "See the caveats in the documentation: https://pandas.pydata.org/pandas-docs/stable/user_guide/indexing.html#returning-a-view-versus-a-copy\n",
      "  points['label'][no_label] = 0\n"
     ]
    },
    {
     "name": "stdout",
     "output_type": "stream",
     "text": [
      "[146/182] processing user 145\n",
      "[147/182] processing user 146\n",
      "[148/182] processing user 147\n"
     ]
    },
    {
     "name": "stderr",
     "output_type": "stream",
     "text": [
      "c:\\Users\\Bened\\Documents\\Git\\Master-Thesis\\Geolife\\read_geolife_utils.py:42: SettingWithCopyWarning: \n",
      "A value is trying to be set on a copy of a slice from a DataFrame\n",
      "\n",
      "See the caveats in the documentation: https://pandas.pydata.org/pandas-docs/stable/user_guide/indexing.html#returning-a-view-versus-a-copy\n",
      "  points['label'][no_label] = 0\n"
     ]
    },
    {
     "name": "stdout",
     "output_type": "stream",
     "text": [
      "[149/182] processing user 148\n",
      "[150/182] processing user 149\n",
      "[151/182] processing user 150\n",
      "[152/182] processing user 151\n",
      "[153/182] processing user 152\n",
      "[154/182] processing user 153\n"
     ]
    },
    {
     "name": "stderr",
     "output_type": "stream",
     "text": [
      "c:\\Users\\Bened\\Documents\\Git\\Master-Thesis\\Geolife\\read_geolife_utils.py:42: SettingWithCopyWarning: \n",
      "A value is trying to be set on a copy of a slice from a DataFrame\n",
      "\n",
      "See the caveats in the documentation: https://pandas.pydata.org/pandas-docs/stable/user_guide/indexing.html#returning-a-view-versus-a-copy\n",
      "  points['label'][no_label] = 0\n"
     ]
    },
    {
     "name": "stdout",
     "output_type": "stream",
     "text": [
      "[155/182] processing user 154\n"
     ]
    },
    {
     "name": "stderr",
     "output_type": "stream",
     "text": [
      "c:\\Users\\Bened\\Documents\\Git\\Master-Thesis\\Geolife\\read_geolife_utils.py:42: SettingWithCopyWarning: \n",
      "A value is trying to be set on a copy of a slice from a DataFrame\n",
      "\n",
      "See the caveats in the documentation: https://pandas.pydata.org/pandas-docs/stable/user_guide/indexing.html#returning-a-view-versus-a-copy\n",
      "  points['label'][no_label] = 0\n"
     ]
    },
    {
     "name": "stdout",
     "output_type": "stream",
     "text": [
      "[156/182] processing user 155\n",
      "[157/182] processing user 156\n",
      "[158/182] processing user 157\n",
      "[159/182] processing user 158\n",
      "[160/182] processing user 159\n",
      "[161/182] processing user 160\n",
      "[162/182] processing user 161\n",
      "[163/182] processing user 162\n"
     ]
    },
    {
     "name": "stderr",
     "output_type": "stream",
     "text": [
      "c:\\Users\\Bened\\Documents\\Git\\Master-Thesis\\Geolife\\read_geolife_utils.py:42: SettingWithCopyWarning: \n",
      "A value is trying to be set on a copy of a slice from a DataFrame\n",
      "\n",
      "See the caveats in the documentation: https://pandas.pydata.org/pandas-docs/stable/user_guide/indexing.html#returning-a-view-versus-a-copy\n",
      "  points['label'][no_label] = 0\n"
     ]
    },
    {
     "name": "stdout",
     "output_type": "stream",
     "text": [
      "[164/182] processing user 163\n"
     ]
    },
    {
     "name": "stderr",
     "output_type": "stream",
     "text": [
      "c:\\Users\\Bened\\Documents\\Git\\Master-Thesis\\Geolife\\read_geolife_utils.py:42: SettingWithCopyWarning: \n",
      "A value is trying to be set on a copy of a slice from a DataFrame\n",
      "\n",
      "See the caveats in the documentation: https://pandas.pydata.org/pandas-docs/stable/user_guide/indexing.html#returning-a-view-versus-a-copy\n",
      "  points['label'][no_label] = 0\n"
     ]
    },
    {
     "name": "stdout",
     "output_type": "stream",
     "text": [
      "[165/182] processing user 164\n",
      "[166/182] processing user 165\n",
      "[167/182] processing user 166\n",
      "[168/182] processing user 167\n"
     ]
    },
    {
     "name": "stderr",
     "output_type": "stream",
     "text": [
      "c:\\Users\\Bened\\Documents\\Git\\Master-Thesis\\Geolife\\read_geolife_utils.py:42: SettingWithCopyWarning: \n",
      "A value is trying to be set on a copy of a slice from a DataFrame\n",
      "\n",
      "See the caveats in the documentation: https://pandas.pydata.org/pandas-docs/stable/user_guide/indexing.html#returning-a-view-versus-a-copy\n",
      "  points['label'][no_label] = 0\n"
     ]
    },
    {
     "name": "stdout",
     "output_type": "stream",
     "text": [
      "[169/182] processing user 168\n",
      "[170/182] processing user 169\n",
      "[171/182] processing user 170\n",
      "[172/182] processing user 171\n",
      "[173/182] processing user 172\n"
     ]
    },
    {
     "name": "stderr",
     "output_type": "stream",
     "text": [
      "c:\\Users\\Bened\\Documents\\Git\\Master-Thesis\\Geolife\\read_geolife_utils.py:42: SettingWithCopyWarning: \n",
      "A value is trying to be set on a copy of a slice from a DataFrame\n",
      "\n",
      "See the caveats in the documentation: https://pandas.pydata.org/pandas-docs/stable/user_guide/indexing.html#returning-a-view-versus-a-copy\n",
      "  points['label'][no_label] = 0\n"
     ]
    },
    {
     "name": "stdout",
     "output_type": "stream",
     "text": [
      "[174/182] processing user 173\n",
      "[175/182] processing user 174\n"
     ]
    },
    {
     "name": "stderr",
     "output_type": "stream",
     "text": [
      "c:\\Users\\Bened\\Documents\\Git\\Master-Thesis\\Geolife\\read_geolife_utils.py:42: SettingWithCopyWarning: \n",
      "A value is trying to be set on a copy of a slice from a DataFrame\n",
      "\n",
      "See the caveats in the documentation: https://pandas.pydata.org/pandas-docs/stable/user_guide/indexing.html#returning-a-view-versus-a-copy\n",
      "  points['label'][no_label] = 0\n",
      "c:\\Users\\Bened\\Documents\\Git\\Master-Thesis\\Geolife\\read_geolife_utils.py:42: SettingWithCopyWarning: \n",
      "A value is trying to be set on a copy of a slice from a DataFrame\n",
      "\n",
      "See the caveats in the documentation: https://pandas.pydata.org/pandas-docs/stable/user_guide/indexing.html#returning-a-view-versus-a-copy\n",
      "  points['label'][no_label] = 0\n"
     ]
    },
    {
     "name": "stdout",
     "output_type": "stream",
     "text": [
      "[176/182] processing user 175\n",
      "[177/182] processing user 176\n",
      "[178/182] processing user 177\n",
      "[179/182] processing user 178\n",
      "[180/182] processing user 179\n"
     ]
    },
    {
     "name": "stderr",
     "output_type": "stream",
     "text": [
      "c:\\Users\\Bened\\Documents\\Git\\Master-Thesis\\Geolife\\read_geolife_utils.py:42: SettingWithCopyWarning: \n",
      "A value is trying to be set on a copy of a slice from a DataFrame\n",
      "\n",
      "See the caveats in the documentation: https://pandas.pydata.org/pandas-docs/stable/user_guide/indexing.html#returning-a-view-versus-a-copy\n",
      "  points['label'][no_label] = 0\n"
     ]
    },
    {
     "name": "stdout",
     "output_type": "stream",
     "text": [
      "[181/182] processing user 180\n",
      "[182/182] processing user 181\n",
      "Data read.\n"
     ]
    }
   ],
   "source": [
    "print('Reading data...')\n",
    "geolife_raw_df = read_geolife.read_all_users('../data/geolife/Geolife Trajectories 1.3/Data')\n",
    "print('Data read.')"
   ]
  },
  {
   "cell_type": "code",
   "execution_count": 3,
   "metadata": {},
   "outputs": [],
   "source": [
    "def write_geojson(gdf, path):\n",
    "    assert isinstance(gdf, gp.GeoDataFrame)\n",
    "    gdf.to_file(path, driver='GeoJSON')\n",
    "\n"
   ]
  },
  {
   "cell_type": "code",
   "execution_count": 4,
   "metadata": {},
   "outputs": [
    {
     "name": "stdout",
     "output_type": "stream",
     "text": [
      "removing points outside valid lon and lat range...\n",
      "points removed.\n"
     ]
    }
   ],
   "source": [
    "print('removing points outside valid lon and lat range...')\n",
    "# Remove points that fall outside the valid lon and lat range (-90 to 90 for latitude and -180 to 180 for longitude)\n",
    "geolife_raw_gdf = geolife_raw_df[(geolife_raw_df.lat >= -90) & (geolife_raw_df.lat <= 90) & (geolife_raw_df.lon >= -180) & (geolife_raw_df.lon <= 180)]\n",
    "print('points removed.')"
   ]
  },
  {
   "cell_type": "code",
   "execution_count": 5,
   "metadata": {},
   "outputs": [
    {
     "name": "stdout",
     "output_type": "stream",
     "text": [
      "Dropping NA values...\n",
      "NA values dropped.\n"
     ]
    },
    {
     "name": "stderr",
     "output_type": "stream",
     "text": [
      "C:\\Users\\Bened\\AppData\\Local\\Temp\\ipykernel_6076\\1393668278.py:4: SettingWithCopyWarning: \n",
      "A value is trying to be set on a copy of a slice from a DataFrame\n",
      "\n",
      "See the caveats in the documentation: https://pandas.pydata.org/pandas-docs/stable/user_guide/indexing.html#returning-a-view-versus-a-copy\n",
      "  geolife_raw_gdf.dropna(inplace=True)\n"
     ]
    }
   ],
   "source": [
    "print('Dropping NA values...')\n",
    "len_before = len(geolife_raw_gdf)\n",
    "logging.info('Rows before dropping NA values: {}'.format(len(geolife_raw_gdf)))\n",
    "geolife_raw_gdf.dropna(inplace=True)\n",
    "logging.info('Rows after dropping NA values: {}'.format(len(geolife_raw_gdf)))\n",
    "logging.info('Rows dropped: {}'.format(len_before - len(geolife_raw_gdf)))\n",
    "print('NA values dropped.')"
   ]
  },
  {
   "cell_type": "code",
   "execution_count": 6,
   "metadata": {},
   "outputs": [
    {
     "name": "stdout",
     "output_type": "stream",
     "text": [
      "creating trajectory collection...\n",
      "trajectory collection created.\n"
     ]
    }
   ],
   "source": [
    "print('creating trajectory collection...')\n",
    "# Create trajectory collection\n",
    "geolife_raw_collection = mpd.TrajectoryCollection(geolife_raw_df, traj_id_col='traj_id', obj_id_col ='user', t='time', x='lon', y='lat')\n",
    "print('trajectory collection created.')\n",
    "\n",
    "logging.info(f'This is a test log of traj id: {geolife_raw_collection.trajectories[0].id}')\n",
    "logging.info(f'Number of trajectories in data: {len(geolife_raw_collection.trajectories)}')"
   ]
  },
  {
   "cell_type": "code",
   "execution_count": 12,
   "metadata": {},
   "outputs": [
    {
     "name": "stdout",
     "output_type": "stream",
     "text": [
      "converting to EPSG:32650 for China (Beijing)...\n"
     ]
    },
    {
     "name": "stderr",
     "output_type": "stream",
     "text": [
      "[Parallel(n_jobs=-2)]: Using backend LokyBackend with 7 concurrent workers.\n",
      "[Parallel(n_jobs=-2)]: Done   4 tasks      | elapsed:    7.0s\n",
      "[Parallel(n_jobs=-2)]: Done  11 tasks      | elapsed:    7.2s\n",
      "[Parallel(n_jobs=-2)]: Done  18 tasks      | elapsed:    7.2s\n",
      "[Parallel(n_jobs=-2)]: Done  27 tasks      | elapsed:    7.3s\n",
      "[Parallel(n_jobs=-2)]: Batch computation too fast (0.1987s.) Setting batch_size=2.\n",
      "[Parallel(n_jobs=-2)]: Done  36 tasks      | elapsed:    7.3s\n",
      "[Parallel(n_jobs=-2)]: Done  47 tasks      | elapsed:    7.4s\n",
      "[Parallel(n_jobs=-2)]: Batch computation too fast (0.1292s.) Setting batch_size=4.\n",
      "[Parallel(n_jobs=-2)]: Done  67 tasks      | elapsed:    7.6s\n",
      "[Parallel(n_jobs=-2)]: Batch computation too fast (0.1960s.) Setting batch_size=8.\n",
      "[Parallel(n_jobs=-2)]: Done 109 tasks      | elapsed:    7.9s\n",
      "[Parallel(n_jobs=-2)]: Done 189 tasks      | elapsed:    8.6s\n",
      "[Parallel(n_jobs=-2)]: Done 309 tasks      | elapsed:    9.3s\n",
      "[Parallel(n_jobs=-2)]: Done 429 tasks      | elapsed:   10.1s\n",
      "[Parallel(n_jobs=-2)]: Done 565 tasks      | elapsed:   11.9s\n",
      "[Parallel(n_jobs=-2)]: Batch computation too slow (2.2052s.) Setting batch_size=1.\n",
      "[Parallel(n_jobs=-2)]: Done 701 tasks      | elapsed:   15.2s\n",
      "[Parallel(n_jobs=-2)]: Done 741 tasks      | elapsed:   15.5s\n",
      "[Parallel(n_jobs=-2)]: Batch computation too fast (0.1935s.) Setting batch_size=2.\n",
      "[Parallel(n_jobs=-2)]: Batch computation too fast (0.1290s.) Setting batch_size=4.\n",
      "[Parallel(n_jobs=-2)]: Done 773 tasks      | elapsed:   15.9s\n",
      "[Parallel(n_jobs=-2)]: Done 841 tasks      | elapsed:   16.6s\n",
      "[Parallel(n_jobs=-2)]: Batch computation too slow (2.7598s.) Setting batch_size=1.\n",
      "[Parallel(n_jobs=-2)]: Done 933 tasks      | elapsed:   23.7s\n",
      "[Parallel(n_jobs=-2)]: Batch computation too fast (0.1875s.) Setting batch_size=2.\n",
      "[Parallel(n_jobs=-2)]: Done 1001 tasks      | elapsed:   24.1s\n",
      "[Parallel(n_jobs=-2)]: Batch computation too fast (0.1850s.) Setting batch_size=4.\n",
      "[Parallel(n_jobs=-2)]: Batch computation too slow (7.6026s.) Setting batch_size=1.\n",
      "[Parallel(n_jobs=-2)]: Done 1038 tasks      | elapsed:   24.6s\n",
      "[Parallel(n_jobs=-2)]: Batch computation too fast (0.1988s.) Setting batch_size=2.\n",
      "[Parallel(n_jobs=-2)]: Done 1090 tasks      | elapsed:   25.0s\n",
      "[Parallel(n_jobs=-2)]: Batch computation too fast (0.1300s.) Setting batch_size=4.\n",
      "[Parallel(n_jobs=-2)]: Done 1137 tasks      | elapsed:   25.6s\n",
      "[Parallel(n_jobs=-2)]: Done 1243 tasks      | elapsed:   26.8s\n",
      "[Parallel(n_jobs=-2)]: Done 1351 tasks      | elapsed:   29.4s\n",
      "[Parallel(n_jobs=-2)]: Batch computation too slow (2.0625s.) Setting batch_size=1.\n",
      "[Parallel(n_jobs=-2)]: Done 1467 tasks      | elapsed:   34.0s\n",
      "[Parallel(n_jobs=-2)]: Done 1529 tasks      | elapsed:   41.9s\n",
      "[Parallel(n_jobs=-2)]: Done 1563 tasks      | elapsed:   44.0s\n",
      "[Parallel(n_jobs=-2)]: Done 1597 tasks      | elapsed:   45.9s\n",
      "[Parallel(n_jobs=-2)]: Done 1630 tasks      | elapsed:   47.2s\n",
      "[Parallel(n_jobs=-2)]: Done 1663 tasks      | elapsed:   48.6s\n",
      "[Parallel(n_jobs=-2)]: Done 1698 tasks      | elapsed:   49.8s\n",
      "[Parallel(n_jobs=-2)]: Done 1733 tasks      | elapsed:   50.6s\n",
      "[Parallel(n_jobs=-2)]: Done 1770 tasks      | elapsed:   51.9s\n",
      "[Parallel(n_jobs=-2)]: Done 1807 tasks      | elapsed:   53.6s\n",
      "[Parallel(n_jobs=-2)]: Done 1846 tasks      | elapsed:   54.9s\n",
      "[Parallel(n_jobs=-2)]: Done 1885 tasks      | elapsed:   56.7s\n",
      "[Parallel(n_jobs=-2)]: Done 1926 tasks      | elapsed:   59.4s\n",
      "[Parallel(n_jobs=-2)]: Done 1967 tasks      | elapsed:  1.0min\n",
      "[Parallel(n_jobs=-2)]: Done 2010 tasks      | elapsed:  1.1min\n",
      "[Parallel(n_jobs=-2)]: Done 2053 tasks      | elapsed:  1.1min\n",
      "[Parallel(n_jobs=-2)]: Done 2098 tasks      | elapsed:  1.1min\n",
      "[Parallel(n_jobs=-2)]: Done 2143 tasks      | elapsed:  1.2min\n",
      "[Parallel(n_jobs=-2)]: Done 2190 tasks      | elapsed:  1.3min\n",
      "[Parallel(n_jobs=-2)]: Done 2237 tasks      | elapsed:  1.3min\n",
      "[Parallel(n_jobs=-2)]: Batch computation too fast (0.1916s.) Setting batch_size=2.\n",
      "[Parallel(n_jobs=-2)]: Done 2311 tasks      | elapsed:  1.4min\n",
      "[Parallel(n_jobs=-2)]: Batch computation too slow (2.0349s.) Setting batch_size=1.\n",
      "[Parallel(n_jobs=-2)]: Done 2376 tasks      | elapsed:  1.5min\n",
      "[Parallel(n_jobs=-2)]: Done 2427 tasks      | elapsed:  1.5min\n",
      "[Parallel(n_jobs=-2)]: Done 2479 tasks      | elapsed:  1.6min\n",
      "[Parallel(n_jobs=-2)]: Done 2532 tasks      | elapsed:  1.6min\n",
      "[Parallel(n_jobs=-2)]: Done 2585 tasks      | elapsed:  1.6min\n",
      "[Parallel(n_jobs=-2)]: Done 2640 tasks      | elapsed:  1.7min\n",
      "[Parallel(n_jobs=-2)]: Done 2695 tasks      | elapsed:  1.7min\n",
      "[Parallel(n_jobs=-2)]: Done 2752 tasks      | elapsed:  1.7min\n",
      "[Parallel(n_jobs=-2)]: Done 2809 tasks      | elapsed:  1.8min\n",
      "[Parallel(n_jobs=-2)]: Done 2868 tasks      | elapsed:  1.8min\n",
      "[Parallel(n_jobs=-2)]: Done 2927 tasks      | elapsed:  1.9min\n",
      "[Parallel(n_jobs=-2)]: Done 2988 tasks      | elapsed:  1.9min\n",
      "[Parallel(n_jobs=-2)]: Done 3049 tasks      | elapsed:  2.0min\n",
      "[Parallel(n_jobs=-2)]: Done 3112 tasks      | elapsed:  2.0min\n",
      "[Parallel(n_jobs=-2)]: Done 3175 tasks      | elapsed:  2.1min\n",
      "[Parallel(n_jobs=-2)]: Done 3240 tasks      | elapsed:  2.2min\n",
      "[Parallel(n_jobs=-2)]: Done 3305 tasks      | elapsed:  2.2min\n",
      "[Parallel(n_jobs=-2)]: Done 3372 tasks      | elapsed:  2.3min\n",
      "[Parallel(n_jobs=-2)]: Done 3439 tasks      | elapsed:  2.4min\n",
      "[Parallel(n_jobs=-2)]: Done 3508 tasks      | elapsed:  2.4min\n",
      "[Parallel(n_jobs=-2)]: Done 3577 tasks      | elapsed:  2.5min\n",
      "[Parallel(n_jobs=-2)]: Done 3648 tasks      | elapsed:  2.5min\n",
      "[Parallel(n_jobs=-2)]: Done 3719 tasks      | elapsed:  2.6min\n",
      "[Parallel(n_jobs=-2)]: Done 3792 tasks      | elapsed:  2.6min\n",
      "[Parallel(n_jobs=-2)]: Done 3865 tasks      | elapsed:  2.7min\n",
      "[Parallel(n_jobs=-2)]: Done 3940 tasks      | elapsed:  2.7min\n",
      "[Parallel(n_jobs=-2)]: Done 4015 tasks      | elapsed:  2.8min\n",
      "[Parallel(n_jobs=-2)]: Done 4092 tasks      | elapsed:  2.8min\n",
      "[Parallel(n_jobs=-2)]: Done 4169 tasks      | elapsed:  2.9min\n",
      "[Parallel(n_jobs=-2)]: Done 4248 tasks      | elapsed:  3.1min\n",
      "[Parallel(n_jobs=-2)]: Done 4327 tasks      | elapsed:  3.2min\n",
      "[Parallel(n_jobs=-2)]: Done 4408 tasks      | elapsed:  3.3min\n",
      "[Parallel(n_jobs=-2)]: Done 4489 tasks      | elapsed:  3.3min\n",
      "[Parallel(n_jobs=-2)]: Done 4572 tasks      | elapsed:  3.4min\n",
      "[Parallel(n_jobs=-2)]: Done 4655 tasks      | elapsed:  3.5min\n",
      "[Parallel(n_jobs=-2)]: Done 4740 tasks      | elapsed:  3.5min\n",
      "[Parallel(n_jobs=-2)]: Done 4825 tasks      | elapsed:  3.6min\n",
      "[Parallel(n_jobs=-2)]: Done 4912 tasks      | elapsed:  3.7min\n",
      "[Parallel(n_jobs=-2)]: Done 4999 tasks      | elapsed:  3.7min\n",
      "[Parallel(n_jobs=-2)]: Done 5088 tasks      | elapsed:  3.8min\n",
      "[Parallel(n_jobs=-2)]: Done 5177 tasks      | elapsed:  3.9min\n",
      "[Parallel(n_jobs=-2)]: Done 5268 tasks      | elapsed:  4.0min\n",
      "[Parallel(n_jobs=-2)]: Done 5359 tasks      | elapsed:  4.1min\n",
      "[Parallel(n_jobs=-2)]: Done 5452 tasks      | elapsed:  4.2min\n",
      "[Parallel(n_jobs=-2)]: Done 5545 tasks      | elapsed:  4.3min\n",
      "[Parallel(n_jobs=-2)]: Done 5640 tasks      | elapsed:  4.3min\n",
      "[Parallel(n_jobs=-2)]: Done 5735 tasks      | elapsed:  4.5min\n",
      "[Parallel(n_jobs=-2)]: Done 5832 tasks      | elapsed:  4.6min\n",
      "[Parallel(n_jobs=-2)]: Done 5929 tasks      | elapsed:  4.7min\n",
      "[Parallel(n_jobs=-2)]: Done 6028 tasks      | elapsed:  4.7min\n",
      "[Parallel(n_jobs=-2)]: Done 6127 tasks      | elapsed:  4.8min\n",
      "[Parallel(n_jobs=-2)]: Done 6228 tasks      | elapsed:  4.9min\n",
      "[Parallel(n_jobs=-2)]: Done 6329 tasks      | elapsed:  5.0min\n",
      "[Parallel(n_jobs=-2)]: Done 6432 tasks      | elapsed:  5.1min\n",
      "[Parallel(n_jobs=-2)]: Done 6535 tasks      | elapsed:  5.2min\n",
      "[Parallel(n_jobs=-2)]: Done 6640 tasks      | elapsed:  5.3min\n",
      "[Parallel(n_jobs=-2)]: Done 6745 tasks      | elapsed:  5.4min\n",
      "[Parallel(n_jobs=-2)]: Done 6852 tasks      | elapsed:  5.4min\n",
      "[Parallel(n_jobs=-2)]: Done 6959 tasks      | elapsed:  5.5min\n",
      "[Parallel(n_jobs=-2)]: Done 7068 tasks      | elapsed:  5.6min\n",
      "[Parallel(n_jobs=-2)]: Done 7177 tasks      | elapsed:  5.7min\n",
      "[Parallel(n_jobs=-2)]: Done 7288 tasks      | elapsed:  5.8min\n",
      "[Parallel(n_jobs=-2)]: Done 7399 tasks      | elapsed:  5.9min\n",
      "[Parallel(n_jobs=-2)]: Done 7512 tasks      | elapsed:  6.0min\n",
      "[Parallel(n_jobs=-2)]: Done 7625 tasks      | elapsed:  6.1min\n",
      "[Parallel(n_jobs=-2)]: Done 7740 tasks      | elapsed:  6.3min\n",
      "[Parallel(n_jobs=-2)]: Done 7855 tasks      | elapsed:  6.4min\n",
      "[Parallel(n_jobs=-2)]: Done 7972 tasks      | elapsed:  6.6min\n",
      "[Parallel(n_jobs=-2)]: Done 8089 tasks      | elapsed:  6.7min\n",
      "[Parallel(n_jobs=-2)]: Done 8208 tasks      | elapsed:  6.8min\n",
      "[Parallel(n_jobs=-2)]: Done 8327 tasks      | elapsed:  7.0min\n",
      "[Parallel(n_jobs=-2)]: Done 8448 tasks      | elapsed:  7.1min\n",
      "[Parallel(n_jobs=-2)]: Done 8569 tasks      | elapsed:  7.3min\n",
      "[Parallel(n_jobs=-2)]: Done 8692 tasks      | elapsed:  7.5min\n",
      "[Parallel(n_jobs=-2)]: Done 8815 tasks      | elapsed:  7.7min\n",
      "[Parallel(n_jobs=-2)]: Done 8940 tasks      | elapsed:  7.8min\n",
      "[Parallel(n_jobs=-2)]: Done 9065 tasks      | elapsed:  7.9min\n",
      "[Parallel(n_jobs=-2)]: Done 9192 tasks      | elapsed:  8.0min\n",
      "[Parallel(n_jobs=-2)]: Done 9319 tasks      | elapsed:  8.1min\n",
      "[Parallel(n_jobs=-2)]: Done 9448 tasks      | elapsed:  8.3min\n",
      "[Parallel(n_jobs=-2)]: Done 9577 tasks      | elapsed:  8.4min\n",
      "[Parallel(n_jobs=-2)]: Done 9708 tasks      | elapsed:  8.5min\n",
      "[Parallel(n_jobs=-2)]: Done 9839 tasks      | elapsed:  8.6min\n",
      "[Parallel(n_jobs=-2)]: Done 9972 tasks      | elapsed:  8.7min\n",
      "[Parallel(n_jobs=-2)]: Done 10105 tasks      | elapsed:  8.9min\n",
      "[Parallel(n_jobs=-2)]: Done 10240 tasks      | elapsed:  9.1min\n",
      "[Parallel(n_jobs=-2)]: Done 10375 tasks      | elapsed:  9.2min\n",
      "[Parallel(n_jobs=-2)]: Done 10512 tasks      | elapsed:  9.4min\n",
      "[Parallel(n_jobs=-2)]: Done 10649 tasks      | elapsed:  9.6min\n",
      "[Parallel(n_jobs=-2)]: Done 10788 tasks      | elapsed:  9.7min\n",
      "[Parallel(n_jobs=-2)]: Done 10927 tasks      | elapsed:  9.9min\n",
      "[Parallel(n_jobs=-2)]: Done 11068 tasks      | elapsed: 10.0min\n",
      "[Parallel(n_jobs=-2)]: Done 11209 tasks      | elapsed: 10.2min\n",
      "[Parallel(n_jobs=-2)]: Done 11352 tasks      | elapsed: 10.3min\n",
      "[Parallel(n_jobs=-2)]: Done 11495 tasks      | elapsed: 10.5min\n",
      "[Parallel(n_jobs=-2)]: Done 11640 tasks      | elapsed: 10.6min\n",
      "[Parallel(n_jobs=-2)]: Done 11785 tasks      | elapsed: 10.7min\n",
      "[Parallel(n_jobs=-2)]: Done 11932 tasks      | elapsed: 10.9min\n",
      "[Parallel(n_jobs=-2)]: Done 12079 tasks      | elapsed: 11.1min\n",
      "[Parallel(n_jobs=-2)]: Done 12228 tasks      | elapsed: 11.2min\n",
      "[Parallel(n_jobs=-2)]: Done 12377 tasks      | elapsed: 11.4min\n",
      "[Parallel(n_jobs=-2)]: Done 12528 tasks      | elapsed: 11.5min\n",
      "[Parallel(n_jobs=-2)]: Done 12679 tasks      | elapsed: 11.7min\n",
      "[Parallel(n_jobs=-2)]: Done 12832 tasks      | elapsed: 11.8min\n",
      "[Parallel(n_jobs=-2)]: Done 12985 tasks      | elapsed: 12.1min\n",
      "[Parallel(n_jobs=-2)]: Done 13140 tasks      | elapsed: 12.3min\n",
      "[Parallel(n_jobs=-2)]: Done 13295 tasks      | elapsed: 12.5min\n",
      "[Parallel(n_jobs=-2)]: Done 13452 tasks      | elapsed: 12.7min\n",
      "[Parallel(n_jobs=-2)]: Done 13609 tasks      | elapsed: 13.0min\n",
      "[Parallel(n_jobs=-2)]: Done 13768 tasks      | elapsed: 13.2min\n",
      "[Parallel(n_jobs=-2)]: Done 13927 tasks      | elapsed: 13.4min\n",
      "[Parallel(n_jobs=-2)]: Done 14088 tasks      | elapsed: 13.4min\n",
      "[Parallel(n_jobs=-2)]: Batch computation too fast (0.1987s.) Setting batch_size=2.\n",
      "[Parallel(n_jobs=-2)]: Done 14337 tasks      | elapsed: 13.5min\n",
      "[Parallel(n_jobs=-2)]: Done 14663 tasks      | elapsed: 13.7min\n",
      "[Parallel(n_jobs=-2)]: Done 14989 tasks      | elapsed: 13.9min\n",
      "[Parallel(n_jobs=-2)]: Done 15319 tasks      | elapsed: 14.1min\n",
      "[Parallel(n_jobs=-2)]: Done 15649 tasks      | elapsed: 14.2min\n",
      "[Parallel(n_jobs=-2)]: Done 15983 tasks      | elapsed: 14.4min\n",
      "[Parallel(n_jobs=-2)]: Batch computation too slow (2.0343s.) Setting batch_size=1.\n",
      "[Parallel(n_jobs=-2)]: Done 16247 tasks      | elapsed: 14.7min\n",
      "[Parallel(n_jobs=-2)]: Done 16416 tasks      | elapsed: 14.8min\n",
      "[Parallel(n_jobs=-2)]: Done 16585 tasks      | elapsed: 15.0min\n",
      "[Parallel(n_jobs=-2)]: Done 16756 tasks      | elapsed: 15.1min\n",
      "[Parallel(n_jobs=-2)]: Done 16927 tasks      | elapsed: 15.3min\n",
      "[Parallel(n_jobs=-2)]: Done 17100 tasks      | elapsed: 15.4min\n",
      "[Parallel(n_jobs=-2)]: Done 17273 tasks      | elapsed: 15.5min\n",
      "[Parallel(n_jobs=-2)]: Done 17448 tasks      | elapsed: 15.6min\n",
      "[Parallel(n_jobs=-2)]: Batch computation too fast (0.1978s.) Setting batch_size=2.\n",
      "[Parallel(n_jobs=-2)]: Batch computation too slow (2.0003s.) Setting batch_size=1.\n",
      "[Parallel(n_jobs=-2)]: Done 17706 tasks      | elapsed: 15.8min\n",
      "[Parallel(n_jobs=-2)]: Done 17784 out of 17784 | elapsed: 15.8min finished\n"
     ]
    },
    {
     "name": "stdout",
     "output_type": "stream",
     "text": [
      "converted to EPSG:32650 for China (Beijing).\n"
     ]
    }
   ],
   "source": [
    "# Convert to EPSG:32650 for China (Beijing)\n",
    "def convert_epsg(traj):\n",
    "    result = traj.to_crs(CRS(32650))\n",
    "    result.obj_id = traj.obj_id\n",
    "    return result\n",
    "print('converting to EPSG:32650 for China (Beijing)...')\n",
    "geolife_raw_collection.trajectories = Parallel(n_jobs=-2, verbose=10)(delayed(convert_epsg)(traj) for traj in geolife_raw_collection.trajectories)\n",
    "print('converted to EPSG:32650 for China (Beijing).')"
   ]
  },
  {
   "cell_type": "code",
   "execution_count": 13,
   "metadata": {},
   "outputs": [
    {
     "name": "stdout",
     "output_type": "stream",
     "text": [
      "splitting trajectories...\n"
     ]
    },
    {
     "name": "stderr",
     "output_type": "stream",
     "text": [
      " 94%|█████████▎| 16632/17784 [12:20:06<2:22:24,  7.42s/it] "
     ]
    },
    {
     "name": "stdout",
     "output_type": "stream",
     "text": [
      "IllegalArgumentException: CGAlgorithmsDD::orientationIndex encountered NaN/Inf numbers Error at traj:  20110911000506\n"
     ]
    },
    {
     "name": "stderr",
     "output_type": "stream",
     "text": [
      "100%|██████████| 17784/17784 [13:06:40<00:00,  2.65s/it]   \n"
     ]
    },
    {
     "name": "stdout",
     "output_type": "stream",
     "text": [
      "trajectories split.\n"
     ]
    }
   ],
   "source": [
    "# Split trajectories\n",
    "\n",
    "def split_traj(traj, MAX_DIAMETER=100, MIN_DURATION=timedelta(minutes=15), MIN_LENGTH=500):\n",
    "    try:\n",
    "        split = mpd.StopSplitter(traj).split(max_diameter=MAX_DIAMETER, min_duration=MIN_DURATION, min_length=MIN_LENGTH)\n",
    "        for i in range(len(split.trajectories)):\n",
    "            split.trajectories[i].obj_id = traj.obj_id\n",
    "        return split.trajectories\n",
    "    except BaseException as e:\n",
    "        print(e, 'Error at traj: ', traj.id)\n",
    "        logging.warning(f'{e} Error at traj: {traj.id}')\n",
    "\n",
    "        return []\n",
    "\n",
    "print('splitting trajectories...')\n",
    "# split_trajs = Parallel(n_jobs=4, verbose=10)(delayed(split_traj)(traj) for traj in geolife_raw_collection.trajectories)\n",
    "split_trajs = []\n",
    "for traj in tqdm(geolife_raw_collection.trajectories):\n",
    "    try:\n",
    "        split_trajs.append(split_traj(traj))\n",
    "    except BaseException as e:\n",
    "        print(e, 'Error at traj: ', traj.id)\n",
    "        continue\n",
    "    \n",
    "split_trajs = [traj for sublist in split_trajs for traj in sublist]\n",
    "geolife_splitted_collection = mpd.TrajectoryCollection(split_trajs)\n",
    "print('trajectories split.')"
   ]
  },
  {
   "cell_type": "code",
   "execution_count": 14,
   "metadata": {},
   "outputs": [
    {
     "name": "stdout",
     "output_type": "stream",
     "text": [
      "smoothing trajectories...\n"
     ]
    },
    {
     "name": "stderr",
     "output_type": "stream",
     "text": [
      "100%|██████████| 26668/26668 [5:05:55<00:00,  1.45it/s]   \n"
     ]
    },
    {
     "name": "stdout",
     "output_type": "stream",
     "text": [
      "trajectories smoothed.\n"
     ]
    }
   ],
   "source": [
    "\n",
    "\n",
    "# Smooth trajectories\n",
    "def smooth_traj(traj, PROCESS_NOISE_STD=0.1, MEASUREMENT_NOISE_STD=10):\n",
    "    try:\n",
    "        result = mpd.KalmanSmootherCV(traj).smooth(process_noise_std=PROCESS_NOISE_STD, measurement_noise_std=MEASUREMENT_NOISE_STD)\n",
    "        result.obj_id = traj.obj_id\n",
    "        return result\n",
    "    except BaseException as e:\n",
    "        print(e, 'Error at traj: ', traj.id)\n",
    "        logging.warning(f'{e} Error at traj: {traj.id}')\n",
    "        return traj\n",
    "\n",
    "print('smoothing trajectories...')\n",
    "# geolife_splitted_smooth_collection = Parallel(n_jobs=4, verbose=10)(delayed(smooth_traj)(traj) for traj in geolife_splitted_collection.trajectories)\n",
    "geolife_splitted_smooth_collection = []\n",
    "for traj in tqdm(geolife_splitted_collection.trajectories):\n",
    "    try:\n",
    "        geolife_splitted_smooth_collection.append(smooth_traj(traj))\n",
    "    except BaseException as e:\n",
    "        print(e, 'Error at traj: ', traj.id)\n",
    "        continue\n",
    "\n",
    "geolife_splitted_smooth_collection = mpd.TrajectoryCollection(geolife_splitted_smooth_collection)\n",
    "print('trajectories smoothed.')"
   ]
  },
  {
   "cell_type": "code",
   "execution_count": 15,
   "metadata": {},
   "outputs": [
    {
     "name": "stdout",
     "output_type": "stream",
     "text": [
      "generalizing trajectories... (1)\n"
     ]
    },
    {
     "name": "stderr",
     "output_type": "stream",
     "text": [
      "100%|██████████| 26668/26668 [1:25:47<00:00,  5.18it/s]   \n"
     ]
    },
    {
     "name": "stdout",
     "output_type": "stream",
     "text": [
      "trajectories generalized. (1)\n"
     ]
    }
   ],
   "source": [
    "# Generalize trajectories\n",
    "def generalize_traj(traj, TOLERANCE=1.0):\n",
    "    try:\n",
    "        result = mpd.DouglasPeuckerGeneralizer(traj).generalize(tolerance=TOLERANCE)\n",
    "        result.obj_id = traj.obj_id\n",
    "        return result\n",
    "    except BaseException as e:\n",
    "        print(e, 'Error at traj: ', traj.id)\n",
    "        logging.warning(f'{e} Error at traj: {traj.id}')\n",
    "        return traj\n",
    "\n",
    "# Douglas-Peucker generalization for non-smoothed trajectories\n",
    "print('generalizing trajectories... (1)')\n",
    "logging.info('generalizing trajectories... (1)')\n",
    "# geolife_splitted_generalized_collection = Parallel(n_jobs=4, verbose=10)(delayed(generalize_traj)(traj) for traj in geolife_splitted_collection.trajectories)\n",
    "geolife_splitted_generalized_collection = []\n",
    "for traj in tqdm(geolife_splitted_collection.trajectories):\n",
    "    try:\n",
    "        geolife_splitted_generalized_collection.append(generalize_traj(traj))\n",
    "    except BaseException as e:\n",
    "        print(e, 'Error at traj: ', traj.id)\n",
    "        continue\n",
    "geolife_splitted_generalized_collection = mpd.TrajectoryCollection(geolife_splitted_generalized_collection)\n",
    "print('trajectories generalized. (1)')\n",
    "logging.info('trajectories generalized. (1)')"
   ]
  },
  {
   "cell_type": "code",
   "execution_count": 16,
   "metadata": {},
   "outputs": [
    {
     "name": "stdout",
     "output_type": "stream",
     "text": [
      "generalizing trajectories... (2)\n"
     ]
    },
    {
     "name": "stderr",
     "output_type": "stream",
     "text": [
      "100%|██████████| 26668/26668 [1:07:59<00:00,  6.54it/s]  \n"
     ]
    },
    {
     "name": "stdout",
     "output_type": "stream",
     "text": [
      "trajectories generalized. (2)\n"
     ]
    }
   ],
   "source": [
    "# Douglas-Peucker generalization for smoothed trajectories\n",
    "print('generalizing trajectories... (2)')\n",
    "logging.info('generalizing trajectories... (2)')\n",
    "# geolife_splitted_smooth_generalized_collection = Parallel(n_jobs=4, verbose=10)(delayed(generalize_traj)(traj) for traj in geolife_splitted_smooth_collection.trajectories)\n",
    "geolife_splitted_smooth_generalized_collection = []\n",
    "for traj in tqdm(geolife_splitted_smooth_collection.trajectories):\n",
    "    try:\n",
    "        geolife_splitted_smooth_generalized_collection.append(generalize_traj(traj))\n",
    "    except BaseException as e:\n",
    "        print(e, 'Error at traj: ', traj.id)\n",
    "        continue\n",
    "\n",
    "geolife_splitted_smooth_generalized_collection = mpd.TrajectoryCollection(geolife_splitted_smooth_generalized_collection)\n",
    "print('trajectories generalized. (2)')\n",
    "logging.info('trajectories generalized. (2)')"
   ]
  },
  {
   "cell_type": "code",
   "execution_count": 17,
   "metadata": {},
   "outputs": [],
   "source": [
    "def convert_trajcollection_to_gdf(trajcollection):\n",
    "    gdfs = []\n",
    "    for traj in tqdm(trajcollection.trajectories):\n",
    "        traj_gdf = traj.to_traj_gdf()\n",
    "        traj_gdf['user_id'] = traj.obj_id\n",
    "        gdfs.append(traj_gdf)\n",
    "\n",
    "    gdf = gp.GeoDataFrame(pd.concat(gdfs), crs='EPSG:32650')\n",
    "\n",
    "    return gp.GeoDataFrame(pd.concat(gdfs), crs='EPSG:32650')\n",
    "\n"
   ]
  },
  {
   "cell_type": "code",
   "execution_count": 18,
   "metadata": {},
   "outputs": [
    {
     "name": "stderr",
     "output_type": "stream",
     "text": [
      "100%|██████████| 26668/26668 [07:40<00:00, 57.94it/s] \n",
      "100%|██████████| 26668/26668 [07:16<00:00, 61.14it/s] \n",
      "100%|██████████| 26668/26668 [03:08<00:00, 141.45it/s]\n",
      "100%|██████████| 26668/26668 [01:48<00:00, 245.46it/s]\n"
     ]
    }
   ],
   "source": [
    "logging.info('converting to gdf...')\n",
    "geolife_splitted = convert_trajcollection_to_gdf(geolife_splitted_collection)\n",
    "geolife_splitted_smooth = convert_trajcollection_to_gdf(geolife_splitted_smooth_collection)\n",
    "geolife_splitted_generalized = convert_trajcollection_to_gdf(geolife_splitted_generalized_collection)\n",
    "geolife_splitted_smooth_generalized = convert_trajcollection_to_gdf(geolife_splitted_smooth_generalized_collection)\n",
    "logging.info('converted to gdf.')"
   ]
  },
  {
   "cell_type": "code",
   "execution_count": 19,
   "metadata": {},
   "outputs": [],
   "source": [
    "\n",
    "def convert_timezone(gdf):\n",
    "    # Convert timezone to Asia/Shanghai\n",
    "    gdf = gdf.copy()\n",
    "    gdf['start_t'] = gdf['start_t'].dt.tz_localize('GMT').dt.tz_convert('Asia/Shanghai').dt.tz_localize(None)\n",
    "    gdf['end_t'] = gdf['end_t'].dt.tz_localize('GMT').dt.tz_convert('Asia/Shanghai').dt.tz_localize(None)\n",
    "    return gdf\n",
    "\n",
    "\n",
    "# In[ ]:\n",
    "\n",
    "logging.info('converting timezone...')\n",
    "geolife_splitted = convert_timezone(geolife_splitted)\n",
    "geolife_splitted_smooth = convert_timezone(geolife_splitted_smooth)\n",
    "geolife_splitted_generalized = convert_timezone(geolife_splitted_generalized)\n",
    "geolife_splitted_smooth_generalized = convert_timezone(geolife_splitted_smooth_generalized)\n",
    "logging.info('converted timezone.')"
   ]
  },
  {
   "cell_type": "code",
   "execution_count": 20,
   "metadata": {},
   "outputs": [
    {
     "name": "stderr",
     "output_type": "stream",
     "text": [
      "c:\\Users\\Bened\\Documents\\Git\\Master-Thesis\\env\\lib\\site-packages\\geopandas\\io\\file.py:362: FutureWarning: pandas.Int64Index is deprecated and will be removed from pandas in a future version. Use pandas.Index with the appropriate dtype instead.\n",
      "  pd.Int64Index,\n"
     ]
    }
   ],
   "source": [
    "# Write gdf to pickle file to load fast for further processing\n",
    "logging.info('writing to pickle...')\n",
    "write_geojson(geolife_splitted, '../data/geolife/geolife_splitted.geojson')\n",
    "write_geojson(geolife_splitted_smooth, '../data/geolife/geolife_splitted_smooth.geojson')\n",
    "write_geojson(geolife_splitted_generalized, '../data/geolife/geolife_splitted_generalized.geojson')\n",
    "write_geojson(geolife_splitted_smooth_generalized, '../data/geolife/geolife_splitted_smooth_generalized.geojson')\n",
    "logging.info('written to pickle.')\n"
   ]
  }
 ],
 "metadata": {
  "kernelspec": {
   "display_name": "env",
   "language": "python",
   "name": "python3"
  },
  "language_info": {
   "codemirror_mode": {
    "name": "ipython",
    "version": 3
   },
   "file_extension": ".py",
   "mimetype": "text/x-python",
   "name": "python",
   "nbconvert_exporter": "python",
   "pygments_lexer": "ipython3",
   "version": "3.10.6"
  },
  "orig_nbformat": 4,
  "vscode": {
   "interpreter": {
    "hash": "543daf12f525df94f20bbdd448da69881f98a71c963c44c9c7818e0113666227"
   }
  }
 },
 "nbformat": 4,
 "nbformat_minor": 2
}
