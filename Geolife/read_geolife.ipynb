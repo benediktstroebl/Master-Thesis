{
 "cells": [
  {
   "cell_type": "code",
   "execution_count": 1,
   "metadata": {},
   "outputs": [],
   "source": [
    "import read_geolife_utils as read_geolife\n",
    "import geopandas as gp"
   ]
  },
  {
   "cell_type": "code",
   "execution_count": null,
   "metadata": {},
   "outputs": [],
   "source": [
    "geolife_raw_df = read_geolife.read_all_users('..\\data\\geolife\\Geolife Trajectories 1.3\\Data')"
   ]
  },
  {
   "cell_type": "code",
   "execution_count": 3,
   "metadata": {},
   "outputs": [],
   "source": [
    "# Create a GeoDataFrame from the raw DataFrame with Point geometry\n",
    "geolife_raw_gdf = gp.GeoDataFrame(\n",
    "    geolife_raw_df, geometry=gp.points_from_xy(geolife_raw_df.lon, geolife_raw_df.lat), crs=\"EPSG:4326\") # CRS 4326 as adequate for Peking where GeoLife data was collected"
   ]
  },
  {
   "cell_type": "code",
   "execution_count": null,
   "metadata": {},
   "outputs": [],
   "source": [
    "# Remove points that fall outside the lon and lat range (-90 to 90 for latitude and -180 to 180 for longitude)\n",
    "geolife_raw_gdf = geolife_raw_gdf[(geolife_raw_gdf.lat >= -90) & (geolife_raw_gdf.lat <= 90) & (geolife_raw_gdf.lon >= -180) & (geolife_raw_gdf.lon <= 180)]"
   ]
  },
  {
   "cell_type": "code",
   "execution_count": null,
   "metadata": {},
   "outputs": [],
   "source": [
    "# Write gdf to pickle file to load fast for further processing\n",
    "geolife_raw_gdf.to_pickle('..\\data\\geolife\\geolife_raw.pkl')"
   ]
  },
  {
   "cell_type": "code",
   "execution_count": null,
   "metadata": {},
   "outputs": [],
   "source": [
    "# Write gdf to csv file for trajDBSCAN to read https://github.com/devil1993/TrajDBSCAN\n",
    "geolife_raw_df = read_geolife.read_all_users_to_individual_files_for_trajDBSCAN('data\\geolife\\Geolife Trajectories 1.3\\Data', 'TrajDBSCAN')"
   ]
  }
 ],
 "metadata": {
  "kernelspec": {
   "display_name": "env",
   "language": "python",
   "name": "python3"
  },
  "language_info": {
   "codemirror_mode": {
    "name": "ipython",
    "version": 3
   },
   "file_extension": ".py",
   "mimetype": "text/x-python",
   "name": "python",
   "nbconvert_exporter": "python",
   "pygments_lexer": "ipython3",
   "version": "3.10.6"
  },
  "orig_nbformat": 4,
  "vscode": {
   "interpreter": {
    "hash": "543daf12f525df94f20bbdd448da69881f98a71c963c44c9c7818e0113666227"
   }
  }
 },
 "nbformat": 4,
 "nbformat_minor": 2
}
