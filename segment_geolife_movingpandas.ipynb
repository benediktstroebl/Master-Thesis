{
 "cells": [
  {
   "cell_type": "code",
   "execution_count": 386,
   "metadata": {},
   "outputs": [],
   "source": [
    "import movingpandas as mpd\n",
    "import geopandas as gp\n",
    "import pandas as pd\n",
    "from datetime import timedelta\n",
    "from shapely import LineString, Point\n",
    "import skmob\n",
    "from skmob.preprocessing import detection\n",
    "import numpy as np"
   ]
  },
  {
   "cell_type": "code",
   "execution_count": 3,
   "metadata": {},
   "outputs": [],
   "source": [
    "# read geolife pickle file\n",
    "geolife_raw_gdf = gp.GeoDataFrame(pd.read_pickle('data/geolife/geolife_raw.pkl'))\n"
   ]
  },
  {
   "cell_type": "code",
   "execution_count": 423,
   "metadata": {},
   "outputs": [],
   "source": [
    "traj_collection = mpd.TrajectoryCollection(geolife_raw_gdf, 'user', t='time')"
   ]
  },
  {
   "cell_type": "code",
   "execution_count": 424,
   "metadata": {},
   "outputs": [
    {
     "name": "stdout",
     "output_type": "stream",
     "text": [
      "Trajectory 1 (2008-10-23 05:53:05 to 2008-12-15 00:31:18) | Size: 108607 | Length: 1018053.3m\n",
      "Bounds: (116.145054, 39.900944, 116.443578, 40.076116)\n",
      "LINESTRING (116.319236 39.984094, 116.319322 39.984198, 116.319402 39.984224, 116.319389 39.984211, \n"
     ]
    }
   ],
   "source": [
    "my_traj = traj_collection.trajectories[1]\n",
    "print(my_traj)"
   ]
  },
  {
   "cell_type": "code",
   "execution_count": 425,
   "metadata": {},
   "outputs": [
    {
     "data": {
      "text/plain": [
       "TrajectoryCollection with 108 trajectories"
      ]
     },
     "execution_count": 425,
     "metadata": {},
     "output_type": "execute_result"
    }
   ],
   "source": [
    "split = mpd.StopSplitter(my_traj).split(max_diameter=100, min_duration=timedelta(minutes=15), min_length=200)\n",
    "split"
   ]
  },
  {
   "cell_type": "code",
   "execution_count": 426,
   "metadata": {},
   "outputs": [
    {
     "data": {
      "text/html": [
       "<div>\n",
       "<style scoped>\n",
       "    .dataframe tbody tr th:only-of-type {\n",
       "        vertical-align: middle;\n",
       "    }\n",
       "\n",
       "    .dataframe tbody tr th {\n",
       "        vertical-align: top;\n",
       "    }\n",
       "\n",
       "    .dataframe thead th {\n",
       "        text-align: right;\n",
       "    }\n",
       "</style>\n",
       "<table border=\"1\" class=\"dataframe\">\n",
       "  <thead>\n",
       "    <tr style=\"text-align: right;\">\n",
       "      <th></th>\n",
       "      <th>traj_id</th>\n",
       "      <th>start_t</th>\n",
       "      <th>end_t</th>\n",
       "      <th>geometry</th>\n",
       "      <th>length</th>\n",
       "      <th>direction</th>\n",
       "    </tr>\n",
       "  </thead>\n",
       "  <tbody>\n",
       "    <tr>\n",
       "      <th>0</th>\n",
       "      <td>1_2008-10-23 05:53:05</td>\n",
       "      <td>2008-10-23 05:53:05</td>\n",
       "      <td>2008-10-23 11:10:29</td>\n",
       "      <td>LINESTRING (116.31924 39.98409, 116.31932 39.9...</td>\n",
       "      <td>11150.474980</td>\n",
       "      <td>341.716224</td>\n",
       "    </tr>\n",
       "    <tr>\n",
       "      <th>1</th>\n",
       "      <td>1_2008-10-23 23:44:06</td>\n",
       "      <td>2008-10-23 23:44:06</td>\n",
       "      <td>2008-10-24 00:23:18</td>\n",
       "      <td>LINESTRING (116.30590 40.01412, 116.30579 40.0...</td>\n",
       "      <td>6389.233020</td>\n",
       "      <td>156.261271</td>\n",
       "    </tr>\n",
       "    <tr>\n",
       "      <th>2</th>\n",
       "      <td>1_2008-10-24 01:46:57</td>\n",
       "      <td>2008-10-24 01:46:57</td>\n",
       "      <td>2008-10-24 02:03:11</td>\n",
       "      <td>LINESTRING (116.32688 39.97878, 116.32699 39.9...</td>\n",
       "      <td>2140.426179</td>\n",
       "      <td>279.035617</td>\n",
       "    </tr>\n",
       "    <tr>\n",
       "      <th>3</th>\n",
       "      <td>1_2008-10-24 02:29:29</td>\n",
       "      <td>2008-10-24 02:29:29</td>\n",
       "      <td>2008-10-24 03:27:05</td>\n",
       "      <td>LINESTRING (116.30847 39.98105, 116.30864 39.9...</td>\n",
       "      <td>1166.429475</td>\n",
       "      <td>111.959781</td>\n",
       "    </tr>\n",
       "    <tr>\n",
       "      <th>4</th>\n",
       "      <td>1_2008-10-24 03:50:05</td>\n",
       "      <td>2008-10-24 03:50:05</td>\n",
       "      <td>2008-10-24 04:13:35</td>\n",
       "      <td>LINESTRING (116.31410 39.97956, 116.31424 39.9...</td>\n",
       "      <td>2073.172740</td>\n",
       "      <td>99.278008</td>\n",
       "    </tr>\n",
       "    <tr>\n",
       "      <th>...</th>\n",
       "      <td>...</td>\n",
       "      <td>...</td>\n",
       "      <td>...</td>\n",
       "      <td>...</td>\n",
       "      <td>...</td>\n",
       "      <td>...</td>\n",
       "    </tr>\n",
       "    <tr>\n",
       "      <th>103</th>\n",
       "      <td>1_2008-12-13 12:04:01</td>\n",
       "      <td>2008-12-13 12:04:01</td>\n",
       "      <td>2008-12-13 12:36:48</td>\n",
       "      <td>LINESTRING (116.34341 39.97828, 116.34344 39.9...</td>\n",
       "      <td>1415.976143</td>\n",
       "      <td>129.111053</td>\n",
       "    </tr>\n",
       "    <tr>\n",
       "      <th>104</th>\n",
       "      <td>1_2008-12-13 12:54:15</td>\n",
       "      <td>2008-12-13 12:54:15</td>\n",
       "      <td>2008-12-13 13:44:33</td>\n",
       "      <td>LINESTRING (116.34469 39.97805, 116.34481 39.9...</td>\n",
       "      <td>8441.780588</td>\n",
       "      <td>324.995328</td>\n",
       "    </tr>\n",
       "    <tr>\n",
       "      <th>105</th>\n",
       "      <td>1_2008-12-13 14:01:47</td>\n",
       "      <td>2008-12-13 14:01:47</td>\n",
       "      <td>2008-12-13 14:17:31</td>\n",
       "      <td>LINESTRING (116.31134 40.01429, 116.31125 40.0...</td>\n",
       "      <td>1397.923951</td>\n",
       "      <td>262.797678</td>\n",
       "    </tr>\n",
       "    <tr>\n",
       "      <th>106</th>\n",
       "      <td>1_2008-12-14 08:08:53</td>\n",
       "      <td>2008-12-14 08:08:53</td>\n",
       "      <td>2008-12-14 08:46:01</td>\n",
       "      <td>LINESTRING (116.30599 40.01411, 116.30586 40.0...</td>\n",
       "      <td>6165.764823</td>\n",
       "      <td>155.864986</td>\n",
       "    </tr>\n",
       "    <tr>\n",
       "      <th>107</th>\n",
       "      <td>1_2008-12-14 11:21:35</td>\n",
       "      <td>2008-12-14 11:21:35</td>\n",
       "      <td>2008-12-15 00:31:18</td>\n",
       "      <td>LINESTRING (116.32687 39.97827, 116.32690 39.9...</td>\n",
       "      <td>10929.546324</td>\n",
       "      <td>205.796990</td>\n",
       "    </tr>\n",
       "  </tbody>\n",
       "</table>\n",
       "<p>108 rows × 6 columns</p>\n",
       "</div>"
      ],
      "text/plain": [
       "                   traj_id             start_t               end_t  \\\n",
       "0    1_2008-10-23 05:53:05 2008-10-23 05:53:05 2008-10-23 11:10:29   \n",
       "1    1_2008-10-23 23:44:06 2008-10-23 23:44:06 2008-10-24 00:23:18   \n",
       "2    1_2008-10-24 01:46:57 2008-10-24 01:46:57 2008-10-24 02:03:11   \n",
       "3    1_2008-10-24 02:29:29 2008-10-24 02:29:29 2008-10-24 03:27:05   \n",
       "4    1_2008-10-24 03:50:05 2008-10-24 03:50:05 2008-10-24 04:13:35   \n",
       "..                     ...                 ...                 ...   \n",
       "103  1_2008-12-13 12:04:01 2008-12-13 12:04:01 2008-12-13 12:36:48   \n",
       "104  1_2008-12-13 12:54:15 2008-12-13 12:54:15 2008-12-13 13:44:33   \n",
       "105  1_2008-12-13 14:01:47 2008-12-13 14:01:47 2008-12-13 14:17:31   \n",
       "106  1_2008-12-14 08:08:53 2008-12-14 08:08:53 2008-12-14 08:46:01   \n",
       "107  1_2008-12-14 11:21:35 2008-12-14 11:21:35 2008-12-15 00:31:18   \n",
       "\n",
       "                                              geometry        length  \\\n",
       "0    LINESTRING (116.31924 39.98409, 116.31932 39.9...  11150.474980   \n",
       "1    LINESTRING (116.30590 40.01412, 116.30579 40.0...   6389.233020   \n",
       "2    LINESTRING (116.32688 39.97878, 116.32699 39.9...   2140.426179   \n",
       "3    LINESTRING (116.30847 39.98105, 116.30864 39.9...   1166.429475   \n",
       "4    LINESTRING (116.31410 39.97956, 116.31424 39.9...   2073.172740   \n",
       "..                                                 ...           ...   \n",
       "103  LINESTRING (116.34341 39.97828, 116.34344 39.9...   1415.976143   \n",
       "104  LINESTRING (116.34469 39.97805, 116.34481 39.9...   8441.780588   \n",
       "105  LINESTRING (116.31134 40.01429, 116.31125 40.0...   1397.923951   \n",
       "106  LINESTRING (116.30599 40.01411, 116.30586 40.0...   6165.764823   \n",
       "107  LINESTRING (116.32687 39.97827, 116.32690 39.9...  10929.546324   \n",
       "\n",
       "      direction  \n",
       "0    341.716224  \n",
       "1    156.261271  \n",
       "2    279.035617  \n",
       "3    111.959781  \n",
       "4     99.278008  \n",
       "..          ...  \n",
       "103  129.111053  \n",
       "104  324.995328  \n",
       "105  262.797678  \n",
       "106  155.864986  \n",
       "107  205.796990  \n",
       "\n",
       "[108 rows x 6 columns]"
      ]
     },
     "execution_count": 426,
     "metadata": {},
     "output_type": "execute_result"
    }
   ],
   "source": [
    "split.to_traj_gdf()"
   ]
  }
 ],
 "metadata": {
  "kernelspec": {
   "display_name": "env",
   "language": "python",
   "name": "python3"
  },
  "language_info": {
   "codemirror_mode": {
    "name": "ipython",
    "version": 3
   },
   "file_extension": ".py",
   "mimetype": "text/x-python",
   "name": "python",
   "nbconvert_exporter": "python",
   "pygments_lexer": "ipython3",
   "version": "3.10.6"
  },
  "orig_nbformat": 4,
  "vscode": {
   "interpreter": {
    "hash": "543daf12f525df94f20bbdd448da69881f98a71c963c44c9c7818e0113666227"
   }
  }
 },
 "nbformat": 4,
 "nbformat_minor": 2
}
