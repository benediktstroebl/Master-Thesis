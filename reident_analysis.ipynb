{
 "cells": [
  {
   "cell_type": "code",
   "execution_count": 1,
   "id": "7e578aff",
   "metadata": {},
   "outputs": [],
   "source": [
    "import pandas as pd\n",
    "import geopandas as gp\n",
    "import skmob\n",
    "from skmob.measures.individual import radius_of_gyration, number_of_locations\n",
    "import random\n",
    "from tqdm.notebook import tqdm\n",
    "tqdm.pandas()\n",
    "import math\n",
    "import matplotlib.pyplot as plt\n",
    "import seaborn as sns\n",
    "import math\n",
    "from shapely import Point\n",
    "from statannotations.Annotator import Annotator\n",
    "%matplotlib inline\n",
    "plt.rcParams.update({'figure.figsize':(10,5), 'figure.dpi':200})\n",
    "sns.set_palette(sns.color_palette(\"colorblind\"))\n",
    "\n",
    "\n",
    "import sys\n",
    "sys.path.append('..')\n",
    "\n",
    "import attack"
   ]
  },
  {
   "cell_type": "code",
   "execution_count": 78,
   "id": "0f8626c6",
   "metadata": {},
   "outputs": [],
   "source": [
    "# load data\n",
    "freemove = gp.read_file(\"data/freemove/freemove_clustering_tfidf.geojson\", geometry='geometry')\n",
    "freemove_private = gp.read_file(\"data/freemove/freemove_private_clustering_tfidf.geojson\", geometry='geometry')\n",
    "freemove_500tessellation = gp.read_file(\"data/freemove/freemove_500tessellation_clustering_tfidf.geojson\", geometry='geometry')\n",
    "freemove_private_500tessellation = gp.read_file(\"data/freemove/freemove_private_500tessellation_clustering_tfidf.geojson\", geometry='geometry')\n",
    "\n",
    "geolife = gp.read_file(\"data/geolife/geolife_clustering_tfidf.geojson\", geometry='geometry')\n",
    "geolife_private = gp.read_file(\"data/geolife/geolife_private_clustering_tfidf.geojson\", geometry='geometry')\n",
    "geolife_500tessellation = gp.read_file(\"data/geolife/geolife_500tessellation_clustering_tfidf.geojson\", geometry='geometry')\n",
    "geolife_private_500tessellation = gp.read_file(\"data/geolife/geolife_private_500tessellation_clustering_tfidf.geojson\", geometry='geometry')\n",
    "\n",
    "\n",
    "clustering_results = {\n",
    "    'freemove': freemove,\n",
    "    'freemove_private': freemove_private,\n",
    "    'freemove_500tessellation': freemove_500tessellation,\n",
    "    'freemove_private_500tessellation': freemove_private_500tessellation,\n",
    "    'geolife': geolife,\n",
    "    'geolife_private': geolife_private,\n",
    "    'geolife_500tessellation': geolife_500tessellation,\n",
    "    'geolife_private_500tessellation': geolife_private_500tessellation\n",
    "}"
   ]
  },
  {
   "cell_type": "code",
   "execution_count": 21,
   "id": "878d20c6",
   "metadata": {},
   "outputs": [
    {
     "data": {
      "text/plain": [
       "{'freemove':       TRIP_ID           TRIP_START             TRIP_END  TRIP_LEN_IN_MTRS  \\\n",
       " 0           0  2022-10-21T14:59:24  2022-10-21T15:25:01       6370.874696   \n",
       " 1           1  2022-10-21T16:07:38  2022-10-21T16:43:11        396.033850   \n",
       " 2           2  2022-10-21T19:16:16  2022-10-21T19:32:46       4679.385964   \n",
       " 3           3  2022-10-21T20:41:59  2022-10-21T21:29:28      13123.732328   \n",
       " 4           4  2022-10-23T09:32:44  2022-10-23T10:01:43       2060.403029   \n",
       " ...       ...                  ...                  ...               ...   \n",
       " 1181     1403  2022-11-17T17:47:36  2022-11-17T18:13:33       9080.651164   \n",
       " 1182     1404  2022-11-17T18:25:39  2022-11-17T18:35:06        287.824158   \n",
       " 1183     1405  2022-11-17T18:55:08  2022-11-17T19:17:50       7049.781622   \n",
       " 1184     1406  2022-11-17T20:59:11  2022-11-17T21:02:04        491.586878   \n",
       " 1185     1407  2022-11-17T22:04:14  2022-11-17T22:20:54       7724.704564   \n",
       " \n",
       "       PERSON_ID   TRIP_WD   TRIP_DATE  TRIP_DURATION_IN_MINS  HOUR  \\\n",
       " 0         17246    Friday  2022-10-21              25.616667    14   \n",
       " 1         17246    Friday  2022-10-21              35.550000    16   \n",
       " 2         17246    Friday  2022-10-21              16.500000    19   \n",
       " 3         17246    Friday  2022-10-21              47.483333    20   \n",
       " 4         16947    Sunday  2022-10-23              28.983333     9   \n",
       " ...         ...       ...         ...                    ...   ...   \n",
       " 1181      16356  Thursday  2022-11-17              25.950000    17   \n",
       " 1182      16356  Thursday  2022-11-17               9.450000    18   \n",
       " 1183      16370  Thursday  2022-11-17              22.700000    18   \n",
       " 1184      16370  Thursday  2022-11-17               2.883333    20   \n",
       " 1185      16370  Thursday  2022-11-17              16.666667    22   \n",
       " \n",
       "       clustering_HL                                           geometry  \\\n",
       " 0                39  LINESTRING (13.31753 52.53094, 13.31754 52.530...   \n",
       " 1                39  LINESTRING (13.37519 52.53861, 13.37519 52.538...   \n",
       " 2                39  LINESTRING (13.37538 52.53853, 13.37538 52.538...   \n",
       " 3               294  LINESTRING (13.31916 52.53137, 13.31922 52.531...   \n",
       " 4                69  LINESTRING (13.37924 52.52815, 13.37924 52.528...   \n",
       " ...             ...                                                ...   \n",
       " 1181             29  LINESTRING (13.32689 52.51251, 13.32692 52.512...   \n",
       " 1182             27  LINESTRING (13.19685 52.53182, 13.19686 52.531...   \n",
       " 1183             15  LINESTRING (13.47484 52.51382, 13.45328 52.515...   \n",
       " 1184             15  LINESTRING (13.39095 52.50838, 13.39099 52.508...   \n",
       " 1185             10  LINESTRING (13.39012 52.50680, 13.39004 52.506...   \n",
       " \n",
       "       contains_rand_points  \n",
       " 0                        0  \n",
       " 1                        0  \n",
       " 2                        0  \n",
       " 3                        0  \n",
       " 4                        0  \n",
       " ...                    ...  \n",
       " 1181                     0  \n",
       " 1182                     0  \n",
       " 1183                     0  \n",
       " 1184                     0  \n",
       " 1185                     0  \n",
       " \n",
       " [1186 rows x 12 columns],\n",
       " 'freemove_private':      TRIP_ID           TRIP_START             TRIP_END  TRIP_LEN_IN_MTRS  \\\n",
       " 0          0  2022-10-21T14:59:24  2022-10-21T15:25:01       6370.874696   \n",
       " 1          2  2022-10-21T19:16:16  2022-10-21T19:32:46       4679.385964   \n",
       " 2          3  2022-10-21T20:41:59  2022-10-21T21:29:28      13123.732328   \n",
       " 3          4  2022-10-23T09:32:44  2022-10-23T10:01:43       2060.403029   \n",
       " 4          5  2022-10-31T00:34:27  2022-10-31T00:48:44       4349.848395   \n",
       " ..       ...                  ...                  ...               ...   \n",
       " 956     1400  2022-11-17T13:20:39  2022-11-17T13:43:07       2018.777199   \n",
       " 957     1401  2022-11-17T15:56:42  2022-11-17T16:03:42        590.988930   \n",
       " 958     1402  2022-11-17T14:42:47  2022-11-17T15:11:54       2037.296208   \n",
       " 959     1403  2022-11-17T17:47:36  2022-11-17T18:13:33       9080.651164   \n",
       " 960     1407  2022-11-17T22:04:14  2022-11-17T22:20:54       7724.704564   \n",
       " \n",
       "      PERSON_ID   TRIP_WD   TRIP_DATE  TRIP_DURATION_IN_MINS  HOUR  \\\n",
       " 0        17246    Friday  2022-10-21              25.616667    14   \n",
       " 1        17246    Friday  2022-10-21              16.500000    19   \n",
       " 2        17246    Friday  2022-10-21              47.483333    20   \n",
       " 3        16947    Sunday  2022-10-23              28.983333     9   \n",
       " 4        16667    Monday  2022-10-31              14.283333     0   \n",
       " ..         ...       ...         ...                    ...   ...   \n",
       " 956      17262  Thursday  2022-11-17              22.466667    13   \n",
       " 957      16356  Thursday  2022-11-17               7.000000    15   \n",
       " 958      16349  Thursday  2022-11-17              29.116667    14   \n",
       " 959      16356  Thursday  2022-11-17              25.950000    17   \n",
       " 960      16370  Thursday  2022-11-17              16.666667    22   \n",
       " \n",
       "      clustering_HL                                           geometry  \\\n",
       " 0                2  LINESTRING (13.32001 52.53133, 13.32010 52.531...   \n",
       " 1                2  LINESTRING (13.37430 52.54030, 13.37420 52.540...   \n",
       " 2              139  LINESTRING (13.32272 52.53193, 13.32274 52.531...   \n",
       " 3              455  LINESTRING (13.37708 52.52979, 13.37708 52.529...   \n",
       " 4              286  LINESTRING (13.33024 52.45361, 13.33031 52.453...   \n",
       " ..             ...                                                ...   \n",
       " 956            326  LINESTRING (13.37065 52.52661, 13.37068 52.526...   \n",
       " 957            263  LINESTRING (13.32115 52.51182, 13.32117 52.511...   \n",
       " 958            278  LINESTRING (13.32599 52.51620, 13.32602 52.516...   \n",
       " 959             58  LINESTRING (13.32378 52.51249, 13.32376 52.512...   \n",
       " 960              9  LINESTRING (13.38845 52.50661, 13.38830 52.506...   \n",
       " \n",
       "      contains_rand_points  \n",
       " 0                       0  \n",
       " 1                       0  \n",
       " 2                       0  \n",
       " 3                       0  \n",
       " 4                       0  \n",
       " ..                    ...  \n",
       " 956                     0  \n",
       " 957                     0  \n",
       " 958                     0  \n",
       " 959                     0  \n",
       " 960                     0  \n",
       " \n",
       " [961 rows x 12 columns],\n",
       " 'freemove_500tessellation':       TRIP_ID           TRIP_START             TRIP_END  TRIP_LEN_IN_MTRS  \\\n",
       " 0           0  2022-10-21T14:59:24  2022-10-21T15:25:01       6370.874696   \n",
       " 1           1  2022-10-21T16:07:38  2022-10-21T16:43:11        396.033850   \n",
       " 2           2  2022-10-21T19:16:16  2022-10-21T19:32:46       4679.385964   \n",
       " 3           3  2022-10-21T20:41:59  2022-10-21T21:29:28      13123.732328   \n",
       " 4           4  2022-10-23T09:32:44  2022-10-23T10:01:43       2060.403029   \n",
       " ...       ...                  ...                  ...               ...   \n",
       " 1181     1403  2022-11-17T17:47:36  2022-11-17T18:13:33       9080.651164   \n",
       " 1182     1404  2022-11-17T18:25:39  2022-11-17T18:35:06        287.824158   \n",
       " 1183     1405  2022-11-17T18:55:08  2022-11-17T19:17:50       7049.781622   \n",
       " 1184     1406  2022-11-17T20:59:11  2022-11-17T21:02:04        491.586878   \n",
       " 1185     1407  2022-11-17T22:04:14  2022-11-17T22:20:54       7724.704564   \n",
       " \n",
       "       PERSON_ID   TRIP_WD   TRIP_DATE  TRIP_DURATION_IN_MINS  HOUR  \\\n",
       " 0         17246    Friday  2022-10-21              25.616667    14   \n",
       " 1         17246    Friday  2022-10-21              35.550000    16   \n",
       " 2         17246    Friday  2022-10-21              16.500000    19   \n",
       " 3         17246    Friday  2022-10-21              47.483333    20   \n",
       " 4         16947    Sunday  2022-10-23              28.983333     9   \n",
       " ...         ...       ...         ...                    ...   ...   \n",
       " 1181      16356  Thursday  2022-11-17              25.950000    17   \n",
       " 1182      16356  Thursday  2022-11-17               9.450000    18   \n",
       " 1183      16370  Thursday  2022-11-17              22.700000    18   \n",
       " 1184      16370  Thursday  2022-11-17               2.883333    20   \n",
       " 1185      16370  Thursday  2022-11-17              16.666667    22   \n",
       " \n",
       "       clustering_HL                                           geometry  \\\n",
       " 0                35  LINESTRING (13.31753 52.53094, 13.31754 52.530...   \n",
       " 1                65  LINESTRING (13.37519 52.53861, 13.37519 52.538...   \n",
       " 2                65  LINESTRING (13.37538 52.53853, 13.37538 52.538...   \n",
       " 3                65  LINESTRING (13.31916 52.53137, 13.31922 52.531...   \n",
       " 4                50  LINESTRING (13.37924 52.52815, 13.37924 52.528...   \n",
       " ...             ...                                                ...   \n",
       " 1181             26  LINESTRING (13.32689 52.51251, 13.32692 52.512...   \n",
       " 1182             26  LINESTRING (13.19685 52.53182, 13.19686 52.531...   \n",
       " 1183              9  LINESTRING (13.47484 52.51382, 13.45328 52.515...   \n",
       " 1184             46  LINESTRING (13.39095 52.50838, 13.39099 52.508...   \n",
       " 1185             46  LINESTRING (13.39012 52.50680, 13.39004 52.506...   \n",
       " \n",
       "       contains_rand_points  \n",
       " 0                        0  \n",
       " 1                        0  \n",
       " 2                        0  \n",
       " 3                        0  \n",
       " 4                        0  \n",
       " ...                    ...  \n",
       " 1181                     0  \n",
       " 1182                     0  \n",
       " 1183                     0  \n",
       " 1184                     0  \n",
       " 1185                     0  \n",
       " \n",
       " [1186 rows x 12 columns],\n",
       " 'freemove_private_500tessellation':      TRIP_ID           TRIP_START             TRIP_END  TRIP_LEN_IN_MTRS  \\\n",
       " 0          0  2022-10-21T14:59:24  2022-10-21T15:25:01       6370.874696   \n",
       " 1          2  2022-10-21T19:16:16  2022-10-21T19:32:46       4679.385964   \n",
       " 2          3  2022-10-21T20:41:59  2022-10-21T21:29:28      13123.732328   \n",
       " 3          4  2022-10-23T09:32:44  2022-10-23T10:01:43       2060.403029   \n",
       " 4          5  2022-10-31T00:34:27  2022-10-31T00:48:44       4349.848395   \n",
       " ..       ...                  ...                  ...               ...   \n",
       " 956     1400  2022-11-17T13:20:39  2022-11-17T13:43:07       2018.777199   \n",
       " 957     1401  2022-11-17T15:56:42  2022-11-17T16:03:42        590.988930   \n",
       " 958     1402  2022-11-17T14:42:47  2022-11-17T15:11:54       2037.296208   \n",
       " 959     1403  2022-11-17T17:47:36  2022-11-17T18:13:33       9080.651164   \n",
       " 960     1407  2022-11-17T22:04:14  2022-11-17T22:20:54       7724.704564   \n",
       " \n",
       "      PERSON_ID   TRIP_WD   TRIP_DATE  TRIP_DURATION_IN_MINS  HOUR  \\\n",
       " 0        17246    Friday  2022-10-21              25.616667    14   \n",
       " 1        17246    Friday  2022-10-21              16.500000    19   \n",
       " 2        17246    Friday  2022-10-21              47.483333    20   \n",
       " 3        16947    Sunday  2022-10-23              28.983333     9   \n",
       " 4        16667    Monday  2022-10-31              14.283333     0   \n",
       " ..         ...       ...         ...                    ...   ...   \n",
       " 956      17262  Thursday  2022-11-17              22.466667    13   \n",
       " 957      16356  Thursday  2022-11-17               7.000000    15   \n",
       " 958      16349  Thursday  2022-11-17              29.116667    14   \n",
       " 959      16356  Thursday  2022-11-17              25.950000    17   \n",
       " 960      16370  Thursday  2022-11-17              16.666667    22   \n",
       " \n",
       "      clustering_HL                                           geometry  \\\n",
       " 0               42  LINESTRING (13.32001 52.53133, 13.32010 52.531...   \n",
       " 1               42  LINESTRING (13.37430 52.54030, 13.37420 52.540...   \n",
       " 2               42  LINESTRING (13.32272 52.53193, 13.32274 52.531...   \n",
       " 3               58  LINESTRING (13.37708 52.52979, 13.37708 52.529...   \n",
       " 4               63  LINESTRING (13.33024 52.45361, 13.33031 52.453...   \n",
       " ..             ...                                                ...   \n",
       " 956             65  LINESTRING (13.37065 52.52661, 13.37068 52.526...   \n",
       " 957            220  LINESTRING (13.32115 52.51182, 13.32117 52.511...   \n",
       " 958            136  LINESTRING (13.32599 52.51620, 13.32602 52.516...   \n",
       " 959            220  LINESTRING (13.32378 52.51249, 13.32376 52.512...   \n",
       " 960              6  LINESTRING (13.38845 52.50661, 13.38830 52.506...   \n",
       " \n",
       "      contains_rand_points  \n",
       " 0                       0  \n",
       " 1                       0  \n",
       " 2                       0  \n",
       " 3                       0  \n",
       " 4                       0  \n",
       " ..                    ...  \n",
       " 956                     0  \n",
       " 957                     0  \n",
       " 958                     0  \n",
       " 959                     0  \n",
       " 960                     0  \n",
       " \n",
       " [961 rows x 12 columns],\n",
       " 'geolife':       TRIP_ID           TRIP_START             TRIP_END  TRIP_LEN_IN_MTRS  \\\n",
       " 0         944  2008-01-01T06:48:03  2008-01-01T07:23:49      45707.295458   \n",
       " 1         945  2008-01-01T10:33:37  2008-01-01T15:37:50      10144.142197   \n",
       " 2         946  2008-01-01T17:09:46  2008-01-02T02:11:27      46454.115614   \n",
       " 3         947  2008-01-01T17:23:00  2008-01-01T21:16:57      21130.025442   \n",
       " 4         948  2008-01-01T17:31:15  2008-01-02T02:15:59      29832.301101   \n",
       " ...       ...                  ...                  ...               ...   \n",
       " 5096     7225  2008-12-31T18:01:09  2008-12-31T21:09:55       6501.042572   \n",
       " 5097     7227  2008-12-31T18:13:37  2008-12-31T22:12:05       2388.954349   \n",
       " 5098     7229  2008-12-31T19:29:45  2008-12-31T19:39:47       6685.024145   \n",
       " 5099     7230  2008-12-31T19:55:37  2008-12-31T19:59:52        338.786194   \n",
       " 5100     7231  2008-12-31T20:21:09  2008-12-31T20:46:37      17876.380145   \n",
       " \n",
       "       PERSON_ID    TRIP_WD   TRIP_DATE  TRIP_DURATION_IN_MINS  HOUR  \\\n",
       " 0            91    Tuesday  2008-01-01              35.766667     6   \n",
       " 1           181    Tuesday  2008-01-01             304.216667    10   \n",
       " 2            92    Tuesday  2008-01-01             541.683333    17   \n",
       " 3            91    Tuesday  2008-01-01             233.950000    17   \n",
       " 4           104    Tuesday  2008-01-01             524.733333    17   \n",
       " ...         ...        ...         ...                    ...   ...   \n",
       " 5096        126  Wednesday  2008-12-31             188.766667    18   \n",
       " 5097          3  Wednesday  2008-12-31             238.466667    18   \n",
       " 5098         17  Wednesday  2008-12-31              10.033333    19   \n",
       " 5099         25  Wednesday  2008-12-31               4.250000    19   \n",
       " 5100        128  Wednesday  2008-12-31              25.466667    20   \n",
       " \n",
       "       clustering_HL                                           geometry  \\\n",
       " 0              2151  LINESTRING (116.33377 39.97589, 116.33376 39.9...   \n",
       " 1              1852  LINESTRING (116.30962 39.98850, 116.30997 39.9...   \n",
       " 2                 9  LINESTRING (116.31124 39.96888, 116.31123 39.9...   \n",
       " 3              2023  LINESTRING (116.32586 40.08508, 116.32585 40.0...   \n",
       " 4               418  LINESTRING (116.32381 39.98518, 116.32381 39.9...   \n",
       " ...             ...                                                ...   \n",
       " 5096            274  LINESTRING (116.32862 39.97546, 116.32846 39.9...   \n",
       " 5097             81  LINESTRING (116.32684 39.99165, 116.32676 39.9...   \n",
       " 5098           1882  LINESTRING (116.34239 39.89262, 116.34240 39.8...   \n",
       " 5099           2164  LINESTRING (116.35123 39.98011, 116.35128 39.9...   \n",
       " 5100             66  LINESTRING (116.32732 39.98136, 116.32731 39.9...   \n",
       " \n",
       "       contains_rand_points  \n",
       " 0                        0  \n",
       " 1                        0  \n",
       " 2                        0  \n",
       " 3                        0  \n",
       " 4                        0  \n",
       " ...                    ...  \n",
       " 5096                     0  \n",
       " 5097                     0  \n",
       " 5098                     0  \n",
       " 5099                     0  \n",
       " 5100                     0  \n",
       " \n",
       " [5101 rows x 12 columns],\n",
       " 'geolife_private':       TRIP_ID           TRIP_START             TRIP_END  TRIP_LEN_IN_MTRS  \\\n",
       " 0         944  2008-01-01T06:48:03  2008-01-01T07:23:49      45707.295458   \n",
       " 1         945  2008-01-01T10:33:37  2008-01-01T15:37:50      10144.142197   \n",
       " 2         946  2008-01-01T17:09:46  2008-01-02T02:11:27      46454.115614   \n",
       " 3         947  2008-01-01T17:23:00  2008-01-01T21:16:57      21130.025442   \n",
       " 4         948  2008-01-01T17:31:15  2008-01-02T02:15:59      29832.301101   \n",
       " ...       ...                  ...                  ...               ...   \n",
       " 4444     7223  2008-12-31T17:02:28  2008-12-31T18:10:04      29918.655869   \n",
       " 4445     7224  2008-12-31T17:41:06  2008-12-31T19:57:42      17734.474878   \n",
       " 4446     7225  2008-12-31T18:01:09  2008-12-31T21:09:55       6501.042572   \n",
       " 4447     7229  2008-12-31T19:29:45  2008-12-31T19:39:47       6685.024145   \n",
       " 4448     7231  2008-12-31T20:21:09  2008-12-31T20:46:37      17876.380145   \n",
       " \n",
       "       PERSON_ID    TRIP_WD   TRIP_DATE  TRIP_DURATION_IN_MINS  HOUR  \\\n",
       " 0            91    Tuesday  2008-01-01              35.766667     6   \n",
       " 1           181    Tuesday  2008-01-01             304.216667    10   \n",
       " 2            92    Tuesday  2008-01-01             541.683333    17   \n",
       " 3            91    Tuesday  2008-01-01             233.950000    17   \n",
       " 4           104    Tuesday  2008-01-01             524.733333    17   \n",
       " ...         ...        ...         ...                    ...   ...   \n",
       " 4444         25  Wednesday  2008-12-31              67.600000    17   \n",
       " 4445         85  Wednesday  2008-12-31             136.600000    17   \n",
       " 4446        126  Wednesday  2008-12-31             188.766667    18   \n",
       " 4447         17  Wednesday  2008-12-31              10.033333    19   \n",
       " 4448        128  Wednesday  2008-12-31              25.466667    20   \n",
       " \n",
       "       clustering_HL                                           geometry  \\\n",
       " 0              1926  LINESTRING (116.33135 39.99611, 116.33115 39.9...   \n",
       " 1                 8  LINESTRING (116.30970 39.98502, 116.36252 39.9...   \n",
       " 2               447  LINESTRING (116.31350 39.96933, 116.31354 39.9...   \n",
       " 3              1992  LINESTRING (116.32469 40.08411, 116.32447 40.0...   \n",
       " 4                 8  LINESTRING (116.32276 39.98413, 116.32270 39.9...   \n",
       " ...             ...                                                ...   \n",
       " 4444           2498  LINESTRING (116.58742 40.03485, 116.58622 40.0...   \n",
       " 4445           2114  LINESTRING (116.34390 39.87884, 116.34389 39.8...   \n",
       " 4446           1129  LINESTRING (116.32533 39.97518, 116.32513 39.9...   \n",
       " 4447            114  LINESTRING (116.34247 39.89145, 116.34247 39.8...   \n",
       " 4448             16  LINESTRING (116.33192 39.98480, 116.33324 39.9...   \n",
       " \n",
       "       contains_rand_points  \n",
       " 0                        0  \n",
       " 1                        0  \n",
       " 2                        0  \n",
       " 3                        0  \n",
       " 4                        0  \n",
       " ...                    ...  \n",
       " 4444                     0  \n",
       " 4445                     0  \n",
       " 4446                     0  \n",
       " 4447                     0  \n",
       " 4448                     0  \n",
       " \n",
       " [4449 rows x 12 columns]}"
      ]
     },
     "execution_count": 21,
     "metadata": {},
     "output_type": "execute_result"
    }
   ],
   "source": [
    "clustering_results"
   ]
  },
  {
   "cell_type": "code",
   "execution_count": 10,
   "id": "e7b1eef4",
   "metadata": {},
   "outputs": [
    {
     "name": "stdout",
     "output_type": "stream",
     "text": [
      "Homogeneity: 0.847\n",
      "Completeness: 0.511\n",
      "V-measure: 0.638\n",
      "Rand index: 0.968\n",
      "ARI: 0.266\n",
      "MI: 3.134\n",
      "NMI: 0.638\n",
      "AMI: 0.421\n",
      "Cluster accuracy: 0.317\n"
     ]
    }
   ],
   "source": [
    "attack.evaluate(geolife.clustering_HL.tolist(), geolife)"
   ]
  },
  {
   "cell_type": "code",
   "execution_count": 81,
   "id": "fb45f2cb",
   "metadata": {},
   "outputs": [
    {
     "name": "stdout",
     "output_type": "stream",
     "text": [
      "Next dataset:  freemove\n",
      "Nr of users to evaluate:  54\n"
     ]
    },
    {
     "data": {
      "application/vnd.jupyter.widget-view+json": {
       "model_id": "7401331650a44d8a9d98f73f29811e8f",
       "version_major": 2,
       "version_minor": 0
      },
      "text/plain": [
       "  0%|          | 0/54 [00:00<?, ?it/s]"
      ]
     },
     "metadata": {},
     "output_type": "display_data"
    },
    {
     "name": "stdout",
     "output_type": "stream",
     "text": [
      "Next dataset:  freemove_private\n",
      "Nr of users to evaluate:  51\n"
     ]
    },
    {
     "data": {
      "application/vnd.jupyter.widget-view+json": {
       "model_id": "118e53f397c54f169f97abe10d85677a",
       "version_major": 2,
       "version_minor": 0
      },
      "text/plain": [
       "  0%|          | 0/51 [00:00<?, ?it/s]"
      ]
     },
     "metadata": {},
     "output_type": "display_data"
    },
    {
     "name": "stdout",
     "output_type": "stream",
     "text": [
      "Next dataset:  freemove_500tessellation\n",
      "Nr of users to evaluate:  54\n"
     ]
    },
    {
     "data": {
      "application/vnd.jupyter.widget-view+json": {
       "model_id": "3a63ca48cb3f4a60873172f45485f26a",
       "version_major": 2,
       "version_minor": 0
      },
      "text/plain": [
       "  0%|          | 0/54 [00:00<?, ?it/s]"
      ]
     },
     "metadata": {},
     "output_type": "display_data"
    },
    {
     "name": "stdout",
     "output_type": "stream",
     "text": [
      "Next dataset:  freemove_private_500tessellation\n",
      "Nr of users to evaluate:  51\n"
     ]
    },
    {
     "data": {
      "application/vnd.jupyter.widget-view+json": {
       "model_id": "8884b8fdb5ca4e408c4bc28395393e05",
       "version_major": 2,
       "version_minor": 0
      },
      "text/plain": [
       "  0%|          | 0/51 [00:00<?, ?it/s]"
      ]
     },
     "metadata": {},
     "output_type": "display_data"
    },
    {
     "name": "stdout",
     "output_type": "stream",
     "text": [
      "Next dataset:  geolife\n",
      "Nr of users to evaluate:  59\n"
     ]
    },
    {
     "data": {
      "application/vnd.jupyter.widget-view+json": {
       "model_id": "64ab208da7c94be49d187a07d164db47",
       "version_major": 2,
       "version_minor": 0
      },
      "text/plain": [
       "  0%|          | 0/59 [00:00<?, ?it/s]"
      ]
     },
     "metadata": {},
     "output_type": "display_data"
    },
    {
     "name": "stdout",
     "output_type": "stream",
     "text": [
      "Next dataset:  geolife_private\n",
      "Nr of users to evaluate:  56\n"
     ]
    },
    {
     "data": {
      "application/vnd.jupyter.widget-view+json": {
       "model_id": "3599e5f1bccb4a0e9f78924afed9acf1",
       "version_major": 2,
       "version_minor": 0
      },
      "text/plain": [
       "  0%|          | 0/56 [00:00<?, ?it/s]"
      ]
     },
     "metadata": {},
     "output_type": "display_data"
    },
    {
     "name": "stdout",
     "output_type": "stream",
     "text": [
      "Next dataset:  geolife_500tessellation\n",
      "Nr of users to evaluate:  59\n"
     ]
    },
    {
     "data": {
      "application/vnd.jupyter.widget-view+json": {
       "model_id": "3946b10386b846e9adeb1eac03de99ac",
       "version_major": 2,
       "version_minor": 0
      },
      "text/plain": [
       "  0%|          | 0/59 [00:00<?, ?it/s]"
      ]
     },
     "metadata": {},
     "output_type": "display_data"
    },
    {
     "name": "stdout",
     "output_type": "stream",
     "text": [
      "Next dataset:  geolife_private_500tessellation\n",
      "Nr of users to evaluate:  56\n"
     ]
    },
    {
     "data": {
      "application/vnd.jupyter.widget-view+json": {
       "model_id": "b4eaa9e7dfae47eb8393b09bcf1ea206",
       "version_major": 2,
       "version_minor": 0
      },
      "text/plain": [
       "  0%|          | 0/56 [00:00<?, ?it/s]"
      ]
     },
     "metadata": {},
     "output_type": "display_data"
    }
   ],
   "source": [
    "def compute_perf_scores(clustering_result_data, uid, n_points):\n",
    "    # get for random points from this user's trajectories\n",
    "    coords = [list(x.coords) for x in clustering_result_data.query('PERSON_ID == @uid').geometry.tolist()]\n",
    "    coords = [item for sublist in coords for item in sublist]\n",
    "    rand_points = random.choices(coords, k=n_points)\n",
    "\n",
    "    # find all trajectories where these points are part of and get unique cluster ids\n",
    "    clustering_result_data['contains_rand_points'] = clustering_result_data.geometry.apply(lambda x: 1 if len(set(x.coords).intersection(set(rand_points))) > 0 else 0)\n",
    "    cluster_ids = clustering_result_data.query('contains_rand_points == 1').clustering_HL.unique()\n",
    "\n",
    "    # get trips of cluster and the true nr of trips of this user\n",
    "    cluster_trips = clustering_result_data.query('clustering_HL in @cluster_ids')\n",
    "    n_cluster_trips = len(cluster_trips)\n",
    "    n_cluster_user_trips = len(cluster_trips.query('PERSON_ID == @uid'))\n",
    "    n_user_trips = len(clustering_result_data.query('PERSON_ID == @uid'))\n",
    "\n",
    "    # calculate precision, recall, mean\n",
    "    precision = n_cluster_user_trips/n_cluster_trips\n",
    "    recall = n_cluster_user_trips/n_user_trips\n",
    "    pr_mean = (precision + recall)/2\n",
    "    f_score = 2*((precision*recall)/(precision+recall))\n",
    "\n",
    "    return precision, recall, pr_mean, f_score\n",
    "\n",
    "\n",
    "def evaluate_attack(clustering_result_data, n_draws_per_user, nr_points):\n",
    "    eval_scores = {'user_id': [], 'precision': [], 'recall': [], 'pr_mean': [], 'f_score': [], 'nr_points': []}\n",
    "    \n",
    "    # Find user ids that have at least N_POINTS + 1 trips\n",
    "    user_ids = clustering_result_data.groupby('PERSON_ID').TRIP_ID.nunique().reset_index().query('TRIP_ID > @nr_points').PERSON_ID.unique()\n",
    "    print('Nr of users to evaluate: ', user_ids.size)\n",
    "    \n",
    "    # only evaluate user that have at least N_POINTS/2 + 1 trips\n",
    "    for uid in tqdm(user_ids):\n",
    "    \n",
    "        precision_scores, recall_scores, pr_mean_scores, f_scores = [], [], [], []\n",
    "        for i in range(n_draws_per_user):\n",
    "            p, r, m, f = compute_perf_scores(clustering_result_data, uid, nr_points)\n",
    "            precision_scores.append(p)\n",
    "            recall_scores.append(r)\n",
    "            pr_mean_scores.append(m)\n",
    "            f_scores.append(f)\n",
    "\n",
    "        eval_scores['user_id'].extend([uid] * len(precision_scores))\n",
    "        eval_scores['precision'].extend(precision_scores)\n",
    "        eval_scores['recall'].extend(recall_scores)\n",
    "        eval_scores['pr_mean'].extend(pr_mean_scores)\n",
    "        eval_scores['f_score'].extend(f_scores)\n",
    "        eval_scores['nr_points'].extend([nr_points] * len(precision_scores))\n",
    "\n",
    "    return pd.DataFrame.from_dict(eval_scores)\n",
    "\n",
    "scores = []\n",
    "for name, data in clustering_results.items():\n",
    "    print(\"Next dataset: \", name)\n",
    "    scores_points = []\n",
    "    for nr_p in [1,4,10]:\n",
    "        scores_points.append(evaluate_attack(data, n_draws_per_user=1, nr_points=nr_p))\n",
    "    scores.append(pd.concat(scores_points))\n",
    "    \n",
    "# scores = pd.concat(scores, keys=list(clustering_results.keys())).reset_index(0, names=\"data\")"
   ]
  },
  {
   "cell_type": "markdown",
   "id": "77fd5dca",
   "metadata": {},
   "source": [
    "# Constructing Covariates"
   ]
  },
  {
   "cell_type": "code",
   "execution_count": 82,
   "id": "a3767e1e",
   "metadata": {},
   "outputs": [],
   "source": [
    "def get_points(gdf, tessellation):\n",
    "    gdf = gdf.to_crs(4326)\n",
    "    gdf['START_POINT'] = gdf.geometry.apply(lambda x: Point(x.coords[0]))\n",
    "    gdf['END_POINT'] = gdf.geometry.apply(lambda x: Point(x.coords[-1]))\n",
    "    \n",
    "    sp = gdf[['PERSON_ID', 'TRIP_ID', 'TRIP_START', 'START_POINT', 'clustering_HL']].copy()\n",
    "    ep = gdf[['PERSON_ID', 'TRIP_ID', 'TRIP_END', 'END_POINT', 'clustering_HL']].copy()\n",
    "\n",
    "\n",
    "    sp['lat'] = sp.START_POINT.apply(lambda x: x.y)\n",
    "    sp['lng'] = sp.START_POINT.apply(lambda x: x.x)\n",
    "    ep['lat'] = ep.END_POINT.apply(lambda x: x.y)\n",
    "    ep['lng'] = ep.END_POINT.apply(lambda x: x.x)\n",
    "\n",
    "    sp = sp.rename(columns={'TRIP_START': 'datetime'})\n",
    "    ep = ep.rename(columns={'TRIP_END': 'datetime'})\n",
    "\n",
    "    sp.drop('START_POINT', axis=1, inplace=True)\n",
    "    ep.drop('END_POINT', axis=1, inplace=True)\n",
    "\n",
    "    points = pd.concat([sp, ep])\n",
    "    points = gp.GeoDataFrame(points, geometry=gp.points_from_xy(points.lng, points.lat, crs='epsg:4326'))\n",
    "    \n",
    "    points = gp.sjoin(points, tessellation, predicate='within', how='left').drop('index_right', axis=1)\n",
    "    \n",
    "    return points\n",
    "\n",
    "\n",
    "\n",
    "def get_location_entropy(tile_id, mapped_points_gdf):\n",
    "    assert isinstance(tile_id, str)\n",
    "    t_trips = mapped_points_gdf.query(\"tile_id == @tile_id\")\n",
    "    le = 0\n",
    "    c_l = len(t_trips)\n",
    "    for p in t_trips.clustering_HL:\n",
    "        c_l_u = len(t_trips.query('clustering_HL == @p'))\n",
    "        p_u_l =  c_l_u/ c_l\n",
    "        le += p_u_l * math.log(p_u_l)\n",
    "    return -le"
   ]
  },
  {
   "cell_type": "code",
   "execution_count": 83,
   "id": "5fd74874",
   "metadata": {},
   "outputs": [
    {
     "name": "stdout",
     "output_type": "stream",
     "text": [
      "freemove\n"
     ]
    },
    {
     "data": {
      "application/vnd.jupyter.widget-view+json": {
       "model_id": "30dd0690eedf4a5c92d65ee074ae99c2",
       "version_major": 2,
       "version_minor": 0
      },
      "text/plain": [
       "  0%|          | 0/2372 [00:00<?, ?it/s]"
      ]
     },
     "metadata": {},
     "output_type": "display_data"
    },
    {
     "name": "stdout",
     "output_type": "stream",
     "text": [
      "freemove_private\n"
     ]
    },
    {
     "data": {
      "application/vnd.jupyter.widget-view+json": {
       "model_id": "833fca11ad4b43eabea4dbf854b5936d",
       "version_major": 2,
       "version_minor": 0
      },
      "text/plain": [
       "  0%|          | 0/1922 [00:00<?, ?it/s]"
      ]
     },
     "metadata": {},
     "output_type": "display_data"
    },
    {
     "name": "stdout",
     "output_type": "stream",
     "text": [
      "freemove_500tessellation\n"
     ]
    },
    {
     "data": {
      "application/vnd.jupyter.widget-view+json": {
       "model_id": "dc5d6885573b4b2b9d4480766c3400c0",
       "version_major": 2,
       "version_minor": 0
      },
      "text/plain": [
       "  0%|          | 0/2372 [00:00<?, ?it/s]"
      ]
     },
     "metadata": {},
     "output_type": "display_data"
    },
    {
     "name": "stdout",
     "output_type": "stream",
     "text": [
      "freemove_private_500tessellation\n"
     ]
    },
    {
     "data": {
      "application/vnd.jupyter.widget-view+json": {
       "model_id": "302a4c43200049ab8e1992791c25f99b",
       "version_major": 2,
       "version_minor": 0
      },
      "text/plain": [
       "  0%|          | 0/1922 [00:00<?, ?it/s]"
      ]
     },
     "metadata": {},
     "output_type": "display_data"
    }
   ],
   "source": [
    "# Entropy freemove\n",
    "i = 0\n",
    "tessellation_freemove = gp.read_file(\"data/freemove/tessellation_freemove_500.geojson\", geometry='geometry').to_crs(4326)\n",
    "for name, data in clustering_results.items():\n",
    "    if i > 3:\n",
    "        break\n",
    "    print(name)\n",
    "    \n",
    "    # Get random entropy\n",
    "    re = get_points(data, tessellation_freemove).groupby('PERSON_ID').apply(lambda g: math.log2(g.tile_id.nunique())).reset_index().rename(columns={0: 'rand_entropy', 'PERSON_ID': 'user_id'})\n",
    "    scores[i] = pd.merge(scores[i], re, how='left')\n",
    "    \n",
    "    # Get average location entropy\n",
    "    mapped_points_gdf = get_points(data, tessellation_freemove)\n",
    "    mapped_points_gdf['ale'] = mapped_points_gdf.tile_id.progress_apply(lambda x: get_location_entropy(x, mapped_points_gdf))\n",
    "    scores[i] = pd.merge(scores[i], mapped_points_gdf[['PERSON_ID', 'ale']].groupby('PERSON_ID').mean().reset_index().rename(columns={'PERSON_ID': 'user_id'}), how='left')\n",
    "    \n",
    "    i += 1"
   ]
  },
  {
   "cell_type": "code",
   "execution_count": 109,
   "id": "868c712c",
   "metadata": {},
   "outputs": [
    {
     "name": "stdout",
     "output_type": "stream",
     "text": [
      "geolife\n"
     ]
    },
    {
     "data": {
      "application/vnd.jupyter.widget-view+json": {
       "model_id": "cfa631af079f465ab0f8a57c8fddcca5",
       "version_major": 2,
       "version_minor": 0
      },
      "text/plain": [
       "  0%|          | 0/10202 [00:00<?, ?it/s]"
      ]
     },
     "metadata": {},
     "output_type": "display_data"
    }
   ],
   "source": [
    "# Entropy GeoLife\n",
    "i = 0\n",
    "tessellation_geolife = gp.read_file(\"data/geolife/tessellation_geolife_500.geojson\", geometry='geometry').to_crs(4326)\n",
    "for name, data in clustering_results.items():\n",
    "    if i < 4:\n",
    "        i += 1\n",
    "        continue\n",
    "    print(name)\n",
    "    # Get random entropy\n",
    "    re = get_points(data, tessellation_geolife).groupby('PERSON_ID').apply(lambda g: math.log2(g.tile_id.nunique())).reset_index().rename(columns={0: 'rand_entropy', 'PERSON_ID': 'user_id'})\n",
    "    scores[i] = pd.merge(scores[i], re, how='left')\n",
    "    \n",
    "    # Get average location entropy\n",
    "    mapped_points_gdf = get_points(data, tessellation_geolife)\n",
    "    mapped_points_gdf['ale'] = mapped_points_gdf.tile_id.progress_apply(lambda x: get_location_entropy(x, mapped_points_gdf))\n",
    "    scores[i] = pd.merge(scores[i], mapped_points_gdf[['PERSON_ID', 'ale']].groupby('PERSON_ID').mean().reset_index().rename(columns={'PERSON_ID': 'user_id'}), how='left')\n",
    "    \n",
    "    i += 1"
   ]
  },
  {
   "cell_type": "code",
   "execution_count": null,
   "id": "776a5f8c",
   "metadata": {},
   "outputs": [],
   "source": [
    "# N_trips per user\n",
    "for index, (name, data) in enumerate(clustering_results.items()):\n",
    "    print(name)\n",
    "    scores[index] = pd.merge(scores[index], data.groupby('PERSON_ID').TRIP_ID.nunique().reset_index().rename(columns={'TRIP_ID': 'n_trips', 'PERSON_ID': 'user_id'}), how='left')\n"
   ]
  },
  {
   "cell_type": "code",
   "execution_count": 74,
   "id": "30ba26b5",
   "metadata": {},
   "outputs": [
    {
     "data": {
      "application/vnd.jupyter.widget-view+json": {
       "model_id": "b9dec796d6da45be8a90dc34866af8bd",
       "version_major": 2,
       "version_minor": 0
      },
      "text/plain": [
       "  0%|          | 0/74 [00:00<?, ?it/s]"
      ]
     },
     "metadata": {},
     "output_type": "display_data"
    }
   ],
   "source": [
    "# Radius of gyration freemove\n",
    "freemove_raw_points = gp.read_file(\"data/freemove/freemove_raw_point.geojson\", geometry='geometry')\n",
    "freemove_raw_points = freemove_raw_points.to_crs(4326)\n",
    "freemove_raw_points['lon'] = freemove_raw_points.geometry.apply(lambda x: x.coords[0][0])\n",
    "freemove_raw_points['lat'] = freemove_raw_points.geometry.apply(lambda x: x.coords[0][1])\n",
    "tdf_freemove = skmob.TrajDataFrame(freemove_raw_points, latitude='lat', longitude='lon', datetime='time', user_id='user')\n",
    "rg = radius_of_gyration(tdf_freemove)\n",
    "\n",
    "for data in scores[:4]:\n",
    "    data = pd.merge(data, rg.rename(columns={'uid': 'user_id'}), how='left')\n"
   ]
  },
  {
   "cell_type": "code",
   "execution_count": 77,
   "id": "a43fa0b7",
   "metadata": {},
   "outputs": [
    {
     "ename": "NameError",
     "evalue": "name 'tdf_geolife' is not defined",
     "output_type": "error",
     "traceback": [
      "\u001b[0;31m---------------------------------------------------------------------------\u001b[0m",
      "\u001b[0;31mNameError\u001b[0m                                 Traceback (most recent call last)",
      "Cell \u001b[0;32mIn[77], line 3\u001b[0m\n\u001b[1;32m      1\u001b[0m \u001b[38;5;66;03m# Radius of gyration freemove\u001b[39;00m\n\u001b[1;32m      2\u001b[0m geolife_raw_points \u001b[38;5;241m=\u001b[39m gp\u001b[38;5;241m.\u001b[39mread_file(\u001b[38;5;124m\"\u001b[39m\u001b[38;5;124mdata/geolife/geolife_raw_point.geojson\u001b[39m\u001b[38;5;124m\"\u001b[39m, geometry\u001b[38;5;241m=\u001b[39m\u001b[38;5;124m'\u001b[39m\u001b[38;5;124mgeometry\u001b[39m\u001b[38;5;124m'\u001b[39m)\n\u001b[0;32m----> 3\u001b[0m geolife_raw_points \u001b[38;5;241m=\u001b[39m \u001b[43mtdf_geolife\u001b[49m\u001b[38;5;241m.\u001b[39mto_crs(\u001b[38;5;241m4326\u001b[39m)\n\u001b[1;32m      4\u001b[0m geolife_raw_points[\u001b[38;5;124m'\u001b[39m\u001b[38;5;124mlon\u001b[39m\u001b[38;5;124m'\u001b[39m] \u001b[38;5;241m=\u001b[39m geolife_raw_points\u001b[38;5;241m.\u001b[39mgeometry\u001b[38;5;241m.\u001b[39mapply(\u001b[38;5;28;01mlambda\u001b[39;00m x: x\u001b[38;5;241m.\u001b[39mcoords[\u001b[38;5;241m0\u001b[39m][\u001b[38;5;241m0\u001b[39m])\n\u001b[1;32m      5\u001b[0m geolife_raw_points[\u001b[38;5;124m'\u001b[39m\u001b[38;5;124mlat\u001b[39m\u001b[38;5;124m'\u001b[39m] \u001b[38;5;241m=\u001b[39m geolife_raw_points\u001b[38;5;241m.\u001b[39mgeometry\u001b[38;5;241m.\u001b[39mapply(\u001b[38;5;28;01mlambda\u001b[39;00m x: x\u001b[38;5;241m.\u001b[39mcoords[\u001b[38;5;241m0\u001b[39m][\u001b[38;5;241m1\u001b[39m])\n",
      "\u001b[0;31mNameError\u001b[0m: name 'tdf_geolife' is not defined"
     ]
    }
   ],
   "source": [
    "# Radius of gyration freemove\n",
    "geolife_raw_points = gp.read_file(\"data/geolife/geolife_raw_point.geojson\", geometry='geometry')\n",
    "geolife_raw_points = geolife_raw_points.to_crs(4326)\n",
    "geolife_raw_points['lon'] = geolife_raw_points.geometry.apply(lambda x: x.coords[0][0])\n",
    "geolife_raw_points['lat'] = geolife_raw_points.geometry.apply(lambda x: x.coords[0][1])\n",
    "tdf_geolife = skmob.TrajDataFrame(geolife_raw_points, latitude='lat', longitude='lon', datetime='time', user_id='user')\n",
    "rg = radius_of_gyration(tdf_geolife)\n",
    "\n",
    "# for data in scores[4:]:\n",
    "#     data = pd.merge(data, rg.rename(columns={'uid': 'user_id'}), how='left')\n"
   ]
  },
  {
   "cell_type": "code",
   "execution_count": 76,
   "id": "22606cee",
   "metadata": {},
   "outputs": [
    {
     "data": {
      "text/plain": [
       "[4, 5, 6, 7]"
      ]
     },
     "execution_count": 76,
     "metadata": {},
     "output_type": "execute_result"
    }
   ],
   "source": [
    "[0,1,2,3,4,5,6,7][4:]"
   ]
  },
  {
   "cell_type": "code",
   "execution_count": null,
   "id": "a67d8509",
   "metadata": {},
   "outputs": [],
   "source": [
    "# Mean hour of day \n",
    "for index, (name, data) in enumerate(clustering_results.items()):\n",
    "    print(name)\n",
    "    data['hour_of_day'] = pd.to_datetime(data.TRIP_START).dt.hour - 1\n",
    "    scores[index] = pd.merge(scores[index], data[['PERSON_ID', 'hour_of_day']].groupby('PERSON_ID').mean().reset_index().rename(columns={'PERSON_ID': 'user_id'}), how='left')\n"
   ]
  }
 ],
 "metadata": {
  "kernelspec": {
   "display_name": "Python 3 (ipykernel)",
   "language": "python",
   "name": "python3"
  },
  "language_info": {
   "codemirror_mode": {
    "name": "ipython",
    "version": 3
   },
   "file_extension": ".py",
   "mimetype": "text/x-python",
   "name": "python",
   "nbconvert_exporter": "python",
   "pygments_lexer": "ipython3",
   "version": "3.8.10"
  }
 },
 "nbformat": 4,
 "nbformat_minor": 5
}
